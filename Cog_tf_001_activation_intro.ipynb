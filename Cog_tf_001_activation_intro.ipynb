{
  "nbformat": 4,
  "nbformat_minor": 0,
  "metadata": {
    "colab": {
      "name": "Cog_tf_001.ipynb",
      "provenance": [],
      "authorship_tag": "ABX9TyOpTQC3xFuxfhBD6KUGG0yX"
    },
    "kernelspec": {
      "name": "python3",
      "display_name": "Python 3"
    },
    "language_info": {
      "name": "python"
    }
  },
  "cells": [
    {
      "cell_type": "code",
      "metadata": {
        "id": "1sX841fyTZhm"
      },
      "source": [
        "# Agenda-> Neural Networks\n",
        "# Tensorflow\n",
        "# TF 2.x \n",
        "\n",
        "# Computer Vision\n",
        "# Natural LP\n",
        "# SIGNAL "
      ],
      "execution_count": 1,
      "outputs": []
    },
    {
      "cell_type": "code",
      "metadata": {
        "id": "NkBN2N21Tt87"
      },
      "source": [
        "import tensorflow as tf"
      ],
      "execution_count": 2,
      "outputs": []
    },
    {
      "cell_type": "code",
      "metadata": {
        "colab": {
          "base_uri": "https://localhost:8080/",
          "height": 35
        },
        "id": "t_GJKZtgclMy",
        "outputId": "97751e6b-5751-44dd-867b-bacb4d54a41a"
      },
      "source": [
        "tf.__version__"
      ],
      "execution_count": 3,
      "outputs": [
        {
          "output_type": "execute_result",
          "data": {
            "application/vnd.google.colaboratory.intrinsic+json": {
              "type": "string"
            },
            "text/plain": [
              "'2.5.0'"
            ]
          },
          "metadata": {
            "tags": []
          },
          "execution_count": 3
        }
      ]
    },
    {
      "cell_type": "code",
      "metadata": {
        "id": "15ZTi1aScnFP"
      },
      "source": [
        "import numpy as np\n",
        "x = np.array([1,2,3,4,5,6,7,8, 9 ,10])\n",
        "y = np.array([0,1,0,1,0,1,0,1,0,1])"
      ],
      "execution_count": 15,
      "outputs": []
    },
    {
      "cell_type": "code",
      "metadata": {
        "id": "LDHUBp_7c6e1"
      },
      "source": [
        "from tensorflow import keras\n"
      ],
      "execution_count": 16,
      "outputs": []
    },
    {
      "cell_type": "code",
      "metadata": {
        "id": "Y9YKlAopdI_F"
      },
      "source": [
        "layer1 = keras.layers.Dense(1)\n",
        "model = keras.models.Sequential([layer1])\n",
        "model.compile(loss= keras.losses.mean_squared_error, optimizer='adam', metrics=[keras.metrics.mean_squared_error])"
      ],
      "execution_count": 17,
      "outputs": []
    },
    {
      "cell_type": "code",
      "metadata": {
        "id": "m00dGM9kdbGe"
      },
      "source": [
        ""
      ],
      "execution_count": 21,
      "outputs": []
    },
    {
      "cell_type": "code",
      "metadata": {
        "id": "2lyKHz_edmXe"
      },
      "source": [
        ""
      ],
      "execution_count": 29,
      "outputs": []
    },
    {
      "cell_type": "code",
      "metadata": {
        "colab": {
          "base_uri": "https://localhost:8080/"
        },
        "id": "JV4YAVQ_dzkp",
        "outputId": "181d268b-1a92-4145-cf3d-9698a43a37de"
      },
      "source": [
        "history = model.fit(x, y, epochs=50)"
      ],
      "execution_count": 30,
      "outputs": [
        {
          "output_type": "stream",
          "text": [
            "Epoch 1/50\n",
            "1/1 [==============================] - 0s 469ms/step - loss: 98.2729 - mean_squared_error: 98.2729\n",
            "Epoch 2/50\n",
            "1/1 [==============================] - 0s 5ms/step - loss: 98.1324 - mean_squared_error: 98.1324\n",
            "Epoch 3/50\n",
            "1/1 [==============================] - 0s 6ms/step - loss: 97.9920 - mean_squared_error: 97.9920\n",
            "Epoch 4/50\n",
            "1/1 [==============================] - 0s 5ms/step - loss: 97.8517 - mean_squared_error: 97.8517\n",
            "Epoch 5/50\n",
            "1/1 [==============================] - 0s 4ms/step - loss: 97.7115 - mean_squared_error: 97.7115\n",
            "Epoch 6/50\n",
            "1/1 [==============================] - 0s 5ms/step - loss: 97.5715 - mean_squared_error: 97.5715\n",
            "Epoch 7/50\n",
            "1/1 [==============================] - 0s 6ms/step - loss: 97.4315 - mean_squared_error: 97.4315\n",
            "Epoch 8/50\n",
            "1/1 [==============================] - 0s 3ms/step - loss: 97.2917 - mean_squared_error: 97.2917\n",
            "Epoch 9/50\n",
            "1/1 [==============================] - 0s 5ms/step - loss: 97.1519 - mean_squared_error: 97.1519\n",
            "Epoch 10/50\n",
            "1/1 [==============================] - 0s 5ms/step - loss: 97.0123 - mean_squared_error: 97.0123\n",
            "Epoch 11/50\n",
            "1/1 [==============================] - 0s 4ms/step - loss: 96.8728 - mean_squared_error: 96.8728\n",
            "Epoch 12/50\n",
            "1/1 [==============================] - 0s 3ms/step - loss: 96.7335 - mean_squared_error: 96.7335\n",
            "Epoch 13/50\n",
            "1/1 [==============================] - 0s 5ms/step - loss: 96.5942 - mean_squared_error: 96.5942\n",
            "Epoch 14/50\n",
            "1/1 [==============================] - 0s 4ms/step - loss: 96.4550 - mean_squared_error: 96.4550\n",
            "Epoch 15/50\n",
            "1/1 [==============================] - 0s 7ms/step - loss: 96.3160 - mean_squared_error: 96.3160\n",
            "Epoch 16/50\n",
            "1/1 [==============================] - 0s 8ms/step - loss: 96.1771 - mean_squared_error: 96.1771\n",
            "Epoch 17/50\n",
            "1/1 [==============================] - 0s 9ms/step - loss: 96.0384 - mean_squared_error: 96.0384\n",
            "Epoch 18/50\n",
            "1/1 [==============================] - 0s 4ms/step - loss: 95.8997 - mean_squared_error: 95.8997\n",
            "Epoch 19/50\n",
            "1/1 [==============================] - 0s 4ms/step - loss: 95.7612 - mean_squared_error: 95.7612\n",
            "Epoch 20/50\n",
            "1/1 [==============================] - 0s 7ms/step - loss: 95.6228 - mean_squared_error: 95.6228\n",
            "Epoch 21/50\n",
            "1/1 [==============================] - 0s 6ms/step - loss: 95.4846 - mean_squared_error: 95.4846\n",
            "Epoch 22/50\n",
            "1/1 [==============================] - 0s 8ms/step - loss: 95.3464 - mean_squared_error: 95.3464\n",
            "Epoch 23/50\n",
            "1/1 [==============================] - 0s 4ms/step - loss: 95.2085 - mean_squared_error: 95.2085\n",
            "Epoch 24/50\n",
            "1/1 [==============================] - 0s 9ms/step - loss: 95.0706 - mean_squared_error: 95.0706\n",
            "Epoch 25/50\n",
            "1/1 [==============================] - 0s 8ms/step - loss: 94.9329 - mean_squared_error: 94.9329\n",
            "Epoch 26/50\n",
            "1/1 [==============================] - 0s 6ms/step - loss: 94.7953 - mean_squared_error: 94.7953\n",
            "Epoch 27/50\n",
            "1/1 [==============================] - 0s 5ms/step - loss: 94.6578 - mean_squared_error: 94.6578\n",
            "Epoch 28/50\n",
            "1/1 [==============================] - 0s 4ms/step - loss: 94.5205 - mean_squared_error: 94.5205\n",
            "Epoch 29/50\n",
            "1/1 [==============================] - 0s 6ms/step - loss: 94.3834 - mean_squared_error: 94.3834\n",
            "Epoch 30/50\n",
            "1/1 [==============================] - 0s 6ms/step - loss: 94.2463 - mean_squared_error: 94.2463\n",
            "Epoch 31/50\n",
            "1/1 [==============================] - 0s 4ms/step - loss: 94.1094 - mean_squared_error: 94.1094\n",
            "Epoch 32/50\n",
            "1/1 [==============================] - 0s 7ms/step - loss: 93.9726 - mean_squared_error: 93.9726\n",
            "Epoch 33/50\n",
            "1/1 [==============================] - 0s 6ms/step - loss: 93.8360 - mean_squared_error: 93.8360\n",
            "Epoch 34/50\n",
            "1/1 [==============================] - 0s 6ms/step - loss: 93.6996 - mean_squared_error: 93.6996\n",
            "Epoch 35/50\n",
            "1/1 [==============================] - 0s 4ms/step - loss: 93.5632 - mean_squared_error: 93.5632\n",
            "Epoch 36/50\n",
            "1/1 [==============================] - 0s 7ms/step - loss: 93.4270 - mean_squared_error: 93.4270\n",
            "Epoch 37/50\n",
            "1/1 [==============================] - 0s 5ms/step - loss: 93.2910 - mean_squared_error: 93.2910\n",
            "Epoch 38/50\n",
            "1/1 [==============================] - 0s 6ms/step - loss: 93.1551 - mean_squared_error: 93.1551\n",
            "Epoch 39/50\n",
            "1/1 [==============================] - 0s 7ms/step - loss: 93.0193 - mean_squared_error: 93.0193\n",
            "Epoch 40/50\n",
            "1/1 [==============================] - 0s 4ms/step - loss: 92.8837 - mean_squared_error: 92.8837\n",
            "Epoch 41/50\n",
            "1/1 [==============================] - 0s 22ms/step - loss: 92.7482 - mean_squared_error: 92.7482\n",
            "Epoch 42/50\n",
            "1/1 [==============================] - 0s 4ms/step - loss: 92.6129 - mean_squared_error: 92.6129\n",
            "Epoch 43/50\n",
            "1/1 [==============================] - 0s 5ms/step - loss: 92.4777 - mean_squared_error: 92.4777\n",
            "Epoch 44/50\n",
            "1/1 [==============================] - 0s 7ms/step - loss: 92.3427 - mean_squared_error: 92.3427\n",
            "Epoch 45/50\n",
            "1/1 [==============================] - 0s 5ms/step - loss: 92.2077 - mean_squared_error: 92.2077\n",
            "Epoch 46/50\n",
            "1/1 [==============================] - 0s 3ms/step - loss: 92.0730 - mean_squared_error: 92.0730\n",
            "Epoch 47/50\n",
            "1/1 [==============================] - 0s 5ms/step - loss: 91.9384 - mean_squared_error: 91.9384\n",
            "Epoch 48/50\n",
            "1/1 [==============================] - 0s 4ms/step - loss: 91.8039 - mean_squared_error: 91.8039\n",
            "Epoch 49/50\n",
            "1/1 [==============================] - 0s 5ms/step - loss: 91.6696 - mean_squared_error: 91.6696\n",
            "Epoch 50/50\n",
            "1/1 [==============================] - 0s 5ms/step - loss: 91.5355 - mean_squared_error: 91.5355\n"
          ],
          "name": "stdout"
        }
      ]
    },
    {
      "cell_type": "code",
      "metadata": {
        "colab": {
          "base_uri": "https://localhost:8080/"
        },
        "id": "0nc_HYnaeCw0",
        "outputId": "60834c50-f161-4a63-9ba8-7dee767c39cf"
      },
      "source": [
        "history.history['loss']"
      ],
      "execution_count": 34,
      "outputs": [
        {
          "output_type": "execute_result",
          "data": {
            "text/plain": [
              "[98.27290344238281,\n",
              " 98.13240051269531,\n",
              " 97.99201965332031,\n",
              " 97.85172271728516,\n",
              " 97.7115478515625,\n",
              " 97.57147216796875,\n",
              " 97.4315185546875,\n",
              " 97.29167175292969,\n",
              " 97.15194702148438,\n",
              " 97.01233673095703,\n",
              " 96.87284088134766,\n",
              " 96.73345947265625,\n",
              " 96.59419250488281,\n",
              " 96.45504760742188,\n",
              " 96.31602478027344,\n",
              " 96.1771240234375,\n",
              " 96.0383529663086,\n",
              " 95.89973449707031,\n",
              " 95.76119995117188,\n",
              " 95.62281799316406,\n",
              " 95.48456573486328,\n",
              " 95.34644317626953,\n",
              " 95.20845031738281,\n",
              " 95.07059478759766,\n",
              " 94.9328842163086,\n",
              " 94.7952880859375,\n",
              " 94.65784454345703,\n",
              " 94.52052307128906,\n",
              " 94.38335418701172,\n",
              " 94.2463150024414,\n",
              " 94.10941314697266,\n",
              " 93.97264862060547,\n",
              " 93.8360366821289,\n",
              " 93.69956970214844,\n",
              " 93.56321716308594,\n",
              " 93.4270248413086,\n",
              " 93.29098510742188,\n",
              " 93.15507507324219,\n",
              " 93.0193099975586,\n",
              " 92.88370513916016,\n",
              " 92.74821472167969,\n",
              " 92.6128921508789,\n",
              " 92.47769927978516,\n",
              " 92.34265899658203,\n",
              " 92.20774841308594,\n",
              " 92.072998046875,\n",
              " 91.93838500976562,\n",
              " 91.8039321899414,\n",
              " 91.66962432861328,\n",
              " 91.53545379638672]"
            ]
          },
          "metadata": {
            "tags": []
          },
          "execution_count": 34
        }
      ]
    },
    {
      "cell_type": "code",
      "metadata": {
        "colab": {
          "base_uri": "https://localhost:8080/"
        },
        "id": "IdW3pD76gY3n",
        "outputId": "c6b88260-5f74-4b66-a5b0-2afb7b1082ba"
      },
      "source": [
        "model.summary()\n",
        "# y = w1 * x + bias\n",
        "# trainable params-> 2 "
      ],
      "execution_count": 35,
      "outputs": [
        {
          "output_type": "stream",
          "text": [
            "Model: \"sequential\"\n",
            "_________________________________________________________________\n",
            "Layer (type)                 Output Shape              Param #   \n",
            "=================================================================\n",
            "dense_2 (Dense)              (None, 1)                 2         \n",
            "=================================================================\n",
            "Total params: 2\n",
            "Trainable params: 2\n",
            "Non-trainable params: 0\n",
            "_________________________________________________________________\n"
          ],
          "name": "stdout"
        }
      ]
    },
    {
      "cell_type": "code",
      "metadata": {
        "colab": {
          "base_uri": "https://localhost:8080/"
        },
        "id": "Ej5rNlAbi53l",
        "outputId": "87f3d3dd-ea81-442f-e508-4bd6f6ae67e9"
      },
      "source": [
        "model.get_weights()"
      ],
      "execution_count": 36,
      "outputs": [
        {
          "output_type": "execute_result",
          "data": {
            "text/plain": [
              "[array([[-1.4677981]], dtype=float32), array([0.04977656], dtype=float32)]"
            ]
          },
          "metadata": {
            "tags": []
          },
          "execution_count": 36
        }
      ]
    },
    {
      "cell_type": "code",
      "metadata": {
        "id": "KpN9a_OkjS7Z"
      },
      "source": [
        "predictedvalues = model.predict(x)\n"
      ],
      "execution_count": 37,
      "outputs": []
    },
    {
      "cell_type": "code",
      "metadata": {
        "colab": {
          "base_uri": "https://localhost:8080/"
        },
        "id": "KiGb2G-djoW6",
        "outputId": "e9866937-771f-4e90-c5a9-a9d3b06b4a4c"
      },
      "source": [
        "predictedvalues"
      ],
      "execution_count": 38,
      "outputs": [
        {
          "output_type": "execute_result",
          "data": {
            "text/plain": [
              "array([[ -1.4180216],\n",
              "       [ -2.8858197],\n",
              "       [ -4.3536177],\n",
              "       [ -5.821416 ],\n",
              "       [ -7.289214 ],\n",
              "       [ -8.757011 ],\n",
              "       [-10.22481  ],\n",
              "       [-11.692608 ],\n",
              "       [-13.160406 ],\n",
              "       [-14.628204 ]], dtype=float32)"
            ]
          },
          "metadata": {
            "tags": []
          },
          "execution_count": 38
        }
      ]
    },
    {
      "cell_type": "code",
      "metadata": {
        "id": "x0uudYAJjpuj"
      },
      "source": [
        "layer1 = keras.layers.Dense(10)\n",
        "layer2 = keras.layers.Dense(1)\n",
        "model = keras.models.Sequential([layer1, layer2])\n",
        "model.compile(loss= keras.losses.mean_squared_error, optimizer='adam', metrics=[keras.metrics.mean_squared_error])"
      ],
      "execution_count": 43,
      "outputs": []
    },
    {
      "cell_type": "code",
      "metadata": {
        "colab": {
          "base_uri": "https://localhost:8080/"
        },
        "id": "sBzQtQMhk0h1",
        "outputId": "72e269fc-8d2c-46aa-9671-5aa101fe1231"
      },
      "source": [
        "history = model.fit(x, y, epochs=100)"
      ],
      "execution_count": 44,
      "outputs": [
        {
          "output_type": "stream",
          "text": [
            "Epoch 1/100\n",
            "1/1 [==============================] - 0s 309ms/step - loss: 0.7321 - mean_squared_error: 0.7321\n",
            "Epoch 2/100\n",
            "1/1 [==============================] - 0s 5ms/step - loss: 0.6819 - mean_squared_error: 0.6819\n",
            "Epoch 3/100\n",
            "1/1 [==============================] - 0s 4ms/step - loss: 0.6347 - mean_squared_error: 0.6347\n",
            "Epoch 4/100\n",
            "1/1 [==============================] - 0s 4ms/step - loss: 0.5907 - mean_squared_error: 0.5907\n",
            "Epoch 5/100\n",
            "1/1 [==============================] - 0s 4ms/step - loss: 0.5497 - mean_squared_error: 0.5497\n",
            "Epoch 6/100\n",
            "1/1 [==============================] - 0s 4ms/step - loss: 0.5118 - mean_squared_error: 0.5118\n",
            "Epoch 7/100\n",
            "1/1 [==============================] - 0s 5ms/step - loss: 0.4771 - mean_squared_error: 0.4771\n",
            "Epoch 8/100\n",
            "1/1 [==============================] - 0s 6ms/step - loss: 0.4455 - mean_squared_error: 0.4455\n",
            "Epoch 9/100\n",
            "1/1 [==============================] - 0s 18ms/step - loss: 0.4170 - mean_squared_error: 0.4170\n",
            "Epoch 10/100\n",
            "1/1 [==============================] - 0s 5ms/step - loss: 0.3915 - mean_squared_error: 0.3915\n",
            "Epoch 11/100\n",
            "1/1 [==============================] - 0s 8ms/step - loss: 0.3690 - mean_squared_error: 0.3690\n",
            "Epoch 12/100\n",
            "1/1 [==============================] - 0s 6ms/step - loss: 0.3494 - mean_squared_error: 0.3494\n",
            "Epoch 13/100\n",
            "1/1 [==============================] - 0s 3ms/step - loss: 0.3326 - mean_squared_error: 0.3326\n",
            "Epoch 14/100\n",
            "1/1 [==============================] - 0s 6ms/step - loss: 0.3184 - mean_squared_error: 0.3184\n",
            "Epoch 15/100\n",
            "1/1 [==============================] - 0s 6ms/step - loss: 0.3067 - mean_squared_error: 0.3067\n",
            "Epoch 16/100\n",
            "1/1 [==============================] - 0s 6ms/step - loss: 0.2972 - mean_squared_error: 0.2972\n",
            "Epoch 17/100\n",
            "1/1 [==============================] - 0s 6ms/step - loss: 0.2899 - mean_squared_error: 0.2899\n",
            "Epoch 18/100\n",
            "1/1 [==============================] - 0s 6ms/step - loss: 0.2844 - mean_squared_error: 0.2844\n",
            "Epoch 19/100\n",
            "1/1 [==============================] - 0s 9ms/step - loss: 0.2806 - mean_squared_error: 0.2806\n",
            "Epoch 20/100\n",
            "1/1 [==============================] - 0s 6ms/step - loss: 0.2782 - mean_squared_error: 0.2782\n",
            "Epoch 21/100\n",
            "1/1 [==============================] - 0s 4ms/step - loss: 0.2770 - mean_squared_error: 0.2770\n",
            "Epoch 22/100\n",
            "1/1 [==============================] - 0s 3ms/step - loss: 0.2768 - mean_squared_error: 0.2768\n",
            "Epoch 23/100\n",
            "1/1 [==============================] - 0s 4ms/step - loss: 0.2772 - mean_squared_error: 0.2772\n",
            "Epoch 24/100\n",
            "1/1 [==============================] - 0s 4ms/step - loss: 0.2781 - mean_squared_error: 0.2781\n",
            "Epoch 25/100\n",
            "1/1 [==============================] - 0s 4ms/step - loss: 0.2794 - mean_squared_error: 0.2794\n",
            "Epoch 26/100\n",
            "1/1 [==============================] - 0s 3ms/step - loss: 0.2807 - mean_squared_error: 0.2807\n",
            "Epoch 27/100\n",
            "1/1 [==============================] - 0s 4ms/step - loss: 0.2821 - mean_squared_error: 0.2821\n",
            "Epoch 28/100\n",
            "1/1 [==============================] - 0s 3ms/step - loss: 0.2833 - mean_squared_error: 0.2833\n",
            "Epoch 29/100\n",
            "1/1 [==============================] - 0s 5ms/step - loss: 0.2843 - mean_squared_error: 0.2843\n",
            "Epoch 30/100\n",
            "1/1 [==============================] - 0s 3ms/step - loss: 0.2851 - mean_squared_error: 0.2851\n",
            "Epoch 31/100\n",
            "1/1 [==============================] - 0s 3ms/step - loss: 0.2855 - mean_squared_error: 0.2855\n",
            "Epoch 32/100\n",
            "1/1 [==============================] - 0s 5ms/step - loss: 0.2856 - mean_squared_error: 0.2856\n",
            "Epoch 33/100\n",
            "1/1 [==============================] - 0s 4ms/step - loss: 0.2854 - mean_squared_error: 0.2854\n",
            "Epoch 34/100\n",
            "1/1 [==============================] - 0s 7ms/step - loss: 0.2849 - mean_squared_error: 0.2849\n",
            "Epoch 35/100\n",
            "1/1 [==============================] - 0s 6ms/step - loss: 0.2842 - mean_squared_error: 0.2842\n",
            "Epoch 36/100\n",
            "1/1 [==============================] - 0s 6ms/step - loss: 0.2833 - mean_squared_error: 0.2833\n",
            "Epoch 37/100\n",
            "1/1 [==============================] - 0s 6ms/step - loss: 0.2822 - mean_squared_error: 0.2822\n",
            "Epoch 38/100\n",
            "1/1 [==============================] - 0s 4ms/step - loss: 0.2810 - mean_squared_error: 0.2810\n",
            "Epoch 39/100\n",
            "1/1 [==============================] - 0s 3ms/step - loss: 0.2798 - mean_squared_error: 0.2798\n",
            "Epoch 40/100\n",
            "1/1 [==============================] - 0s 5ms/step - loss: 0.2785 - mean_squared_error: 0.2785\n",
            "Epoch 41/100\n",
            "1/1 [==============================] - 0s 3ms/step - loss: 0.2773 - mean_squared_error: 0.2773\n",
            "Epoch 42/100\n",
            "1/1 [==============================] - 0s 5ms/step - loss: 0.2762 - mean_squared_error: 0.2762\n",
            "Epoch 43/100\n",
            "1/1 [==============================] - 0s 6ms/step - loss: 0.2751 - mean_squared_error: 0.2751\n",
            "Epoch 44/100\n",
            "1/1 [==============================] - 0s 7ms/step - loss: 0.2742 - mean_squared_error: 0.2742\n",
            "Epoch 45/100\n",
            "1/1 [==============================] - 0s 4ms/step - loss: 0.2734 - mean_squared_error: 0.2734\n",
            "Epoch 46/100\n",
            "1/1 [==============================] - 0s 6ms/step - loss: 0.2727 - mean_squared_error: 0.2727\n",
            "Epoch 47/100\n",
            "1/1 [==============================] - 0s 4ms/step - loss: 0.2721 - mean_squared_error: 0.2721\n",
            "Epoch 48/100\n",
            "1/1 [==============================] - 0s 6ms/step - loss: 0.2716 - mean_squared_error: 0.2716\n",
            "Epoch 49/100\n",
            "1/1 [==============================] - 0s 7ms/step - loss: 0.2713 - mean_squared_error: 0.2713\n",
            "Epoch 50/100\n",
            "1/1 [==============================] - 0s 7ms/step - loss: 0.2710 - mean_squared_error: 0.2710\n",
            "Epoch 51/100\n",
            "1/1 [==============================] - 0s 7ms/step - loss: 0.2708 - mean_squared_error: 0.2708\n",
            "Epoch 52/100\n",
            "1/1 [==============================] - 0s 7ms/step - loss: 0.2706 - mean_squared_error: 0.2706\n",
            "Epoch 53/100\n",
            "1/1 [==============================] - 0s 6ms/step - loss: 0.2705 - mean_squared_error: 0.2705\n",
            "Epoch 54/100\n",
            "1/1 [==============================] - 0s 6ms/step - loss: 0.2704 - mean_squared_error: 0.2704\n",
            "Epoch 55/100\n",
            "1/1 [==============================] - 0s 6ms/step - loss: 0.2703 - mean_squared_error: 0.2703\n",
            "Epoch 56/100\n",
            "1/1 [==============================] - 0s 7ms/step - loss: 0.2702 - mean_squared_error: 0.2702\n",
            "Epoch 57/100\n",
            "1/1 [==============================] - 0s 3ms/step - loss: 0.2700 - mean_squared_error: 0.2700\n",
            "Epoch 58/100\n",
            "1/1 [==============================] - 0s 6ms/step - loss: 0.2699 - mean_squared_error: 0.2699\n",
            "Epoch 59/100\n",
            "1/1 [==============================] - 0s 6ms/step - loss: 0.2697 - mean_squared_error: 0.2697\n",
            "Epoch 60/100\n",
            "1/1 [==============================] - 0s 7ms/step - loss: 0.2695 - mean_squared_error: 0.2695\n",
            "Epoch 61/100\n",
            "1/1 [==============================] - 0s 4ms/step - loss: 0.2693 - mean_squared_error: 0.2693\n",
            "Epoch 62/100\n",
            "1/1 [==============================] - 0s 5ms/step - loss: 0.2690 - mean_squared_error: 0.2690\n",
            "Epoch 63/100\n",
            "1/1 [==============================] - 0s 4ms/step - loss: 0.2687 - mean_squared_error: 0.2687\n",
            "Epoch 64/100\n",
            "1/1 [==============================] - 0s 5ms/step - loss: 0.2685 - mean_squared_error: 0.2685\n",
            "Epoch 65/100\n",
            "1/1 [==============================] - 0s 5ms/step - loss: 0.2682 - mean_squared_error: 0.2682\n",
            "Epoch 66/100\n",
            "1/1 [==============================] - 0s 6ms/step - loss: 0.2679 - mean_squared_error: 0.2679\n",
            "Epoch 67/100\n",
            "1/1 [==============================] - 0s 5ms/step - loss: 0.2676 - mean_squared_error: 0.2676\n",
            "Epoch 68/100\n",
            "1/1 [==============================] - 0s 5ms/step - loss: 0.2673 - mean_squared_error: 0.2673\n",
            "Epoch 69/100\n",
            "1/1 [==============================] - 0s 6ms/step - loss: 0.2670 - mean_squared_error: 0.2670\n",
            "Epoch 70/100\n",
            "1/1 [==============================] - 0s 4ms/step - loss: 0.2667 - mean_squared_error: 0.2667\n",
            "Epoch 71/100\n",
            "1/1 [==============================] - 0s 4ms/step - loss: 0.2665 - mean_squared_error: 0.2665\n",
            "Epoch 72/100\n",
            "1/1 [==============================] - 0s 7ms/step - loss: 0.2662 - mean_squared_error: 0.2662\n",
            "Epoch 73/100\n",
            "1/1 [==============================] - 0s 7ms/step - loss: 0.2660 - mean_squared_error: 0.2660\n",
            "Epoch 74/100\n",
            "1/1 [==============================] - 0s 3ms/step - loss: 0.2657 - mean_squared_error: 0.2657\n",
            "Epoch 75/100\n",
            "1/1 [==============================] - 0s 4ms/step - loss: 0.2655 - mean_squared_error: 0.2655\n",
            "Epoch 76/100\n",
            "1/1 [==============================] - 0s 7ms/step - loss: 0.2653 - mean_squared_error: 0.2653\n",
            "Epoch 77/100\n",
            "1/1 [==============================] - 0s 6ms/step - loss: 0.2651 - mean_squared_error: 0.2651\n",
            "Epoch 78/100\n",
            "1/1 [==============================] - 0s 5ms/step - loss: 0.2649 - mean_squared_error: 0.2649\n",
            "Epoch 79/100\n",
            "1/1 [==============================] - 0s 5ms/step - loss: 0.2647 - mean_squared_error: 0.2647\n",
            "Epoch 80/100\n",
            "1/1 [==============================] - 0s 5ms/step - loss: 0.2645 - mean_squared_error: 0.2645\n",
            "Epoch 81/100\n",
            "1/1 [==============================] - 0s 4ms/step - loss: 0.2643 - mean_squared_error: 0.2643\n",
            "Epoch 82/100\n",
            "1/1 [==============================] - 0s 4ms/step - loss: 0.2641 - mean_squared_error: 0.2641\n",
            "Epoch 83/100\n",
            "1/1 [==============================] - 0s 4ms/step - loss: 0.2639 - mean_squared_error: 0.2639\n",
            "Epoch 84/100\n",
            "1/1 [==============================] - 0s 3ms/step - loss: 0.2637 - mean_squared_error: 0.2637\n",
            "Epoch 85/100\n",
            "1/1 [==============================] - 0s 4ms/step - loss: 0.2634 - mean_squared_error: 0.2634\n",
            "Epoch 86/100\n",
            "1/1 [==============================] - 0s 4ms/step - loss: 0.2632 - mean_squared_error: 0.2632\n",
            "Epoch 87/100\n",
            "1/1 [==============================] - 0s 3ms/step - loss: 0.2630 - mean_squared_error: 0.2630\n",
            "Epoch 88/100\n",
            "1/1 [==============================] - 0s 4ms/step - loss: 0.2628 - mean_squared_error: 0.2628\n",
            "Epoch 89/100\n",
            "1/1 [==============================] - 0s 4ms/step - loss: 0.2626 - mean_squared_error: 0.2626\n",
            "Epoch 90/100\n",
            "1/1 [==============================] - 0s 7ms/step - loss: 0.2624 - mean_squared_error: 0.2624\n",
            "Epoch 91/100\n",
            "1/1 [==============================] - 0s 4ms/step - loss: 0.2622 - mean_squared_error: 0.2622\n",
            "Epoch 92/100\n",
            "1/1 [==============================] - 0s 6ms/step - loss: 0.2620 - mean_squared_error: 0.2620\n",
            "Epoch 93/100\n",
            "1/1 [==============================] - 0s 4ms/step - loss: 0.2618 - mean_squared_error: 0.2618\n",
            "Epoch 94/100\n",
            "1/1 [==============================] - 0s 6ms/step - loss: 0.2616 - mean_squared_error: 0.2616\n",
            "Epoch 95/100\n",
            "1/1 [==============================] - 0s 4ms/step - loss: 0.2614 - mean_squared_error: 0.2614\n",
            "Epoch 96/100\n",
            "1/1 [==============================] - 0s 5ms/step - loss: 0.2612 - mean_squared_error: 0.2612\n",
            "Epoch 97/100\n",
            "1/1 [==============================] - 0s 4ms/step - loss: 0.2610 - mean_squared_error: 0.2610\n",
            "Epoch 98/100\n",
            "1/1 [==============================] - 0s 7ms/step - loss: 0.2608 - mean_squared_error: 0.2608\n",
            "Epoch 99/100\n",
            "1/1 [==============================] - 0s 4ms/step - loss: 0.2606 - mean_squared_error: 0.2606\n",
            "Epoch 100/100\n",
            "1/1 [==============================] - 0s 4ms/step - loss: 0.2604 - mean_squared_error: 0.2604\n"
          ],
          "name": "stdout"
        }
      ]
    },
    {
      "cell_type": "code",
      "metadata": {
        "colab": {
          "base_uri": "https://localhost:8080/"
        },
        "id": "CYjlHYZak4np",
        "outputId": "edba2b0e-d3c1-4a4a-9966-a072e2a7bde4"
      },
      "source": [
        "model.summary()\n",
        "# broken numbers"
      ],
      "execution_count": 45,
      "outputs": [
        {
          "output_type": "stream",
          "text": [
            "Model: \"sequential_2\"\n",
            "_________________________________________________________________\n",
            "Layer (type)                 Output Shape              Param #   \n",
            "=================================================================\n",
            "dense_5 (Dense)              (None, 10)                20        \n",
            "_________________________________________________________________\n",
            "dense_6 (Dense)              (None, 1)                 11        \n",
            "=================================================================\n",
            "Total params: 31\n",
            "Trainable params: 31\n",
            "Non-trainable params: 0\n",
            "_________________________________________________________________\n"
          ],
          "name": "stdout"
        }
      ]
    },
    {
      "cell_type": "code",
      "metadata": {
        "id": "q1m2ay50lgt5"
      },
      "source": [
        "y = model.predict(x)"
      ],
      "execution_count": 46,
      "outputs": []
    },
    {
      "cell_type": "code",
      "metadata": {
        "colab": {
          "base_uri": "https://localhost:8080/"
        },
        "id": "PSK1f3BKm9JZ",
        "outputId": "802f9303-7c6e-48c0-89d8-1470ce1d00e9"
      },
      "source": [
        "y"
      ],
      "execution_count": 47,
      "outputs": [
        {
          "output_type": "execute_result",
          "data": {
            "text/plain": [
              "array([[0.11859248],\n",
              "       [0.19123855],\n",
              "       [0.26388434],\n",
              "       [0.33653045],\n",
              "       [0.40917653],\n",
              "       [0.48182225],\n",
              "       [0.5544684 ],\n",
              "       [0.62711436],\n",
              "       [0.69976044],\n",
              "       [0.7724067 ]], dtype=float32)"
            ]
          },
          "metadata": {
            "tags": []
          },
          "execution_count": 47
        }
      ]
    },
    {
      "cell_type": "code",
      "metadata": {
        "id": "xi1i-3Ydm-OK"
      },
      "source": [
        "# 3 Layer- Fully Connected- Neural Network\n",
        "layer1 = keras.layers.Dense(2)\n",
        "layer2 = keras.layers.Dense(3)\n",
        "layer3 = keras.layers.Dense(1)\n",
        "model = keras.models.Sequential([layer1, layer2, layer3])\n",
        "model.compile(loss= keras.losses.mean_squared_error, optimizer='adam', metrics=[keras.metrics.mean_squared_error])"
      ],
      "execution_count": 54,
      "outputs": []
    },
    {
      "cell_type": "code",
      "metadata": {
        "colab": {
          "base_uri": "https://localhost:8080/"
        },
        "id": "GGTobwqsnSSe",
        "outputId": "37c95889-73b9-4a88-c152-4d8bb4612f08"
      },
      "source": [
        "history = model.fit(x, y, epochs=100, verbose=0) # dont show output here\n",
        "predictions = model.predict(x)\n",
        "predictions\n"
      ],
      "execution_count": 55,
      "outputs": [
        {
          "output_type": "execute_result",
          "data": {
            "text/plain": [
              "array([[ 0.1515853 ],\n",
              "       [-0.0198998 ],\n",
              "       [-0.19138487],\n",
              "       [-0.36286998],\n",
              "       [-0.5343552 ],\n",
              "       [-0.70584035],\n",
              "       [-0.87732536],\n",
              "       [-1.0488104 ],\n",
              "       [-1.2202955 ],\n",
              "       [-1.3917807 ]], dtype=float32)"
            ]
          },
          "metadata": {
            "tags": []
          },
          "execution_count": 55
        }
      ]
    },
    {
      "cell_type": "code",
      "metadata": {
        "colab": {
          "base_uri": "https://localhost:8080/"
        },
        "id": "jriyudDend8z",
        "outputId": "aa945739-8df9-4a21-8d94-0be10d3c40d6"
      },
      "source": [
        "print(model.get_weights())"
      ],
      "execution_count": 56,
      "outputs": [
        {
          "output_type": "stream",
          "text": [
            "[array([[-0.78444684, -0.15535395]], dtype=float32), array([0.06308682, 0.07897931], dtype=float32), array([[-0.30243003, -0.3085671 ,  0.47384867],\n",
            "       [ 0.59335345, -0.95288277, -0.16265014]], dtype=float32), array([ 0.08369388, -0.07753921,  0.08035991], dtype=float32), array([[ 1.1680062 ],\n",
            "       [-0.23835626],\n",
            "       [ 0.7156681 ]], dtype=float32), array([0.08209278], dtype=float32)]\n"
          ],
          "name": "stdout"
        }
      ]
    },
    {
      "cell_type": "code",
      "metadata": {
        "colab": {
          "base_uri": "https://localhost:8080/"
        },
        "id": "ItqQ9gabnjkK",
        "outputId": "722d6990-979f-4217-a9ba-dab1a8223c28"
      },
      "source": [
        "# hidden layer\n",
        "model.layers[1].get_weights()"
      ],
      "execution_count": 57,
      "outputs": [
        {
          "output_type": "execute_result",
          "data": {
            "text/plain": [
              "[array([[-0.30243003, -0.3085671 ,  0.47384867],\n",
              "        [ 0.59335345, -0.95288277, -0.16265014]], dtype=float32),\n",
              " array([ 0.08369388, -0.07753921,  0.08035991], dtype=float32)]"
            ]
          },
          "metadata": {
            "tags": []
          },
          "execution_count": 57
        }
      ]
    },
    {
      "cell_type": "code",
      "metadata": {
        "id": "KRT4T_-SqD6W"
      },
      "source": [
        "# 3 Layer- Fully Connected- Neural Network\n",
        "x = [ 2, 1, 0, -1, -2, -1, 0 ,1, 2 , 1 ,0, -1]\n",
        "y = [ 1, 1, 0, -1 , -1 , -1  ,0, 1, 1, 1 , 0 , -1]\n",
        "layer1 = keras.layers.Dense(2, activation=tf.nn.relu)\n",
        "layer2 = keras.layers.Dense(3, activation=tf.nn.relu)\n",
        "layer3 = keras.layers.Dense(1, activation=tf.nn.relu)\n",
        "model = keras.models.Sequential([layer1, layer2, layer3])\n",
        "model.compile(loss= keras.losses.mean_squared_error, optimizer='adam', metrics=[keras.metrics.mean_squared_error])"
      ],
      "execution_count": 72,
      "outputs": []
    },
    {
      "cell_type": "code",
      "metadata": {
        "colab": {
          "base_uri": "https://localhost:8080/"
        },
        "id": "sLOdpxcXsdrV",
        "outputId": "2d5d3d74-a65d-426d-bf2c-79a3cc1539c5"
      },
      "source": [
        "history = model.fit(x,y, epochs=50)"
      ],
      "execution_count": 73,
      "outputs": [
        {
          "output_type": "stream",
          "text": [
            "Epoch 1/50\n",
            "1/1 [==============================] - 0s 357ms/step - loss: 0.5723 - mean_squared_error: 0.5723\n",
            "Epoch 2/50\n",
            "1/1 [==============================] - 0s 4ms/step - loss: 0.5706 - mean_squared_error: 0.5706\n",
            "Epoch 3/50\n",
            "1/1 [==============================] - 0s 4ms/step - loss: 0.5688 - mean_squared_error: 0.5688\n",
            "Epoch 4/50\n",
            "1/1 [==============================] - 0s 4ms/step - loss: 0.5671 - mean_squared_error: 0.5671\n",
            "Epoch 5/50\n",
            "1/1 [==============================] - 0s 5ms/step - loss: 0.5653 - mean_squared_error: 0.5653\n",
            "Epoch 6/50\n",
            "1/1 [==============================] - 0s 7ms/step - loss: 0.5636 - mean_squared_error: 0.5636\n",
            "Epoch 7/50\n",
            "1/1 [==============================] - 0s 4ms/step - loss: 0.5618 - mean_squared_error: 0.5618\n",
            "Epoch 8/50\n",
            "1/1 [==============================] - 0s 7ms/step - loss: 0.5601 - mean_squared_error: 0.5601\n",
            "Epoch 9/50\n",
            "1/1 [==============================] - 0s 5ms/step - loss: 0.5583 - mean_squared_error: 0.5583\n",
            "Epoch 10/50\n",
            "1/1 [==============================] - 0s 8ms/step - loss: 0.5566 - mean_squared_error: 0.5566\n",
            "Epoch 11/50\n",
            "1/1 [==============================] - 0s 6ms/step - loss: 0.5548 - mean_squared_error: 0.5548\n",
            "Epoch 12/50\n",
            "1/1 [==============================] - 0s 4ms/step - loss: 0.5530 - mean_squared_error: 0.5530\n",
            "Epoch 13/50\n",
            "1/1 [==============================] - 0s 4ms/step - loss: 0.5513 - mean_squared_error: 0.5513\n",
            "Epoch 14/50\n",
            "1/1 [==============================] - 0s 5ms/step - loss: 0.5495 - mean_squared_error: 0.5495\n",
            "Epoch 15/50\n",
            "1/1 [==============================] - 0s 3ms/step - loss: 0.5477 - mean_squared_error: 0.5477\n",
            "Epoch 16/50\n",
            "1/1 [==============================] - 0s 5ms/step - loss: 0.5460 - mean_squared_error: 0.5460\n",
            "Epoch 17/50\n",
            "1/1 [==============================] - 0s 4ms/step - loss: 0.5442 - mean_squared_error: 0.5442\n",
            "Epoch 18/50\n",
            "1/1 [==============================] - 0s 4ms/step - loss: 0.5424 - mean_squared_error: 0.5424\n",
            "Epoch 19/50\n",
            "1/1 [==============================] - 0s 4ms/step - loss: 0.5406 - mean_squared_error: 0.5406\n",
            "Epoch 20/50\n",
            "1/1 [==============================] - 0s 6ms/step - loss: 0.5391 - mean_squared_error: 0.5391\n",
            "Epoch 21/50\n",
            "1/1 [==============================] - 0s 7ms/step - loss: 0.5374 - mean_squared_error: 0.5374\n",
            "Epoch 22/50\n",
            "1/1 [==============================] - 0s 4ms/step - loss: 0.5355 - mean_squared_error: 0.5355\n",
            "Epoch 23/50\n",
            "1/1 [==============================] - 0s 5ms/step - loss: 0.5338 - mean_squared_error: 0.5338\n",
            "Epoch 24/50\n",
            "1/1 [==============================] - 0s 4ms/step - loss: 0.5321 - mean_squared_error: 0.5321\n",
            "Epoch 25/50\n",
            "1/1 [==============================] - 0s 4ms/step - loss: 0.5305 - mean_squared_error: 0.5305\n",
            "Epoch 26/50\n",
            "1/1 [==============================] - 0s 4ms/step - loss: 0.5288 - mean_squared_error: 0.5288\n",
            "Epoch 27/50\n",
            "1/1 [==============================] - 0s 10ms/step - loss: 0.5271 - mean_squared_error: 0.5271\n",
            "Epoch 28/50\n",
            "1/1 [==============================] - 0s 4ms/step - loss: 0.5254 - mean_squared_error: 0.5254\n",
            "Epoch 29/50\n",
            "1/1 [==============================] - 0s 4ms/step - loss: 0.5237 - mean_squared_error: 0.5237\n",
            "Epoch 30/50\n",
            "1/1 [==============================] - 0s 4ms/step - loss: 0.5220 - mean_squared_error: 0.5220\n",
            "Epoch 31/50\n",
            "1/1 [==============================] - 0s 5ms/step - loss: 0.5204 - mean_squared_error: 0.5204\n",
            "Epoch 32/50\n",
            "1/1 [==============================] - 0s 4ms/step - loss: 0.5187 - mean_squared_error: 0.5187\n",
            "Epoch 33/50\n",
            "1/1 [==============================] - 0s 6ms/step - loss: 0.5171 - mean_squared_error: 0.5171\n",
            "Epoch 34/50\n",
            "1/1 [==============================] - 0s 5ms/step - loss: 0.5154 - mean_squared_error: 0.5154\n",
            "Epoch 35/50\n",
            "1/1 [==============================] - 0s 5ms/step - loss: 0.5138 - mean_squared_error: 0.5138\n",
            "Epoch 36/50\n",
            "1/1 [==============================] - 0s 15ms/step - loss: 0.5121 - mean_squared_error: 0.5121\n",
            "Epoch 37/50\n",
            "1/1 [==============================] - 0s 5ms/step - loss: 0.5105 - mean_squared_error: 0.5105\n",
            "Epoch 38/50\n",
            "1/1 [==============================] - 0s 7ms/step - loss: 0.5088 - mean_squared_error: 0.5088\n",
            "Epoch 39/50\n",
            "1/1 [==============================] - 0s 4ms/step - loss: 0.5072 - mean_squared_error: 0.5072\n",
            "Epoch 40/50\n",
            "1/1 [==============================] - 0s 4ms/step - loss: 0.5057 - mean_squared_error: 0.5057\n",
            "Epoch 41/50\n",
            "1/1 [==============================] - 0s 4ms/step - loss: 0.5041 - mean_squared_error: 0.5041\n",
            "Epoch 42/50\n",
            "1/1 [==============================] - 0s 9ms/step - loss: 0.5025 - mean_squared_error: 0.5025\n",
            "Epoch 43/50\n",
            "1/1 [==============================] - 0s 4ms/step - loss: 0.5008 - mean_squared_error: 0.5008\n",
            "Epoch 44/50\n",
            "1/1 [==============================] - 0s 12ms/step - loss: 0.4992 - mean_squared_error: 0.4992\n",
            "Epoch 45/50\n",
            "1/1 [==============================] - 0s 4ms/step - loss: 0.4975 - mean_squared_error: 0.4975\n",
            "Epoch 46/50\n",
            "1/1 [==============================] - 0s 4ms/step - loss: 0.4958 - mean_squared_error: 0.4958\n",
            "Epoch 47/50\n",
            "1/1 [==============================] - 0s 6ms/step - loss: 0.4944 - mean_squared_error: 0.4944\n",
            "Epoch 48/50\n",
            "1/1 [==============================] - 0s 4ms/step - loss: 0.4928 - mean_squared_error: 0.4928\n",
            "Epoch 49/50\n",
            "1/1 [==============================] - 0s 4ms/step - loss: 0.4911 - mean_squared_error: 0.4911\n",
            "Epoch 50/50\n",
            "1/1 [==============================] - 0s 4ms/step - loss: 0.4895 - mean_squared_error: 0.4895\n"
          ],
          "name": "stdout"
        }
      ]
    },
    {
      "cell_type": "code",
      "metadata": {
        "id": "Qj5cWQc6sltA"
      },
      "source": [
        "predictions = model.predict(x)"
      ],
      "execution_count": 74,
      "outputs": []
    },
    {
      "cell_type": "code",
      "metadata": {
        "colab": {
          "base_uri": "https://localhost:8080/"
        },
        "id": "8rdxaCABsq4M",
        "outputId": "2da46069-36ce-4d35-af9e-9a76a483c5a5"
      },
      "source": [
        "predictions"
      ],
      "execution_count": 75,
      "outputs": [
        {
          "output_type": "execute_result",
          "data": {
            "text/plain": [
              "array([[0.5613965 ],\n",
              "       [0.3027574 ],\n",
              "       [0.04419173],\n",
              "       [0.00084505],\n",
              "       [0.00084505],\n",
              "       [0.00084505],\n",
              "       [0.04419173],\n",
              "       [0.3027574 ],\n",
              "       [0.5613965 ],\n",
              "       [0.3027574 ],\n",
              "       [0.04419173],\n",
              "       [0.00084505]], dtype=float32)"
            ]
          },
          "metadata": {
            "tags": []
          },
          "execution_count": 75
        }
      ]
    },
    {
      "cell_type": "code",
      "metadata": {
        "colab": {
          "base_uri": "https://localhost:8080/"
        },
        "id": "SVLVCLdlssMo",
        "outputId": "5029c801-b5b9-42b7-ecf5-244c31c4c90e"
      },
      "source": [
        "model.layers[1].get_weights()"
      ],
      "execution_count": 76,
      "outputs": [
        {
          "output_type": "execute_result",
          "data": {
            "text/plain": [
              "[array([[ 0.9987311 , -0.94398093, -0.69420123],\n",
              "        [ 0.02865008, -0.64274204, -0.10597444]], dtype=float32),\n",
              " array([0.00181519, 0.        , 0.        ], dtype=float32)]"
            ]
          },
          "metadata": {
            "tags": []
          },
          "execution_count": 76
        }
      ]
    },
    {
      "cell_type": "code",
      "metadata": {
        "id": "TKtNhYFCs1nM"
      },
      "source": [
        "x = [ 2, 1, 0, -1, -2, -1, 0 ,1, 2 , 1 ,0, -1]\n",
        "y = [ 1, 1, 0, -1 , -1 , -1  ,0, 1, 1, 1 , 0 , -1]\n",
        "layer1 = keras.layers.Dense(1, activation=tf.nn.relu)\n",
        "\n",
        "model = keras.models.Sequential([layer1])\n",
        "model.compile(loss= keras.losses.mae, optimizer='adam', metrics=[keras.metrics.mean_squared_error])"
      ],
      "execution_count": 83,
      "outputs": []
    },
    {
      "cell_type": "code",
      "metadata": {
        "id": "0MbCVS_vullR"
      },
      "source": [
        "history = model.fit(x,y,epochs=100, verbose=0)\n",
        "predictions = model.predict(x)"
      ],
      "execution_count": 84,
      "outputs": []
    },
    {
      "cell_type": "code",
      "metadata": {
        "colab": {
          "base_uri": "https://localhost:8080/"
        },
        "id": "8GkNWhhcuoGD",
        "outputId": "6be542e4-665d-49a2-f9e9-da83e493926d"
      },
      "source": [
        "predictions"
      ],
      "execution_count": 85,
      "outputs": [
        {
          "output_type": "execute_result",
          "data": {
            "text/plain": [
              "array([[2.5785315],\n",
              "       [1.2392658],\n",
              "       [0.       ],\n",
              "       [0.       ],\n",
              "       [0.       ],\n",
              "       [0.       ],\n",
              "       [0.       ],\n",
              "       [1.2392658],\n",
              "       [2.5785315],\n",
              "       [1.2392658],\n",
              "       [0.       ],\n",
              "       [0.       ]], dtype=float32)"
            ]
          },
          "metadata": {
            "tags": []
          },
          "execution_count": 85
        }
      ]
    },
    {
      "cell_type": "code",
      "metadata": {
        "id": "uS752ccFuo7Q"
      },
      "source": [
        ""
      ],
      "execution_count": null,
      "outputs": []
    }
  ]
}