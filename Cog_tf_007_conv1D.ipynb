{
  "nbformat": 4,
  "nbformat_minor": 0,
  "metadata": {
    "colab": {
      "name": "Cog_tf_007.ipynb",
      "provenance": [],
      "authorship_tag": "ABX9TyOsxralZuulYBMTlJJ1wbfH",
      "include_colab_link": true
    },
    "kernelspec": {
      "name": "python3",
      "display_name": "Python 3"
    },
    "language_info": {
      "name": "python"
    }
  },
  "cells": [
    {
      "cell_type": "markdown",
      "metadata": {
        "id": "view-in-github",
        "colab_type": "text"
      },
      "source": [
        "<a href=\"https://colab.research.google.com/github/a-forty-two/cog_may_onwards_21/blob/main/Cog_tf_007_conv1D.ipynb\" target=\"_parent\"><img src=\"https://colab.research.google.com/assets/colab-badge.svg\" alt=\"Open In Colab\"/></a>"
      ]
    },
    {
      "cell_type": "code",
      "metadata": {
        "id": "6GL8PhARYSQy"
      },
      "source": [
        "# Convolution Layer\n",
        "# ML is anyway Dense-Dense-> weights and biases are generated \n",
        "# finer patterns -> treat those patterns as inputs, rather than inputs as-it-is"
      ],
      "execution_count": 1,
      "outputs": []
    },
    {
      "cell_type": "code",
      "metadata": {
        "id": "oZBZT3bxYlvN"
      },
      "source": [
        "from keras.models import Sequential\n",
        "from keras.layers import Dense, Conv1D, Flatten, MaxPooling1D\n",
        "from sklearn.model_selection import train_test_split\n",
        "from sklearn.metrics import confusion_matrix\n",
        "from sklearn.datasets import load_iris\n",
        "from numpy import unique\n"
      ],
      "execution_count": 2,
      "outputs": []
    },
    {
      "cell_type": "code",
      "metadata": {
        "colab": {
          "base_uri": "https://localhost:8080/"
        },
        "id": "EV5VrHOwaz-Q",
        "outputId": "319f56d6-bc1f-41f7-e78a-64e9ec429305"
      },
      "source": [
        "\n",
        "iris = load_iris()\n",
        "X, y = iris.data, iris.target\n",
        "print(X.shape)\n",
        "\n",
        "x = X.reshape(X.shape[0], X.shape[1], 1)\n",
        "print(x.shape)"
      ],
      "execution_count": 5,
      "outputs": [
        {
          "output_type": "stream",
          "text": [
            "(150, 4)\n",
            "(150, 4, 1)\n"
          ],
          "name": "stdout"
        }
      ]
    },
    {
      "cell_type": "code",
      "metadata": {
        "colab": {
          "base_uri": "https://localhost:8080/"
        },
        "id": "zsmjBJBMa1xT",
        "outputId": "85043a99-d431-4e83-bfbc-8b66b8602e12"
      },
      "source": [
        "print(X[0]) # petal iris"
      ],
      "execution_count": 7,
      "outputs": [
        {
          "output_type": "stream",
          "text": [
            "[5.1 3.5 1.4 0.2]\n"
          ],
          "name": "stdout"
        }
      ]
    },
    {
      "cell_type": "code",
      "metadata": {
        "colab": {
          "base_uri": "https://localhost:8080/"
        },
        "id": "2ArwGJhubM6V",
        "outputId": "c1e87c5d-5cac-4562-da0e-cda54c47646a"
      },
      "source": [
        "y[:-5]"
      ],
      "execution_count": 9,
      "outputs": [
        {
          "output_type": "execute_result",
          "data": {
            "text/plain": [
              "array([0, 0, 0, 0, 0, 0, 0, 0, 0, 0, 0, 0, 0, 0, 0, 0, 0, 0, 0, 0, 0, 0,\n",
              "       0, 0, 0, 0, 0, 0, 0, 0, 0, 0, 0, 0, 0, 0, 0, 0, 0, 0, 0, 0, 0, 0,\n",
              "       0, 0, 0, 0, 0, 0, 1, 1, 1, 1, 1, 1, 1, 1, 1, 1, 1, 1, 1, 1, 1, 1,\n",
              "       1, 1, 1, 1, 1, 1, 1, 1, 1, 1, 1, 1, 1, 1, 1, 1, 1, 1, 1, 1, 1, 1,\n",
              "       1, 1, 1, 1, 1, 1, 1, 1, 1, 1, 1, 1, 2, 2, 2, 2, 2, 2, 2, 2, 2, 2,\n",
              "       2, 2, 2, 2, 2, 2, 2, 2, 2, 2, 2, 2, 2, 2, 2, 2, 2, 2, 2, 2, 2, 2,\n",
              "       2, 2, 2, 2, 2, 2, 2, 2, 2, 2, 2, 2, 2])"
            ]
          },
          "metadata": {
            "tags": []
          },
          "execution_count": 9
        }
      ]
    },
    {
      "cell_type": "code",
      "metadata": {
        "id": "7j_a1HicbcKb"
      },
      "source": [
        "\n",
        "xtrain, xtest, ytrain, ytest=train_test_split(x, y, test_size=0.15)\n"
      ],
      "execution_count": 10,
      "outputs": []
    },
    {
      "cell_type": "code",
      "metadata": {
        "id": "7utu1Vm1boax"
      },
      "source": [
        "from tensorflow import keras\n",
        "import tensorflow as tf\n",
        "model = keras.models.Sequential()"
      ],
      "execution_count": 20,
      "outputs": []
    },
    {
      "cell_type": "code",
      "metadata": {
        "id": "gHRoVuyxbrJE"
      },
      "source": [
        "model.add(Conv1D(4, 2, activation = tf.nn.relu,input_shape=(4,1)))"
      ],
      "execution_count": 21,
      "outputs": []
    },
    {
      "cell_type": "code",
      "metadata": {
        "id": "dL-ucPscb-y2"
      },
      "source": [
        "# compress the image\n",
        "model.add(MaxPooling1D())"
      ],
      "execution_count": 22,
      "outputs": []
    },
    {
      "cell_type": "code",
      "metadata": {
        "id": "hWvMM5z6cO09"
      },
      "source": [
        "import tensorflow as tf\n",
        "model.add(Dense(3, activation = tf.nn.softmax))"
      ],
      "execution_count": 23,
      "outputs": []
    },
    {
      "cell_type": "code",
      "metadata": {
        "colab": {
          "base_uri": "https://localhost:8080/"
        },
        "id": "Lx1lPbfDcWxf",
        "outputId": "9b512db5-9a00-4b67-8465-96f83576f0f3"
      },
      "source": [
        "model.compile(loss = 'sparse_categorical_crossentropy', \n",
        "     optimizer = \"adam\",               \n",
        "              metrics = ['accuracy'])\n",
        "\n",
        "model.fit(xtrain, ytrain, batch_size=16,epochs=1, verbose=0)\n",
        "model.summary()"
      ],
      "execution_count": 25,
      "outputs": [
        {
          "output_type": "stream",
          "text": [
            "Model: \"sequential_1\"\n",
            "_________________________________________________________________\n",
            "Layer (type)                 Output Shape              Param #   \n",
            "=================================================================\n",
            "module_wrapper_3 (ModuleWrap (None, 3, 4)              12        \n",
            "_________________________________________________________________\n",
            "module_wrapper_4 (ModuleWrap (None, 1, 4)              0         \n",
            "_________________________________________________________________\n",
            "module_wrapper_5 (ModuleWrap (None, 1, 3)              15        \n",
            "=================================================================\n",
            "Total params: 27\n",
            "Trainable params: 27\n",
            "Non-trainable params: 0\n",
            "_________________________________________________________________\n"
          ],
          "name": "stdout"
        }
      ]
    },
    {
      "cell_type": "code",
      "metadata": {
        "colab": {
          "base_uri": "https://localhost:8080/"
        },
        "id": "QKkbEMq_cvDy",
        "outputId": "c394db8f-e17d-4233-b8e7-5f61d900ad99"
      },
      "source": [
        "model.layers[0].get_weights()"
      ],
      "execution_count": 26,
      "outputs": [
        {
          "output_type": "execute_result",
          "data": {
            "text/plain": [
              "[array([[[ 0.11229932,  0.7180648 ,  0.35399598, -0.379118  ]],\n",
              " \n",
              "        [[-0.16595933, -0.63513476, -0.70566744,  0.7436408 ]]],\n",
              "       dtype=float32),\n",
              " array([ 0.0074067 , -0.00745209,  0.0072498 , -0.00727009], dtype=float32)]"
            ]
          },
          "metadata": {
            "tags": []
          },
          "execution_count": 26
        }
      ]
    },
    {
      "cell_type": "code",
      "metadata": {
        "id": "ThKKtOJxdiue"
      },
      "source": [
        "pred = model.predict(xtest)\n",
        "pred_y = pred.argmax(axis=-1)"
      ],
      "execution_count": 27,
      "outputs": []
    },
    {
      "cell_type": "code",
      "metadata": {
        "colab": {
          "base_uri": "https://localhost:8080/"
        },
        "id": "2RBpzjN4dy0m",
        "outputId": "607fe88c-6c58-40d0-ceb9-ffa8071d9938"
      },
      "source": [
        "pred_y[:5]"
      ],
      "execution_count": 28,
      "outputs": [
        {
          "output_type": "execute_result",
          "data": {
            "text/plain": [
              "array([[0],\n",
              "       [0],\n",
              "       [0],\n",
              "       [0],\n",
              "       [0]])"
            ]
          },
          "metadata": {
            "tags": []
          },
          "execution_count": 28
        }
      ]
    },
    {
      "cell_type": "code",
      "metadata": {
        "id": "7dCMHheVd0kv"
      },
      "source": [
        ""
      ],
      "execution_count": null,
      "outputs": []
    }
  ]
}