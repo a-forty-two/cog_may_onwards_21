{
  "nbformat": 4,
  "nbformat_minor": 0,
  "metadata": {
    "colab": {
      "name": "Untitled17.ipynb",
      "provenance": [],
      "collapsed_sections": [],
      "authorship_tag": "ABX9TyP+kpVTgtbvS6sH+enG4tyI",
      "include_colab_link": true
    },
    "kernelspec": {
      "name": "python3",
      "display_name": "Python 3"
    },
    "language_info": {
      "name": "python"
    }
  },
  "cells": [
    {
      "cell_type": "markdown",
      "metadata": {
        "id": "view-in-github",
        "colab_type": "text"
      },
      "source": [
        "<a href=\"https://colab.research.google.com/github/a-forty-two/cog_may_onwards_21/blob/main/Cog_cv_tf_ObjectDetection_finale.ipynb\" target=\"_parent\"><img src=\"https://colab.research.google.com/assets/colab-badge.svg\" alt=\"Open In Colab\"/></a>"
      ]
    },
    {
      "cell_type": "markdown",
      "metadata": {
        "id": "KbqfkpdReLj8"
      },
      "source": [
        "Users provide us inputs(X), and outputs (Y)\n",
        "\n",
        "but in order to calculate-> M and C-> i have a lot of other parameters\n",
        "\n",
        "1) Learning Rate\n",
        "\n",
        "2) Epochs\n",
        "\n",
        "3) L1/L2\n",
        "\n",
        "4) intiatial values.... \n",
        "\n",
        "\n",
        "VALUES that you need, but are NOT provided by the SME/data providers\n",
        "\n",
        "SO we try to play around with the values-> to figure the best answer\n",
        "\n",
        "1) Brute force-> all possible combinations, and the best combination is selected. GRID SEARCH.\n",
        "\n",
        "2) Compromised on efficiency/Optimized on time-> INFINITE possible answers, so generate humongous amount of random pairs, and then select best pair out of them. So we get highly workable parameters, not the best one. -> Randomized Search\n",
        "\n",
        "3) Probability: Next guess is selected based on current performance of HP combination-> Bayesian method"
      ]
    },
    {
      "cell_type": "code",
      "metadata": {
        "id": "Fk-DFZTGdIpa"
      },
      "source": [
        "import tensorflow as tf\n",
        "import numpy as np\n",
        "from tensorflow import keras\n",
        "from keras import backend as k\n",
        "from keras.layers.core import Dense, Flatten, Activation, Dropout\n",
        "from keras.layers.convolutional import Conv2D, MaxPooling2D\n",
        "from keras.layers.normalization import BatchNormalization"
      ],
      "execution_count": 5,
      "outputs": []
    },
    {
      "cell_type": "code",
      "metadata": {
        "id": "EQMepYodgka2"
      },
      "source": [
        "HP_filter1 = (3,3)\n",
        "HP_filter2 = (2,2)\n",
        "HP_epochs = 20\n",
        "HP_init_lr = 0.01\n",
        "HP_image_dim = (96,96,3)\n",
        "HP_batch_size = 1"
      ],
      "execution_count": 6,
      "outputs": []
    },
    {
      "cell_type": "code",
      "metadata": {
        "id": "1wmrxSbNdcUG"
      },
      "source": [
        "class AnacondaVGG:\n",
        "  @staticmethod\n",
        "  def buildmodel(height, width, depth, classes):\n",
        "    channel_dim = -1\n",
        "    #block1\n",
        "    inputshape = (height, width, depth)\n",
        "    model = keras.Sequential()\n",
        "    model.add(Conv2D(32, HP_filter1, padding='same', input_shape=inputshape))\n",
        "    model.add(Activation(\"relu\"))\n",
        "    model.add(BatchNormalization(axis=channel_dim))\n",
        "    model.add(MaxPooling2D(pool_size=HP_filter1))\n",
        "    model.add(Dropout(0.20))\n",
        "\n",
        "    #block 2\n",
        "    model.add(Conv2D(64, HP_filter1, padding='same'))\n",
        "    model.add(Activation(\"relu\"))\n",
        "    model.add(BatchNormalization(axis=channel_dim))\n",
        "    model.add(Conv2D(64, HP_filter1, padding='same'))\n",
        "    model.add(Activation(\"relu\"))\n",
        "    model.add(BatchNormalization(axis=channel_dim))\n",
        "    model.add(MaxPooling2D(pool_size=HP_filter2))\n",
        "    model.add(Dropout(0.20))\n",
        "\n",
        "    #block 3\n",
        "    model.add(Conv2D(128, HP_filter1, padding='same'))\n",
        "    model.add(Activation(\"relu\"))\n",
        "    model.add(BatchNormalization(axis=channel_dim))\n",
        "    model.add(Conv2D(128, HP_filter1, padding='same'))\n",
        "    model.add(Activation(\"relu\"))\n",
        "    model.add(BatchNormalization(axis=channel_dim))\n",
        "    model.add(MaxPooling2D(pool_size=HP_filter2))\n",
        "    model.add(Dropout(0.20))\n",
        "\n",
        "    #block 4\n",
        "    model.add(Conv2D(256, HP_filter1, padding='same'))\n",
        "    model.add(Activation(\"relu\"))\n",
        "    model.add(BatchNormalization(axis=channel_dim))\n",
        "    model.add(Conv2D(256, HP_filter1, padding='same'))\n",
        "    model.add(Activation(\"relu\"))\n",
        "    model.add(BatchNormalization(axis=channel_dim))\n",
        "    model.add(MaxPooling2D(pool_size=HP_filter2))\n",
        "    model.add(Dropout(0.20))\n",
        "\n",
        "\n",
        "\n",
        "    #block_final\n",
        "    model.add(Flatten())\n",
        "    model.add(Dense(64))\n",
        "    model.add(Activation(\"relu\"))\n",
        "    model.add(BatchNormalization())\n",
        "    model.add(Dense(classes))\n",
        "    model.add(Activation(\"softmax\"))\n",
        "\n",
        "    return model"
      ],
      "execution_count": 7,
      "outputs": []
    },
    {
      "cell_type": "code",
      "metadata": {
        "id": "XxFiJ2HPhYvY"
      },
      "source": [
        "dataset = 'data'\n",
        "modelpath = 'model'\n",
        "outputpath = 'model/labels.bin'\n",
        "metricspath = 'model/metrics'\n",
        "evaldataset = ''\n",
        "testdataset = ''"
      ],
      "execution_count": 8,
      "outputs": []
    },
    {
      "cell_type": "code",
      "metadata": {
        "id": "re3HQq-Nig86"
      },
      "source": [
        "import imutils\n",
        "from imutils import paths\n",
        "allimages = sorted(list(paths.list_images(dataset)))"
      ],
      "execution_count": 9,
      "outputs": []
    },
    {
      "cell_type": "code",
      "metadata": {
        "colab": {
          "base_uri": "https://localhost:8080/"
        },
        "id": "TOSDSENAinv8",
        "outputId": "327dee60-9db1-4384-f4f2-861b78874fcc"
      },
      "source": [
        "allimages"
      ],
      "execution_count": 10,
      "outputs": [
        {
          "output_type": "execute_result",
          "data": {
            "text/plain": [
              "['data/cylons/00000000.jpeg',\n",
              " 'data/cylons/00000001.jpeg',\n",
              " 'data/cylons/00000002.jpeg',\n",
              " 'data/cylons/00000003.jpeg',\n",
              " 'data/cylons/00000004.jpeg',\n",
              " 'data/cylons/00000005.jpeg',\n",
              " 'data/cylons/00000006.jpeg',\n",
              " 'data/cylons/00000007.jpeg',\n",
              " 'data/cylons/00000008.jpeg',\n",
              " 'data/cylons/00000009.jpeg',\n",
              " 'data/cylons/00000010.jpeg',\n",
              " 'data/cylons/00000011.jpeg',\n",
              " 'data/pistol/00000000.jpeg',\n",
              " 'data/pistol/00000001.jpeg',\n",
              " 'data/pistol/00000002.jpeg',\n",
              " 'data/pistol/00000003.jpeg',\n",
              " 'data/pistol/00000004.jpeg',\n",
              " 'data/pistol/00000005.jpeg',\n",
              " 'data/pistol/00000006.jpeg',\n",
              " 'data/pistol/00000007.jpeg',\n",
              " 'data/pistol/00000008.jpeg',\n",
              " 'data/pistol/00000009.jpeg',\n",
              " 'data/pistol/00000010.jpeg',\n",
              " 'data/pistol/00000011.jpeg']"
            ]
          },
          "metadata": {
            "tags": []
          },
          "execution_count": 10
        }
      ]
    },
    {
      "cell_type": "code",
      "metadata": {
        "id": "G30BBf2bi3Qd"
      },
      "source": [
        "import random\n",
        "random.seed(42)\n",
        "random.shuffle(allimages)"
      ],
      "execution_count": 11,
      "outputs": []
    },
    {
      "cell_type": "code",
      "metadata": {
        "colab": {
          "base_uri": "https://localhost:8080/"
        },
        "id": "3xKvlpz7jR47",
        "outputId": "59925d12-7ae3-4e89-dbf9-67ce66b1ee5e"
      },
      "source": [
        "allimages[:5]"
      ],
      "execution_count": 12,
      "outputs": [
        {
          "output_type": "execute_result",
          "data": {
            "text/plain": [
              "['data/pistol/00000003.jpeg',\n",
              " 'data/cylons/00000005.jpeg',\n",
              " 'data/pistol/00000006.jpeg',\n",
              " 'data/pistol/00000011.jpeg',\n",
              " 'data/pistol/00000001.jpeg']"
            ]
          },
          "metadata": {
            "tags": []
          },
          "execution_count": 12
        }
      ]
    },
    {
      "cell_type": "code",
      "metadata": {
        "id": "cAwxDOsYjTgq"
      },
      "source": [
        "import os\n",
        "import cv2\n",
        "from keras.preprocessing.image import img_to_array\n",
        "data = []\n",
        "labels = []\n",
        "for impath in allimages:\n",
        "  img = cv2.imread(impath)\n",
        "  resized = cv2.resize(img, (96,96))\n",
        "  imgdata = img_to_array(resized)\n",
        "  data.append(imgdata)\n",
        "  label = impath.split(os.path.sep)[-2]\n",
        "  labels.append(label)"
      ],
      "execution_count": 13,
      "outputs": []
    },
    {
      "cell_type": "code",
      "metadata": {
        "colab": {
          "base_uri": "https://localhost:8080/"
        },
        "id": "FRLhqQU0j22H",
        "outputId": "402dea87-b4a7-4122-dd60-7f81ab006b7a"
      },
      "source": [
        "data[0][0][0] # FIRST pixel, of first row of first unit in dataset"
      ],
      "execution_count": 14,
      "outputs": [
        {
          "output_type": "execute_result",
          "data": {
            "text/plain": [
              "array([26., 33., 37.], dtype=float32)"
            ]
          },
          "metadata": {
            "tags": []
          },
          "execution_count": 14
        }
      ]
    },
    {
      "cell_type": "code",
      "metadata": {
        "colab": {
          "base_uri": "https://localhost:8080/"
        },
        "id": "sM00FqbCkI-6",
        "outputId": "f4b40d0f-029b-4eb6-e960-e896e8741647"
      },
      "source": [
        "print(labels[:10])"
      ],
      "execution_count": 15,
      "outputs": [
        {
          "output_type": "stream",
          "text": [
            "['pistol', 'cylons', 'pistol', 'pistol', 'pistol', 'cylons', 'pistol', 'cylons', 'pistol', 'pistol']\n"
          ],
          "name": "stdout"
        }
      ]
    },
    {
      "cell_type": "code",
      "metadata": {
        "colab": {
          "base_uri": "https://localhost:8080/"
        },
        "id": "BuJK5SBzkPkW",
        "outputId": "f83852d3-b414-4969-897e-03d9c3ca9807"
      },
      "source": [
        "from sklearn.preprocessing import LabelBinarizer\n",
        "labels = np.array(labels)\n",
        "lb = LabelBinarizer()\n",
        "binarizedlabels = lb.fit_transform(labels)\n",
        "print(binarizedlabels[:5])"
      ],
      "execution_count": 16,
      "outputs": [
        {
          "output_type": "stream",
          "text": [
            "[[1]\n",
            " [0]\n",
            " [1]\n",
            " [1]\n",
            " [1]]\n"
          ],
          "name": "stdout"
        }
      ]
    },
    {
      "cell_type": "code",
      "metadata": {
        "id": "8SJEpLxCks7e"
      },
      "source": [
        "normdata = np.array( data, dtype='float')/255"
      ],
      "execution_count": 17,
      "outputs": []
    },
    {
      "cell_type": "code",
      "metadata": {
        "id": "bTlmCfHJk-4o"
      },
      "source": [
        "from sklearn.model_selection import train_test_split\n",
        "trainx, testx, trainy, testy = train_test_split(normdata, binarizedlabels, test_size=0.2, random_state=42)"
      ],
      "execution_count": 18,
      "outputs": []
    },
    {
      "cell_type": "code",
      "metadata": {
        "id": "_reyOd0IlU3J"
      },
      "source": [
        "from keras.preprocessing.image import ImageDataGenerator\n",
        "aug = ImageDataGenerator(rotation_range=25, width_shift_range=0.1,\n",
        "                         height_shift_range=0.1, shear_range=0.2,\n",
        "                         zoom_range=0.2, horizontal_flip=True )"
      ],
      "execution_count": 19,
      "outputs": []
    },
    {
      "cell_type": "code",
      "metadata": {
        "id": "4lO1t1AUld1x"
      },
      "source": [
        "from keras.optimizers import Adam\n",
        "opt = Adam(learning_rate=HP_init_lr, decay = HP_init_lr/HP_epochs)\n",
        "setlabels = set(labels)\n",
        "classcount = len(setlabels)\n",
        "model = AnacondaVGG.buildmodel(HP_image_dim[0],HP_image_dim[1],HP_image_dim[2],classcount)"
      ],
      "execution_count": 20,
      "outputs": []
    },
    {
      "cell_type": "code",
      "metadata": {
        "id": "rc-wnYnYmAEU"
      },
      "source": [
        "model.compile(loss='categorical_crossentropy', optimizer=opt, metrics=['accuracy'])"
      ],
      "execution_count": 21,
      "outputs": []
    },
    {
      "cell_type": "code",
      "metadata": {
        "colab": {
          "base_uri": "https://localhost:8080/"
        },
        "id": "6mNqJ_FrmUTU",
        "outputId": "5aee3106-1e27-4135-e29c-6d7628ac4097"
      },
      "source": [
        "\n",
        "history = model.fit_generator(aug.flow(trainx, trainy, batch_size=HP_batch_size),\n",
        "                                       validation_data=(testx,testy),\n",
        "                              steps_per_epoch= len(trainx)// HP_batch_size,\n",
        "                              epochs= HP_epochs)"
      ],
      "execution_count": null,
      "outputs": [
        {
          "output_type": "stream",
          "text": [
            "/usr/local/lib/python3.7/dist-packages/tensorflow/python/keras/engine/training.py:1940: UserWarning: `Model.fit_generator` is deprecated and will be removed in a future version. Please use `Model.fit`, which supports generators.\n",
            "  warnings.warn('`Model.fit_generator` is deprecated and '\n"
          ],
          "name": "stderr"
        },
        {
          "output_type": "stream",
          "text": [
            "Epoch 1/20\n"
          ],
          "name": "stdout"
        }
      ]
    },
    {
      "cell_type": "code",
      "metadata": {
        "id": "BN9y17bnmXi2"
      },
      "source": [
        ""
      ],
      "execution_count": null,
      "outputs": []
    }
  ]
}