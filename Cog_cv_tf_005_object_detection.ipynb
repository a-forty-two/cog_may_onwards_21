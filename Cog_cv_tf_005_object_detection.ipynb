{
  "nbformat": 4,
  "nbformat_minor": 0,
  "metadata": {
    "colab": {
      "name": "Cog_cv_tf_005.ipynb",
      "provenance": [],
      "authorship_tag": "ABX9TyNC3S/frEbpy7iv408gycok"
    },
    "kernelspec": {
      "name": "python3",
      "display_name": "Python 3"
    },
    "language_info": {
      "name": "python"
    }
  },
  "cells": [
    {
      "cell_type": "code",
      "metadata": {
        "id": "r4vtO5KG2HCH"
      },
      "source": [
        "#Directory Structure:\n",
        "# - data \n",
        "#   - class_1\n",
        "#     - images\n",
        "#   - class_2\n",
        "#     - images\n",
        "# - val\n",
        "#   - direct_images\n",
        "# - train.py -> to build the model (training + HP tuning)\n",
        "# - test.py -> test/validate \n",
        "# - output\n",
        "#   - model\n",
        "#     - model_shape, model_weights \n",
        "#   - images_with_additional_output_tags \n",
        "# - lib -> to keep your classes, libraries \n",
        "# - bin -> executable of your program "
      ],
      "execution_count": 1,
      "outputs": []
    },
    {
      "cell_type": "code",
      "metadata": {
        "id": "6HLV2njA3htl"
      },
      "source": [
        "import tensorflow as tf\n",
        "import numpy as np\n",
        "from tensorflow import keras\n",
        "from keras import backend as k\n",
        "from keras.layers.core import Dense, Flatten, Activation, Dropout\n",
        "from keras.layers.convolutional import Conv2D, MaxPooling2D\n",
        "from keras.layers.normalization import BatchNormalization\n"
      ],
      "execution_count": 2,
      "outputs": []
    },
    {
      "cell_type": "code",
      "metadata": {
        "id": "sWxaueLv5Vms"
      },
      "source": [
        "HP_filter1 = (3,3)\n",
        "HP_filter2 = (2,2)\n",
        "HP_epochs = 10"
      ],
      "execution_count": 3,
      "outputs": []
    },
    {
      "cell_type": "code",
      "metadata": {
        "id": "dZiuDxvM5ySh"
      },
      "source": [
        "# COnvolution_PATTERNS + Flatten + Dense(Relu) + Dense (SoftMax)"
      ],
      "execution_count": null,
      "outputs": []
    },
    {
      "cell_type": "code",
      "metadata": {
        "id": "HjH3TrSE6C5X"
      },
      "source": [
        "# Convolution Patterns \n",
        "# Convolutions -> Normalize the vectors -> (Compress)MaxPool-> even more patterns\n",
        "# (C-N-M)-> some amount of patterns\n",
        "# (C-N-M) + (C-N-M) + (C-N-M) + (C-N-M) +.... + (C-N-M) + Flatten + Dense(Relu) + Dense (SoftMax)"
      ],
      "execution_count": null,
      "outputs": []
    },
    {
      "cell_type": "code",
      "metadata": {
        "id": "UYMwqRKP4SvP"
      },
      "source": [
        "class AnacondaVGG:\n",
        "  @staticmethod\n",
        "  def buildmodel(height, width, depth, classes):\n",
        "    channel_dim = -1\n",
        "    #block1\n",
        "    inputshape = (height, width, depth)\n",
        "    model = keras.Sequential()\n",
        "    model.add(Conv2D(32, HP_filter1, padding='same', input_shape=inputshape))\n",
        "    model.add(Activation(\"relu\"))\n",
        "    model.add(BatchNormalization(axis=channel_dim))\n",
        "    model.add(MaxPooling2D(pool_size=HP_filter1))\n",
        "    model.add(Dropout(0.20))\n",
        "\n",
        "    #block 2\n",
        "    model.add(Conv2D(64, HP_filter1, padding='same'))\n",
        "    model.add(Activation(\"relu\"))\n",
        "    model.add(BatchNormalization(axis=channel_dim))\n",
        "    model.add(Conv2D(32, HP_filter1, padding='same', input_shape=inputshape))\n",
        "    model.add(Activation(\"relu\"))\n",
        "    model.add(BatchNormalization(axis=channel_dim))\n",
        "    model.add(MaxPooling2D(pool_size=HP_filter2))\n",
        "    model.add(Dropout(0.20))\n",
        "\n",
        "    #block_final\n",
        "    model.add(Flatten())\n",
        "    model.add(Dense(64))\n",
        "    model.add(Activation(\"relu\"))\n",
        "    model.add(BatchNormalization())\n",
        "    model.add(Dense(classes))\n",
        "    model.add(Activation(\"softmax\"))\n",
        "\n",
        "    return model \n",
        "    \n"
      ],
      "execution_count": 9,
      "outputs": []
    },
    {
      "cell_type": "markdown",
      "metadata": {
        "id": "_ogzvhBn_msA"
      },
      "source": [
        "Conv weights calculation\n",
        "\n",
        "assume-> filter size-> (3,3)\n",
        "\n",
        "=> [[ w1a,w2a,w3a ],[ w1b,w2b,w3b ],[ w1c,w2c,w3c ]]\n",
        "\n",
        "\n",
        "dense-> input_size * output_size + output_size\n",
        "\n",
        "convolution-> filter_size * no.of.filter + no. of filters\n",
        "\n",
        "(3,3) * 32 + 32\n",
        "=> 9 * 32 + 32 => 288 [filter_per_channel]\n",
        "\n",
        "# 3 layers of filters will be created for B,G,R\n",
        "\n",
        "288 X 3 = 864 weights in total be generated \n",
        "\n",
        "outputs_size = 32\n",
        "\n",
        "864 + 32 = 896 -> no of trainable parameters generate by conv2D"
      ]
    },
    {
      "cell_type": "code",
      "metadata": {
        "id": "j2WcVp3d7VY2"
      },
      "source": [
        "import cv2\n",
        "from sklearn.preprocessing import LabelBinarizer\n",
        "import imutils\n",
        "import numpy as np\n",
        "from keras.preprocessing.image import ImageDataGenerator, img_to_array\n",
        "from sklearn.model_selection import train_test_split\n",
        "import matplotlib.pyplot as plt\n",
        "\n",
        "import random"
      ],
      "execution_count": 12,
      "outputs": []
    },
    {
      "cell_type": "code",
      "metadata": {
        "id": "SSL75x-r7WqH"
      },
      "source": [
        "dataset = 'data'\n",
        "modelpath = 'model/model.json'\n",
        "labelpath = 'model/labels.bin'\n",
        "init_lr = 1e-3\n",
        "HP_batch_size = 1\n",
        "HP_image_dim = (96,96,3)\n"
      ],
      "execution_count": 13,
      "outputs": []
    },
    {
      "cell_type": "code",
      "metadata": {
        "id": "xLPvTpe0EYfD"
      },
      "source": [
        "from imutils import paths\n",
        "data = []\n",
        "labels = []\n",
        "allimages = list(paths.list_images(dataset))"
      ],
      "execution_count": 20,
      "outputs": []
    },
    {
      "cell_type": "code",
      "metadata": {
        "colab": {
          "base_uri": "https://localhost:8080/"
        },
        "id": "IEjrtqnDE134",
        "outputId": "5e9344e2-d171-4166-f4fb-ee5e8ac5857b"
      },
      "source": [
        "allimages = sorted(allimages)\n",
        "allimages"
      ],
      "execution_count": 22,
      "outputs": [
        {
          "output_type": "execute_result",
          "data": {
            "text/plain": [
              "['data/cat/007.jpeg',\n",
              " 'data/cat/008.jpeg',\n",
              " 'data/cat/009.jpeg',\n",
              " 'data/mantisshrimp/001.jpeg',\n",
              " 'data/mantisshrimp/002.jpeg',\n",
              " 'data/mantisshrimp/003.jpeg',\n",
              " 'data/platypus/004.jpeg',\n",
              " 'data/platypus/005.jpeg',\n",
              " 'data/platypus/006.jpeg']"
            ]
          },
          "metadata": {
            "tags": []
          },
          "execution_count": 22
        }
      ]
    },
    {
      "cell_type": "code",
      "metadata": {
        "colab": {
          "base_uri": "https://localhost:8080/"
        },
        "id": "oa6qZ_CiFU_z",
        "outputId": "3c59d596-56ca-424a-a2b1-fb323ced8db9"
      },
      "source": [
        "random.seed(42)\n",
        "random.shuffle(allimages)\n",
        "allimages"
      ],
      "execution_count": 24,
      "outputs": [
        {
          "output_type": "execute_result",
          "data": {
            "text/plain": [
              "['data/mantisshrimp/002.jpeg',\n",
              " 'data/mantisshrimp/003.jpeg',\n",
              " 'data/cat/007.jpeg',\n",
              " 'data/platypus/006.jpeg',\n",
              " 'data/cat/008.jpeg',\n",
              " 'data/platypus/005.jpeg',\n",
              " 'data/cat/009.jpeg',\n",
              " 'data/mantisshrimp/001.jpeg',\n",
              " 'data/platypus/004.jpeg']"
            ]
          },
          "metadata": {
            "tags": []
          },
          "execution_count": 24
        }
      ]
    },
    {
      "cell_type": "code",
      "metadata": {
        "id": "o7GaQfZAFuHA"
      },
      "source": [
        "import os\n",
        "for impath in allimages:\n",
        "  img = cv2.imread(impath)\n",
        "  resized = cv2.resize(img,(HP_image_dim[0],HP_image_dim[1]) )\n",
        "  imgdata = img_to_array(resized)\n",
        "  data.append(imgdata)\n",
        "  label = impath.split(os.path.sep)[-2]\n",
        "  labels.append(label)\n",
        "  "
      ],
      "execution_count": 25,
      "outputs": []
    },
    {
      "cell_type": "code",
      "metadata": {
        "colab": {
          "base_uri": "https://localhost:8080/"
        },
        "id": "ZqRQE0FOG5ST",
        "outputId": "fa5259c2-dee2-468a-fdeb-fa0533598901"
      },
      "source": [
        "labels # [ ms c p]-> [ 1 0 0], [ 0 1 0]"
      ],
      "execution_count": 26,
      "outputs": [
        {
          "output_type": "execute_result",
          "data": {
            "text/plain": [
              "['mantisshrimp',\n",
              " 'mantisshrimp',\n",
              " 'cat',\n",
              " 'platypus',\n",
              " 'cat',\n",
              " 'platypus',\n",
              " 'cat',\n",
              " 'mantisshrimp',\n",
              " 'platypus']"
            ]
          },
          "metadata": {
            "tags": []
          },
          "execution_count": 26
        }
      ]
    },
    {
      "cell_type": "code",
      "metadata": {
        "id": "yOQmUEnGG7mu"
      },
      "source": [
        "xlabels = np.array(labels)\n"
      ],
      "execution_count": 27,
      "outputs": []
    },
    {
      "cell_type": "code",
      "metadata": {
        "id": "utdOGHzZHltS"
      },
      "source": [
        "lb = LabelBinarizer()\n",
        "binlabels = lb.fit_transform(xlabels)"
      ],
      "execution_count": 28,
      "outputs": []
    },
    {
      "cell_type": "code",
      "metadata": {
        "colab": {
          "base_uri": "https://localhost:8080/"
        },
        "id": "rDtRWv2YHw1o",
        "outputId": "347098c6-bb5c-4678-c087-b2c001de92d3"
      },
      "source": [
        "binlabels[0]"
      ],
      "execution_count": 29,
      "outputs": [
        {
          "output_type": "execute_result",
          "data": {
            "text/plain": [
              "array([0, 1, 0])"
            ]
          },
          "metadata": {
            "tags": []
          },
          "execution_count": 29
        }
      ]
    },
    {
      "cell_type": "code",
      "metadata": {
        "id": "hJfcbp9ZHyEg"
      },
      "source": [
        "normdata = np.array(data, dtype='float') / 255"
      ],
      "execution_count": 30,
      "outputs": []
    },
    {
      "cell_type": "code",
      "metadata": {
        "id": "Blq7MaecI3oM"
      },
      "source": [
        "trainx, testx, trainy, testy = train_test_split(normdata, binlabels,\n",
        "                                                test_size=0.2, random_state=42)"
      ],
      "execution_count": 32,
      "outputs": []
    },
    {
      "cell_type": "code",
      "metadata": {
        "colab": {
          "base_uri": "https://localhost:8080/"
        },
        "id": "PIssDCLSJHum",
        "outputId": "ad7716ef-0d02-43fb-c78b-c9dc00412c21"
      },
      "source": [
        "testy"
      ],
      "execution_count": 34,
      "outputs": [
        {
          "output_type": "execute_result",
          "data": {
            "text/plain": [
              "array([[0, 1, 0],\n",
              "       [0, 1, 0]])"
            ]
          },
          "metadata": {
            "tags": []
          },
          "execution_count": 34
        }
      ]
    },
    {
      "cell_type": "code",
      "metadata": {
        "colab": {
          "base_uri": "https://localhost:8080/"
        },
        "id": "PjYcK5dmJMZb",
        "outputId": "4b46ab2e-cb68-4aa8-9b21-7ff6b9b937b3"
      },
      "source": [
        "len(trainy)"
      ],
      "execution_count": 36,
      "outputs": [
        {
          "output_type": "execute_result",
          "data": {
            "text/plain": [
              "7"
            ]
          },
          "metadata": {
            "tags": []
          },
          "execution_count": 36
        }
      ]
    },
    {
      "cell_type": "code",
      "metadata": {
        "id": "grZPWIiUJP9U"
      },
      "source": [
        ""
      ],
      "execution_count": null,
      "outputs": []
    }
  ]
}