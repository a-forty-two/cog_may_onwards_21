{
  "nbformat": 4,
  "nbformat_minor": 0,
  "metadata": {
    "colab": {
      "name": "Cog_cv_tf_005.ipynb",
      "provenance": [],
      "authorship_tag": "ABX9TyM0+zq97TFfeIlZBxJqm16Y"
    },
    "kernelspec": {
      "name": "python3",
      "display_name": "Python 3"
    },
    "language_info": {
      "name": "python"
    }
  },
  "cells": [
    {
      "cell_type": "code",
      "metadata": {
        "id": "r4vtO5KG2HCH"
      },
      "source": [
        "#Directory Structure:\n",
        "# - data \n",
        "#   - class_1\n",
        "#     - images\n",
        "#   - class_2\n",
        "#     - images\n",
        "# - val\n",
        "#   - direct_images\n",
        "# - train.py -> to build the model (training + HP tuning)\n",
        "# - test.py -> test/validate \n",
        "# - output\n",
        "#   - model\n",
        "#     - model_shape, model_weights \n",
        "#   - images_with_additional_output_tags \n",
        "# - lib -> to keep your classes, libraries \n",
        "# - bin -> executable of your program "
      ],
      "execution_count": 1,
      "outputs": []
    },
    {
      "cell_type": "code",
      "metadata": {
        "id": "6HLV2njA3htl"
      },
      "source": [
        "import tensorflow as tf\n",
        "import numpy as np\n",
        "from tensorflow import keras\n",
        "from keras import backend as k\n",
        "from keras.layers.core import Dense, Flatten, Activation, Dropout\n",
        "from keras.layers.convolutional import Conv2D, MaxPooling2D\n",
        "from keras.layers.normalization import BatchNormalization\n"
      ],
      "execution_count": 2,
      "outputs": []
    },
    {
      "cell_type": "code",
      "metadata": {
        "id": "sWxaueLv5Vms"
      },
      "source": [
        "HP_filter1 = (3,3)\n",
        "HP_filter2 = (2,2)\n",
        "HP_epochs = 10"
      ],
      "execution_count": 3,
      "outputs": []
    },
    {
      "cell_type": "code",
      "metadata": {
        "id": "dZiuDxvM5ySh"
      },
      "source": [
        "# COnvolution_PATTERNS + Flatten + Dense(Relu) + Dense (SoftMax)"
      ],
      "execution_count": null,
      "outputs": []
    },
    {
      "cell_type": "code",
      "metadata": {
        "id": "HjH3TrSE6C5X"
      },
      "source": [
        "# Convolution Patterns \n",
        "# Convolutions -> Normalize the vectors -> (Compress)MaxPool-> even more patterns\n",
        "# (C-N-M)-> some amount of patterns\n",
        "# (C-N-M) + (C-N-M) + (C-N-M) + (C-N-M) +.... + (C-N-M) + Flatten + Dense(Relu) + Dense (SoftMax)"
      ],
      "execution_count": null,
      "outputs": []
    },
    {
      "cell_type": "code",
      "metadata": {
        "id": "UYMwqRKP4SvP"
      },
      "source": [
        "class AnacondaVGG:\n",
        "  @staticmethod\n",
        "  def buildmodel(height, width, depth, classes):\n",
        "    channel_dim = -1\n",
        "    #block1\n",
        "    inputshape = (height, width, depth)\n",
        "    model = keras.Sequential()\n",
        "    model.add(Conv2D(32, HP_filter1, padding='same', input_shape=inputshape))\n",
        "    model.add(Activation(\"relu\"))\n",
        "    model.add(BatchNormalization(axis=channel_dim))\n",
        "    model.add(MaxPooling2D(pool_size=HP_filter1))\n",
        "    model.add(Dropout(0.20))\n",
        "\n",
        "    #block 2\n",
        "    model.add(Conv2D(64, HP_filter1, padding='same'))\n",
        "    model.add(Activation(\"relu\"))\n",
        "    model.add(BatchNormalization(axis=channel_dim))\n",
        "    model.add(Conv2D(32, HP_filter1, padding='same', input_shape=inputshape))\n",
        "    model.add(Activation(\"relu\"))\n",
        "    model.add(BatchNormalization(axis=channel_dim))\n",
        "    model.add(MaxPooling2D(pool_size=HP_filter2))\n",
        "    model.add(Dropout(0.20))\n",
        "\n",
        "    #block_final\n",
        "    model.add(Flatten())\n",
        "    model.add(Dense(64))\n",
        "    model.add(Activation(\"relu\"))\n",
        "    model.add(BatchNormalization())\n",
        "    model.add(Dense(classes))\n",
        "    model.add(Activation(\"softmax\"))\n",
        "\n",
        "    return model \n",
        "    \n"
      ],
      "execution_count": 9,
      "outputs": []
    },
    {
      "cell_type": "code",
      "metadata": {
        "colab": {
          "base_uri": "https://localhost:8080/",
          "height": 314
        },
        "id": "j2WcVp3d7VY2",
        "outputId": "87549dea-6e43-4fbd-98b4-95d27c486329"
      },
      "source": [
        ""
      ],
      "execution_count": 10,
      "outputs": [
        {
          "output_type": "error",
          "ename": "ValueError",
          "evalue": "ignored",
          "traceback": [
            "\u001b[0;31m---------------------------------------------------------------------------\u001b[0m",
            "\u001b[0;31mValueError\u001b[0m                                Traceback (most recent call last)",
            "\u001b[0;32m<ipython-input-10-5f15418b3570>\u001b[0m in \u001b[0;36m<module>\u001b[0;34m()\u001b[0m\n\u001b[0;32m----> 1\u001b[0;31m \u001b[0mmodel\u001b[0m\u001b[0;34m.\u001b[0m\u001b[0msummary\u001b[0m\u001b[0;34m(\u001b[0m\u001b[0;34m)\u001b[0m\u001b[0;34m\u001b[0m\u001b[0;34m\u001b[0m\u001b[0m\n\u001b[0m",
            "\u001b[0;32m/usr/local/lib/python3.7/dist-packages/tensorflow/python/keras/engine/training.py\u001b[0m in \u001b[0;36msummary\u001b[0;34m(self, line_length, positions, print_fn)\u001b[0m\n\u001b[1;32m   2475\u001b[0m     \"\"\"\n\u001b[1;32m   2476\u001b[0m     \u001b[0;32mif\u001b[0m \u001b[0;32mnot\u001b[0m \u001b[0mself\u001b[0m\u001b[0;34m.\u001b[0m\u001b[0mbuilt\u001b[0m\u001b[0;34m:\u001b[0m\u001b[0;34m\u001b[0m\u001b[0;34m\u001b[0m\u001b[0m\n\u001b[0;32m-> 2477\u001b[0;31m       raise ValueError('This model has not yet been built. '\n\u001b[0m\u001b[1;32m   2478\u001b[0m                        \u001b[0;34m'Build the model first by calling `build()` or calling '\u001b[0m\u001b[0;34m\u001b[0m\u001b[0;34m\u001b[0m\u001b[0m\n\u001b[1;32m   2479\u001b[0m                        \u001b[0;34m'`fit()` with some data, or specify '\u001b[0m\u001b[0;34m\u001b[0m\u001b[0;34m\u001b[0m\u001b[0m\n",
            "\u001b[0;31mValueError\u001b[0m: This model has not yet been built. Build the model first by calling `build()` or calling `fit()` with some data, or specify an `input_shape` argument in the first layer(s) for automatic build."
          ]
        }
      ]
    },
    {
      "cell_type": "code",
      "metadata": {
        "id": "SSL75x-r7WqH"
      },
      "source": [
        ""
      ],
      "execution_count": null,
      "outputs": []
    }
  ]
}