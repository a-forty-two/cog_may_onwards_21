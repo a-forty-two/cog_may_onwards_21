{
  "nbformat": 4,
  "nbformat_minor": 0,
  "metadata": {
    "colab": {
      "name": "Cog_tf_009.ipynb",
      "provenance": [],
      "collapsed_sections": [],
      "authorship_tag": "ABX9TyMDhDRNarLAUcZ6/wPdCV7H"
    },
    "kernelspec": {
      "name": "python3",
      "display_name": "Python 3"
    },
    "language_info": {
      "name": "python"
    }
  },
  "cells": [
    {
      "cell_type": "code",
      "metadata": {
        "id": "HCqqt-KVp_JV"
      },
      "source": [
        "# Regression\n",
        "# predict-> continous number\n",
        "# ORDERED, GROUPED-> no missing values \n",
        "# X axis should be complete!\n",
        "# X-axis is time-> regression -> TIME SERIES ANALYSIS \n"
      ],
      "execution_count": 1,
      "outputs": []
    },
    {
      "cell_type": "code",
      "metadata": {
        "id": "NqkVfrH50p7d"
      },
      "source": [
        "import tensorflow as tf\n",
        "from tensorflow import keras\n",
        "import pandas as pd\n",
        "import matplotlib.pyplot as plt\n",
        "import numpy as np\n",
        "from tensorflow.keras.layers.experimental import preprocessing"
      ],
      "execution_count": 2,
      "outputs": []
    },
    {
      "cell_type": "code",
      "metadata": {
        "id": "9yfiUT6306uE"
      },
      "source": [
        "colnames = {1:\"mpg\",\n",
        "2:\"cylinders\",\n",
        "3:\"displacement\",\n",
        "4:\"horsepower\",\n",
        "5:\"weight\",\n",
        "6:\"acceleration\",\n",
        "7:\"model_year\",\n",
        "8:\"origin\",\n",
        "9:\"car_name\"}"
      ],
      "execution_count": 3,
      "outputs": []
    },
    {
      "cell_type": "code",
      "metadata": {
        "id": "NszbeuHb2XUL"
      },
      "source": [
        "columns = [value for k,value in colnames.items()] "
      ],
      "execution_count": 4,
      "outputs": []
    },
    {
      "cell_type": "code",
      "metadata": {
        "colab": {
          "base_uri": "https://localhost:8080/"
        },
        "id": "ypXDfkZx2f4C",
        "outputId": "4afe5924-43e3-4601-d152-3d14c93dc545"
      },
      "source": [
        "columns"
      ],
      "execution_count": 5,
      "outputs": [
        {
          "output_type": "execute_result",
          "data": {
            "text/plain": [
              "['mpg',\n",
              " 'cylinders',\n",
              " 'displacement',\n",
              " 'horsepower',\n",
              " 'weight',\n",
              " 'acceleration',\n",
              " 'model_year',\n",
              " 'origin',\n",
              " 'car_name']"
            ]
          },
          "metadata": {
            "tags": []
          },
          "execution_count": 5
        }
      ]
    },
    {
      "cell_type": "code",
      "metadata": {
        "colab": {
          "base_uri": "https://localhost:8080/"
        },
        "id": "9g9RYyiQ2gue",
        "outputId": "3e1b565d-a273-4fb1-b39c-782467d3f020"
      },
      "source": [
        "!ls\n",
        "data = pd.read_csv('auto-mpg (1).data', comment='\\t', sep=' ', na_values=['?'],\n",
        "                   skipinitialspace=True, names=columns)"
      ],
      "execution_count": 7,
      "outputs": [
        {
          "output_type": "stream",
          "text": [
            "'auto-mpg (1).data'   sample_data\n"
          ],
          "name": "stdout"
        }
      ]
    },
    {
      "cell_type": "code",
      "metadata": {
        "colab": {
          "base_uri": "https://localhost:8080/",
          "height": 205
        },
        "id": "M2Pw0qGw2q4c",
        "outputId": "389b3980-4e6a-4bb2-c8f3-8806f2f4df2b"
      },
      "source": [
        "data.head()"
      ],
      "execution_count": 8,
      "outputs": [
        {
          "output_type": "execute_result",
          "data": {
            "text/html": [
              "<div>\n",
              "<style scoped>\n",
              "    .dataframe tbody tr th:only-of-type {\n",
              "        vertical-align: middle;\n",
              "    }\n",
              "\n",
              "    .dataframe tbody tr th {\n",
              "        vertical-align: top;\n",
              "    }\n",
              "\n",
              "    .dataframe thead th {\n",
              "        text-align: right;\n",
              "    }\n",
              "</style>\n",
              "<table border=\"1\" class=\"dataframe\">\n",
              "  <thead>\n",
              "    <tr style=\"text-align: right;\">\n",
              "      <th></th>\n",
              "      <th>mpg</th>\n",
              "      <th>cylinders</th>\n",
              "      <th>displacement</th>\n",
              "      <th>horsepower</th>\n",
              "      <th>weight</th>\n",
              "      <th>acceleration</th>\n",
              "      <th>model_year</th>\n",
              "      <th>origin</th>\n",
              "      <th>car_name</th>\n",
              "    </tr>\n",
              "  </thead>\n",
              "  <tbody>\n",
              "    <tr>\n",
              "      <th>0</th>\n",
              "      <td>18.0</td>\n",
              "      <td>8</td>\n",
              "      <td>307.0</td>\n",
              "      <td>130.0</td>\n",
              "      <td>3504.0</td>\n",
              "      <td>12.0</td>\n",
              "      <td>70</td>\n",
              "      <td>1</td>\n",
              "      <td>NaN</td>\n",
              "    </tr>\n",
              "    <tr>\n",
              "      <th>1</th>\n",
              "      <td>15.0</td>\n",
              "      <td>8</td>\n",
              "      <td>350.0</td>\n",
              "      <td>165.0</td>\n",
              "      <td>3693.0</td>\n",
              "      <td>11.5</td>\n",
              "      <td>70</td>\n",
              "      <td>1</td>\n",
              "      <td>NaN</td>\n",
              "    </tr>\n",
              "    <tr>\n",
              "      <th>2</th>\n",
              "      <td>18.0</td>\n",
              "      <td>8</td>\n",
              "      <td>318.0</td>\n",
              "      <td>150.0</td>\n",
              "      <td>3436.0</td>\n",
              "      <td>11.0</td>\n",
              "      <td>70</td>\n",
              "      <td>1</td>\n",
              "      <td>NaN</td>\n",
              "    </tr>\n",
              "    <tr>\n",
              "      <th>3</th>\n",
              "      <td>16.0</td>\n",
              "      <td>8</td>\n",
              "      <td>304.0</td>\n",
              "      <td>150.0</td>\n",
              "      <td>3433.0</td>\n",
              "      <td>12.0</td>\n",
              "      <td>70</td>\n",
              "      <td>1</td>\n",
              "      <td>NaN</td>\n",
              "    </tr>\n",
              "    <tr>\n",
              "      <th>4</th>\n",
              "      <td>17.0</td>\n",
              "      <td>8</td>\n",
              "      <td>302.0</td>\n",
              "      <td>140.0</td>\n",
              "      <td>3449.0</td>\n",
              "      <td>10.5</td>\n",
              "      <td>70</td>\n",
              "      <td>1</td>\n",
              "      <td>NaN</td>\n",
              "    </tr>\n",
              "  </tbody>\n",
              "</table>\n",
              "</div>"
            ],
            "text/plain": [
              "    mpg  cylinders  displacement  ...  model_year  origin  car_name\n",
              "0  18.0          8         307.0  ...          70       1       NaN\n",
              "1  15.0          8         350.0  ...          70       1       NaN\n",
              "2  18.0          8         318.0  ...          70       1       NaN\n",
              "3  16.0          8         304.0  ...          70       1       NaN\n",
              "4  17.0          8         302.0  ...          70       1       NaN\n",
              "\n",
              "[5 rows x 9 columns]"
            ]
          },
          "metadata": {
            "tags": []
          },
          "execution_count": 8
        }
      ]
    },
    {
      "cell_type": "code",
      "metadata": {
        "colab": {
          "base_uri": "https://localhost:8080/",
          "height": 205
        },
        "id": "e7Vzx_5h20uU",
        "outputId": "839be878-9dda-4c90-d22e-b32d91a4db6a"
      },
      "source": [
        "data = data.iloc[:,:-1].dropna()\n",
        "data.head()"
      ],
      "execution_count": 9,
      "outputs": [
        {
          "output_type": "execute_result",
          "data": {
            "text/html": [
              "<div>\n",
              "<style scoped>\n",
              "    .dataframe tbody tr th:only-of-type {\n",
              "        vertical-align: middle;\n",
              "    }\n",
              "\n",
              "    .dataframe tbody tr th {\n",
              "        vertical-align: top;\n",
              "    }\n",
              "\n",
              "    .dataframe thead th {\n",
              "        text-align: right;\n",
              "    }\n",
              "</style>\n",
              "<table border=\"1\" class=\"dataframe\">\n",
              "  <thead>\n",
              "    <tr style=\"text-align: right;\">\n",
              "      <th></th>\n",
              "      <th>mpg</th>\n",
              "      <th>cylinders</th>\n",
              "      <th>displacement</th>\n",
              "      <th>horsepower</th>\n",
              "      <th>weight</th>\n",
              "      <th>acceleration</th>\n",
              "      <th>model_year</th>\n",
              "      <th>origin</th>\n",
              "    </tr>\n",
              "  </thead>\n",
              "  <tbody>\n",
              "    <tr>\n",
              "      <th>0</th>\n",
              "      <td>18.0</td>\n",
              "      <td>8</td>\n",
              "      <td>307.0</td>\n",
              "      <td>130.0</td>\n",
              "      <td>3504.0</td>\n",
              "      <td>12.0</td>\n",
              "      <td>70</td>\n",
              "      <td>1</td>\n",
              "    </tr>\n",
              "    <tr>\n",
              "      <th>1</th>\n",
              "      <td>15.0</td>\n",
              "      <td>8</td>\n",
              "      <td>350.0</td>\n",
              "      <td>165.0</td>\n",
              "      <td>3693.0</td>\n",
              "      <td>11.5</td>\n",
              "      <td>70</td>\n",
              "      <td>1</td>\n",
              "    </tr>\n",
              "    <tr>\n",
              "      <th>2</th>\n",
              "      <td>18.0</td>\n",
              "      <td>8</td>\n",
              "      <td>318.0</td>\n",
              "      <td>150.0</td>\n",
              "      <td>3436.0</td>\n",
              "      <td>11.0</td>\n",
              "      <td>70</td>\n",
              "      <td>1</td>\n",
              "    </tr>\n",
              "    <tr>\n",
              "      <th>3</th>\n",
              "      <td>16.0</td>\n",
              "      <td>8</td>\n",
              "      <td>304.0</td>\n",
              "      <td>150.0</td>\n",
              "      <td>3433.0</td>\n",
              "      <td>12.0</td>\n",
              "      <td>70</td>\n",
              "      <td>1</td>\n",
              "    </tr>\n",
              "    <tr>\n",
              "      <th>4</th>\n",
              "      <td>17.0</td>\n",
              "      <td>8</td>\n",
              "      <td>302.0</td>\n",
              "      <td>140.0</td>\n",
              "      <td>3449.0</td>\n",
              "      <td>10.5</td>\n",
              "      <td>70</td>\n",
              "      <td>1</td>\n",
              "    </tr>\n",
              "  </tbody>\n",
              "</table>\n",
              "</div>"
            ],
            "text/plain": [
              "    mpg  cylinders  displacement  ...  acceleration  model_year  origin\n",
              "0  18.0          8         307.0  ...          12.0          70       1\n",
              "1  15.0          8         350.0  ...          11.5          70       1\n",
              "2  18.0          8         318.0  ...          11.0          70       1\n",
              "3  16.0          8         304.0  ...          12.0          70       1\n",
              "4  17.0          8         302.0  ...          10.5          70       1\n",
              "\n",
              "[5 rows x 8 columns]"
            ]
          },
          "metadata": {
            "tags": []
          },
          "execution_count": 9
        }
      ]
    },
    {
      "cell_type": "code",
      "metadata": {
        "colab": {
          "base_uri": "https://localhost:8080/"
        },
        "id": "viSuLojP4PtH",
        "outputId": "31afceb2-2b8e-44b0-83a3-cc08d304fec2"
      },
      "source": [
        "# all null values\n",
        "data.info()\n"
      ],
      "execution_count": 10,
      "outputs": [
        {
          "output_type": "stream",
          "text": [
            "<class 'pandas.core.frame.DataFrame'>\n",
            "Int64Index: 392 entries, 0 to 397\n",
            "Data columns (total 8 columns):\n",
            " #   Column        Non-Null Count  Dtype  \n",
            "---  ------        --------------  -----  \n",
            " 0   mpg           392 non-null    float64\n",
            " 1   cylinders     392 non-null    int64  \n",
            " 2   displacement  392 non-null    float64\n",
            " 3   horsepower    392 non-null    float64\n",
            " 4   weight        392 non-null    float64\n",
            " 5   acceleration  392 non-null    float64\n",
            " 6   model_year    392 non-null    int64  \n",
            " 7   origin        392 non-null    int64  \n",
            "dtypes: float64(5), int64(3)\n",
            "memory usage: 27.6 KB\n"
          ],
          "name": "stdout"
        }
      ]
    },
    {
      "cell_type": "code",
      "metadata": {
        "colab": {
          "base_uri": "https://localhost:8080/"
        },
        "id": "zfgNC-j94UBd",
        "outputId": "09a55c4b-6e1c-48f6-9502-e0c06086b7cc"
      },
      "source": [
        "data.origin.value_counts()"
      ],
      "execution_count": 11,
      "outputs": [
        {
          "output_type": "execute_result",
          "data": {
            "text/plain": [
              "1    245\n",
              "3     79\n",
              "2     68\n",
              "Name: origin, dtype: int64"
            ]
          },
          "metadata": {
            "tags": []
          },
          "execution_count": 11
        }
      ]
    },
    {
      "cell_type": "code",
      "metadata": {
        "id": "KnXA0fPe4kwX"
      },
      "source": [
        "# origin> city\n",
        "# 1- , 2- , 3- mangalore\n",
        "city_encoding = {1:'honolulu', 2:'chickmangalur', 3: 'mangalore'}\n",
        "data.origin = data.origin.map(city_encoding)"
      ],
      "execution_count": 12,
      "outputs": []
    },
    {
      "cell_type": "code",
      "metadata": {
        "colab": {
          "base_uri": "https://localhost:8080/",
          "height": 362
        },
        "id": "CnW1CxLM5RmW",
        "outputId": "3f5935fb-d1ac-4187-8173-6260d1c71083"
      },
      "source": [
        "data.tail(10)"
      ],
      "execution_count": 13,
      "outputs": [
        {
          "output_type": "execute_result",
          "data": {
            "text/html": [
              "<div>\n",
              "<style scoped>\n",
              "    .dataframe tbody tr th:only-of-type {\n",
              "        vertical-align: middle;\n",
              "    }\n",
              "\n",
              "    .dataframe tbody tr th {\n",
              "        vertical-align: top;\n",
              "    }\n",
              "\n",
              "    .dataframe thead th {\n",
              "        text-align: right;\n",
              "    }\n",
              "</style>\n",
              "<table border=\"1\" class=\"dataframe\">\n",
              "  <thead>\n",
              "    <tr style=\"text-align: right;\">\n",
              "      <th></th>\n",
              "      <th>mpg</th>\n",
              "      <th>cylinders</th>\n",
              "      <th>displacement</th>\n",
              "      <th>horsepower</th>\n",
              "      <th>weight</th>\n",
              "      <th>acceleration</th>\n",
              "      <th>model_year</th>\n",
              "      <th>origin</th>\n",
              "    </tr>\n",
              "  </thead>\n",
              "  <tbody>\n",
              "    <tr>\n",
              "      <th>388</th>\n",
              "      <td>26.0</td>\n",
              "      <td>4</td>\n",
              "      <td>156.0</td>\n",
              "      <td>92.0</td>\n",
              "      <td>2585.0</td>\n",
              "      <td>14.5</td>\n",
              "      <td>82</td>\n",
              "      <td>honolulu</td>\n",
              "    </tr>\n",
              "    <tr>\n",
              "      <th>389</th>\n",
              "      <td>22.0</td>\n",
              "      <td>6</td>\n",
              "      <td>232.0</td>\n",
              "      <td>112.0</td>\n",
              "      <td>2835.0</td>\n",
              "      <td>14.7</td>\n",
              "      <td>82</td>\n",
              "      <td>honolulu</td>\n",
              "    </tr>\n",
              "    <tr>\n",
              "      <th>390</th>\n",
              "      <td>32.0</td>\n",
              "      <td>4</td>\n",
              "      <td>144.0</td>\n",
              "      <td>96.0</td>\n",
              "      <td>2665.0</td>\n",
              "      <td>13.9</td>\n",
              "      <td>82</td>\n",
              "      <td>mangalore</td>\n",
              "    </tr>\n",
              "    <tr>\n",
              "      <th>391</th>\n",
              "      <td>36.0</td>\n",
              "      <td>4</td>\n",
              "      <td>135.0</td>\n",
              "      <td>84.0</td>\n",
              "      <td>2370.0</td>\n",
              "      <td>13.0</td>\n",
              "      <td>82</td>\n",
              "      <td>honolulu</td>\n",
              "    </tr>\n",
              "    <tr>\n",
              "      <th>392</th>\n",
              "      <td>27.0</td>\n",
              "      <td>4</td>\n",
              "      <td>151.0</td>\n",
              "      <td>90.0</td>\n",
              "      <td>2950.0</td>\n",
              "      <td>17.3</td>\n",
              "      <td>82</td>\n",
              "      <td>honolulu</td>\n",
              "    </tr>\n",
              "    <tr>\n",
              "      <th>393</th>\n",
              "      <td>27.0</td>\n",
              "      <td>4</td>\n",
              "      <td>140.0</td>\n",
              "      <td>86.0</td>\n",
              "      <td>2790.0</td>\n",
              "      <td>15.6</td>\n",
              "      <td>82</td>\n",
              "      <td>honolulu</td>\n",
              "    </tr>\n",
              "    <tr>\n",
              "      <th>394</th>\n",
              "      <td>44.0</td>\n",
              "      <td>4</td>\n",
              "      <td>97.0</td>\n",
              "      <td>52.0</td>\n",
              "      <td>2130.0</td>\n",
              "      <td>24.6</td>\n",
              "      <td>82</td>\n",
              "      <td>chickmangalur</td>\n",
              "    </tr>\n",
              "    <tr>\n",
              "      <th>395</th>\n",
              "      <td>32.0</td>\n",
              "      <td>4</td>\n",
              "      <td>135.0</td>\n",
              "      <td>84.0</td>\n",
              "      <td>2295.0</td>\n",
              "      <td>11.6</td>\n",
              "      <td>82</td>\n",
              "      <td>honolulu</td>\n",
              "    </tr>\n",
              "    <tr>\n",
              "      <th>396</th>\n",
              "      <td>28.0</td>\n",
              "      <td>4</td>\n",
              "      <td>120.0</td>\n",
              "      <td>79.0</td>\n",
              "      <td>2625.0</td>\n",
              "      <td>18.6</td>\n",
              "      <td>82</td>\n",
              "      <td>honolulu</td>\n",
              "    </tr>\n",
              "    <tr>\n",
              "      <th>397</th>\n",
              "      <td>31.0</td>\n",
              "      <td>4</td>\n",
              "      <td>119.0</td>\n",
              "      <td>82.0</td>\n",
              "      <td>2720.0</td>\n",
              "      <td>19.4</td>\n",
              "      <td>82</td>\n",
              "      <td>honolulu</td>\n",
              "    </tr>\n",
              "  </tbody>\n",
              "</table>\n",
              "</div>"
            ],
            "text/plain": [
              "      mpg  cylinders  displacement  ...  acceleration  model_year         origin\n",
              "388  26.0          4         156.0  ...          14.5          82       honolulu\n",
              "389  22.0          6         232.0  ...          14.7          82       honolulu\n",
              "390  32.0          4         144.0  ...          13.9          82      mangalore\n",
              "391  36.0          4         135.0  ...          13.0          82       honolulu\n",
              "392  27.0          4         151.0  ...          17.3          82       honolulu\n",
              "393  27.0          4         140.0  ...          15.6          82       honolulu\n",
              "394  44.0          4          97.0  ...          24.6          82  chickmangalur\n",
              "395  32.0          4         135.0  ...          11.6          82       honolulu\n",
              "396  28.0          4         120.0  ...          18.6          82       honolulu\n",
              "397  31.0          4         119.0  ...          19.4          82       honolulu\n",
              "\n",
              "[10 rows x 8 columns]"
            ]
          },
          "metadata": {
            "tags": []
          },
          "execution_count": 13
        }
      ]
    },
    {
      "cell_type": "code",
      "metadata": {
        "colab": {
          "base_uri": "https://localhost:8080/",
          "height": 382
        },
        "id": "LfpwfQ145Ufk",
        "outputId": "0daac813-fec9-46f9-b012-842d69245cff"
      },
      "source": [
        "# filter these values as categories instead\n",
        "# One-Hot encoding-> column values-> converts them into columns\n",
        "\n",
        "encoding = pd.get_dummies(data, columns=['origin'], prefix='was_at_')\n",
        "encoding.tail(10)"
      ],
      "execution_count": 14,
      "outputs": [
        {
          "output_type": "execute_result",
          "data": {
            "text/html": [
              "<div>\n",
              "<style scoped>\n",
              "    .dataframe tbody tr th:only-of-type {\n",
              "        vertical-align: middle;\n",
              "    }\n",
              "\n",
              "    .dataframe tbody tr th {\n",
              "        vertical-align: top;\n",
              "    }\n",
              "\n",
              "    .dataframe thead th {\n",
              "        text-align: right;\n",
              "    }\n",
              "</style>\n",
              "<table border=\"1\" class=\"dataframe\">\n",
              "  <thead>\n",
              "    <tr style=\"text-align: right;\">\n",
              "      <th></th>\n",
              "      <th>mpg</th>\n",
              "      <th>cylinders</th>\n",
              "      <th>displacement</th>\n",
              "      <th>horsepower</th>\n",
              "      <th>weight</th>\n",
              "      <th>acceleration</th>\n",
              "      <th>model_year</th>\n",
              "      <th>was_at__chickmangalur</th>\n",
              "      <th>was_at__honolulu</th>\n",
              "      <th>was_at__mangalore</th>\n",
              "    </tr>\n",
              "  </thead>\n",
              "  <tbody>\n",
              "    <tr>\n",
              "      <th>388</th>\n",
              "      <td>26.0</td>\n",
              "      <td>4</td>\n",
              "      <td>156.0</td>\n",
              "      <td>92.0</td>\n",
              "      <td>2585.0</td>\n",
              "      <td>14.5</td>\n",
              "      <td>82</td>\n",
              "      <td>0</td>\n",
              "      <td>1</td>\n",
              "      <td>0</td>\n",
              "    </tr>\n",
              "    <tr>\n",
              "      <th>389</th>\n",
              "      <td>22.0</td>\n",
              "      <td>6</td>\n",
              "      <td>232.0</td>\n",
              "      <td>112.0</td>\n",
              "      <td>2835.0</td>\n",
              "      <td>14.7</td>\n",
              "      <td>82</td>\n",
              "      <td>0</td>\n",
              "      <td>1</td>\n",
              "      <td>0</td>\n",
              "    </tr>\n",
              "    <tr>\n",
              "      <th>390</th>\n",
              "      <td>32.0</td>\n",
              "      <td>4</td>\n",
              "      <td>144.0</td>\n",
              "      <td>96.0</td>\n",
              "      <td>2665.0</td>\n",
              "      <td>13.9</td>\n",
              "      <td>82</td>\n",
              "      <td>0</td>\n",
              "      <td>0</td>\n",
              "      <td>1</td>\n",
              "    </tr>\n",
              "    <tr>\n",
              "      <th>391</th>\n",
              "      <td>36.0</td>\n",
              "      <td>4</td>\n",
              "      <td>135.0</td>\n",
              "      <td>84.0</td>\n",
              "      <td>2370.0</td>\n",
              "      <td>13.0</td>\n",
              "      <td>82</td>\n",
              "      <td>0</td>\n",
              "      <td>1</td>\n",
              "      <td>0</td>\n",
              "    </tr>\n",
              "    <tr>\n",
              "      <th>392</th>\n",
              "      <td>27.0</td>\n",
              "      <td>4</td>\n",
              "      <td>151.0</td>\n",
              "      <td>90.0</td>\n",
              "      <td>2950.0</td>\n",
              "      <td>17.3</td>\n",
              "      <td>82</td>\n",
              "      <td>0</td>\n",
              "      <td>1</td>\n",
              "      <td>0</td>\n",
              "    </tr>\n",
              "    <tr>\n",
              "      <th>393</th>\n",
              "      <td>27.0</td>\n",
              "      <td>4</td>\n",
              "      <td>140.0</td>\n",
              "      <td>86.0</td>\n",
              "      <td>2790.0</td>\n",
              "      <td>15.6</td>\n",
              "      <td>82</td>\n",
              "      <td>0</td>\n",
              "      <td>1</td>\n",
              "      <td>0</td>\n",
              "    </tr>\n",
              "    <tr>\n",
              "      <th>394</th>\n",
              "      <td>44.0</td>\n",
              "      <td>4</td>\n",
              "      <td>97.0</td>\n",
              "      <td>52.0</td>\n",
              "      <td>2130.0</td>\n",
              "      <td>24.6</td>\n",
              "      <td>82</td>\n",
              "      <td>1</td>\n",
              "      <td>0</td>\n",
              "      <td>0</td>\n",
              "    </tr>\n",
              "    <tr>\n",
              "      <th>395</th>\n",
              "      <td>32.0</td>\n",
              "      <td>4</td>\n",
              "      <td>135.0</td>\n",
              "      <td>84.0</td>\n",
              "      <td>2295.0</td>\n",
              "      <td>11.6</td>\n",
              "      <td>82</td>\n",
              "      <td>0</td>\n",
              "      <td>1</td>\n",
              "      <td>0</td>\n",
              "    </tr>\n",
              "    <tr>\n",
              "      <th>396</th>\n",
              "      <td>28.0</td>\n",
              "      <td>4</td>\n",
              "      <td>120.0</td>\n",
              "      <td>79.0</td>\n",
              "      <td>2625.0</td>\n",
              "      <td>18.6</td>\n",
              "      <td>82</td>\n",
              "      <td>0</td>\n",
              "      <td>1</td>\n",
              "      <td>0</td>\n",
              "    </tr>\n",
              "    <tr>\n",
              "      <th>397</th>\n",
              "      <td>31.0</td>\n",
              "      <td>4</td>\n",
              "      <td>119.0</td>\n",
              "      <td>82.0</td>\n",
              "      <td>2720.0</td>\n",
              "      <td>19.4</td>\n",
              "      <td>82</td>\n",
              "      <td>0</td>\n",
              "      <td>1</td>\n",
              "      <td>0</td>\n",
              "    </tr>\n",
              "  </tbody>\n",
              "</table>\n",
              "</div>"
            ],
            "text/plain": [
              "      mpg  cylinders  ...  was_at__honolulu  was_at__mangalore\n",
              "388  26.0          4  ...                 1                  0\n",
              "389  22.0          6  ...                 1                  0\n",
              "390  32.0          4  ...                 0                  1\n",
              "391  36.0          4  ...                 1                  0\n",
              "392  27.0          4  ...                 1                  0\n",
              "393  27.0          4  ...                 1                  0\n",
              "394  44.0          4  ...                 0                  0\n",
              "395  32.0          4  ...                 1                  0\n",
              "396  28.0          4  ...                 1                  0\n",
              "397  31.0          4  ...                 1                  0\n",
              "\n",
              "[10 rows x 10 columns]"
            ]
          },
          "metadata": {
            "tags": []
          },
          "execution_count": 14
        }
      ]
    },
    {
      "cell_type": "code",
      "metadata": {
        "colab": {
          "base_uri": "https://localhost:8080/",
          "height": 268
        },
        "id": "p9d6y-5W5xsG",
        "outputId": "7d5b2b32-e6f4-4c5b-9d00-3217f5f2f237"
      },
      "source": [
        "# normalization-> z-score\n",
        "# z-score = (x-mean)/std [only for training-> and apply same assumptions to testing data]\n",
        "stats = data.describe().T\n",
        "stats"
      ],
      "execution_count": 15,
      "outputs": [
        {
          "output_type": "execute_result",
          "data": {
            "text/html": [
              "<div>\n",
              "<style scoped>\n",
              "    .dataframe tbody tr th:only-of-type {\n",
              "        vertical-align: middle;\n",
              "    }\n",
              "\n",
              "    .dataframe tbody tr th {\n",
              "        vertical-align: top;\n",
              "    }\n",
              "\n",
              "    .dataframe thead th {\n",
              "        text-align: right;\n",
              "    }\n",
              "</style>\n",
              "<table border=\"1\" class=\"dataframe\">\n",
              "  <thead>\n",
              "    <tr style=\"text-align: right;\">\n",
              "      <th></th>\n",
              "      <th>count</th>\n",
              "      <th>mean</th>\n",
              "      <th>std</th>\n",
              "      <th>min</th>\n",
              "      <th>25%</th>\n",
              "      <th>50%</th>\n",
              "      <th>75%</th>\n",
              "      <th>max</th>\n",
              "    </tr>\n",
              "  </thead>\n",
              "  <tbody>\n",
              "    <tr>\n",
              "      <th>mpg</th>\n",
              "      <td>392.0</td>\n",
              "      <td>23.445918</td>\n",
              "      <td>7.805007</td>\n",
              "      <td>9.0</td>\n",
              "      <td>17.000</td>\n",
              "      <td>22.75</td>\n",
              "      <td>29.000</td>\n",
              "      <td>46.6</td>\n",
              "    </tr>\n",
              "    <tr>\n",
              "      <th>cylinders</th>\n",
              "      <td>392.0</td>\n",
              "      <td>5.471939</td>\n",
              "      <td>1.705783</td>\n",
              "      <td>3.0</td>\n",
              "      <td>4.000</td>\n",
              "      <td>4.00</td>\n",
              "      <td>8.000</td>\n",
              "      <td>8.0</td>\n",
              "    </tr>\n",
              "    <tr>\n",
              "      <th>displacement</th>\n",
              "      <td>392.0</td>\n",
              "      <td>194.411990</td>\n",
              "      <td>104.644004</td>\n",
              "      <td>68.0</td>\n",
              "      <td>105.000</td>\n",
              "      <td>151.00</td>\n",
              "      <td>275.750</td>\n",
              "      <td>455.0</td>\n",
              "    </tr>\n",
              "    <tr>\n",
              "      <th>horsepower</th>\n",
              "      <td>392.0</td>\n",
              "      <td>104.469388</td>\n",
              "      <td>38.491160</td>\n",
              "      <td>46.0</td>\n",
              "      <td>75.000</td>\n",
              "      <td>93.50</td>\n",
              "      <td>126.000</td>\n",
              "      <td>230.0</td>\n",
              "    </tr>\n",
              "    <tr>\n",
              "      <th>weight</th>\n",
              "      <td>392.0</td>\n",
              "      <td>2977.584184</td>\n",
              "      <td>849.402560</td>\n",
              "      <td>1613.0</td>\n",
              "      <td>2225.250</td>\n",
              "      <td>2803.50</td>\n",
              "      <td>3614.750</td>\n",
              "      <td>5140.0</td>\n",
              "    </tr>\n",
              "    <tr>\n",
              "      <th>acceleration</th>\n",
              "      <td>392.0</td>\n",
              "      <td>15.541327</td>\n",
              "      <td>2.758864</td>\n",
              "      <td>8.0</td>\n",
              "      <td>13.775</td>\n",
              "      <td>15.50</td>\n",
              "      <td>17.025</td>\n",
              "      <td>24.8</td>\n",
              "    </tr>\n",
              "    <tr>\n",
              "      <th>model_year</th>\n",
              "      <td>392.0</td>\n",
              "      <td>75.979592</td>\n",
              "      <td>3.683737</td>\n",
              "      <td>70.0</td>\n",
              "      <td>73.000</td>\n",
              "      <td>76.00</td>\n",
              "      <td>79.000</td>\n",
              "      <td>82.0</td>\n",
              "    </tr>\n",
              "  </tbody>\n",
              "</table>\n",
              "</div>"
            ],
            "text/plain": [
              "              count         mean         std  ...      50%       75%     max\n",
              "mpg           392.0    23.445918    7.805007  ...    22.75    29.000    46.6\n",
              "cylinders     392.0     5.471939    1.705783  ...     4.00     8.000     8.0\n",
              "displacement  392.0   194.411990  104.644004  ...   151.00   275.750   455.0\n",
              "horsepower    392.0   104.469388   38.491160  ...    93.50   126.000   230.0\n",
              "weight        392.0  2977.584184  849.402560  ...  2803.50  3614.750  5140.0\n",
              "acceleration  392.0    15.541327    2.758864  ...    15.50    17.025    24.8\n",
              "model_year    392.0    75.979592    3.683737  ...    76.00    79.000    82.0\n",
              "\n",
              "[7 rows x 8 columns]"
            ]
          },
          "metadata": {
            "tags": []
          },
          "execution_count": 15
        }
      ]
    },
    {
      "cell_type": "code",
      "metadata": {
        "colab": {
          "base_uri": "https://localhost:8080/"
        },
        "id": "wE8iRJWW6K-I",
        "outputId": "3601d316-6457-4c82-f32c-d6907f5a2309"
      },
      "source": [
        "y = encoding.mpg\n",
        "x = encoding.drop('mpg', axis=1)\n",
        "\n",
        "y"
      ],
      "execution_count": 16,
      "outputs": [
        {
          "output_type": "execute_result",
          "data": {
            "text/plain": [
              "0      18.0\n",
              "1      15.0\n",
              "2      18.0\n",
              "3      16.0\n",
              "4      17.0\n",
              "       ... \n",
              "393    27.0\n",
              "394    44.0\n",
              "395    32.0\n",
              "396    28.0\n",
              "397    31.0\n",
              "Name: mpg, Length: 392, dtype: float64"
            ]
          },
          "metadata": {
            "tags": []
          },
          "execution_count": 16
        }
      ]
    },
    {
      "cell_type": "code",
      "metadata": {
        "colab": {
          "base_uri": "https://localhost:8080/"
        },
        "id": "oJn0xkCgBAgw",
        "outputId": "b2bfec38-6162-431b-d8c3-ea84ef8b5130"
      },
      "source": [
        "len(y)"
      ],
      "execution_count": 17,
      "outputs": [
        {
          "output_type": "execute_result",
          "data": {
            "text/plain": [
              "392"
            ]
          },
          "metadata": {
            "tags": []
          },
          "execution_count": 17
        }
      ]
    },
    {
      "cell_type": "code",
      "metadata": {
        "colab": {
          "base_uri": "https://localhost:8080/",
          "height": 229
        },
        "id": "ZjHPmohp6zRX",
        "outputId": "437cb1f5-c43f-4db7-89a4-dfdb0c40115e"
      },
      "source": [
        "stats = trainx.describe().T\n",
        "x_new = x[x.was_at__honolulu == 1] # filter the data for 1 particular city!\n",
        "x_new.head()\n",
        "colnames = ['cylinders',\n",
        " 'displacement',\n",
        " 'horsepower',\n",
        " 'weight',\n",
        " 'acceleration',\n",
        " 'model_year']\n",
        "x_new = x_new.loc[:, colnames]\n",
        "x_new.head()"
      ],
      "execution_count": 18,
      "outputs": [
        {
          "output_type": "error",
          "ename": "NameError",
          "evalue": "ignored",
          "traceback": [
            "\u001b[0;31m---------------------------------------------------------------------------\u001b[0m",
            "\u001b[0;31mNameError\u001b[0m                                 Traceback (most recent call last)",
            "\u001b[0;32m<ipython-input-18-50df2c079519>\u001b[0m in \u001b[0;36m<module>\u001b[0;34m()\u001b[0m\n\u001b[0;32m----> 1\u001b[0;31m \u001b[0mstats\u001b[0m \u001b[0;34m=\u001b[0m \u001b[0mtrainx\u001b[0m\u001b[0;34m.\u001b[0m\u001b[0mdescribe\u001b[0m\u001b[0;34m(\u001b[0m\u001b[0;34m)\u001b[0m\u001b[0;34m.\u001b[0m\u001b[0mT\u001b[0m\u001b[0;34m\u001b[0m\u001b[0;34m\u001b[0m\u001b[0m\n\u001b[0m\u001b[1;32m      2\u001b[0m \u001b[0mx_new\u001b[0m \u001b[0;34m=\u001b[0m \u001b[0mx\u001b[0m\u001b[0;34m[\u001b[0m\u001b[0mx\u001b[0m\u001b[0;34m.\u001b[0m\u001b[0mwas_at__honolulu\u001b[0m \u001b[0;34m==\u001b[0m \u001b[0;36m1\u001b[0m\u001b[0;34m]\u001b[0m \u001b[0;31m# filter the data for 1 particular city!\u001b[0m\u001b[0;34m\u001b[0m\u001b[0;34m\u001b[0m\u001b[0m\n\u001b[1;32m      3\u001b[0m \u001b[0mx_new\u001b[0m\u001b[0;34m.\u001b[0m\u001b[0mhead\u001b[0m\u001b[0;34m(\u001b[0m\u001b[0;34m)\u001b[0m\u001b[0;34m\u001b[0m\u001b[0;34m\u001b[0m\u001b[0m\n\u001b[1;32m      4\u001b[0m colnames = ['cylinders',\n\u001b[1;32m      5\u001b[0m  \u001b[0;34m'displacement'\u001b[0m\u001b[0;34m,\u001b[0m\u001b[0;34m\u001b[0m\u001b[0;34m\u001b[0m\u001b[0m\n",
            "\u001b[0;31mNameError\u001b[0m: name 'trainx' is not defined"
          ]
        }
      ]
    },
    {
      "cell_type": "code",
      "metadata": {
        "id": "u8eXP5JC61qr"
      },
      "source": [
        "\n",
        "trainx = x_new.sample(frac=0.80, random_state=42)\n",
        "testx = x_new.drop(trainx.index)\n",
        "stats = trainx.describe().T\n",
        "mu = stats['mean']\n",
        "sigma = stats['std']\n"
      ],
      "execution_count": null,
      "outputs": []
    },
    {
      "cell_type": "code",
      "metadata": {
        "id": "b0HFDFwvBFWt"
      },
      "source": [
        "y.index"
      ],
      "execution_count": null,
      "outputs": []
    },
    {
      "cell_type": "code",
      "metadata": {
        "id": "hzFqIzUe7GPi"
      },
      "source": [
        "xtrain = (trainx-mu)/sigma\n",
        "xtrain.head()\n",
        "xtest = (testx - mu)/sigma \n",
        "xtest.head()"
      ],
      "execution_count": null,
      "outputs": []
    },
    {
      "cell_type": "code",
      "metadata": {
        "id": "RqZzAAJ991E-"
      },
      "source": [
        "\n",
        "ytrain = y[xtrain.index]\n",
        "ytest = y[xtest.index]"
      ],
      "execution_count": null,
      "outputs": []
    },
    {
      "cell_type": "code",
      "metadata": {
        "id": "RUcnIza7-83y"
      },
      "source": [
        "xtest[:5]"
      ],
      "execution_count": null,
      "outputs": []
    },
    {
      "cell_type": "code",
      "metadata": {
        "id": "GpS0AVQ__VTH"
      },
      "source": [
        "ytest[:5]"
      ],
      "execution_count": null,
      "outputs": []
    },
    {
      "cell_type": "code",
      "metadata": {
        "id": "8VElNsyVAZBM"
      },
      "source": [
        ""
      ],
      "execution_count": null,
      "outputs": []
    },
    {
      "cell_type": "code",
      "metadata": {
        "id": "OrsOxmfZ_XKT"
      },
      "source": [
        "testx = x_new.drop(allindexes)\n",
        "testx = (testx - mu)/sigma\n",
        "testx.head()"
      ],
      "execution_count": null,
      "outputs": []
    },
    {
      "cell_type": "code",
      "metadata": {
        "id": "kedkdsvP_amp"
      },
      "source": [
        "len(testx)"
      ],
      "execution_count": null,
      "outputs": []
    },
    {
      "cell_type": "code",
      "metadata": {
        "id": "y9707jw1An9Y"
      },
      "source": [
        "len(ytest)"
      ],
      "execution_count": null,
      "outputs": []
    },
    {
      "cell_type": "code",
      "metadata": {
        "id": "oBZku00hApke"
      },
      "source": [
        "# TF-> Dense -> \n",
        "trainx.shape"
      ],
      "execution_count": null,
      "outputs": []
    },
    {
      "cell_type": "code",
      "metadata": {
        "id": "8nei36mYCc99"
      },
      "source": [
        "# single element input shape-> (1,6)\n",
        "#ML with "
      ],
      "execution_count": null,
      "outputs": []
    },
    {
      "cell_type": "code",
      "metadata": {
        "id": "iim5hQ2K1BIR"
      },
      "source": [
        "# Not Normalized"
      ],
      "execution_count": null,
      "outputs": []
    },
    {
      "cell_type": "code",
      "metadata": {
        "id": "ZVyesdBODAWy",
        "colab": {
          "base_uri": "https://localhost:8080/",
          "height": 417
        },
        "outputId": "554c7995-5859-49f7-f45d-20b988aeeb6e"
      },
      "source": [
        "data"
      ],
      "execution_count": 19,
      "outputs": [
        {
          "output_type": "execute_result",
          "data": {
            "text/html": [
              "<div>\n",
              "<style scoped>\n",
              "    .dataframe tbody tr th:only-of-type {\n",
              "        vertical-align: middle;\n",
              "    }\n",
              "\n",
              "    .dataframe tbody tr th {\n",
              "        vertical-align: top;\n",
              "    }\n",
              "\n",
              "    .dataframe thead th {\n",
              "        text-align: right;\n",
              "    }\n",
              "</style>\n",
              "<table border=\"1\" class=\"dataframe\">\n",
              "  <thead>\n",
              "    <tr style=\"text-align: right;\">\n",
              "      <th></th>\n",
              "      <th>mpg</th>\n",
              "      <th>cylinders</th>\n",
              "      <th>displacement</th>\n",
              "      <th>horsepower</th>\n",
              "      <th>weight</th>\n",
              "      <th>acceleration</th>\n",
              "      <th>model_year</th>\n",
              "      <th>origin</th>\n",
              "    </tr>\n",
              "  </thead>\n",
              "  <tbody>\n",
              "    <tr>\n",
              "      <th>0</th>\n",
              "      <td>18.0</td>\n",
              "      <td>8</td>\n",
              "      <td>307.0</td>\n",
              "      <td>130.0</td>\n",
              "      <td>3504.0</td>\n",
              "      <td>12.0</td>\n",
              "      <td>70</td>\n",
              "      <td>honolulu</td>\n",
              "    </tr>\n",
              "    <tr>\n",
              "      <th>1</th>\n",
              "      <td>15.0</td>\n",
              "      <td>8</td>\n",
              "      <td>350.0</td>\n",
              "      <td>165.0</td>\n",
              "      <td>3693.0</td>\n",
              "      <td>11.5</td>\n",
              "      <td>70</td>\n",
              "      <td>honolulu</td>\n",
              "    </tr>\n",
              "    <tr>\n",
              "      <th>2</th>\n",
              "      <td>18.0</td>\n",
              "      <td>8</td>\n",
              "      <td>318.0</td>\n",
              "      <td>150.0</td>\n",
              "      <td>3436.0</td>\n",
              "      <td>11.0</td>\n",
              "      <td>70</td>\n",
              "      <td>honolulu</td>\n",
              "    </tr>\n",
              "    <tr>\n",
              "      <th>3</th>\n",
              "      <td>16.0</td>\n",
              "      <td>8</td>\n",
              "      <td>304.0</td>\n",
              "      <td>150.0</td>\n",
              "      <td>3433.0</td>\n",
              "      <td>12.0</td>\n",
              "      <td>70</td>\n",
              "      <td>honolulu</td>\n",
              "    </tr>\n",
              "    <tr>\n",
              "      <th>4</th>\n",
              "      <td>17.0</td>\n",
              "      <td>8</td>\n",
              "      <td>302.0</td>\n",
              "      <td>140.0</td>\n",
              "      <td>3449.0</td>\n",
              "      <td>10.5</td>\n",
              "      <td>70</td>\n",
              "      <td>honolulu</td>\n",
              "    </tr>\n",
              "    <tr>\n",
              "      <th>...</th>\n",
              "      <td>...</td>\n",
              "      <td>...</td>\n",
              "      <td>...</td>\n",
              "      <td>...</td>\n",
              "      <td>...</td>\n",
              "      <td>...</td>\n",
              "      <td>...</td>\n",
              "      <td>...</td>\n",
              "    </tr>\n",
              "    <tr>\n",
              "      <th>393</th>\n",
              "      <td>27.0</td>\n",
              "      <td>4</td>\n",
              "      <td>140.0</td>\n",
              "      <td>86.0</td>\n",
              "      <td>2790.0</td>\n",
              "      <td>15.6</td>\n",
              "      <td>82</td>\n",
              "      <td>honolulu</td>\n",
              "    </tr>\n",
              "    <tr>\n",
              "      <th>394</th>\n",
              "      <td>44.0</td>\n",
              "      <td>4</td>\n",
              "      <td>97.0</td>\n",
              "      <td>52.0</td>\n",
              "      <td>2130.0</td>\n",
              "      <td>24.6</td>\n",
              "      <td>82</td>\n",
              "      <td>chickmangalur</td>\n",
              "    </tr>\n",
              "    <tr>\n",
              "      <th>395</th>\n",
              "      <td>32.0</td>\n",
              "      <td>4</td>\n",
              "      <td>135.0</td>\n",
              "      <td>84.0</td>\n",
              "      <td>2295.0</td>\n",
              "      <td>11.6</td>\n",
              "      <td>82</td>\n",
              "      <td>honolulu</td>\n",
              "    </tr>\n",
              "    <tr>\n",
              "      <th>396</th>\n",
              "      <td>28.0</td>\n",
              "      <td>4</td>\n",
              "      <td>120.0</td>\n",
              "      <td>79.0</td>\n",
              "      <td>2625.0</td>\n",
              "      <td>18.6</td>\n",
              "      <td>82</td>\n",
              "      <td>honolulu</td>\n",
              "    </tr>\n",
              "    <tr>\n",
              "      <th>397</th>\n",
              "      <td>31.0</td>\n",
              "      <td>4</td>\n",
              "      <td>119.0</td>\n",
              "      <td>82.0</td>\n",
              "      <td>2720.0</td>\n",
              "      <td>19.4</td>\n",
              "      <td>82</td>\n",
              "      <td>honolulu</td>\n",
              "    </tr>\n",
              "  </tbody>\n",
              "</table>\n",
              "<p>392 rows × 8 columns</p>\n",
              "</div>"
            ],
            "text/plain": [
              "      mpg  cylinders  displacement  ...  acceleration  model_year         origin\n",
              "0    18.0          8         307.0  ...          12.0          70       honolulu\n",
              "1    15.0          8         350.0  ...          11.5          70       honolulu\n",
              "2    18.0          8         318.0  ...          11.0          70       honolulu\n",
              "3    16.0          8         304.0  ...          12.0          70       honolulu\n",
              "4    17.0          8         302.0  ...          10.5          70       honolulu\n",
              "..    ...        ...           ...  ...           ...         ...            ...\n",
              "393  27.0          4         140.0  ...          15.6          82       honolulu\n",
              "394  44.0          4          97.0  ...          24.6          82  chickmangalur\n",
              "395  32.0          4         135.0  ...          11.6          82       honolulu\n",
              "396  28.0          4         120.0  ...          18.6          82       honolulu\n",
              "397  31.0          4         119.0  ...          19.4          82       honolulu\n",
              "\n",
              "[392 rows x 8 columns]"
            ]
          },
          "metadata": {
            "tags": []
          },
          "execution_count": 19
        }
      ]
    },
    {
      "cell_type": "code",
      "metadata": {
        "colab": {
          "base_uri": "https://localhost:8080/"
        },
        "id": "dSu6_ylL0-34",
        "outputId": "ab6d7905-5e99-4d35-aac7-2e5456f3a7ad"
      },
      "source": [
        "# Linear Regression Model-> univariate, multivariate \n",
        "# pick feature with most variation wrt y\n",
        "# y= mpg!\n",
        "cnames = data.columns\n",
        "for cname in cnames:\n",
        "  print(cname)\n",
        "  print(len(data[cname].value_counts()))"
      ],
      "execution_count": 22,
      "outputs": [
        {
          "output_type": "stream",
          "text": [
            "mpg\n",
            "127\n",
            "cylinders\n",
            "5\n",
            "displacement\n",
            "81\n",
            "horsepower\n",
            "93\n",
            "weight\n",
            "346\n",
            "acceleration\n",
            "95\n",
            "model_year\n",
            "13\n",
            "origin\n",
            "3\n"
          ],
          "name": "stdout"
        }
      ]
    },
    {
      "cell_type": "code",
      "metadata": {
        "colab": {
          "base_uri": "https://localhost:8080/"
        },
        "id": "R1sAsUJU1d5Q",
        "outputId": "ebf87543-9808-4fd0-dd6c-e25eb965f4b7"
      },
      "source": [
        "(data.describe().T)['std']"
      ],
      "execution_count": 24,
      "outputs": [
        {
          "output_type": "execute_result",
          "data": {
            "text/plain": [
              "mpg               7.805007\n",
              "cylinders         1.705783\n",
              "displacement    104.644004\n",
              "horsepower       38.491160\n",
              "weight          849.402560\n",
              "acceleration      2.758864\n",
              "model_year        3.683737\n",
              "Name: std, dtype: float64"
            ]
          },
          "metadata": {
            "tags": []
          },
          "execution_count": 24
        }
      ]
    },
    {
      "cell_type": "code",
      "metadata": {
        "colab": {
          "base_uri": "https://localhost:8080/",
          "height": 743
        },
        "id": "3YKooDDO2GFU",
        "outputId": "6af8b756-591e-4e55-991b-e0f2577d30c0"
      },
      "source": [
        "import seaborn as sns\n",
        "sns.pairplot(data[['displacement','horsepower','weight','acceleration']])"
      ],
      "execution_count": 27,
      "outputs": [
        {
          "output_type": "execute_result",
          "data": {
            "text/plain": [
              "<seaborn.axisgrid.PairGrid at 0x7fe36a94b690>"
            ]
          },
          "metadata": {
            "tags": []
          },
          "execution_count": 27
        },
        {
          "output_type": "display_data",
          "data": {
            "image/png": "[encoded data removed]",
            "text/plain": [
              "<Figure size 720x720 with 20 Axes>"
            ]
          },
          "metadata": {
            "tags": [],
            "needs_background": "light"
          }
        }
      ]
    },
    {
      "cell_type": "code",
      "metadata": {
        "colab": {
          "base_uri": "https://localhost:8080/"
        },
        "id": "uzX-E1Uy21bO",
        "outputId": "996b052e-4d3e-4477-b161-17a4792fd2ac"
      },
      "source": [
        "x = data.horsepower\n",
        "x.head()\n"
      ],
      "execution_count": 31,
      "outputs": [
        {
          "output_type": "execute_result",
          "data": {
            "text/plain": [
              "0    130.0\n",
              "1    165.0\n",
              "2    150.0\n",
              "3    150.0\n",
              "4    140.0\n",
              "Name: horsepower, dtype: float64"
            ]
          },
          "metadata": {
            "tags": []
          },
          "execution_count": 31
        }
      ]
    },
    {
      "cell_type": "code",
      "metadata": {
        "colab": {
          "base_uri": "https://localhost:8080/"
        },
        "id": "_dz5gp6R3qW7",
        "outputId": "877bdccf-213d-43c2-ed46-2066a258c75f"
      },
      "source": [
        "y = data.mpg\n",
        "y.head()"
      ],
      "execution_count": 32,
      "outputs": [
        {
          "output_type": "execute_result",
          "data": {
            "text/plain": [
              "0    18.0\n",
              "1    15.0\n",
              "2    18.0\n",
              "3    16.0\n",
              "4    17.0\n",
              "Name: mpg, dtype: float64"
            ]
          },
          "metadata": {
            "tags": []
          },
          "execution_count": 32
        }
      ]
    },
    {
      "cell_type": "code",
      "metadata": {
        "colab": {
          "base_uri": "https://localhost:8080/",
          "height": 203
        },
        "id": "ymkeRNv-33DZ",
        "outputId": "c7a86385-5124-4d29-d61e-cee5bf7ca1e2"
      },
      "source": [
        "traindata = data.sample(frac=0.80, random_state=42)\n",
        "allindexes = traindata.index\n",
        "testdata = data.drop(allindexes)\n",
        "traindata.head()\n"
      ],
      "execution_count": 33,
      "outputs": [
        {
          "output_type": "execute_result",
          "data": {
            "text/html": [
              "<div>\n",
              "<style scoped>\n",
              "    .dataframe tbody tr th:only-of-type {\n",
              "        vertical-align: middle;\n",
              "    }\n",
              "\n",
              "    .dataframe tbody tr th {\n",
              "        vertical-align: top;\n",
              "    }\n",
              "\n",
              "    .dataframe thead th {\n",
              "        text-align: right;\n",
              "    }\n",
              "</style>\n",
              "<table border=\"1\" class=\"dataframe\">\n",
              "  <thead>\n",
              "    <tr style=\"text-align: right;\">\n",
              "      <th></th>\n",
              "      <th>mpg</th>\n",
              "      <th>cylinders</th>\n",
              "      <th>displacement</th>\n",
              "      <th>horsepower</th>\n",
              "      <th>weight</th>\n",
              "      <th>acceleration</th>\n",
              "      <th>model_year</th>\n",
              "      <th>origin</th>\n",
              "    </tr>\n",
              "  </thead>\n",
              "  <tbody>\n",
              "    <tr>\n",
              "      <th>79</th>\n",
              "      <td>26.0</td>\n",
              "      <td>4</td>\n",
              "      <td>96.0</td>\n",
              "      <td>69.0</td>\n",
              "      <td>2189.0</td>\n",
              "      <td>18.0</td>\n",
              "      <td>72</td>\n",
              "      <td>chickmangalur</td>\n",
              "    </tr>\n",
              "    <tr>\n",
              "      <th>276</th>\n",
              "      <td>21.6</td>\n",
              "      <td>4</td>\n",
              "      <td>121.0</td>\n",
              "      <td>115.0</td>\n",
              "      <td>2795.0</td>\n",
              "      <td>15.7</td>\n",
              "      <td>78</td>\n",
              "      <td>chickmangalur</td>\n",
              "    </tr>\n",
              "    <tr>\n",
              "      <th>248</th>\n",
              "      <td>36.1</td>\n",
              "      <td>4</td>\n",
              "      <td>91.0</td>\n",
              "      <td>60.0</td>\n",
              "      <td>1800.0</td>\n",
              "      <td>16.4</td>\n",
              "      <td>78</td>\n",
              "      <td>mangalore</td>\n",
              "    </tr>\n",
              "    <tr>\n",
              "      <th>56</th>\n",
              "      <td>26.0</td>\n",
              "      <td>4</td>\n",
              "      <td>91.0</td>\n",
              "      <td>70.0</td>\n",
              "      <td>1955.0</td>\n",
              "      <td>20.5</td>\n",
              "      <td>71</td>\n",
              "      <td>honolulu</td>\n",
              "    </tr>\n",
              "    <tr>\n",
              "      <th>393</th>\n",
              "      <td>27.0</td>\n",
              "      <td>4</td>\n",
              "      <td>140.0</td>\n",
              "      <td>86.0</td>\n",
              "      <td>2790.0</td>\n",
              "      <td>15.6</td>\n",
              "      <td>82</td>\n",
              "      <td>honolulu</td>\n",
              "    </tr>\n",
              "  </tbody>\n",
              "</table>\n",
              "</div>"
            ],
            "text/plain": [
              "      mpg  cylinders  displacement  ...  acceleration  model_year         origin\n",
              "79   26.0          4          96.0  ...          18.0          72  chickmangalur\n",
              "276  21.6          4         121.0  ...          15.7          78  chickmangalur\n",
              "248  36.1          4          91.0  ...          16.4          78      mangalore\n",
              "56   26.0          4          91.0  ...          20.5          71       honolulu\n",
              "393  27.0          4         140.0  ...          15.6          82       honolulu\n",
              "\n",
              "[5 rows x 8 columns]"
            ]
          },
          "metadata": {
            "tags": []
          },
          "execution_count": 33
        }
      ]
    },
    {
      "cell_type": "code",
      "metadata": {
        "colab": {
          "base_uri": "https://localhost:8080/",
          "height": 203
        },
        "id": "yndQwIYL4VvF",
        "outputId": "5275a720-b642-46a9-953e-a750d8858373"
      },
      "source": [
        "testdata.head()"
      ],
      "execution_count": 34,
      "outputs": [
        {
          "output_type": "execute_result",
          "data": {
            "text/html": [
              "<div>\n",
              "<style scoped>\n",
              "    .dataframe tbody tr th:only-of-type {\n",
              "        vertical-align: middle;\n",
              "    }\n",
              "\n",
              "    .dataframe tbody tr th {\n",
              "        vertical-align: top;\n",
              "    }\n",
              "\n",
              "    .dataframe thead th {\n",
              "        text-align: right;\n",
              "    }\n",
              "</style>\n",
              "<table border=\"1\" class=\"dataframe\">\n",
              "  <thead>\n",
              "    <tr style=\"text-align: right;\">\n",
              "      <th></th>\n",
              "      <th>mpg</th>\n",
              "      <th>cylinders</th>\n",
              "      <th>displacement</th>\n",
              "      <th>horsepower</th>\n",
              "      <th>weight</th>\n",
              "      <th>acceleration</th>\n",
              "      <th>model_year</th>\n",
              "      <th>origin</th>\n",
              "    </tr>\n",
              "  </thead>\n",
              "  <tbody>\n",
              "    <tr>\n",
              "      <th>1</th>\n",
              "      <td>15.0</td>\n",
              "      <td>8</td>\n",
              "      <td>350.0</td>\n",
              "      <td>165.0</td>\n",
              "      <td>3693.0</td>\n",
              "      <td>11.5</td>\n",
              "      <td>70</td>\n",
              "      <td>honolulu</td>\n",
              "    </tr>\n",
              "    <tr>\n",
              "      <th>13</th>\n",
              "      <td>14.0</td>\n",
              "      <td>8</td>\n",
              "      <td>455.0</td>\n",
              "      <td>225.0</td>\n",
              "      <td>3086.0</td>\n",
              "      <td>10.0</td>\n",
              "      <td>70</td>\n",
              "      <td>honolulu</td>\n",
              "    </tr>\n",
              "    <tr>\n",
              "      <th>20</th>\n",
              "      <td>25.0</td>\n",
              "      <td>4</td>\n",
              "      <td>110.0</td>\n",
              "      <td>87.0</td>\n",
              "      <td>2672.0</td>\n",
              "      <td>17.5</td>\n",
              "      <td>70</td>\n",
              "      <td>chickmangalur</td>\n",
              "    </tr>\n",
              "    <tr>\n",
              "      <th>21</th>\n",
              "      <td>24.0</td>\n",
              "      <td>4</td>\n",
              "      <td>107.0</td>\n",
              "      <td>90.0</td>\n",
              "      <td>2430.0</td>\n",
              "      <td>14.5</td>\n",
              "      <td>70</td>\n",
              "      <td>chickmangalur</td>\n",
              "    </tr>\n",
              "    <tr>\n",
              "      <th>35</th>\n",
              "      <td>17.0</td>\n",
              "      <td>6</td>\n",
              "      <td>250.0</td>\n",
              "      <td>100.0</td>\n",
              "      <td>3329.0</td>\n",
              "      <td>15.5</td>\n",
              "      <td>71</td>\n",
              "      <td>honolulu</td>\n",
              "    </tr>\n",
              "  </tbody>\n",
              "</table>\n",
              "</div>"
            ],
            "text/plain": [
              "     mpg  cylinders  displacement  ...  acceleration  model_year         origin\n",
              "1   15.0          8         350.0  ...          11.5          70       honolulu\n",
              "13  14.0          8         455.0  ...          10.0          70       honolulu\n",
              "20  25.0          4         110.0  ...          17.5          70  chickmangalur\n",
              "21  24.0          4         107.0  ...          14.5          70  chickmangalur\n",
              "35  17.0          6         250.0  ...          15.5          71       honolulu\n",
              "\n",
              "[5 rows x 8 columns]"
            ]
          },
          "metadata": {
            "tags": []
          },
          "execution_count": 34
        }
      ]
    },
    {
      "cell_type": "code",
      "metadata": {
        "id": "o4pZHKni4XAO"
      },
      "source": [
        "trainx = traindata.loc[:,['cylinders','displacement','horsepower','acceleration']]\n",
        "trainy = traindata.mpg\n",
        "testx = testdata.loc[:,['cylinders','displacement','horsepower','acceleration']]\n",
        "testy = testdata.mpg "
      ],
      "execution_count": 43,
      "outputs": []
    },
    {
      "cell_type": "code",
      "metadata": {
        "id": "lb30Z_xD5bMy"
      },
      "source": [
        "trainx2 = traindata.loc[:,['horsepower']]\n",
        "trainy2 = traindata.mpg\n",
        "testx2 = testdata.horsepower\n",
        "testy2 = testdata.mpg "
      ],
      "execution_count": 44,
      "outputs": []
    },
    {
      "cell_type": "code",
      "metadata": {
        "id": "_m5r_bWC4g5L"
      },
      "source": [
        "normalizer = preprocessing.Normalization()\n",
        "normalizer.adapt(np.array(trainx))"
      ],
      "execution_count": 39,
      "outputs": []
    },
    {
      "cell_type": "code",
      "metadata": {
        "colab": {
          "base_uri": "https://localhost:8080/"
        },
        "id": "ot7j-O7u40X3",
        "outputId": "bf477292-db7b-48ef-c0f8-2dc9d3ad7151"
      },
      "source": [
        "normalizer.mean.numpy()"
      ],
      "execution_count": 40,
      "outputs": [
        {
          "output_type": "execute_result",
          "data": {
            "text/plain": [
              "array([  5.531847, 197.8551  , 105.971344,  15.510828], dtype=float32)"
            ]
          },
          "metadata": {
            "tags": []
          },
          "execution_count": 40
        }
      ]
    },
    {
      "cell_type": "code",
      "metadata": {
        "id": "16hpIuKG45va"
      },
      "source": [
        "hpnormalizer = preprocessing.Normalization(input_shape=[1,])\n",
        "hpnormalizer.adapt(trainx2)"
      ],
      "execution_count": 45,
      "outputs": []
    },
    {
      "cell_type": "code",
      "metadata": {
        "id": "G4M9q4rV5RgP"
      },
      "source": [
        "singlemodel = tf.keras.Sequential([\n",
        "                                   hpnormalizer,\n",
        "                                   keras.layers.Dense(1)\n",
        "]\n",
        ")"
      ],
      "execution_count": 47,
      "outputs": []
    },
    {
      "cell_type": "code",
      "metadata": {
        "colab": {
          "base_uri": "https://localhost:8080/"
        },
        "id": "YEuuhVD46J-W",
        "outputId": "0e934d0d-12cb-431f-8652-429993251c90"
      },
      "source": [
        "singlemodel.summary()"
      ],
      "execution_count": 48,
      "outputs": [
        {
          "output_type": "stream",
          "text": [
            "Model: \"sequential\"\n",
            "_________________________________________________________________\n",
            "Layer (type)                 Output Shape              Param #   \n",
            "=================================================================\n",
            "normalization_2 (Normalizati (None, 1)                 3         \n",
            "_________________________________________________________________\n",
            "dense (Dense)                (None, 1)                 2         \n",
            "=================================================================\n",
            "Total params: 5\n",
            "Trainable params: 2\n",
            "Non-trainable params: 3\n",
            "_________________________________________________________________\n"
          ],
          "name": "stdout"
        }
      ]
    },
    {
      "cell_type": "code",
      "metadata": {
        "id": "XHGghVXT6P72"
      },
      "source": [
        "ypredicted = singlemodel.predict(data.horsepower[:5])"
      ],
      "execution_count": 50,
      "outputs": []
    },
    {
      "cell_type": "code",
      "metadata": {
        "colab": {
          "base_uri": "https://localhost:8080/",
          "height": 417
        },
        "id": "D4rN_Xd_6mWT",
        "outputId": "a1d15fb7-f54e-4b72-fe35-eead5f8ad648"
      },
      "source": [
        "ypredicted\n",
        "trainx2"
      ],
      "execution_count": 55,
      "outputs": [
        {
          "output_type": "execute_result",
          "data": {
            "text/html": [
              "<div>\n",
              "<style scoped>\n",
              "    .dataframe tbody tr th:only-of-type {\n",
              "        vertical-align: middle;\n",
              "    }\n",
              "\n",
              "    .dataframe tbody tr th {\n",
              "        vertical-align: top;\n",
              "    }\n",
              "\n",
              "    .dataframe thead th {\n",
              "        text-align: right;\n",
              "    }\n",
              "</style>\n",
              "<table border=\"1\" class=\"dataframe\">\n",
              "  <thead>\n",
              "    <tr style=\"text-align: right;\">\n",
              "      <th></th>\n",
              "      <th>horsepower</th>\n",
              "    </tr>\n",
              "  </thead>\n",
              "  <tbody>\n",
              "    <tr>\n",
              "      <th>79</th>\n",
              "      <td>69.0</td>\n",
              "    </tr>\n",
              "    <tr>\n",
              "      <th>276</th>\n",
              "      <td>115.0</td>\n",
              "    </tr>\n",
              "    <tr>\n",
              "      <th>248</th>\n",
              "      <td>60.0</td>\n",
              "    </tr>\n",
              "    <tr>\n",
              "      <th>56</th>\n",
              "      <td>70.0</td>\n",
              "    </tr>\n",
              "    <tr>\n",
              "      <th>393</th>\n",
              "      <td>86.0</td>\n",
              "    </tr>\n",
              "    <tr>\n",
              "      <th>...</th>\n",
              "      <td>...</td>\n",
              "    </tr>\n",
              "    <tr>\n",
              "      <th>218</th>\n",
              "      <td>58.0</td>\n",
              "    </tr>\n",
              "    <tr>\n",
              "      <th>281</th>\n",
              "      <td>85.0</td>\n",
              "    </tr>\n",
              "    <tr>\n",
              "      <th>342</th>\n",
              "      <td>84.0</td>\n",
              "    </tr>\n",
              "    <tr>\n",
              "      <th>238</th>\n",
              "      <td>83.0</td>\n",
              "    </tr>\n",
              "    <tr>\n",
              "      <th>209</th>\n",
              "      <td>88.0</td>\n",
              "    </tr>\n",
              "  </tbody>\n",
              "</table>\n",
              "<p>314 rows × 1 columns</p>\n",
              "</div>"
            ],
            "text/plain": [
              "     horsepower\n",
              "79         69.0\n",
              "276       115.0\n",
              "248        60.0\n",
              "56         70.0\n",
              "393        86.0\n",
              "..          ...\n",
              "218        58.0\n",
              "281        85.0\n",
              "342        84.0\n",
              "238        83.0\n",
              "209        88.0\n",
              "\n",
              "[314 rows x 1 columns]"
            ]
          },
          "metadata": {
            "tags": []
          },
          "execution_count": 55
        }
      ]
    },
    {
      "cell_type": "code",
      "metadata": {
        "id": "XGDaKUhf6pSx"
      },
      "source": [
        "singlemodel.compile(optimizer='adam', loss= 'mean_absolute_error')\n",
        "trainx2_2 = np.array(trainx2)"
      ],
      "execution_count": 61,
      "outputs": []
    },
    {
      "cell_type": "code",
      "metadata": {
        "colab": {
          "base_uri": "https://localhost:8080/"
        },
        "id": "Zo5PNDTO63hv",
        "outputId": "edb5fa4c-d4c5-4c07-e98e-ffe6e75cefce"
      },
      "source": [
        "history = singlemodel.fit(trainx2_2, trainy2, epochs=100, validation_split=0.1)"
      ],
      "execution_count": 62,
      "outputs": [
        {
          "output_type": "stream",
          "text": [
            "Epoch 1/100\n",
            "9/9 [==============================] - 0s 15ms/step - loss: 21.8295 - val_loss: 20.6411\n",
            "Epoch 2/100\n",
            "9/9 [==============================] - 0s 3ms/step - loss: 21.8205 - val_loss: 20.6325\n",
            "Epoch 3/100\n",
            "9/9 [==============================] - 0s 3ms/step - loss: 21.8114 - val_loss: 20.6237\n",
            "Epoch 4/100\n",
            "9/9 [==============================] - 0s 3ms/step - loss: 21.8024 - val_loss: 20.6149\n",
            "Epoch 5/100\n",
            "9/9 [==============================] - 0s 3ms/step - loss: 21.7934 - val_loss: 20.6064\n",
            "Epoch 6/100\n",
            "9/9 [==============================] - 0s 3ms/step - loss: 21.7843 - val_loss: 20.5979\n",
            "Epoch 7/100\n",
            "9/9 [==============================] - 0s 6ms/step - loss: 21.7753 - val_loss: 20.5892\n",
            "Epoch 8/100\n",
            "9/9 [==============================] - 0s 4ms/step - loss: 21.7662 - val_loss: 20.5804\n",
            "Epoch 9/100\n",
            "9/9 [==============================] - 0s 4ms/step - loss: 21.7572 - val_loss: 20.5718\n",
            "Epoch 10/100\n",
            "9/9 [==============================] - 0s 3ms/step - loss: 21.7481 - val_loss: 20.5633\n",
            "Epoch 11/100\n",
            "9/9 [==============================] - 0s 3ms/step - loss: 21.7391 - val_loss: 20.5549\n",
            "Epoch 12/100\n",
            "9/9 [==============================] - 0s 3ms/step - loss: 21.7301 - val_loss: 20.5459\n",
            "Epoch 13/100\n",
            "9/9 [==============================] - 0s 3ms/step - loss: 21.7210 - val_loss: 20.5373\n",
            "Epoch 14/100\n",
            "9/9 [==============================] - 0s 3ms/step - loss: 21.7120 - val_loss: 20.5288\n",
            "Epoch 15/100\n",
            "9/9 [==============================] - 0s 4ms/step - loss: 21.7029 - val_loss: 20.5201\n",
            "Epoch 16/100\n",
            "9/9 [==============================] - 0s 3ms/step - loss: 21.6939 - val_loss: 20.5115\n",
            "Epoch 17/100\n",
            "9/9 [==============================] - 0s 4ms/step - loss: 21.6849 - val_loss: 20.5029\n",
            "Epoch 18/100\n",
            "9/9 [==============================] - 0s 4ms/step - loss: 21.6758 - val_loss: 20.4940\n",
            "Epoch 19/100\n",
            "9/9 [==============================] - 0s 3ms/step - loss: 21.6668 - val_loss: 20.4854\n",
            "Epoch 20/100\n",
            "9/9 [==============================] - 0s 3ms/step - loss: 21.6578 - val_loss: 20.4767\n",
            "Epoch 21/100\n",
            "9/9 [==============================] - 0s 3ms/step - loss: 21.6487 - val_loss: 20.4680\n",
            "Epoch 22/100\n",
            "9/9 [==============================] - 0s 3ms/step - loss: 21.6397 - val_loss: 20.4592\n",
            "Epoch 23/100\n",
            "9/9 [==============================] - 0s 3ms/step - loss: 21.6306 - val_loss: 20.4505\n",
            "Epoch 24/100\n",
            "9/9 [==============================] - 0s 4ms/step - loss: 21.6216 - val_loss: 20.4417\n",
            "Epoch 25/100\n",
            "9/9 [==============================] - 0s 4ms/step - loss: 21.6126 - val_loss: 20.4333\n",
            "Epoch 26/100\n",
            "9/9 [==============================] - 0s 3ms/step - loss: 21.6035 - val_loss: 20.4244\n",
            "Epoch 27/100\n",
            "9/9 [==============================] - 0s 3ms/step - loss: 21.5945 - val_loss: 20.4159\n",
            "Epoch 28/100\n",
            "9/9 [==============================] - 0s 3ms/step - loss: 21.5855 - val_loss: 20.4071\n",
            "Epoch 29/100\n",
            "9/9 [==============================] - 0s 3ms/step - loss: 21.5765 - val_loss: 20.3985\n",
            "Epoch 30/100\n",
            "9/9 [==============================] - 0s 3ms/step - loss: 21.5674 - val_loss: 20.3899\n",
            "Epoch 31/100\n",
            "9/9 [==============================] - 0s 3ms/step - loss: 21.5584 - val_loss: 20.3812\n",
            "Epoch 32/100\n",
            "9/9 [==============================] - 0s 3ms/step - loss: 21.5493 - val_loss: 20.3725\n",
            "Epoch 33/100\n",
            "9/9 [==============================] - 0s 4ms/step - loss: 21.5403 - val_loss: 20.3638\n",
            "Epoch 34/100\n",
            "9/9 [==============================] - 0s 4ms/step - loss: 21.5312 - val_loss: 20.3551\n",
            "Epoch 35/100\n",
            "9/9 [==============================] - 0s 4ms/step - loss: 21.5222 - val_loss: 20.3464\n",
            "Epoch 36/100\n",
            "9/9 [==============================] - 0s 4ms/step - loss: 21.5132 - val_loss: 20.3377\n",
            "Epoch 37/100\n",
            "9/9 [==============================] - 0s 4ms/step - loss: 21.5041 - val_loss: 20.3290\n",
            "Epoch 38/100\n",
            "9/9 [==============================] - 0s 4ms/step - loss: 21.4951 - val_loss: 20.3204\n",
            "Epoch 39/100\n",
            "9/9 [==============================] - 0s 4ms/step - loss: 21.4861 - val_loss: 20.3118\n",
            "Epoch 40/100\n",
            "9/9 [==============================] - 0s 4ms/step - loss: 21.4770 - val_loss: 20.3030\n",
            "Epoch 41/100\n",
            "9/9 [==============================] - 0s 4ms/step - loss: 21.4680 - val_loss: 20.2942\n",
            "Epoch 42/100\n",
            "9/9 [==============================] - 0s 3ms/step - loss: 21.4590 - val_loss: 20.2856\n",
            "Epoch 43/100\n",
            "9/9 [==============================] - 0s 3ms/step - loss: 21.4499 - val_loss: 20.2767\n",
            "Epoch 44/100\n",
            "9/9 [==============================] - 0s 4ms/step - loss: 21.4409 - val_loss: 20.2682\n",
            "Epoch 45/100\n",
            "9/9 [==============================] - 0s 4ms/step - loss: 21.4319 - val_loss: 20.2594\n",
            "Epoch 46/100\n",
            "9/9 [==============================] - 0s 4ms/step - loss: 21.4228 - val_loss: 20.2508\n",
            "Epoch 47/100\n",
            "9/9 [==============================] - 0s 3ms/step - loss: 21.4138 - val_loss: 20.2420\n",
            "Epoch 48/100\n",
            "9/9 [==============================] - 0s 3ms/step - loss: 21.4048 - val_loss: 20.2335\n",
            "Epoch 49/100\n",
            "9/9 [==============================] - 0s 4ms/step - loss: 21.3957 - val_loss: 20.2248\n",
            "Epoch 50/100\n",
            "9/9 [==============================] - 0s 3ms/step - loss: 21.3867 - val_loss: 20.2161\n",
            "Epoch 51/100\n",
            "9/9 [==============================] - 0s 4ms/step - loss: 21.3776 - val_loss: 20.2073\n",
            "Epoch 52/100\n",
            "9/9 [==============================] - 0s 3ms/step - loss: 21.3687 - val_loss: 20.1988\n",
            "Epoch 53/100\n",
            "9/9 [==============================] - 0s 3ms/step - loss: 21.3596 - val_loss: 20.1902\n",
            "Epoch 54/100\n",
            "9/9 [==============================] - 0s 3ms/step - loss: 21.3505 - val_loss: 20.1814\n",
            "Epoch 55/100\n",
            "9/9 [==============================] - 0s 4ms/step - loss: 21.3415 - val_loss: 20.1725\n",
            "Epoch 56/100\n",
            "9/9 [==============================] - 0s 4ms/step - loss: 21.3325 - val_loss: 20.1640\n",
            "Epoch 57/100\n",
            "9/9 [==============================] - 0s 4ms/step - loss: 21.3234 - val_loss: 20.1552\n",
            "Epoch 58/100\n",
            "9/9 [==============================] - 0s 4ms/step - loss: 21.3144 - val_loss: 20.1465\n",
            "Epoch 59/100\n",
            "9/9 [==============================] - 0s 4ms/step - loss: 21.3054 - val_loss: 20.1376\n",
            "Epoch 60/100\n",
            "9/9 [==============================] - 0s 4ms/step - loss: 21.2964 - val_loss: 20.1290\n",
            "Epoch 61/100\n",
            "9/9 [==============================] - 0s 3ms/step - loss: 21.2873 - val_loss: 20.1204\n",
            "Epoch 62/100\n",
            "9/9 [==============================] - 0s 3ms/step - loss: 21.2783 - val_loss: 20.1114\n",
            "Epoch 63/100\n",
            "9/9 [==============================] - 0s 3ms/step - loss: 21.2693 - val_loss: 20.1026\n",
            "Epoch 64/100\n",
            "9/9 [==============================] - 0s 4ms/step - loss: 21.2602 - val_loss: 20.0940\n",
            "Epoch 65/100\n",
            "9/9 [==============================] - 0s 3ms/step - loss: 21.2512 - val_loss: 20.0853\n",
            "Epoch 66/100\n",
            "9/9 [==============================] - 0s 4ms/step - loss: 21.2422 - val_loss: 20.0767\n",
            "Epoch 67/100\n",
            "9/9 [==============================] - 0s 4ms/step - loss: 21.2331 - val_loss: 20.0679\n",
            "Epoch 68/100\n",
            "9/9 [==============================] - 0s 4ms/step - loss: 21.2241 - val_loss: 20.0594\n",
            "Epoch 69/100\n",
            "9/9 [==============================] - 0s 3ms/step - loss: 21.2151 - val_loss: 20.0504\n",
            "Epoch 70/100\n",
            "9/9 [==============================] - 0s 4ms/step - loss: 21.2060 - val_loss: 20.0416\n",
            "Epoch 71/100\n",
            "9/9 [==============================] - 0s 4ms/step - loss: 21.1970 - val_loss: 20.0329\n",
            "Epoch 72/100\n",
            "9/9 [==============================] - 0s 4ms/step - loss: 21.1880 - val_loss: 20.0243\n",
            "Epoch 73/100\n",
            "9/9 [==============================] - 0s 6ms/step - loss: 21.1790 - val_loss: 20.0156\n",
            "Epoch 74/100\n",
            "9/9 [==============================] - 0s 5ms/step - loss: 21.1699 - val_loss: 20.0068\n",
            "Epoch 75/100\n",
            "9/9 [==============================] - 0s 4ms/step - loss: 21.1609 - val_loss: 19.9980\n",
            "Epoch 76/100\n",
            "9/9 [==============================] - 0s 4ms/step - loss: 21.1519 - val_loss: 19.9894\n",
            "Epoch 77/100\n",
            "9/9 [==============================] - 0s 3ms/step - loss: 21.1428 - val_loss: 19.9805\n",
            "Epoch 78/100\n",
            "9/9 [==============================] - 0s 3ms/step - loss: 21.1338 - val_loss: 19.9720\n",
            "Epoch 79/100\n",
            "9/9 [==============================] - 0s 4ms/step - loss: 21.1247 - val_loss: 19.9633\n",
            "Epoch 80/100\n",
            "9/9 [==============================] - 0s 4ms/step - loss: 21.1157 - val_loss: 19.9545\n",
            "Epoch 81/100\n",
            "9/9 [==============================] - 0s 4ms/step - loss: 21.1067 - val_loss: 19.9458\n",
            "Epoch 82/100\n",
            "9/9 [==============================] - 0s 4ms/step - loss: 21.0977 - val_loss: 19.9372\n",
            "Epoch 83/100\n",
            "9/9 [==============================] - 0s 3ms/step - loss: 21.0886 - val_loss: 19.9286\n",
            "Epoch 84/100\n",
            "9/9 [==============================] - 0s 3ms/step - loss: 21.0796 - val_loss: 19.9200\n",
            "Epoch 85/100\n",
            "9/9 [==============================] - 0s 4ms/step - loss: 21.0705 - val_loss: 19.9111\n",
            "Epoch 86/100\n",
            "9/9 [==============================] - 0s 4ms/step - loss: 21.0615 - val_loss: 19.9022\n",
            "Epoch 87/100\n",
            "9/9 [==============================] - 0s 4ms/step - loss: 21.0525 - val_loss: 19.8936\n",
            "Epoch 88/100\n",
            "9/9 [==============================] - 0s 3ms/step - loss: 21.0435 - val_loss: 19.8849\n",
            "Epoch 89/100\n",
            "9/9 [==============================] - 0s 3ms/step - loss: 21.0345 - val_loss: 19.8762\n",
            "Epoch 90/100\n",
            "9/9 [==============================] - 0s 3ms/step - loss: 21.0254 - val_loss: 19.8674\n",
            "Epoch 91/100\n",
            "9/9 [==============================] - 0s 3ms/step - loss: 21.0164 - val_loss: 19.8588\n",
            "Epoch 92/100\n",
            "9/9 [==============================] - 0s 4ms/step - loss: 21.0073 - val_loss: 19.8501\n",
            "Epoch 93/100\n",
            "9/9 [==============================] - 0s 4ms/step - loss: 20.9983 - val_loss: 19.8415\n",
            "Epoch 94/100\n",
            "9/9 [==============================] - 0s 4ms/step - loss: 20.9893 - val_loss: 19.8325\n",
            "Epoch 95/100\n",
            "9/9 [==============================] - 0s 4ms/step - loss: 20.9803 - val_loss: 19.8237\n",
            "Epoch 96/100\n",
            "9/9 [==============================] - 0s 4ms/step - loss: 20.9712 - val_loss: 19.8151\n",
            "Epoch 97/100\n",
            "9/9 [==============================] - 0s 3ms/step - loss: 20.9622 - val_loss: 19.8062\n",
            "Epoch 98/100\n",
            "9/9 [==============================] - 0s 4ms/step - loss: 20.9532 - val_loss: 19.7979\n",
            "Epoch 99/100\n",
            "9/9 [==============================] - 0s 4ms/step - loss: 20.9441 - val_loss: 19.7892\n",
            "Epoch 100/100\n",
            "9/9 [==============================] - 0s 4ms/step - loss: 20.9351 - val_loss: 19.7803\n"
          ],
          "name": "stdout"
        }
      ]
    },
    {
      "cell_type": "code",
      "metadata": {
        "id": "Y8APIK9Y7BCo"
      },
      "source": [
        "xtest2_2 = np.array(testx2)\n",
        "ypred = singlemodel.predict(xtest2_2)"
      ],
      "execution_count": 66,
      "outputs": []
    },
    {
      "cell_type": "code",
      "metadata": {
        "colab": {
          "base_uri": "https://localhost:8080/"
        },
        "id": "lHKvc7pY8ILa",
        "outputId": "77d6541a-6fca-4ae6-b183-9ee517368da9"
      },
      "source": [
        "ypred"
      ],
      "execution_count": 67,
      "outputs": [
        {
          "output_type": "execute_result",
          "data": {
            "text/plain": [
              "array([[ 0.21154046],\n",
              "       [-1.9529729 ],\n",
              "       [ 3.0254078 ],\n",
              "       [ 2.9171822 ],\n",
              "       [ 2.55643   ],\n",
              "       [-0.14921165],\n",
              "       [ 3.0614831 ],\n",
              "       [ 2.9171822 ],\n",
              "       [ 3.6386867 ],\n",
              "       [ 3.8190627 ],\n",
              "       [ 3.6747618 ],\n",
              "       [ 3.9994388 ],\n",
              "       [ 4.21589   ],\n",
              "       [ 0.752669  ],\n",
              "       [ 2.8450317 ],\n",
              "       [ 1.2216468 ],\n",
              "       [ 0.752669  ],\n",
              "       [ 0.4640671 ],\n",
              "       [ 2.9893327 ],\n",
              "       [ 0.752669  ],\n",
              "       [-0.3295877 ],\n",
              "       [ 2.55643   ],\n",
              "       [ 2.1956778 ],\n",
              "       [ 3.4583106 ],\n",
              "       [ 1.1134212 ],\n",
              "       [ 3.7469125 ],\n",
              "       [ 2.3760538 ],\n",
              "       [ 2.1956778 ],\n",
              "       [ 2.7368062 ],\n",
              "       [ 3.1697087 ],\n",
              "       [ 2.7007308 ],\n",
              "       [ 2.9171822 ],\n",
              "       [ 1.8349257 ],\n",
              "       [ 0.6805185 ],\n",
              "       [ 2.55643   ],\n",
              "       [ 2.3760538 ],\n",
              "       [ 3.2418592 ],\n",
              "       [ 3.6026115 ],\n",
              "       [ 2.4842796 ],\n",
              "       [ 1.4741734 ],\n",
              "       [ 3.7108371 ],\n",
              "       [ 2.7007308 ],\n",
              "       [ 3.8912132 ],\n",
              "       [ 2.1956778 ],\n",
              "       [ 3.7829876 ],\n",
              "       [ 2.7368062 ],\n",
              "       [ 3.0975585 ],\n",
              "       [ 3.0975585 ],\n",
              "       [ 1.8349257 ],\n",
              "       [ 1.1134212 ],\n",
              "       [ 3.7108371 ],\n",
              "       [ 2.3760538 ],\n",
              "       [ 3.0975585 ],\n",
              "       [ 1.6545495 ],\n",
              "       [ 3.6026115 ],\n",
              "       [ 3.2779346 ],\n",
              "       [ 3.3861601 ],\n",
              "       [ 2.9171822 ],\n",
              "       [ 2.9171822 ],\n",
              "       [ 3.9994388 ],\n",
              "       [ 3.6386867 ],\n",
              "       [ 2.9171822 ],\n",
              "       [ 3.3500848 ],\n",
              "       [ 3.4583106 ],\n",
              "       [ 3.7469125 ],\n",
              "       [ 1.402023  ],\n",
              "       [ 3.8190627 ],\n",
              "       [ 3.9272885 ],\n",
              "       [ 3.8190627 ],\n",
              "       [ 1.9792265 ],\n",
              "       [ 1.8349257 ],\n",
              "       [ 2.3760538 ],\n",
              "       [ 3.8912132 ],\n",
              "       [ 3.4583106 ],\n",
              "       [ 2.8450317 ],\n",
              "       [ 3.1336336 ],\n",
              "       [ 3.1336336 ],\n",
              "       [ 3.205784  ]], dtype=float32)"
            ]
          },
          "metadata": {
            "tags": []
          },
          "execution_count": 67
        }
      ]
    },
    {
      "cell_type": "code",
      "metadata": {
        "colab": {
          "base_uri": "https://localhost:8080/"
        },
        "id": "gqKIvKZd8Swt",
        "outputId": "20a0c9ff-4317-41a3-de1f-fe0593cdb54e"
      },
      "source": [
        "testy"
      ],
      "execution_count": 68,
      "outputs": [
        {
          "output_type": "execute_result",
          "data": {
            "text/plain": [
              "1      15.0\n",
              "13     14.0\n",
              "20     25.0\n",
              "21     24.0\n",
              "35     17.0\n",
              "       ... \n",
              "381    36.0\n",
              "388    26.0\n",
              "391    36.0\n",
              "395    32.0\n",
              "397    31.0\n",
              "Name: mpg, Length: 78, dtype: float64"
            ]
          },
          "metadata": {
            "tags": []
          },
          "execution_count": 68
        }
      ]
    },
    {
      "cell_type": "code",
      "metadata": {
        "id": "j1jnNzmB8WYn"
      },
      "source": [
        "dnnmodel = tf.keras.Sequential([\n",
        "                                   hpnormalizer,\n",
        "                                  keras.layers.Dense(16, activation='relu'),\n",
        "                                keras.layers.Dense(32, activation='relu'),\n",
        "                                   keras.layers.Dense(1)\n",
        "]\n",
        ")"
      ],
      "execution_count": 69,
      "outputs": []
    },
    {
      "cell_type": "code",
      "metadata": {
        "colab": {
          "base_uri": "https://localhost:8080/"
        },
        "id": "m-4Yrvt08orE",
        "outputId": "82447673-6aa3-4e12-da66-d6854cee18c1"
      },
      "source": [
        "dnnmodel.compile(optimizer='adam', loss= 'mean_absolute_error')\n",
        "dnnhistory = dnnmodel.fit(trainx2_2, trainy2, epochs=100, validation_split=0.1)"
      ],
      "execution_count": 70,
      "outputs": [
        {
          "output_type": "stream",
          "text": [
            "Epoch 1/100\n",
            "9/9 [==============================] - 1s 16ms/step - loss: 23.3696 - val_loss: 21.8131\n",
            "Epoch 2/100\n",
            "9/9 [==============================] - 0s 4ms/step - loss: 23.2632 - val_loss: 21.7123\n",
            "Epoch 3/100\n",
            "9/9 [==============================] - 0s 4ms/step - loss: 23.1654 - val_loss: 21.6077\n",
            "Epoch 4/100\n",
            "9/9 [==============================] - 0s 4ms/step - loss: 23.0583 - val_loss: 21.4886\n",
            "Epoch 5/100\n",
            "9/9 [==============================] - 0s 5ms/step - loss: 22.9337 - val_loss: 21.3521\n",
            "Epoch 6/100\n",
            "9/9 [==============================] - 0s 4ms/step - loss: 22.7920 - val_loss: 21.2006\n",
            "Epoch 7/100\n",
            "9/9 [==============================] - 0s 5ms/step - loss: 22.6311 - val_loss: 21.0337\n",
            "Epoch 8/100\n",
            "9/9 [==============================] - 0s 4ms/step - loss: 22.4547 - val_loss: 20.8463\n",
            "Epoch 9/100\n",
            "9/9 [==============================] - 0s 4ms/step - loss: 22.2548 - val_loss: 20.6287\n",
            "Epoch 10/100\n",
            "9/9 [==============================] - 0s 4ms/step - loss: 22.0195 - val_loss: 20.3823\n",
            "Epoch 11/100\n",
            "9/9 [==============================] - 0s 4ms/step - loss: 21.7572 - val_loss: 20.0964\n",
            "Epoch 12/100\n",
            "9/9 [==============================] - 0s 4ms/step - loss: 21.4530 - val_loss: 19.7666\n",
            "Epoch 13/100\n",
            "9/9 [==============================] - 0s 5ms/step - loss: 21.1013 - val_loss: 19.3903\n",
            "Epoch 14/100\n",
            "9/9 [==============================] - 0s 4ms/step - loss: 20.7011 - val_loss: 18.9586\n",
            "Epoch 15/100\n",
            "9/9 [==============================] - 0s 4ms/step - loss: 20.2411 - val_loss: 18.4676\n",
            "Epoch 16/100\n",
            "9/9 [==============================] - 0s 4ms/step - loss: 19.7135 - val_loss: 17.9142\n",
            "Epoch 17/100\n",
            "9/9 [==============================] - 0s 4ms/step - loss: 19.1279 - val_loss: 17.2811\n",
            "Epoch 18/100\n",
            "9/9 [==============================] - 0s 4ms/step - loss: 18.4509 - val_loss: 16.5714\n",
            "Epoch 19/100\n",
            "9/9 [==============================] - 0s 5ms/step - loss: 17.6937 - val_loss: 15.7706\n",
            "Epoch 20/100\n",
            "9/9 [==============================] - 0s 4ms/step - loss: 16.8382 - val_loss: 14.8758\n",
            "Epoch 21/100\n",
            "9/9 [==============================] - 0s 5ms/step - loss: 15.9027 - val_loss: 13.9458\n",
            "Epoch 22/100\n",
            "9/9 [==============================] - 0s 4ms/step - loss: 14.9092 - val_loss: 13.0050\n",
            "Epoch 23/100\n",
            "9/9 [==============================] - 0s 4ms/step - loss: 13.8443 - val_loss: 12.0434\n",
            "Epoch 24/100\n",
            "9/9 [==============================] - 0s 4ms/step - loss: 12.7343 - val_loss: 10.9975\n",
            "Epoch 25/100\n",
            "9/9 [==============================] - 0s 5ms/step - loss: 11.5291 - val_loss: 9.8623\n",
            "Epoch 26/100\n",
            "9/9 [==============================] - 0s 4ms/step - loss: 10.2614 - val_loss: 8.6906\n",
            "Epoch 27/100\n",
            "9/9 [==============================] - 0s 5ms/step - loss: 8.9942 - val_loss: 7.5080\n",
            "Epoch 28/100\n",
            "9/9 [==============================] - 0s 5ms/step - loss: 7.6477 - val_loss: 6.2293\n",
            "Epoch 29/100\n",
            "9/9 [==============================] - 0s 4ms/step - loss: 6.3133 - val_loss: 5.1273\n",
            "Epoch 30/100\n",
            "9/9 [==============================] - 0s 4ms/step - loss: 5.1818 - val_loss: 4.3785\n",
            "Epoch 31/100\n",
            "9/9 [==============================] - 0s 4ms/step - loss: 4.4346 - val_loss: 3.8863\n",
            "Epoch 32/100\n",
            "9/9 [==============================] - 0s 5ms/step - loss: 4.0833 - val_loss: 3.5796\n",
            "Epoch 33/100\n",
            "9/9 [==============================] - 0s 5ms/step - loss: 3.9789 - val_loss: 3.3759\n",
            "Epoch 34/100\n",
            "9/9 [==============================] - 0s 4ms/step - loss: 3.9127 - val_loss: 3.2939\n",
            "Epoch 35/100\n",
            "9/9 [==============================] - 0s 4ms/step - loss: 3.8764 - val_loss: 3.2657\n",
            "Epoch 36/100\n",
            "9/9 [==============================] - 0s 5ms/step - loss: 3.8517 - val_loss: 3.2442\n",
            "Epoch 37/100\n",
            "9/9 [==============================] - 0s 4ms/step - loss: 3.8376 - val_loss: 3.2355\n",
            "Epoch 38/100\n",
            "9/9 [==============================] - 0s 4ms/step - loss: 3.8237 - val_loss: 3.2337\n",
            "Epoch 39/100\n",
            "9/9 [==============================] - 0s 5ms/step - loss: 3.8014 - val_loss: 3.2176\n",
            "Epoch 40/100\n",
            "9/9 [==============================] - 0s 4ms/step - loss: 3.7869 - val_loss: 3.2218\n",
            "Epoch 41/100\n",
            "9/9 [==============================] - 0s 4ms/step - loss: 3.7694 - val_loss: 3.2382\n",
            "Epoch 42/100\n",
            "9/9 [==============================] - 0s 4ms/step - loss: 3.7648 - val_loss: 3.2432\n",
            "Epoch 43/100\n",
            "9/9 [==============================] - 0s 4ms/step - loss: 3.7455 - val_loss: 3.2263\n",
            "Epoch 44/100\n",
            "9/9 [==============================] - 0s 4ms/step - loss: 3.7327 - val_loss: 3.2126\n",
            "Epoch 45/100\n",
            "9/9 [==============================] - 0s 4ms/step - loss: 3.7212 - val_loss: 3.2067\n",
            "Epoch 46/100\n",
            "9/9 [==============================] - 0s 5ms/step - loss: 3.7110 - val_loss: 3.2047\n",
            "Epoch 47/100\n",
            "9/9 [==============================] - 0s 4ms/step - loss: 3.6971 - val_loss: 3.2175\n",
            "Epoch 48/100\n",
            "9/9 [==============================] - 0s 4ms/step - loss: 3.6838 - val_loss: 3.2173\n",
            "Epoch 49/100\n",
            "9/9 [==============================] - 0s 4ms/step - loss: 3.6720 - val_loss: 3.2091\n",
            "Epoch 50/100\n",
            "9/9 [==============================] - 0s 4ms/step - loss: 3.6569 - val_loss: 3.1939\n",
            "Epoch 51/100\n",
            "9/9 [==============================] - 0s 4ms/step - loss: 3.6426 - val_loss: 3.1805\n",
            "Epoch 52/100\n",
            "9/9 [==============================] - 0s 5ms/step - loss: 3.6319 - val_loss: 3.1682\n",
            "Epoch 53/100\n",
            "9/9 [==============================] - 0s 4ms/step - loss: 3.6197 - val_loss: 3.1616\n",
            "Epoch 54/100\n",
            "9/9 [==============================] - 0s 5ms/step - loss: 3.6127 - val_loss: 3.1626\n",
            "Epoch 55/100\n",
            "9/9 [==============================] - 0s 5ms/step - loss: 3.6011 - val_loss: 3.1313\n",
            "Epoch 56/100\n",
            "9/9 [==============================] - 0s 4ms/step - loss: 3.5912 - val_loss: 3.1186\n",
            "Epoch 57/100\n",
            "9/9 [==============================] - 0s 4ms/step - loss: 3.5843 - val_loss: 3.1167\n",
            "Epoch 58/100\n",
            "9/9 [==============================] - 0s 4ms/step - loss: 3.5732 - val_loss: 3.1137\n",
            "Epoch 59/100\n",
            "9/9 [==============================] - 0s 4ms/step - loss: 3.5654 - val_loss: 3.0981\n",
            "Epoch 60/100\n",
            "9/9 [==============================] - 0s 6ms/step - loss: 3.5541 - val_loss: 3.0904\n",
            "Epoch 61/100\n",
            "9/9 [==============================] - 0s 4ms/step - loss: 3.5459 - val_loss: 3.0783\n",
            "Epoch 62/100\n",
            "9/9 [==============================] - 0s 4ms/step - loss: 3.5387 - val_loss: 3.0848\n",
            "Epoch 63/100\n",
            "9/9 [==============================] - 0s 4ms/step - loss: 3.5279 - val_loss: 3.0479\n",
            "Epoch 64/100\n",
            "9/9 [==============================] - 0s 4ms/step - loss: 3.5198 - val_loss: 3.0227\n",
            "Epoch 65/100\n",
            "9/9 [==============================] - 0s 4ms/step - loss: 3.5091 - val_loss: 3.0203\n",
            "Epoch 66/100\n",
            "9/9 [==============================] - 0s 4ms/step - loss: 3.5010 - val_loss: 3.0097\n",
            "Epoch 67/100\n",
            "9/9 [==============================] - 0s 4ms/step - loss: 3.4912 - val_loss: 2.9824\n",
            "Epoch 68/100\n",
            "9/9 [==============================] - 0s 4ms/step - loss: 3.4848 - val_loss: 2.9847\n",
            "Epoch 69/100\n",
            "9/9 [==============================] - 0s 4ms/step - loss: 3.4749 - val_loss: 2.9708\n",
            "Epoch 70/100\n",
            "9/9 [==============================] - 0s 4ms/step - loss: 3.4670 - val_loss: 2.9560\n",
            "Epoch 71/100\n",
            "9/9 [==============================] - 0s 5ms/step - loss: 3.4612 - val_loss: 2.9361\n",
            "Epoch 72/100\n",
            "9/9 [==============================] - 0s 4ms/step - loss: 3.4533 - val_loss: 2.9502\n",
            "Epoch 73/100\n",
            "9/9 [==============================] - 0s 4ms/step - loss: 3.4459 - val_loss: 2.9376\n",
            "Epoch 74/100\n",
            "9/9 [==============================] - 0s 4ms/step - loss: 3.4445 - val_loss: 2.9140\n",
            "Epoch 75/100\n",
            "9/9 [==============================] - 0s 5ms/step - loss: 3.4356 - val_loss: 2.9277\n",
            "Epoch 76/100\n",
            "9/9 [==============================] - 0s 4ms/step - loss: 3.4313 - val_loss: 2.9138\n",
            "Epoch 77/100\n",
            "9/9 [==============================] - 0s 4ms/step - loss: 3.4243 - val_loss: 2.9139\n",
            "Epoch 78/100\n",
            "9/9 [==============================] - 0s 4ms/step - loss: 3.4194 - val_loss: 2.8957\n",
            "Epoch 79/100\n",
            "9/9 [==============================] - 0s 4ms/step - loss: 3.4139 - val_loss: 2.8776\n",
            "Epoch 80/100\n",
            "9/9 [==============================] - 0s 4ms/step - loss: 3.4098 - val_loss: 2.8606\n",
            "Epoch 81/100\n",
            "9/9 [==============================] - 0s 4ms/step - loss: 3.4098 - val_loss: 2.8823\n",
            "Epoch 82/100\n",
            "9/9 [==============================] - 0s 4ms/step - loss: 3.4009 - val_loss: 2.8470\n",
            "Epoch 83/100\n",
            "9/9 [==============================] - 0s 4ms/step - loss: 3.3943 - val_loss: 2.8355\n",
            "Epoch 84/100\n",
            "9/9 [==============================] - 0s 5ms/step - loss: 3.3912 - val_loss: 2.8335\n",
            "Epoch 85/100\n",
            "9/9 [==============================] - 0s 4ms/step - loss: 3.3870 - val_loss: 2.8440\n",
            "Epoch 86/100\n",
            "9/9 [==============================] - 0s 4ms/step - loss: 3.3839 - val_loss: 2.8403\n",
            "Epoch 87/100\n",
            "9/9 [==============================] - 0s 4ms/step - loss: 3.3856 - val_loss: 2.7984\n",
            "Epoch 88/100\n",
            "9/9 [==============================] - 0s 6ms/step - loss: 3.3814 - val_loss: 2.8249\n",
            "Epoch 89/100\n",
            "9/9 [==============================] - 0s 7ms/step - loss: 3.3726 - val_loss: 2.8169\n",
            "Epoch 90/100\n",
            "9/9 [==============================] - 0s 4ms/step - loss: 3.3687 - val_loss: 2.7900\n",
            "Epoch 91/100\n",
            "9/9 [==============================] - 0s 4ms/step - loss: 3.3641 - val_loss: 2.7814\n",
            "Epoch 92/100\n",
            "9/9 [==============================] - 0s 4ms/step - loss: 3.3608 - val_loss: 2.7785\n",
            "Epoch 93/100\n",
            "9/9 [==============================] - 0s 4ms/step - loss: 3.3573 - val_loss: 2.7590\n",
            "Epoch 94/100\n",
            "9/9 [==============================] - 0s 5ms/step - loss: 3.3558 - val_loss: 2.7717\n",
            "Epoch 95/100\n",
            "9/9 [==============================] - 0s 4ms/step - loss: 3.3532 - val_loss: 2.7552\n",
            "Epoch 96/100\n",
            "9/9 [==============================] - 0s 4ms/step - loss: 3.3596 - val_loss: 2.7877\n",
            "Epoch 97/100\n",
            "9/9 [==============================] - 0s 4ms/step - loss: 3.3507 - val_loss: 2.7343\n",
            "Epoch 98/100\n",
            "9/9 [==============================] - 0s 4ms/step - loss: 3.3486 - val_loss: 2.7372\n",
            "Epoch 99/100\n",
            "9/9 [==============================] - 0s 6ms/step - loss: 3.3436 - val_loss: 2.7475\n",
            "Epoch 100/100\n",
            "9/9 [==============================] - 0s 5ms/step - loss: 3.3434 - val_loss: 2.7278\n"
          ],
          "name": "stdout"
        }
      ]
    },
    {
      "cell_type": "code",
      "metadata": {
        "id": "Al6ASa5G8286"
      },
      "source": [
        "y2pred = dnnmodel.predict(xtest2_2)"
      ],
      "execution_count": 71,
      "outputs": []
    },
    {
      "cell_type": "code",
      "metadata": {
        "colab": {
          "base_uri": "https://localhost:8080/"
        },
        "id": "acsi22Y88_7R",
        "outputId": "14a65a43-20dc-43b7-e033-1dc4544fd6ef"
      },
      "source": [
        "y2pred"
      ],
      "execution_count": 72,
      "outputs": [
        {
          "output_type": "execute_result",
          "data": {
            "text/plain": [
              "array([[14.126186],\n",
              "       [15.232847],\n",
              "       [25.789581],\n",
              "       [24.978294],\n",
              "       [22.274021],\n",
              "       [14.232372],\n",
              "       [26.060009],\n",
              "       [24.978294],\n",
              "       [30.387577],\n",
              "       [31.780373],\n",
              "       [30.666134],\n",
              "       [33.173176],\n",
              "       [34.844532],\n",
              "       [14.016552],\n",
              "       [24.437443],\n",
              "       [14.49239 ],\n",
              "       [14.016552],\n",
              "       [14.051858],\n",
              "       [25.519152],\n",
              "       [14.016552],\n",
              "       [14.285465],\n",
              "       [22.274021],\n",
              "       [19.569744],\n",
              "       [29.034712],\n",
              "       [14.350507],\n",
              "       [31.223255],\n",
              "       [20.921883],\n",
              "       [19.569744],\n",
              "       [23.62616 ],\n",
              "       [26.871292],\n",
              "       [23.35573 ],\n",
              "       [24.978294],\n",
              "       [16.865467],\n",
              "       [13.994912],\n",
              "       [22.274021],\n",
              "       [20.921883],\n",
              "       [27.412144],\n",
              "       [30.11642 ],\n",
              "       [21.733164],\n",
              "       [14.875917],\n",
              "       [30.944696],\n",
              "       [23.35573 ],\n",
              "       [32.337494],\n",
              "       [19.569744],\n",
              "       [31.501812],\n",
              "       [23.62616 ],\n",
              "       [26.330435],\n",
              "       [26.330435],\n",
              "       [16.865467],\n",
              "       [14.350507],\n",
              "       [30.944696],\n",
              "       [20.921883],\n",
              "       [26.330435],\n",
              "       [15.615494],\n",
              "       [30.11642 ],\n",
              "       [27.682575],\n",
              "       [28.493856],\n",
              "       [24.978294],\n",
              "       [24.978294],\n",
              "       [33.173176],\n",
              "       [30.387577],\n",
              "       [24.978294],\n",
              "       [28.22343 ],\n",
              "       [29.034712],\n",
              "       [31.223255],\n",
              "       [14.72886 ],\n",
              "       [31.780373],\n",
              "       [32.616055],\n",
              "       [31.780373],\n",
              "       [17.947178],\n",
              "       [16.865467],\n",
              "       [20.921883],\n",
              "       [32.337494],\n",
              "       [29.034712],\n",
              "       [24.437443],\n",
              "       [26.60086 ],\n",
              "       [26.600863],\n",
              "       [27.141718]], dtype=float32)"
            ]
          },
          "metadata": {
            "tags": []
          },
          "execution_count": 72
        }
      ]
    },
    {
      "cell_type": "code",
      "metadata": {
        "id": "FZXQ-awW9BKW"
      },
      "source": [
        ""
      ],
      "execution_count": null,
      "outputs": []
    }
  ]
}