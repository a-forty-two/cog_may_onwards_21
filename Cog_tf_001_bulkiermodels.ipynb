{
  "nbformat": 4,
  "nbformat_minor": 0,
  "metadata": {
    "colab": {
      "name": "Cog_tf_001.ipynb",
      "provenance": [],
      "authorship_tag": "ABX9TyOAr1ZfumJmvXpB1a3KW3kk"
    },
    "kernelspec": {
      "name": "python3",
      "display_name": "Python 3"
    },
    "language_info": {
      "name": "python"
    }
  },
  "cells": [
    {
      "cell_type": "code",
      "metadata": {
        "id": "1sX841fyTZhm"
      },
      "source": [
        "# Agenda-> Neural Networks\n",
        "# Tensorflow\n",
        "# TF 2.x \n",
        "\n",
        "# Computer Vision\n",
        "# Natural LP\n",
        "# SIGNAL "
      ],
      "execution_count": 1,
      "outputs": []
    },
    {
      "cell_type": "code",
      "metadata": {
        "id": "NkBN2N21Tt87"
      },
      "source": [
        "import tensorflow as tf"
      ],
      "execution_count": 2,
      "outputs": []
    },
    {
      "cell_type": "code",
      "metadata": {
        "colab": {
          "base_uri": "https://localhost:8080/",
          "height": 35
        },
        "id": "t_GJKZtgclMy",
        "outputId": "97751e6b-5751-44dd-867b-bacb4d54a41a"
      },
      "source": [
        "tf.__version__"
      ],
      "execution_count": 3,
      "outputs": [
        {
          "output_type": "execute_result",
          "data": {
            "application/vnd.google.colaboratory.intrinsic+json": {
              "type": "string"
            },
            "text/plain": [
              "'2.5.0'"
            ]
          },
          "metadata": {
            "tags": []
          },
          "execution_count": 3
        }
      ]
    },
    {
      "cell_type": "code",
      "metadata": {
        "id": "15ZTi1aScnFP"
      },
      "source": [
        "import numpy as np\n",
        "x = np.array([1,2,3,4,5,6,7,8, 9 ,10])\n",
        "y = np.array([0,1,0,1,0,1,0,1,0,1])"
      ],
      "execution_count": 15,
      "outputs": []
    },
    {
      "cell_type": "code",
      "metadata": {
        "id": "LDHUBp_7c6e1"
      },
      "source": [
        "from tensorflow import keras\n"
      ],
      "execution_count": 16,
      "outputs": []
    },
    {
      "cell_type": "code",
      "metadata": {
        "id": "Y9YKlAopdI_F"
      },
      "source": [
        "layer1 = keras.layers.Dense(1)\n",
        "model = keras.models.Sequential([layer1])\n",
        "model.compile(loss= keras.losses.mean_squared_error, optimizer='adam', metrics=[keras.metrics.mean_squared_error])"
      ],
      "execution_count": 17,
      "outputs": []
    },
    {
      "cell_type": "code",
      "metadata": {
        "id": "m00dGM9kdbGe"
      },
      "source": [
        ""
      ],
      "execution_count": 21,
      "outputs": []
    },
    {
      "cell_type": "code",
      "metadata": {
        "id": "2lyKHz_edmXe"
      },
      "source": [
        ""
      ],
      "execution_count": 29,
      "outputs": []
    },
    {
      "cell_type": "code",
      "metadata": {
        "colab": {
          "base_uri": "https://localhost:8080/"
        },
        "id": "JV4YAVQ_dzkp",
        "outputId": "181d268b-1a92-4145-cf3d-9698a43a37de"
      },
      "source": [
        "history = model.fit(x, y, epochs=50)"
      ],
      "execution_count": 30,
      "outputs": [
        {
          "output_type": "stream",
          "text": [
            "Epoch 1/50\n",
            "1/1 [==============================] - 0s 469ms/step - loss: 98.2729 - mean_squared_error: 98.2729\n",
            "Epoch 2/50\n",
            "1/1 [==============================] - 0s 5ms/step - loss: 98.1324 - mean_squared_error: 98.1324\n",
            "Epoch 3/50\n",
            "1/1 [==============================] - 0s 6ms/step - loss: 97.9920 - mean_squared_error: 97.9920\n",
            "Epoch 4/50\n",
            "1/1 [==============================] - 0s 5ms/step - loss: 97.8517 - mean_squared_error: 97.8517\n",
            "Epoch 5/50\n",
            "1/1 [==============================] - 0s 4ms/step - loss: 97.7115 - mean_squared_error: 97.7115\n",
            "Epoch 6/50\n",
            "1/1 [==============================] - 0s 5ms/step - loss: 97.5715 - mean_squared_error: 97.5715\n",
            "Epoch 7/50\n",
            "1/1 [==============================] - 0s 6ms/step - loss: 97.4315 - mean_squared_error: 97.4315\n",
            "Epoch 8/50\n",
            "1/1 [==============================] - 0s 3ms/step - loss: 97.2917 - mean_squared_error: 97.2917\n",
            "Epoch 9/50\n",
            "1/1 [==============================] - 0s 5ms/step - loss: 97.1519 - mean_squared_error: 97.1519\n",
            "Epoch 10/50\n",
            "1/1 [==============================] - 0s 5ms/step - loss: 97.0123 - mean_squared_error: 97.0123\n",
            "Epoch 11/50\n",
            "1/1 [==============================] - 0s 4ms/step - loss: 96.8728 - mean_squared_error: 96.8728\n",
            "Epoch 12/50\n",
            "1/1 [==============================] - 0s 3ms/step - loss: 96.7335 - mean_squared_error: 96.7335\n",
            "Epoch 13/50\n",
            "1/1 [==============================] - 0s 5ms/step - loss: 96.5942 - mean_squared_error: 96.5942\n",
            "Epoch 14/50\n",
            "1/1 [==============================] - 0s 4ms/step - loss: 96.4550 - mean_squared_error: 96.4550\n",
            "Epoch 15/50\n",
            "1/1 [==============================] - 0s 7ms/step - loss: 96.3160 - mean_squared_error: 96.3160\n",
            "Epoch 16/50\n",
            "1/1 [==============================] - 0s 8ms/step - loss: 96.1771 - mean_squared_error: 96.1771\n",
            "Epoch 17/50\n",
            "1/1 [==============================] - 0s 9ms/step - loss: 96.0384 - mean_squared_error: 96.0384\n",
            "Epoch 18/50\n",
            "1/1 [==============================] - 0s 4ms/step - loss: 95.8997 - mean_squared_error: 95.8997\n",
            "Epoch 19/50\n",
            "1/1 [==============================] - 0s 4ms/step - loss: 95.7612 - mean_squared_error: 95.7612\n",
            "Epoch 20/50\n",
            "1/1 [==============================] - 0s 7ms/step - loss: 95.6228 - mean_squared_error: 95.6228\n",
            "Epoch 21/50\n",
            "1/1 [==============================] - 0s 6ms/step - loss: 95.4846 - mean_squared_error: 95.4846\n",
            "Epoch 22/50\n",
            "1/1 [==============================] - 0s 8ms/step - loss: 95.3464 - mean_squared_error: 95.3464\n",
            "Epoch 23/50\n",
            "1/1 [==============================] - 0s 4ms/step - loss: 95.2085 - mean_squared_error: 95.2085\n",
            "Epoch 24/50\n",
            "1/1 [==============================] - 0s 9ms/step - loss: 95.0706 - mean_squared_error: 95.0706\n",
            "Epoch 25/50\n",
            "1/1 [==============================] - 0s 8ms/step - loss: 94.9329 - mean_squared_error: 94.9329\n",
            "Epoch 26/50\n",
            "1/1 [==============================] - 0s 6ms/step - loss: 94.7953 - mean_squared_error: 94.7953\n",
            "Epoch 27/50\n",
            "1/1 [==============================] - 0s 5ms/step - loss: 94.6578 - mean_squared_error: 94.6578\n",
            "Epoch 28/50\n",
            "1/1 [==============================] - 0s 4ms/step - loss: 94.5205 - mean_squared_error: 94.5205\n",
            "Epoch 29/50\n",
            "1/1 [==============================] - 0s 6ms/step - loss: 94.3834 - mean_squared_error: 94.3834\n",
            "Epoch 30/50\n",
            "1/1 [==============================] - 0s 6ms/step - loss: 94.2463 - mean_squared_error: 94.2463\n",
            "Epoch 31/50\n",
            "1/1 [==============================] - 0s 4ms/step - loss: 94.1094 - mean_squared_error: 94.1094\n",
            "Epoch 32/50\n",
            "1/1 [==============================] - 0s 7ms/step - loss: 93.9726 - mean_squared_error: 93.9726\n",
            "Epoch 33/50\n",
            "1/1 [==============================] - 0s 6ms/step - loss: 93.8360 - mean_squared_error: 93.8360\n",
            "Epoch 34/50\n",
            "1/1 [==============================] - 0s 6ms/step - loss: 93.6996 - mean_squared_error: 93.6996\n",
            "Epoch 35/50\n",
            "1/1 [==============================] - 0s 4ms/step - loss: 93.5632 - mean_squared_error: 93.5632\n",
            "Epoch 36/50\n",
            "1/1 [==============================] - 0s 7ms/step - loss: 93.4270 - mean_squared_error: 93.4270\n",
            "Epoch 37/50\n",
            "1/1 [==============================] - 0s 5ms/step - loss: 93.2910 - mean_squared_error: 93.2910\n",
            "Epoch 38/50\n",
            "1/1 [==============================] - 0s 6ms/step - loss: 93.1551 - mean_squared_error: 93.1551\n",
            "Epoch 39/50\n",
            "1/1 [==============================] - 0s 7ms/step - loss: 93.0193 - mean_squared_error: 93.0193\n",
            "Epoch 40/50\n",
            "1/1 [==============================] - 0s 4ms/step - loss: 92.8837 - mean_squared_error: 92.8837\n",
            "Epoch 41/50\n",
            "1/1 [==============================] - 0s 22ms/step - loss: 92.7482 - mean_squared_error: 92.7482\n",
            "Epoch 42/50\n",
            "1/1 [==============================] - 0s 4ms/step - loss: 92.6129 - mean_squared_error: 92.6129\n",
            "Epoch 43/50\n",
            "1/1 [==============================] - 0s 5ms/step - loss: 92.4777 - mean_squared_error: 92.4777\n",
            "Epoch 44/50\n",
            "1/1 [==============================] - 0s 7ms/step - loss: 92.3427 - mean_squared_error: 92.3427\n",
            "Epoch 45/50\n",
            "1/1 [==============================] - 0s 5ms/step - loss: 92.2077 - mean_squared_error: 92.2077\n",
            "Epoch 46/50\n",
            "1/1 [==============================] - 0s 3ms/step - loss: 92.0730 - mean_squared_error: 92.0730\n",
            "Epoch 47/50\n",
            "1/1 [==============================] - 0s 5ms/step - loss: 91.9384 - mean_squared_error: 91.9384\n",
            "Epoch 48/50\n",
            "1/1 [==============================] - 0s 4ms/step - loss: 91.8039 - mean_squared_error: 91.8039\n",
            "Epoch 49/50\n",
            "1/1 [==============================] - 0s 5ms/step - loss: 91.6696 - mean_squared_error: 91.6696\n",
            "Epoch 50/50\n",
            "1/1 [==============================] - 0s 5ms/step - loss: 91.5355 - mean_squared_error: 91.5355\n"
          ],
          "name": "stdout"
        }
      ]
    },
    {
      "cell_type": "code",
      "metadata": {
        "colab": {
          "base_uri": "https://localhost:8080/"
        },
        "id": "0nc_HYnaeCw0",
        "outputId": "60834c50-f161-4a63-9ba8-7dee767c39cf"
      },
      "source": [
        "history.history['loss']"
      ],
      "execution_count": 34,
      "outputs": [
        {
          "output_type": "execute_result",
          "data": {
            "text/plain": [
              "[98.27290344238281,\n",
              " 98.13240051269531,\n",
              " 97.99201965332031,\n",
              " 97.85172271728516,\n",
              " 97.7115478515625,\n",
              " 97.57147216796875,\n",
              " 97.4315185546875,\n",
              " 97.29167175292969,\n",
              " 97.15194702148438,\n",
              " 97.01233673095703,\n",
              " 96.87284088134766,\n",
              " 96.73345947265625,\n",
              " 96.59419250488281,\n",
              " 96.45504760742188,\n",
              " 96.31602478027344,\n",
              " 96.1771240234375,\n",
              " 96.0383529663086,\n",
              " 95.89973449707031,\n",
              " 95.76119995117188,\n",
              " 95.62281799316406,\n",
              " 95.48456573486328,\n",
              " 95.34644317626953,\n",
              " 95.20845031738281,\n",
              " 95.07059478759766,\n",
              " 94.9328842163086,\n",
              " 94.7952880859375,\n",
              " 94.65784454345703,\n",
              " 94.52052307128906,\n",
              " 94.38335418701172,\n",
              " 94.2463150024414,\n",
              " 94.10941314697266,\n",
              " 93.97264862060547,\n",
              " 93.8360366821289,\n",
              " 93.69956970214844,\n",
              " 93.56321716308594,\n",
              " 93.4270248413086,\n",
              " 93.29098510742188,\n",
              " 93.15507507324219,\n",
              " 93.0193099975586,\n",
              " 92.88370513916016,\n",
              " 92.74821472167969,\n",
              " 92.6128921508789,\n",
              " 92.47769927978516,\n",
              " 92.34265899658203,\n",
              " 92.20774841308594,\n",
              " 92.072998046875,\n",
              " 91.93838500976562,\n",
              " 91.8039321899414,\n",
              " 91.66962432861328,\n",
              " 91.53545379638672]"
            ]
          },
          "metadata": {
            "tags": []
          },
          "execution_count": 34
        }
      ]
    },
    {
      "cell_type": "code",
      "metadata": {
        "colab": {
          "base_uri": "https://localhost:8080/"
        },
        "id": "IdW3pD76gY3n",
        "outputId": "c6b88260-5f74-4b66-a5b0-2afb7b1082ba"
      },
      "source": [
        "model.summary()\n",
        "# y = w1 * x + bias\n",
        "# trainable params-> 2 "
      ],
      "execution_count": 35,
      "outputs": [
        {
          "output_type": "stream",
          "text": [
            "Model: \"sequential\"\n",
            "_________________________________________________________________\n",
            "Layer (type)                 Output Shape              Param #   \n",
            "=================================================================\n",
            "dense_2 (Dense)              (None, 1)                 2         \n",
            "=================================================================\n",
            "Total params: 2\n",
            "Trainable params: 2\n",
            "Non-trainable params: 0\n",
            "_________________________________________________________________\n"
          ],
          "name": "stdout"
        }
      ]
    },
    {
      "cell_type": "code",
      "metadata": {
        "colab": {
          "base_uri": "https://localhost:8080/"
        },
        "id": "Ej5rNlAbi53l",
        "outputId": "87f3d3dd-ea81-442f-e508-4bd6f6ae67e9"
      },
      "source": [
        "model.get_weights()"
      ],
      "execution_count": 36,
      "outputs": [
        {
          "output_type": "execute_result",
          "data": {
            "text/plain": [
              "[array([[-1.4677981]], dtype=float32), array([0.04977656], dtype=float32)]"
            ]
          },
          "metadata": {
            "tags": []
          },
          "execution_count": 36
        }
      ]
    },
    {
      "cell_type": "code",
      "metadata": {
        "id": "KpN9a_OkjS7Z"
      },
      "source": [
        "predictedvalues = model.predict(x)\n"
      ],
      "execution_count": 37,
      "outputs": []
    },
    {
      "cell_type": "code",
      "metadata": {
        "colab": {
          "base_uri": "https://localhost:8080/"
        },
        "id": "KiGb2G-djoW6",
        "outputId": "e9866937-771f-4e90-c5a9-a9d3b06b4a4c"
      },
      "source": [
        "predictedvalues"
      ],
      "execution_count": 38,
      "outputs": [
        {
          "output_type": "execute_result",
          "data": {
            "text/plain": [
              "array([[ -1.4180216],\n",
              "       [ -2.8858197],\n",
              "       [ -4.3536177],\n",
              "       [ -5.821416 ],\n",
              "       [ -7.289214 ],\n",
              "       [ -8.757011 ],\n",
              "       [-10.22481  ],\n",
              "       [-11.692608 ],\n",
              "       [-13.160406 ],\n",
              "       [-14.628204 ]], dtype=float32)"
            ]
          },
          "metadata": {
            "tags": []
          },
          "execution_count": 38
        }
      ]
    },
    {
      "cell_type": "code",
      "metadata": {
        "id": "x0uudYAJjpuj"
      },
      "source": [
        "layer1 = keras.layers.Dense(10)\n",
        "layer2 = keras.layers.Dense(1)\n",
        "model = keras.models.Sequential([layer1, layer2])\n",
        "model.compile(loss= keras.losses.mean_squared_error, optimizer='adam', metrics=[keras.metrics.mean_squared_error])"
      ],
      "execution_count": 43,
      "outputs": []
    },
    {
      "cell_type": "code",
      "metadata": {
        "colab": {
          "base_uri": "https://localhost:8080/"
        },
        "id": "sBzQtQMhk0h1",
        "outputId": "72e269fc-8d2c-46aa-9671-5aa101fe1231"
      },
      "source": [
        "history = model.fit(x, y, epochs=100)"
      ],
      "execution_count": 44,
      "outputs": [
        {
          "output_type": "stream",
          "text": [
            "Epoch 1/100\n",
            "1/1 [==============================] - 0s 309ms/step - loss: 0.7321 - mean_squared_error: 0.7321\n",
            "Epoch 2/100\n",
            "1/1 [==============================] - 0s 5ms/step - loss: 0.6819 - mean_squared_error: 0.6819\n",
            "Epoch 3/100\n",
            "1/1 [==============================] - 0s 4ms/step - loss: 0.6347 - mean_squared_error: 0.6347\n",
            "Epoch 4/100\n",
            "1/1 [==============================] - 0s 4ms/step - loss: 0.5907 - mean_squared_error: 0.5907\n",
            "Epoch 5/100\n",
            "1/1 [==============================] - 0s 4ms/step - loss: 0.5497 - mean_squared_error: 0.5497\n",
            "Epoch 6/100\n",
            "1/1 [==============================] - 0s 4ms/step - loss: 0.5118 - mean_squared_error: 0.5118\n",
            "Epoch 7/100\n",
            "1/1 [==============================] - 0s 5ms/step - loss: 0.4771 - mean_squared_error: 0.4771\n",
            "Epoch 8/100\n",
            "1/1 [==============================] - 0s 6ms/step - loss: 0.4455 - mean_squared_error: 0.4455\n",
            "Epoch 9/100\n",
            "1/1 [==============================] - 0s 18ms/step - loss: 0.4170 - mean_squared_error: 0.4170\n",
            "Epoch 10/100\n",
            "1/1 [==============================] - 0s 5ms/step - loss: 0.3915 - mean_squared_error: 0.3915\n",
            "Epoch 11/100\n",
            "1/1 [==============================] - 0s 8ms/step - loss: 0.3690 - mean_squared_error: 0.3690\n",
            "Epoch 12/100\n",
            "1/1 [==============================] - 0s 6ms/step - loss: 0.3494 - mean_squared_error: 0.3494\n",
            "Epoch 13/100\n",
            "1/1 [==============================] - 0s 3ms/step - loss: 0.3326 - mean_squared_error: 0.3326\n",
            "Epoch 14/100\n",
            "1/1 [==============================] - 0s 6ms/step - loss: 0.3184 - mean_squared_error: 0.3184\n",
            "Epoch 15/100\n",
            "1/1 [==============================] - 0s 6ms/step - loss: 0.3067 - mean_squared_error: 0.3067\n",
            "Epoch 16/100\n",
            "1/1 [==============================] - 0s 6ms/step - loss: 0.2972 - mean_squared_error: 0.2972\n",
            "Epoch 17/100\n",
            "1/1 [==============================] - 0s 6ms/step - loss: 0.2899 - mean_squared_error: 0.2899\n",
            "Epoch 18/100\n",
            "1/1 [==============================] - 0s 6ms/step - loss: 0.2844 - mean_squared_error: 0.2844\n",
            "Epoch 19/100\n",
            "1/1 [==============================] - 0s 9ms/step - loss: 0.2806 - mean_squared_error: 0.2806\n",
            "Epoch 20/100\n",
            "1/1 [==============================] - 0s 6ms/step - loss: 0.2782 - mean_squared_error: 0.2782\n",
            "Epoch 21/100\n",
            "1/1 [==============================] - 0s 4ms/step - loss: 0.2770 - mean_squared_error: 0.2770\n",
            "Epoch 22/100\n",
            "1/1 [==============================] - 0s 3ms/step - loss: 0.2768 - mean_squared_error: 0.2768\n",
            "Epoch 23/100\n",
            "1/1 [==============================] - 0s 4ms/step - loss: 0.2772 - mean_squared_error: 0.2772\n",
            "Epoch 24/100\n",
            "1/1 [==============================] - 0s 4ms/step - loss: 0.2781 - mean_squared_error: 0.2781\n",
            "Epoch 25/100\n",
            "1/1 [==============================] - 0s 4ms/step - loss: 0.2794 - mean_squared_error: 0.2794\n",
            "Epoch 26/100\n",
            "1/1 [==============================] - 0s 3ms/step - loss: 0.2807 - mean_squared_error: 0.2807\n",
            "Epoch 27/100\n",
            "1/1 [==============================] - 0s 4ms/step - loss: 0.2821 - mean_squared_error: 0.2821\n",
            "Epoch 28/100\n",
            "1/1 [==============================] - 0s 3ms/step - loss: 0.2833 - mean_squared_error: 0.2833\n",
            "Epoch 29/100\n",
            "1/1 [==============================] - 0s 5ms/step - loss: 0.2843 - mean_squared_error: 0.2843\n",
            "Epoch 30/100\n",
            "1/1 [==============================] - 0s 3ms/step - loss: 0.2851 - mean_squared_error: 0.2851\n",
            "Epoch 31/100\n",
            "1/1 [==============================] - 0s 3ms/step - loss: 0.2855 - mean_squared_error: 0.2855\n",
            "Epoch 32/100\n",
            "1/1 [==============================] - 0s 5ms/step - loss: 0.2856 - mean_squared_error: 0.2856\n",
            "Epoch 33/100\n",
            "1/1 [==============================] - 0s 4ms/step - loss: 0.2854 - mean_squared_error: 0.2854\n",
            "Epoch 34/100\n",
            "1/1 [==============================] - 0s 7ms/step - loss: 0.2849 - mean_squared_error: 0.2849\n",
            "Epoch 35/100\n",
            "1/1 [==============================] - 0s 6ms/step - loss: 0.2842 - mean_squared_error: 0.2842\n",
            "Epoch 36/100\n",
            "1/1 [==============================] - 0s 6ms/step - loss: 0.2833 - mean_squared_error: 0.2833\n",
            "Epoch 37/100\n",
            "1/1 [==============================] - 0s 6ms/step - loss: 0.2822 - mean_squared_error: 0.2822\n",
            "Epoch 38/100\n",
            "1/1 [==============================] - 0s 4ms/step - loss: 0.2810 - mean_squared_error: 0.2810\n",
            "Epoch 39/100\n",
            "1/1 [==============================] - 0s 3ms/step - loss: 0.2798 - mean_squared_error: 0.2798\n",
            "Epoch 40/100\n",
            "1/1 [==============================] - 0s 5ms/step - loss: 0.2785 - mean_squared_error: 0.2785\n",
            "Epoch 41/100\n",
            "1/1 [==============================] - 0s 3ms/step - loss: 0.2773 - mean_squared_error: 0.2773\n",
            "Epoch 42/100\n",
            "1/1 [==============================] - 0s 5ms/step - loss: 0.2762 - mean_squared_error: 0.2762\n",
            "Epoch 43/100\n",
            "1/1 [==============================] - 0s 6ms/step - loss: 0.2751 - mean_squared_error: 0.2751\n",
            "Epoch 44/100\n",
            "1/1 [==============================] - 0s 7ms/step - loss: 0.2742 - mean_squared_error: 0.2742\n",
            "Epoch 45/100\n",
            "1/1 [==============================] - 0s 4ms/step - loss: 0.2734 - mean_squared_error: 0.2734\n",
            "Epoch 46/100\n",
            "1/1 [==============================] - 0s 6ms/step - loss: 0.2727 - mean_squared_error: 0.2727\n",
            "Epoch 47/100\n",
            "1/1 [==============================] - 0s 4ms/step - loss: 0.2721 - mean_squared_error: 0.2721\n",
            "Epoch 48/100\n",
            "1/1 [==============================] - 0s 6ms/step - loss: 0.2716 - mean_squared_error: 0.2716\n",
            "Epoch 49/100\n",
            "1/1 [==============================] - 0s 7ms/step - loss: 0.2713 - mean_squared_error: 0.2713\n",
            "Epoch 50/100\n",
            "1/1 [==============================] - 0s 7ms/step - loss: 0.2710 - mean_squared_error: 0.2710\n",
            "Epoch 51/100\n",
            "1/1 [==============================] - 0s 7ms/step - loss: 0.2708 - mean_squared_error: 0.2708\n",
            "Epoch 52/100\n",
            "1/1 [==============================] - 0s 7ms/step - loss: 0.2706 - mean_squared_error: 0.2706\n",
            "Epoch 53/100\n",
            "1/1 [==============================] - 0s 6ms/step - loss: 0.2705 - mean_squared_error: 0.2705\n",
            "Epoch 54/100\n",
            "1/1 [==============================] - 0s 6ms/step - loss: 0.2704 - mean_squared_error: 0.2704\n",
            "Epoch 55/100\n",
            "1/1 [==============================] - 0s 6ms/step - loss: 0.2703 - mean_squared_error: 0.2703\n",
            "Epoch 56/100\n",
            "1/1 [==============================] - 0s 7ms/step - loss: 0.2702 - mean_squared_error: 0.2702\n",
            "Epoch 57/100\n",
            "1/1 [==============================] - 0s 3ms/step - loss: 0.2700 - mean_squared_error: 0.2700\n",
            "Epoch 58/100\n",
            "1/1 [==============================] - 0s 6ms/step - loss: 0.2699 - mean_squared_error: 0.2699\n",
            "Epoch 59/100\n",
            "1/1 [==============================] - 0s 6ms/step - loss: 0.2697 - mean_squared_error: 0.2697\n",
            "Epoch 60/100\n",
            "1/1 [==============================] - 0s 7ms/step - loss: 0.2695 - mean_squared_error: 0.2695\n",
            "Epoch 61/100\n",
            "1/1 [==============================] - 0s 4ms/step - loss: 0.2693 - mean_squared_error: 0.2693\n",
            "Epoch 62/100\n",
            "1/1 [==============================] - 0s 5ms/step - loss: 0.2690 - mean_squared_error: 0.2690\n",
            "Epoch 63/100\n",
            "1/1 [==============================] - 0s 4ms/step - loss: 0.2687 - mean_squared_error: 0.2687\n",
            "Epoch 64/100\n",
            "1/1 [==============================] - 0s 5ms/step - loss: 0.2685 - mean_squared_error: 0.2685\n",
            "Epoch 65/100\n",
            "1/1 [==============================] - 0s 5ms/step - loss: 0.2682 - mean_squared_error: 0.2682\n",
            "Epoch 66/100\n",
            "1/1 [==============================] - 0s 6ms/step - loss: 0.2679 - mean_squared_error: 0.2679\n",
            "Epoch 67/100\n",
            "1/1 [==============================] - 0s 5ms/step - loss: 0.2676 - mean_squared_error: 0.2676\n",
            "Epoch 68/100\n",
            "1/1 [==============================] - 0s 5ms/step - loss: 0.2673 - mean_squared_error: 0.2673\n",
            "Epoch 69/100\n",
            "1/1 [==============================] - 0s 6ms/step - loss: 0.2670 - mean_squared_error: 0.2670\n",
            "Epoch 70/100\n",
            "1/1 [==============================] - 0s 4ms/step - loss: 0.2667 - mean_squared_error: 0.2667\n",
            "Epoch 71/100\n",
            "1/1 [==============================] - 0s 4ms/step - loss: 0.2665 - mean_squared_error: 0.2665\n",
            "Epoch 72/100\n",
            "1/1 [==============================] - 0s 7ms/step - loss: 0.2662 - mean_squared_error: 0.2662\n",
            "Epoch 73/100\n",
            "1/1 [==============================] - 0s 7ms/step - loss: 0.2660 - mean_squared_error: 0.2660\n",
            "Epoch 74/100\n",
            "1/1 [==============================] - 0s 3ms/step - loss: 0.2657 - mean_squared_error: 0.2657\n",
            "Epoch 75/100\n",
            "1/1 [==============================] - 0s 4ms/step - loss: 0.2655 - mean_squared_error: 0.2655\n",
            "Epoch 76/100\n",
            "1/1 [==============================] - 0s 7ms/step - loss: 0.2653 - mean_squared_error: 0.2653\n",
            "Epoch 77/100\n",
            "1/1 [==============================] - 0s 6ms/step - loss: 0.2651 - mean_squared_error: 0.2651\n",
            "Epoch 78/100\n",
            "1/1 [==============================] - 0s 5ms/step - loss: 0.2649 - mean_squared_error: 0.2649\n",
            "Epoch 79/100\n",
            "1/1 [==============================] - 0s 5ms/step - loss: 0.2647 - mean_squared_error: 0.2647\n",
            "Epoch 80/100\n",
            "1/1 [==============================] - 0s 5ms/step - loss: 0.2645 - mean_squared_error: 0.2645\n",
            "Epoch 81/100\n",
            "1/1 [==============================] - 0s 4ms/step - loss: 0.2643 - mean_squared_error: 0.2643\n",
            "Epoch 82/100\n",
            "1/1 [==============================] - 0s 4ms/step - loss: 0.2641 - mean_squared_error: 0.2641\n",
            "Epoch 83/100\n",
            "1/1 [==============================] - 0s 4ms/step - loss: 0.2639 - mean_squared_error: 0.2639\n",
            "Epoch 84/100\n",
            "1/1 [==============================] - 0s 3ms/step - loss: 0.2637 - mean_squared_error: 0.2637\n",
            "Epoch 85/100\n",
            "1/1 [==============================] - 0s 4ms/step - loss: 0.2634 - mean_squared_error: 0.2634\n",
            "Epoch 86/100\n",
            "1/1 [==============================] - 0s 4ms/step - loss: 0.2632 - mean_squared_error: 0.2632\n",
            "Epoch 87/100\n",
            "1/1 [==============================] - 0s 3ms/step - loss: 0.2630 - mean_squared_error: 0.2630\n",
            "Epoch 88/100\n",
            "1/1 [==============================] - 0s 4ms/step - loss: 0.2628 - mean_squared_error: 0.2628\n",
            "Epoch 89/100\n",
            "1/1 [==============================] - 0s 4ms/step - loss: 0.2626 - mean_squared_error: 0.2626\n",
            "Epoch 90/100\n",
            "1/1 [==============================] - 0s 7ms/step - loss: 0.2624 - mean_squared_error: 0.2624\n",
            "Epoch 91/100\n",
            "1/1 [==============================] - 0s 4ms/step - loss: 0.2622 - mean_squared_error: 0.2622\n",
            "Epoch 92/100\n",
            "1/1 [==============================] - 0s 6ms/step - loss: 0.2620 - mean_squared_error: 0.2620\n",
            "Epoch 93/100\n",
            "1/1 [==============================] - 0s 4ms/step - loss: 0.2618 - mean_squared_error: 0.2618\n",
            "Epoch 94/100\n",
            "1/1 [==============================] - 0s 6ms/step - loss: 0.2616 - mean_squared_error: 0.2616\n",
            "Epoch 95/100\n",
            "1/1 [==============================] - 0s 4ms/step - loss: 0.2614 - mean_squared_error: 0.2614\n",
            "Epoch 96/100\n",
            "1/1 [==============================] - 0s 5ms/step - loss: 0.2612 - mean_squared_error: 0.2612\n",
            "Epoch 97/100\n",
            "1/1 [==============================] - 0s 4ms/step - loss: 0.2610 - mean_squared_error: 0.2610\n",
            "Epoch 98/100\n",
            "1/1 [==============================] - 0s 7ms/step - loss: 0.2608 - mean_squared_error: 0.2608\n",
            "Epoch 99/100\n",
            "1/1 [==============================] - 0s 4ms/step - loss: 0.2606 - mean_squared_error: 0.2606\n",
            "Epoch 100/100\n",
            "1/1 [==============================] - 0s 4ms/step - loss: 0.2604 - mean_squared_error: 0.2604\n"
          ],
          "name": "stdout"
        }
      ]
    },
    {
      "cell_type": "code",
      "metadata": {
        "colab": {
          "base_uri": "https://localhost:8080/"
        },
        "id": "CYjlHYZak4np",
        "outputId": "edba2b0e-d3c1-4a4a-9966-a072e2a7bde4"
      },
      "source": [
        "model.summary()\n",
        "# broken numbers"
      ],
      "execution_count": 45,
      "outputs": [
        {
          "output_type": "stream",
          "text": [
            "Model: \"sequential_2\"\n",
            "_________________________________________________________________\n",
            "Layer (type)                 Output Shape              Param #   \n",
            "=================================================================\n",
            "dense_5 (Dense)              (None, 10)                20        \n",
            "_________________________________________________________________\n",
            "dense_6 (Dense)              (None, 1)                 11        \n",
            "=================================================================\n",
            "Total params: 31\n",
            "Trainable params: 31\n",
            "Non-trainable params: 0\n",
            "_________________________________________________________________\n"
          ],
          "name": "stdout"
        }
      ]
    },
    {
      "cell_type": "code",
      "metadata": {
        "id": "q1m2ay50lgt5"
      },
      "source": [
        "y = model.predict(x)"
      ],
      "execution_count": 46,
      "outputs": []
    },
    {
      "cell_type": "code",
      "metadata": {
        "colab": {
          "base_uri": "https://localhost:8080/"
        },
        "id": "PSK1f3BKm9JZ",
        "outputId": "802f9303-7c6e-48c0-89d8-1470ce1d00e9"
      },
      "source": [
        "y"
      ],
      "execution_count": 47,
      "outputs": [
        {
          "output_type": "execute_result",
          "data": {
            "text/plain": [
              "array([[0.11859248],\n",
              "       [0.19123855],\n",
              "       [0.26388434],\n",
              "       [0.33653045],\n",
              "       [0.40917653],\n",
              "       [0.48182225],\n",
              "       [0.5544684 ],\n",
              "       [0.62711436],\n",
              "       [0.69976044],\n",
              "       [0.7724067 ]], dtype=float32)"
            ]
          },
          "metadata": {
            "tags": []
          },
          "execution_count": 47
        }
      ]
    },
    {
      "cell_type": "code",
      "metadata": {
        "id": "xi1i-3Ydm-OK"
      },
      "source": [
        "# 3 Layer- Fully Connected- Neural Network\n",
        "layer1 = keras.layers.Dense(8)\n",
        "layer2 = keras.layers.Dense(256)\n",
        "layer3 = keras.layers.Dense(1)\n",
        "model = keras.models.Sequential([layer1, layer2, layer3])\n",
        "model.compile(loss= keras.losses.mean_squared_error, optimizer='adam', metrics=[keras.metrics.mean_squared_error])"
      ],
      "execution_count": 48,
      "outputs": []
    },
    {
      "cell_type": "code",
      "metadata": {
        "colab": {
          "base_uri": "https://localhost:8080/"
        },
        "id": "GGTobwqsnSSe",
        "outputId": "486aa037-06a1-40f7-be51-d47bd4f871cc"
      },
      "source": [
        "history = model.fit(x, y, epochs=100, verbose=0) # dont show output here\n",
        "predictions = model.predict(x)\n",
        "predictions\n"
      ],
      "execution_count": 49,
      "outputs": [
        {
          "output_type": "execute_result",
          "data": {
            "text/plain": [
              "array([[0.11706932],\n",
              "       [0.18881647],\n",
              "       [0.2605638 ],\n",
              "       [0.33231103],\n",
              "       [0.4040585 ],\n",
              "       [0.47580552],\n",
              "       [0.54755294],\n",
              "       [0.61930007],\n",
              "       [0.69104725],\n",
              "       [0.76279473]], dtype=float32)"
            ]
          },
          "metadata": {
            "tags": []
          },
          "execution_count": 49
        }
      ]
    },
    {
      "cell_type": "code",
      "metadata": {
        "colab": {
          "base_uri": "https://localhost:8080/"
        },
        "id": "jriyudDend8z",
        "outputId": "0b0c39db-5122-45c9-ddb0-c33008ee128c"
      },
      "source": [
        "print(model.get_weights())"
      ],
      "execution_count": 51,
      "outputs": [
        {
          "output_type": "stream",
          "text": [
            "[array([[ 0.66135097, -0.70871294,  0.76123554, -0.47558627,  0.58221865,\n",
            "        -0.43693173,  0.78388596, -0.14149727]], dtype=float32), array([-4.8985989e-03,  1.3297434e-03, -1.0850670e-02, -8.9848872e-05,\n",
            "       -3.6856446e-03,  4.7660465e-03, -1.7078320e-02,  1.5977845e-02],\n",
            "      dtype=float32), array([[-0.06729606, -0.12439454, -0.05957604, ..., -0.08307312,\n",
            "         0.03362969, -0.06543975],\n",
            "       [-0.06178607,  0.13898404, -0.14185952, ..., -0.08565797,\n",
            "        -0.11954904, -0.11333348],\n",
            "       [ 0.14789945,  0.12843531,  0.15190567, ...,  0.11687102,\n",
            "        -0.10910536,  0.07225763],\n",
            "       ...,\n",
            "       [-0.02841901, -0.06888364,  0.03974408, ..., -0.07482613,\n",
            "        -0.05112453,  0.04523912],\n",
            "       [-0.1354391 ,  0.1475518 , -0.06271402, ...,  0.01279932,\n",
            "        -0.07863083,  0.04103004],\n",
            "       [ 0.00487382,  0.10472643,  0.09283444, ...,  0.03729657,\n",
            "         0.08030588, -0.08074294]], dtype=float32), array([ 0.00235625,  0.00090538,  0.0019563 ,  0.00238551,  0.00182761,\n",
            "       -0.00206249,  0.00237029, -0.00211271, -0.0019192 ,  0.00240916,\n",
            "        0.00204388,  0.00197334,  0.00185147, -0.00198454,  0.00241659,\n",
            "       -0.00138965,  0.00243633, -0.0027288 , -0.00164887,  0.0024149 ,\n",
            "       -0.0024601 ,  0.00240648,  0.00298825,  0.00122341, -0.00206504,\n",
            "        0.00200974, -0.00205135,  0.00190687, -0.00195836, -0.00203793,\n",
            "       -0.00200807,  0.00099565,  0.00204314, -0.00238597,  0.00388622,\n",
            "        0.00239848,  0.00331843, -0.0020293 ,  0.00075983,  0.00196881,\n",
            "       -0.00194059, -0.00416686,  0.0022493 ,  0.00181495,  0.00239156,\n",
            "        0.00207029, -0.00189416, -0.00204716,  0.0023742 , -0.00206933,\n",
            "        0.00344637,  0.00195466, -0.0019769 ,  0.00234623, -0.00141416,\n",
            "       -0.00209442, -0.00206419,  0.0014156 , -0.00174307,  0.00281328,\n",
            "       -0.00208349, -0.00190532, -0.00241884, -0.00235419,  0.00238212,\n",
            "       -0.00286762, -0.00146048,  0.00254634,  0.00234555, -0.00158975,\n",
            "        0.00237878, -0.00044215,  0.00246839,  0.00331298, -0.0023464 ,\n",
            "        0.00236695, -0.00286266,  0.00248002, -0.00235122, -0.00255541,\n",
            "        0.00073488, -0.01418305, -0.00186629, -0.00200628, -0.00201605,\n",
            "        0.00203571,  0.00175128,  0.00169311, -0.00405636,  0.00110301,\n",
            "       -0.0019545 , -0.00181192,  0.00204276,  0.00202939,  0.0018527 ,\n",
            "        0.00202583, -0.0024813 ,  0.00240346,  0.00511918, -0.00199302,\n",
            "       -0.00205233,  0.00196685, -0.00235036,  0.00202124, -0.00213834,\n",
            "        0.00196039,  0.00236497, -0.00080553, -0.00259974,  0.00231993,\n",
            "       -0.00261312,  0.00240475, -0.00171956, -0.00244153, -0.00235006,\n",
            "       -0.00205232,  0.0034639 , -0.00200669,  0.00193194, -0.00200758,\n",
            "       -0.00241821,  0.00186592,  0.0020338 ,  0.00128745, -0.00200365,\n",
            "       -0.00235111, -0.00204521,  0.00235735, -0.00254058, -0.01268346,\n",
            "        0.00435133, -0.00170486, -0.00240028,  0.0024178 , -0.00204978,\n",
            "        0.00192176, -0.0019563 , -0.00183749, -0.00237428,  0.00237626,\n",
            "       -0.00298372, -0.00175644, -0.003908  ,  0.00078471, -0.0020498 ,\n",
            "        0.00259726,  0.00236544,  0.00235552,  0.00238984,  0.00237066,\n",
            "        0.00536838,  0.0023544 ,  0.00187865, -0.0023758 ,  0.00447698,\n",
            "        0.00286609, -0.0017443 ,  0.00285348, -0.00244616, -0.00260879,\n",
            "        0.00236928,  0.00179538, -0.00198682, -0.00200223, -0.00164212,\n",
            "       -0.0018481 , -0.0031436 , -0.0024085 ,  0.00187371,  0.00203175,\n",
            "        0.0062599 ,  0.0020833 , -0.00205774,  0.00251603, -0.0023522 ,\n",
            "        0.00218466, -0.0014476 ,  0.00175451,  0.00159787,  0.00488617,\n",
            "       -0.00271407,  0.00199472,  0.00232447,  0.00235002,  0.00237888,\n",
            "        0.0020271 ,  0.00225159, -0.00188832,  0.00238468, -0.00235387,\n",
            "       -0.0025403 , -0.00199982,  0.00235005, -0.00240576,  0.00193503,\n",
            "       -0.00090079,  0.00189031, -0.0076227 , -0.00238311, -0.00236086,\n",
            "        0.00196062, -0.00192503, -0.00205251,  0.00200236,  0.00183186,\n",
            "       -0.0037698 , -0.00206689, -0.00181044, -0.00243054,  0.00202075,\n",
            "        0.00239573,  0.00197588,  0.00177897,  0.00073314, -0.00759914,\n",
            "        0.00296714,  0.00240317,  0.00241553,  0.00200028, -0.00561283,\n",
            "       -0.0019733 ,  0.00206581, -0.00022363, -0.00238704, -0.00181994,\n",
            "        0.00200955, -0.00141453, -0.00203904, -0.00217112, -0.00277244,\n",
            "        0.00056256,  0.002345  ,  0.0018163 , -0.00243406, -0.00195726,\n",
            "        0.00231522,  0.0018673 ,  0.00261296, -0.00153242,  0.0029259 ,\n",
            "        0.00258073,  0.00240855, -0.00240073, -0.00440218, -0.00201176,\n",
            "       -0.00205273, -0.0023606 ,  0.0019763 ,  0.0013537 , -0.00288697,\n",
            "       -0.00235883,  0.00247862, -0.00205104,  0.00184841, -0.00202536,\n",
            "       -0.00242997], dtype=float32), array([[ 0.13598679],\n",
            "       [ 0.01545122],\n",
            "       [ 0.0818774 ],\n",
            "       [ 0.05810666],\n",
            "       [ 0.05400866],\n",
            "       [-0.13905852],\n",
            "       [ 0.12315102],\n",
            "       [-0.08205228],\n",
            "       [-0.07078825],\n",
            "       [ 0.10097449],\n",
            "       [ 0.12420119],\n",
            "       [ 0.08722745],\n",
            "       [ 0.05782261],\n",
            "       [-0.09281807],\n",
            "       [ 0.06995972],\n",
            "       [-0.02473474],\n",
            "       [ 0.08878654],\n",
            "       [-0.03586845],\n",
            "       [-0.03677576],\n",
            "       [ 0.09903552],\n",
            "       [-0.08028509],\n",
            "       [ 0.09356641],\n",
            "       [ 0.01695106],\n",
            "       [ 0.02109346],\n",
            "       [-0.14631326],\n",
            "       [ 0.1028748 ],\n",
            "       [-0.13736305],\n",
            "       [ 0.06937184],\n",
            "       [-0.08159383],\n",
            "       [-0.11949334],\n",
            "       [-0.10666604],\n",
            "       [ 0.01705537],\n",
            "       [ 0.13175328],\n",
            "       [-0.10669805],\n",
            "       [ 0.01025273],\n",
            "       [ 0.10797281],\n",
            "       [ 0.0172167 ],\n",
            "       [-0.11320431],\n",
            "       [ 0.01347076],\n",
            "       [ 0.08575097],\n",
            "       [-0.07911447],\n",
            "       [-0.00930801],\n",
            "       [ 0.08746955],\n",
            "       [ 0.05271379],\n",
            "       [ 0.10963769],\n",
            "       [ 0.14688595],\n",
            "       [-0.0659021 ],\n",
            "       [-0.12569202],\n",
            "       [ 0.11719708],\n",
            "       [-0.1486287 ],\n",
            "       [ 0.01320016],\n",
            "       [ 0.08366214],\n",
            "       [-0.0880814 ],\n",
            "       [ 0.14856465],\n",
            "       [-0.02586962],\n",
            "       [-0.0019446 ],\n",
            "       [-0.14492354],\n",
            "       [ 0.0021074 ],\n",
            "       [-0.04473183],\n",
            "       [ 0.03173868],\n",
            "       [-0.07886941],\n",
            "       [-0.06792644],\n",
            "       [-0.0967347 ],\n",
            "       [-0.1406869 ],\n",
            "       [ 0.10596211],\n",
            "       [ 0.00304678],\n",
            "       [-0.02769213],\n",
            "       [ 0.05944047],\n",
            "       [ 0.14984484],\n",
            "       [-0.03345118],\n",
            "       [ 0.12012352],\n",
            "       [-0.01177498],\n",
            "       [ 0.07741355],\n",
            "       [ 0.01717295],\n",
            "       [-0.13114743],\n",
            "       [ 0.12815651],\n",
            "       [-0.00787663],\n",
            "       [ 0.0748764 ],\n",
            "       [-0.04841445],\n",
            "       [-0.05591557],\n",
            "       [ 0.01364028],\n",
            "       [ 0.00039986],\n",
            "       [-0.05126141],\n",
            "       [-0.10105449],\n",
            "       [-0.10667956],\n",
            "       [ 0.11753236],\n",
            "       [ 0.04535065],\n",
            "       [ 0.04022597],\n",
            "       [ 0.00299529],\n",
            "       [ 0.01878322],\n",
            "       [-0.08357881],\n",
            "       [-0.05285314],\n",
            "       [ 0.12910146],\n",
            "       [ 0.11905172],\n",
            "       [ 0.05890195],\n",
            "       [ 0.11406062],\n",
            "       [ 0.00303638],\n",
            "       [ 0.10424553],\n",
            "       [ 0.00455188],\n",
            "       [-0.09468769],\n",
            "       [-0.1348893 ],\n",
            "       [ 0.0861238 ],\n",
            "       [-0.13697822],\n",
            "       [ 0.10864671],\n",
            "       [-0.01634225],\n",
            "       [ 0.08255273],\n",
            "       [ 0.12998769],\n",
            "       [-0.01491026],\n",
            "       [-0.05003193],\n",
            "       [ 0.13382806],\n",
            "       [-0.04911967],\n",
            "       [ 0.10206129],\n",
            "       [-0.04239418],\n",
            "       [-0.08530603],\n",
            "       [-0.13054115],\n",
            "       [-0.13107823],\n",
            "       [ 0.01504057],\n",
            "       [-0.10580429],\n",
            "       [ 0.07566474],\n",
            "       [-0.10177325],\n",
            "       [-0.09008981],\n",
            "       [ 0.06001357],\n",
            "       [ 0.1256506 ],\n",
            "       [ 0.02179063],\n",
            "       [-0.10065965],\n",
            "       [-0.14322603],\n",
            "       [-0.12413971],\n",
            "       [ 0.12052071],\n",
            "       [-0.05634967],\n",
            "       [ 0.00070566],\n",
            "       [ 0.00789314],\n",
            "       [-0.04143899],\n",
            "       [-0.10376241],\n",
            "       [ 0.09300873],\n",
            "       [-0.1291772 ],\n",
            "       [ 0.07152019],\n",
            "       [-0.08091993],\n",
            "       [-0.05533414],\n",
            "       [-0.1223534 ],\n",
            "       [ 0.10091876],\n",
            "       [-0.02326668],\n",
            "       [-0.04554248],\n",
            "       [-0.01037294],\n",
            "       [ 0.01294692],\n",
            "       [-0.12913884],\n",
            "       [ 0.04834181],\n",
            "       [ 0.13131243],\n",
            "       [ 0.14004634],\n",
            "       [ 0.11263742],\n",
            "       [ 0.12457785],\n",
            "       [ 0.00553503],\n",
            "       [ 0.14155911],\n",
            "       [ 0.06336844],\n",
            "       [-0.11178567],\n",
            "       [ 0.00716384],\n",
            "       [ 0.02941459],\n",
            "       [-0.04432529],\n",
            "       [ 0.02927466],\n",
            "       [-0.0855372 ],\n",
            "       [-0.04921512],\n",
            "       [ 0.12772578],\n",
            "       [-0.00497816],\n",
            "       [-0.09185756],\n",
            "       [-0.10398936],\n",
            "       [-0.03642866],\n",
            "       [-0.05809966],\n",
            "       [-0.01940168],\n",
            "       [-0.09384303],\n",
            "       [ 0.06132392],\n",
            "       [ 0.1155351 ],\n",
            "       [ 0.00367913],\n",
            "       [ 0.0453441 ],\n",
            "       [-0.13457868],\n",
            "       [ 0.05563293],\n",
            "       [-0.14281915],\n",
            "       [ 0.07998686],\n",
            "       [-0.02697279],\n",
            "       [ 0.0454325 ],\n",
            "       [ 0.03191352],\n",
            "       [ 0.00105095],\n",
            "       [-0.03904786],\n",
            "       [ 0.09910623],\n",
            "       [ 0.14528753],\n",
            "       [ 0.11430382],\n",
            "       [ 0.11811483],\n",
            "       [ 0.10109338],\n",
            "       [ 0.13737667],\n",
            "       [-0.06526481],\n",
            "       [ 0.10662748],\n",
            "       [-0.14082365],\n",
            "       [-0.05439802],\n",
            "       [-0.100621  ],\n",
            "       [ 0.1271408 ],\n",
            "       [-0.10163921],\n",
            "       [ 0.07489545],\n",
            "       [-0.01367158],\n",
            "       [ 0.06435494],\n",
            "       [-0.00042281],\n",
            "       [-0.11413138],\n",
            "       [-0.129131  ],\n",
            "       [ 0.083251  ],\n",
            "       [-0.0722052 ],\n",
            "       [-0.13389024],\n",
            "       [ 0.1008722 ],\n",
            "       [ 0.05489189],\n",
            "       [-0.01024708],\n",
            "       [-0.147104  ],\n",
            "       [-0.05247003],\n",
            "       [-0.07534417],\n",
            "       [ 0.10910125],\n",
            "       [ 0.1055503 ],\n",
            "       [ 0.08782533],\n",
            "       [ 0.04874999],\n",
            "       [ 0.01392565],\n",
            "       [-0.00235644],\n",
            "       [ 0.02472634],\n",
            "       [ 0.10193356],\n",
            "       [ 0.08881051],\n",
            "       [ 0.09845533],\n",
            "       [ 0.00246286],\n",
            "       [-0.08653256],\n",
            "       [ 0.1432697 ],\n",
            "       [ 0.00859272],\n",
            "       [-0.11222876],\n",
            "       [-0.05374699],\n",
            "       [ 0.10344373],\n",
            "       [-0.02496552],\n",
            "       [-0.12278281],\n",
            "       [-0.02635413],\n",
            "       [-0.03330554],\n",
            "       [ 0.01261897],\n",
            "       [ 0.14298087],\n",
            "       [ 0.05264037],\n",
            "       [-0.08973546],\n",
            "       [-0.08155181],\n",
            "       [ 0.14311595],\n",
            "       [ 0.06051229],\n",
            "       [ 0.04924645],\n",
            "       [-0.02844289],\n",
            "       [ 0.02706771],\n",
            "       [ 0.01778665],\n",
            "       [ 0.10180475],\n",
            "       [-0.09594636],\n",
            "       [-0.0077011 ],\n",
            "       [-0.11177991],\n",
            "       [-0.12956178],\n",
            "       [-0.13286974],\n",
            "       [ 0.09062012],\n",
            "       [ 0.02423317],\n",
            "       [-0.02752454],\n",
            "       [-0.13716099],\n",
            "       [ 0.0739046 ],\n",
            "       [-0.12842911],\n",
            "       [ 0.05710294],\n",
            "       [-0.11186094],\n",
            "       [-0.09114071]], dtype=float32), array([0.00221266], dtype=float32)]\n"
          ],
          "name": "stdout"
        }
      ]
    },
    {
      "cell_type": "code",
      "metadata": {
        "id": "ItqQ9gabnjkK"
      },
      "source": [
        ""
      ],
      "execution_count": null,
      "outputs": []
    }
  ]
}