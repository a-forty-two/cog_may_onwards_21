{
  "nbformat": 4,
  "nbformat_minor": 0,
  "metadata": {
    "colab": {
      "name": "Cog_nlp_001.ipynb",
      "provenance": [],
      "authorship_tag": "ABX9TyNNUzs9KcisfwaXjCxg8dwL"
    },
    "kernelspec": {
      "name": "python3",
      "display_name": "Python 3"
    },
    "language_info": {
      "name": "python"
    }
  },
  "cells": [
    {
      "cell_type": "code",
      "metadata": {
        "id": "mDZx51M7grWQ"
      },
      "source": [
        "import spacy\n"
      ],
      "execution_count": 2,
      "outputs": []
    },
    {
      "cell_type": "code",
      "metadata": {
        "colab": {
          "base_uri": "https://localhost:8080/"
        },
        "id": "txMEliG4hAP9",
        "outputId": "1c9d8b3f-0381-4961-830f-ae6e4f6a5c32"
      },
      "source": [
        "phrase = 'mary had a little lamb. The lamb had a cat.'\n",
        "sentences = phrase.split('.')\n",
        "sentences"
      ],
      "execution_count": 4,
      "outputs": [
        {
          "output_type": "execute_result",
          "data": {
            "text/plain": [
              "['mary had a little lamb', ' The lamb had a cat', '']"
            ]
          },
          "metadata": {
            "tags": []
          },
          "execution_count": 4
        }
      ]
    },
    {
      "cell_type": "code",
      "metadata": {
        "id": "0qemTAw6heR7"
      },
      "source": [
        "# dictionary, reverse dictionary\n",
        "# central dictionary\n",
        "dictionary = spacy.load('en_core_web_sm')"
      ],
      "execution_count": 5,
      "outputs": []
    },
    {
      "cell_type": "code",
      "metadata": {
        "id": "-OhKp32Zh13t"
      },
      "source": [
        "tokens = dictionary(phrase)"
      ],
      "execution_count": 6,
      "outputs": []
    },
    {
      "cell_type": "code",
      "metadata": {
        "colab": {
          "base_uri": "https://localhost:8080/"
        },
        "id": "VfC6YXUeh7pb",
        "outputId": "8fa30e33-81ea-4b82-df0f-7c6aa0d5156a"
      },
      "source": [
        "print(len(phrase))\n",
        "len(tokens) # word length \n"
      ],
      "execution_count": 9,
      "outputs": [
        {
          "output_type": "stream",
          "text": [
            "43\n"
          ],
          "name": "stdout"
        },
        {
          "output_type": "execute_result",
          "data": {
            "text/plain": [
              "12"
            ]
          },
          "metadata": {
            "tags": []
          },
          "execution_count": 9
        }
      ]
    },
    {
      "cell_type": "code",
      "metadata": {
        "colab": {
          "base_uri": "https://localhost:8080/"
        },
        "id": "YUUHwZVmh9FT",
        "outputId": "9c081343-5c9a-49ea-ae30-1f22b7df0844"
      },
      "source": [
        "tokens[-2]"
      ],
      "execution_count": 12,
      "outputs": [
        {
          "output_type": "execute_result",
          "data": {
            "text/plain": [
              "cat"
            ]
          },
          "metadata": {
            "tags": []
          },
          "execution_count": 12
        }
      ]
    },
    {
      "cell_type": "code",
      "metadata": {
        "colab": {
          "base_uri": "https://localhost:8080/"
        },
        "id": "3WFvjzd6iSXp",
        "outputId": "592c40e8-fc43-4669-ef14-27cf6b230d92"
      },
      "source": [
        "!ls"
      ],
      "execution_count": 13,
      "outputs": [
        {
          "output_type": "stream",
          "text": [
            "nlpcontent.txt\tsample_data\n"
          ],
          "name": "stdout"
        }
      ]
    },
    {
      "cell_type": "code",
      "metadata": {
        "colab": {
          "base_uri": "https://localhost:8080/"
        },
        "id": "hY22r04IixMs",
        "outputId": "d7e361bb-1fe0-4533-f0a0-e6d2fab39ea3"
      },
      "source": [
        "f = open('nlpcontent.txt','rt')\n",
        "content = f.read()\n",
        "tokens = dictionary(content)\n",
        "len(tokens)"
      ],
      "execution_count": 14,
      "outputs": [
        {
          "output_type": "execute_result",
          "data": {
            "text/plain": [
              "1280"
            ]
          },
          "metadata": {
            "tags": []
          },
          "execution_count": 14
        }
      ]
    },
    {
      "cell_type": "code",
      "metadata": {
        "id": "RVuIhtQVi6zI"
      },
      "source": [
        ""
      ],
      "execution_count": null,
      "outputs": []
    }
  ]
}