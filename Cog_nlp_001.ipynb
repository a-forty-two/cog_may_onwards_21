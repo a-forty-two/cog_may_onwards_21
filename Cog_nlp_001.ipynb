{
  "nbformat": 4,
  "nbformat_minor": 0,
  "metadata": {
    "colab": {
      "name": "Cog_nlp_001.ipynb",
      "provenance": [],
      "authorship_tag": "ABX9TyPhb+AxY84hORvl9M0Gl4Uq"
    },
    "kernelspec": {
      "name": "python3",
      "display_name": "Python 3"
    },
    "language_info": {
      "name": "python"
    }
  },
  "cells": [
    {
      "cell_type": "code",
      "metadata": {
        "id": "mDZx51M7grWQ"
      },
      "source": [
        "import spacy\n"
      ],
      "execution_count": 2,
      "outputs": []
    },
    {
      "cell_type": "code",
      "metadata": {
        "colab": {
          "base_uri": "https://localhost:8080/"
        },
        "id": "txMEliG4hAP9",
        "outputId": "1c9d8b3f-0381-4961-830f-ae6e4f6a5c32"
      },
      "source": [
        "phrase = 'mary had a little lamb. The lamb had a cat.'\n",
        "sentences = phrase.split('.')\n",
        "sentences"
      ],
      "execution_count": 4,
      "outputs": [
        {
          "output_type": "execute_result",
          "data": {
            "text/plain": [
              "['mary had a little lamb', ' The lamb had a cat', '']"
            ]
          },
          "metadata": {
            "tags": []
          },
          "execution_count": 4
        }
      ]
    },
    {
      "cell_type": "code",
      "metadata": {
        "id": "0qemTAw6heR7"
      },
      "source": [
        "# dictionary, reverse dictionary\n",
        "# central dictionary\n",
        "dictionary = spacy.load('en_core_web_sm')"
      ],
      "execution_count": 5,
      "outputs": []
    },
    {
      "cell_type": "code",
      "metadata": {
        "id": "-OhKp32Zh13t"
      },
      "source": [
        "tokens = dictionary(phrase)"
      ],
      "execution_count": 6,
      "outputs": []
    },
    {
      "cell_type": "code",
      "metadata": {
        "colab": {
          "base_uri": "https://localhost:8080/"
        },
        "id": "VfC6YXUeh7pb",
        "outputId": "8fa30e33-81ea-4b82-df0f-7c6aa0d5156a"
      },
      "source": [
        "print(len(phrase))\n",
        "len(tokens) # word length \n"
      ],
      "execution_count": 9,
      "outputs": [
        {
          "output_type": "stream",
          "text": [
            "43\n"
          ],
          "name": "stdout"
        },
        {
          "output_type": "execute_result",
          "data": {
            "text/plain": [
              "12"
            ]
          },
          "metadata": {
            "tags": []
          },
          "execution_count": 9
        }
      ]
    },
    {
      "cell_type": "code",
      "metadata": {
        "colab": {
          "base_uri": "https://localhost:8080/"
        },
        "id": "YUUHwZVmh9FT",
        "outputId": "9c081343-5c9a-49ea-ae30-1f22b7df0844"
      },
      "source": [
        "tokens[-2]"
      ],
      "execution_count": 12,
      "outputs": [
        {
          "output_type": "execute_result",
          "data": {
            "text/plain": [
              "cat"
            ]
          },
          "metadata": {
            "tags": []
          },
          "execution_count": 12
        }
      ]
    },
    {
      "cell_type": "code",
      "metadata": {
        "colab": {
          "base_uri": "https://localhost:8080/"
        },
        "id": "3WFvjzd6iSXp",
        "outputId": "592c40e8-fc43-4669-ef14-27cf6b230d92"
      },
      "source": [
        "!ls"
      ],
      "execution_count": 13,
      "outputs": [
        {
          "output_type": "stream",
          "text": [
            "nlpcontent.txt\tsample_data\n"
          ],
          "name": "stdout"
        }
      ]
    },
    {
      "cell_type": "code",
      "metadata": {
        "colab": {
          "base_uri": "https://localhost:8080/"
        },
        "id": "hY22r04IixMs",
        "outputId": "d7e361bb-1fe0-4533-f0a0-e6d2fab39ea3"
      },
      "source": [
        "f = open('nlpcontent.txt','rt')\n",
        "content = f.read()\n",
        "tokens = dictionary(content)\n",
        "len(tokens)"
      ],
      "execution_count": 14,
      "outputs": [
        {
          "output_type": "execute_result",
          "data": {
            "text/plain": [
              "1280"
            ]
          },
          "metadata": {
            "tags": []
          },
          "execution_count": 14
        }
      ]
    },
    {
      "cell_type": "code",
      "metadata": {
        "colab": {
          "base_uri": "https://localhost:8080/"
        },
        "id": "RVuIhtQVi6zI",
        "outputId": "65430212-006b-42bb-ba28-3c03cfb652d5"
      },
      "source": [
        "print(dir(tokens[0]))"
      ],
      "execution_count": 16,
      "outputs": [
        {
          "output_type": "stream",
          "text": [
            "['_', '__bytes__', '__class__', '__delattr__', '__dir__', '__doc__', '__eq__', '__format__', '__ge__', '__getattribute__', '__gt__', '__hash__', '__init__', '__init_subclass__', '__le__', '__len__', '__lt__', '__ne__', '__new__', '__pyx_vtable__', '__reduce__', '__reduce_ex__', '__repr__', '__setattr__', '__sizeof__', '__str__', '__subclasshook__', '__unicode__', 'ancestors', 'check_flag', 'children', 'cluster', 'conjuncts', 'dep', 'dep_', 'doc', 'ent_id', 'ent_id_', 'ent_iob', 'ent_iob_', 'ent_kb_id', 'ent_kb_id_', 'ent_type', 'ent_type_', 'get_extension', 'has_extension', 'has_vector', 'head', 'i', 'idx', 'is_alpha', 'is_ancestor', 'is_ascii', 'is_bracket', 'is_currency', 'is_digit', 'is_left_punct', 'is_lower', 'is_oov', 'is_punct', 'is_quote', 'is_right_punct', 'is_sent_start', 'is_space', 'is_stop', 'is_title', 'is_upper', 'lang', 'lang_', 'left_edge', 'lefts', 'lemma', 'lemma_', 'lex_id', 'like_email', 'like_num', 'like_url', 'lower', 'lower_', 'morph', 'n_lefts', 'n_rights', 'nbor', 'norm', 'norm_', 'orth', 'orth_', 'pos', 'pos_', 'prefix', 'prefix_', 'prob', 'rank', 'remove_extension', 'right_edge', 'rights', 'sent', 'sent_start', 'sentiment', 'set_extension', 'shape', 'shape_', 'similarity', 'string', 'subtree', 'suffix', 'suffix_', 'tag', 'tag_', 'tensor', 'text', 'text_with_ws', 'vector', 'vector_norm', 'vocab', 'whitespace_']\n"
          ],
          "name": "stdout"
        }
      ]
    },
    {
      "cell_type": "code",
      "metadata": {
        "colab": {
          "base_uri": "https://localhost:8080/"
        },
        "id": "jVc-9PT4kL9F",
        "outputId": "adfe0689-ca25-4f61-e431-deeed51f61cf"
      },
      "source": [
        "len(tokens[0].vector)"
      ],
      "execution_count": 18,
      "outputs": [
        {
          "output_type": "execute_result",
          "data": {
            "text/plain": [
              "96"
            ]
          },
          "metadata": {
            "tags": []
          },
          "execution_count": 18
        }
      ]
    },
    {
      "cell_type": "code",
      "metadata": {
        "colab": {
          "base_uri": "https://localhost:8080/"
        },
        "id": "Ti9gfVrvkX_0",
        "outputId": "dff84c79-4a53-435a-b023-e6ec2647b775"
      },
      "source": [
        "tokens[0].vector"
      ],
      "execution_count": 19,
      "outputs": [
        {
          "output_type": "execute_result",
          "data": {
            "text/plain": [
              "array([-3.713365  ,  0.63416183,  2.9803967 , -0.6073792 ,  3.311768  ,\n",
              "        0.3047639 , -0.5806466 ,  1.4936572 , -0.5083415 , -2.4289036 ,\n",
              "       -3.7671056 ,  1.8285336 , -0.67036986,  2.503192  , -1.3016267 ,\n",
              "        0.35459054, -3.207015  , -2.330721  , -1.7758598 , -1.1798007 ,\n",
              "       -1.4933299 ,  1.0012223 ,  0.38912868, -3.0440207 , -0.28797823,\n",
              "       -0.03689972,  0.20136213,  0.14554751,  0.51684564, -0.58567667,\n",
              "       -0.36911184,  0.19709104, -2.5828586 ,  0.0257051 ,  0.73818004,\n",
              "       -2.2047272 , -0.96154433,  2.3251114 , -0.05687433,  1.6263208 ,\n",
              "        1.1228027 , -2.3012035 ,  1.9424423 ,  1.689332  ,  1.1731269 ,\n",
              "        3.6871648 , -0.221766  ,  1.3214322 , -1.4382557 ,  4.1203003 ,\n",
              "        0.27104902, -1.9678283 , -0.6934847 ,  1.0734147 , -3.1394694 ,\n",
              "        3.6152892 ,  3.2209358 ,  1.1515368 , -0.14615327, -1.8313422 ,\n",
              "        1.5223217 , -0.1137141 ,  1.3884474 ,  1.8157265 ,  0.88120735,\n",
              "       -1.4502333 ,  2.923348  , -1.118325  , -1.8616346 , -0.10878628,\n",
              "       -1.5227798 , -0.41562194, -2.7623482 , -2.9584103 ,  0.9160703 ,\n",
              "        2.1074061 ,  0.22375554,  0.5503795 , -3.678266  , -2.1989954 ,\n",
              "        0.05011714, -2.139075  ,  5.187463  , -2.3266578 , -1.4360847 ,\n",
              "        0.73478687,  0.18580246,  0.38693598,  3.7790036 , -1.6369127 ,\n",
              "       -3.2138457 , -2.5907063 ,  2.5497434 ,  3.0582488 ,  0.45083407,\n",
              "        3.4445815 ], dtype=float32)"
            ]
          },
          "metadata": {
            "tags": []
          },
          "execution_count": 19
        }
      ]
    },
    {
      "cell_type": "code",
      "metadata": {
        "colab": {
          "base_uri": "https://localhost:8080/"
        },
        "id": "bgZgCm49krf8",
        "outputId": "3aab23c0-5718-4320-fb00-f3500389c46f"
      },
      "source": [
        "# grammar tags \n",
        "for i in range(15,20,1):\n",
        "  print(tokens[i].text)\n",
        "  print(tokens[i].tag) # id of tag-> for programming\n",
        "  print(tokens[i].tag_) # string value of tag-> for display \n",
        "  print('*******')"
      ],
      "execution_count": 21,
      "outputs": [
        {
          "output_type": "stream",
          "text": [
            "stomatopods\n",
            "783433942507015291\n",
            "NNS\n",
            "*******\n",
            "—\n",
            "11532473245541075862\n",
            ":\n",
            "*******\n",
            "pugilistic\n",
            "10554686591937588953\n",
            "JJ\n",
            "*******\n",
            "relatives\n",
            "783433942507015291\n",
            "NNS\n",
            "*******\n",
            "of\n",
            "1292078113972184607\n",
            "IN\n",
            "*******\n"
          ],
          "name": "stdout"
        }
      ]
    },
    {
      "cell_type": "code",
      "metadata": {
        "colab": {
          "base_uri": "https://localhost:8080/"
        },
        "id": "8Wca9xENlDV9",
        "outputId": "9b85754e-8c79-4a11-aab3-7eea6db50e3f"
      },
      "source": [
        "# stop words-> pollutants -> do not add any value to the sentence \n",
        "# not always\n",
        "for i in range(20):\n",
        "  if(tokens[i].is_stop == True):\n",
        "    print(tokens[i].text)\n",
        "    "
      ],
      "execution_count": 22,
      "outputs": [
        {
          "output_type": "stream",
          "text": [
            "The\n",
            "most\n",
            "in\n",
            "the\n",
            "to\n",
            "the\n",
            "or\n",
            "of\n"
          ],
          "name": "stdout"
        }
      ]
    },
    {
      "cell_type": "code",
      "metadata": {
        "colab": {
          "base_uri": "https://localhost:8080/"
        },
        "id": "Ac4_u8u3l4OU",
        "outputId": "78c2d1af-ac0d-46df-cb95-37e50112e430"
      },
      "source": [
        "# entire stop words list:\n",
        "stopwords = spacy.lang.en.STOP_WORDS\n",
        "print(stopwords)"
      ],
      "execution_count": 26,
      "outputs": [
        {
          "output_type": "stream",
          "text": [
            "{'make', 'quite', '‘ll', 'hers', 'somewhere', 'nor', 'third', 'hereby', 'last', 'themselves', 'have', 'upon', 'doing', 'over', 'and', 'bottom', 'whereas', 'still', 'nothing', 'during', 'above', 'nobody', 'where', 'if', 'himself', 'she', 'ours', 'never', 'than', 'go', 'within', 'ourselves', 'others', 'whatever', 'hence', 'hundred', 'below', 'onto', 'various', 'someone', 'afterwards', 'latter', 'to', 'almost', 'they', 'the', 'less', 'via', 'else', 'around', 'herself', 'indeed', 'him', 'your', 'elsewhere', 'every', 'between', 'down', 'get', 'just', 'thereupon', \"'d\", 'see', 'meanwhile', \"n't\", 'become', '‘m', 'not', 'whoever', 'more', 'one', 'us', 'became', 'several', 'nowhere', 'there', 'itself', 'sometimes', 'give', 'all', 'per', 'ca', 'yourself', 'so', 'back', 'becomes', 'something', 'a', 'whom', 'you', 'should', 'or', 'seemed', 'might', 'before', 'wherein', 'about', 'is', 'least', 'serious', 'however', 'ten', 'through', \"'ve\", 'name', 'in', 'as', 'do', 'except', 'using', '’ll', 'her', 'what', 'this', 'seems', 'neither', 'alone', 'being', 'n‘t', 'although', 'own', 'when', 'front', 'unless', 'anyone', 'whenever', \"'s\", 'under', 'thereby', 'his', 'used', 'already', 'many', 'yet', 'that', 'by', 'take', 'its', 'anything', 'whereafter', 'did', 'an', 'everything', '‘ve', 'show', 'amongst', 'because', 'any', 'he', 'throughout', 'will', \"'ll\", 'fifteen', 'next', 'these', 'we', '‘s', \"'m\", 'sometime', 'from', 'why', 'can', 'herein', 'i', 'across', 'could', 'seem', 'wherever', 'those', 'much', 'whither', 'though', 'five', 'on', 'even', 'namely', 'latterly', 'always', 'whence', 'into', 'myself', 'mine', 'each', 'here', 'yourselves', 'yours', 'becoming', 'with', 'my', 'everywhere', 'once', 'either', 'our', 'call', 're', 'therefore', 'twelve', 'few', 'at', 'who', 'cannot', 'without', 'due', 'until', 'whereupon', 'well', 'eight', 'please', 'anywhere', 'be', 'regarding', 'towards', '’ve', 'but', '‘re', 'must', 'often', 'behind', 'nine', 'am', 'made', 'put', 'their', \"'re\", 'after', 'formerly', 'against', 'anyway', 'part', 'perhaps', 'how', '’d', 'thence', 'are', 'noone', 'six', '’s', 'besides', 'fifty', 'which', 'toward', 'up', 'of', 'forty', 'nevertheless', 'has', 'them', 'were', 'whereby', 'enough', 'among', 'seeming', 'been', 'for', '’re', 'thereafter', 'then', 'hereafter', 'three', 'most', 'say', 'had', 'four', 'other', 'off', 'beyond', 'really', 'eleven', 'whose', 'keep', 'side', 'top', 'very', 'empty', 'it', 'n’t', 'only', 'otherwise', 'moreover', 'thru', 'too', 'along', 'somehow', 'full', 'twenty', 'again', 'move', 'may', 'while', 'also', '‘d', 'mostly', 'therein', 'two', 'done', 'now', 'would', 'whole', 'both', 'anyhow', 'none', 'sixty', 'everyone', 'out', 'such', 'beside', 'whether', 'me', 'former', 'rather', 'same', 'first', 'some', 'amount', 'another', '’m', 'further', 'was', 'beforehand', 'since', 'hereupon', 'thus', 'does', 'no', 'ever', 'together'}\n"
          ],
          "name": "stdout"
        }
      ]
    },
    {
      "cell_type": "code",
      "metadata": {
        "id": "WenSNTUZmZAK"
      },
      "source": [
        "# remove or cleanse my text - stop words\n",
        "mytokens = []\n",
        "mywords = []\n",
        "for token in tokens:\n",
        "  if(token.is_stop == False):\n",
        "    mytokens.append(token)\n",
        "    mywords.append(token.text)\n",
        "\n"
      ],
      "execution_count": 28,
      "outputs": []
    },
    {
      "cell_type": "code",
      "metadata": {
        "colab": {
          "base_uri": "https://localhost:8080/"
        },
        "id": "rb4etIFnnBgb",
        "outputId": "b9b56b73-6e47-43e8-a4bc-81fdb53b5f0f"
      },
      "source": [
        "print((\" \".join(mywords))[:100])"
      ],
      "execution_count": 30,
      "outputs": [
        {
          "output_type": "stream",
          "text": [
            "extraordinary eyes animal kingdom belong mantis shrimps , stomatopods — pugilistic relatives crabs p\n"
          ],
          "name": "stdout"
        }
      ]
    },
    {
      "cell_type": "code",
      "metadata": {
        "id": "WL_Vh72pnJsB"
      },
      "source": [
        "# Step by step activity of polishing your input to get -> sentiment, phrases, most important phrases "
      ],
      "execution_count": 31,
      "outputs": []
    },
    {
      "cell_type": "code",
      "metadata": {
        "id": "otlSa01Qnboi"
      },
      "source": [
        ""
      ],
      "execution_count": null,
      "outputs": []
    }
  ]
}