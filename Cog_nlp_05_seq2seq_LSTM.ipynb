{
  "nbformat": 4,
  "nbformat_minor": 0,
  "metadata": {
    "colab": {
      "name": "Cog_nlp_05_seq2seq.ipynb",
      "provenance": [],
      "authorship_tag": "ABX9TyN+qc48bE6DnOM8RWusCklM"
    },
    "kernelspec": {
      "name": "python3",
      "display_name": "Python 3"
    },
    "language_info": {
      "name": "python"
    },
    "accelerator": "GPU"
  },
  "cells": [
    {
      "cell_type": "code",
      "metadata": {
        "id": "sFdfFWw_D2Rt"
      },
      "source": [
        "import tensorflow as tf\n",
        "from tensorflow import keras\n",
        "import numpy as np\n"
      ],
      "execution_count": 1,
      "outputs": []
    },
    {
      "cell_type": "code",
      "metadata": {
        "id": "0IMXCUvcEAzQ"
      },
      "source": [
        "# autocorrect, wordprediction\n",
        "# fibonacci, AP, GP, HP, series and propagation \n",
        "# Activity Detection \n",
        "# y = f(x, g(y))\n",
        "# output is transformed and channeled back into input \n",
        "\n",
        "# Temp tomorrow-> f(temp_today, temp_day_before.... temp_day_last_year,,, temp_JS, )\n",
        "# temp_tom = w1*temp_today + w2*history f(temp_relevant_history) + w3*weaker_history.... +wN*weakest history... + 0*the_extreme_history"
      ],
      "execution_count": 2,
      "outputs": []
    },
    {
      "cell_type": "code",
      "metadata": {
        "id": "E-TEcxfEFRRR"
      },
      "source": [
        "# BINS -> grouping, Ordering, sorting \n",
        "# avg_temp_next_month = strong*(this_month)+ fair_strength*  prev_month + weak*prior_month + (tending_to_0)*history!\n"
      ],
      "execution_count": 3,
      "outputs": []
    },
    {
      "cell_type": "code",
      "metadata": {
        "id": "Amz7SCzbFkHs"
      },
      "source": [
        "# CHARACTER ADDITION-> math equation \n",
        "# 4+5=\n",
        "# 1+2=\n",
        "# 50,0000\n",
        "\n",
        "# if user enter 2 numbers: 284+ 16 = ?\n",
        "# 300"
      ],
      "execution_count": 4,
      "outputs": []
    },
    {
      "cell_type": "code",
      "metadata": {
        "id": "D_O-oC74JNng"
      },
      "source": [
        "# word prediction\n",
        "# this is a -> good \n",
        "# are you very -> hungry?\n",
        "# "
      ],
      "execution_count": 5,
      "outputs": []
    },
    {
      "cell_type": "code",
      "metadata": {
        "id": "CSfNvy1bKMcm"
      },
      "source": [
        "HP_trainingsize = 50000\n",
        "HP_MAX_DIGITS_IN_NUM = 3\n",
        "HP_MAXLEN = HP_MAX_DIGITS_IN_NUM + 1 + HP_MAX_DIGITS_IN_NUM\n",
        "HP_OUTPUT_SEQUENCE_LENGTH = 1\n",
        "HP_BATCH_SIZE = 64\n",
        "HP_EPOCHS = 15"
      ],
      "execution_count": 109,
      "outputs": []
    },
    {
      "cell_type": "code",
      "metadata": {
        "id": "rU6n2tdJKoMd"
      },
      "source": [
        "class corpus:\n",
        "  def __init__(self, chars): # input a sequence, and build dictionaries\n",
        "    self.chars = sorted(set(chars)) #Bag of characters\n",
        "    self.chars.append(' ')\n",
        "    self.chars.append('+')\n",
        "    self.word2idx = dict( (word,num) for num,word in enumerate(self.chars) )\n",
        "    self.idx2word = dict( (num,word) for num,word in enumerate(self.chars) )\n",
        "    self.charlen = len(self.chars)\n",
        "\n",
        "  def encoding(self, C, numrows): # encoding logic\n",
        "    x = np.zeros((numrows, self.charlen ))\n",
        "    for i,c in enumerate(C):\n",
        "      x[i, self.word2idx[c]] = 1\n",
        "    return x\n",
        "\n",
        "  def decoding(self, x, ismaxlen = True):\n",
        "    if ismaxlen:\n",
        "      x = x.argmax(axis=-1) # list of numbers\n",
        "    return \"\".join(self.idx2word[xx] for xx in x )\n",
        "\n",
        "\n",
        "  \n"
      ],
      "execution_count": 7,
      "outputs": []
    },
    {
      "cell_type": "code",
      "metadata": {
        "id": "e4ywtZ_3M794"
      },
      "source": [
        "# created all possible combinations-> and then eliminated +num and num+, and only keep\n",
        "# num+num!\n",
        "# 5+6 = 6+5 \n",
        "# Reverse my inputs! this is a case where opposite sequence is ALSO the same label!\n"
      ],
      "execution_count": 8,
      "outputs": []
    },
    {
      "cell_type": "code",
      "metadata": {
        "id": "CPzuZ0W1NQhq"
      },
      "source": [
        "allchars = \"0123456789\"\n",
        "ctable = corpus(allchars)\n",
        "reverse = True"
      ],
      "execution_count": 9,
      "outputs": []
    },
    {
      "cell_type": "code",
      "metadata": {
        "id": "X_YMwjG2NbNA"
      },
      "source": [
        "questions = []\n",
        "expected = []\n",
        "# set to check if reverse inputs are also present!\n",
        "seen = set()\n",
        "while len(questions) < HP_trainingsize:\n",
        "  chars_all = list(allchars)\n",
        "  charlst = lambda: int( \"\".join(np.random.choice(chars_all) for i in range(np.random.randint(1, HP_MAX_DIGITS_IN_NUM+1))))\n",
        "  a,b = charlst(), charlst()\n",
        "  key = tuple(sorted( (a,b)))\n",
        "  if key in seen:\n",
        "    continue\n",
        "  q = \"{}+{}\".format(a,b)\n",
        "  seen.add(key)\n",
        "  # NORMALIZE the length-> PADDING \n",
        "  query = q + \" \" * (HP_MAXLEN - len(q))\n",
        "  ans = str(a+b)\n",
        "  if reverse:\n",
        "    query = query[::-1] \n",
        "  questions.append(query)\n",
        "  expected.append(ans)\n",
        "\n",
        "\n"
      ],
      "execution_count": 10,
      "outputs": []
    },
    {
      "cell_type": "code",
      "metadata": {
        "colab": {
          "base_uri": "https://localhost:8080/"
        },
        "id": "QEQ6ZhO1Om6j",
        "outputId": "364b198b-6827-44ca-917c-115a48670239"
      },
      "source": [
        "len(questions)"
      ],
      "execution_count": 11,
      "outputs": [
        {
          "output_type": "execute_result",
          "data": {
            "text/plain": [
              "50000"
            ]
          },
          "metadata": {
            "tags": []
          },
          "execution_count": 11
        }
      ]
    },
    {
      "cell_type": "code",
      "metadata": {
        "colab": {
          "base_uri": "https://localhost:8080/"
        },
        "id": "HK25CixDSPer",
        "outputId": "1ac84a9c-97a7-4067-a273-5e146483904a"
      },
      "source": [
        "len(expected)"
      ],
      "execution_count": 12,
      "outputs": [
        {
          "output_type": "execute_result",
          "data": {
            "text/plain": [
              "50000"
            ]
          },
          "metadata": {
            "tags": []
          },
          "execution_count": 12
        }
      ]
    },
    {
      "cell_type": "code",
      "metadata": {
        "colab": {
          "base_uri": "https://localhost:8080/"
        },
        "id": "kZ0IotEzSQot",
        "outputId": "85a5241d-063c-4629-cdc2-bf1cf28d715f"
      },
      "source": [
        "print(questions[:10])"
      ],
      "execution_count": 13,
      "outputs": [
        {
          "output_type": "stream",
          "text": [
            "[' 971+21', '  72+07', '  7+206', '   7+63', '  77+98', '    4+7', '  763+5', '818+279', '   9+04', '   24+3']\n"
          ],
          "name": "stdout"
        }
      ]
    },
    {
      "cell_type": "code",
      "metadata": {
        "colab": {
          "base_uri": "https://localhost:8080/"
        },
        "id": "na75b9gnSVf6",
        "outputId": "20ae47b1-634c-4fd4-c1e0-898a52d8ab01"
      },
      "source": [
        "expected[:10]"
      ],
      "execution_count": 14,
      "outputs": [
        {
          "output_type": "execute_result",
          "data": {
            "text/plain": [
              "['191', '97', '609', '43', '166', '11', '372', '1790', '49', '45']"
            ]
          },
          "metadata": {
            "tags": []
          },
          "execution_count": 14
        }
      ]
    },
    {
      "cell_type": "code",
      "metadata": {
        "id": "ObOKbcfiSYp4"
      },
      "source": [
        "x = np.zeros((len(questions), HP_MAXLEN, len(allchars)+2), dtype=np.bool)\n",
        "y = np.zeros((len(questions), HP_MAX_DIGITS_IN_NUM +1,len(allchars)+2 ), dtype=np.bool)"
      ],
      "execution_count": 15,
      "outputs": []
    },
    {
      "cell_type": "code",
      "metadata": {
        "colab": {
          "base_uri": "https://localhost:8080/"
        },
        "id": "GmtnSydEWqsd",
        "outputId": "f87fe8d9-3d05-4207-e64f-81fcd3c9bd41"
      },
      "source": [
        "999+999 # digit_count(SUM of 2 largest nums) = digital count(their sum) - 1"
      ],
      "execution_count": 16,
      "outputs": [
        {
          "output_type": "execute_result",
          "data": {
            "text/plain": [
              "1998"
            ]
          },
          "metadata": {
            "tags": []
          },
          "execution_count": 16
        }
      ]
    },
    {
      "cell_type": "code",
      "metadata": {
        "id": "CZpBcvAiWr2N"
      },
      "source": [
        "for i,sentence in enumerate(questions):\n",
        "  x[i] = ctable.encoding(sentence, HP_MAXLEN)\n",
        "  y[i] = ctable.encoding(expected[i],  HP_MAX_DIGITS_IN_NUM +1 )\n",
        "  "
      ],
      "execution_count": 17,
      "outputs": []
    },
    {
      "cell_type": "code",
      "metadata": {
        "id": "tYxM6Y0Aattm"
      },
      "source": [
        ""
      ],
      "execution_count": 17,
      "outputs": []
    },
    {
      "cell_type": "code",
      "metadata": {
        "id": "A9MqLokUX4RT"
      },
      "source": [
        "indices = np.arange(len(y))\n",
        "np.random.shuffle(indices)\n",
        "minorx = x[indices]\n",
        "minory = y[indices]\n",
        "\n",
        "partition = int(len(x) * 0.9) # 90% training data\n",
        "xtrain,xval = x[:partition], x[partition:]\n",
        "ytrain,yval = y[:partition], y[partition:]"
      ],
      "execution_count": 18,
      "outputs": []
    },
    {
      "cell_type": "code",
      "metadata": {
        "colab": {
          "base_uri": "https://localhost:8080/"
        },
        "id": "Y5yfcdx5abOF",
        "outputId": "f5bf9523-dab5-4fdf-e6ad-55c25d735565"
      },
      "source": [
        "xtrain.shape"
      ],
      "execution_count": 19,
      "outputs": [
        {
          "output_type": "execute_result",
          "data": {
            "text/plain": [
              "(45000, 7, 12)"
            ]
          },
          "metadata": {
            "tags": []
          },
          "execution_count": 19
        }
      ]
    },
    {
      "cell_type": "code",
      "metadata": {
        "colab": {
          "base_uri": "https://localhost:8080/"
        },
        "id": "pqwWMI9pakua",
        "outputId": "416b60c1-a87b-469e-bb83-d76033b12d21"
      },
      "source": [
        "yval.shape"
      ],
      "execution_count": 20,
      "outputs": [
        {
          "output_type": "execute_result",
          "data": {
            "text/plain": [
              "(5000, 4, 12)"
            ]
          },
          "metadata": {
            "tags": []
          },
          "execution_count": 20
        }
      ]
    },
    {
      "cell_type": "code",
      "metadata": {
        "colab": {
          "base_uri": "https://localhost:8080/"
        },
        "id": "nY7ybWujxxyV",
        "outputId": "5c7f5ea6-535c-4623-ead3-3e6e74114e18"
      },
      "source": [
        "yval[0]"
      ],
      "execution_count": 54,
      "outputs": [
        {
          "output_type": "execute_result",
          "data": {
            "text/plain": [
              "array([[False,  True, False, False, False, False, False, False, False,\n",
              "        False, False, False],\n",
              "       [ True, False, False, False, False, False, False, False, False,\n",
              "        False, False, False],\n",
              "       [False, False, False, False, False, False, False, False, False,\n",
              "         True, False, False],\n",
              "       [ True, False, False, False, False, False, False, False, False,\n",
              "        False, False, False]])"
            ]
          },
          "metadata": {
            "tags": []
          },
          "execution_count": 54
        }
      ]
    },
    {
      "cell_type": "code",
      "metadata": {
        "colab": {
          "base_uri": "https://localhost:8080/"
        },
        "id": "6Bd6fRVAal4C",
        "outputId": "a8dd4aae-7da9-4f41-90bd-fb1c36da0080"
      },
      "source": [
        "indices"
      ],
      "execution_count": 21,
      "outputs": [
        {
          "output_type": "execute_result",
          "data": {
            "text/plain": [
              "array([21960, 21194, 20223, ..., 32443,  6158, 14172])"
            ]
          },
          "metadata": {
            "tags": []
          },
          "execution_count": 21
        }
      ]
    },
    {
      "cell_type": "code",
      "metadata": {
        "colab": {
          "base_uri": "https://localhost:8080/"
        },
        "id": "IuuZUC9Lapsi",
        "outputId": "a2d10f8a-5901-489f-8fc7-2c53f48ad41e"
      },
      "source": [
        "HP_MAXLEN, len(chars_all)+2 # +2 for ' ' and symbol \n"
      ],
      "execution_count": 22,
      "outputs": [
        {
          "output_type": "execute_result",
          "data": {
            "text/plain": [
              "(7, 12)"
            ]
          },
          "metadata": {
            "tags": []
          },
          "execution_count": 22
        }
      ]
    },
    {
      "cell_type": "code",
      "metadata": {
        "id": "Lv1NEZJPa34f",
        "colab": {
          "base_uri": "https://localhost:8080/"
        },
        "outputId": "6cf01218-85a3-4be1-cec0-923b8fe21ddc"
      },
      "source": [
        "xtrain[0].shape"
      ],
      "execution_count": 79,
      "outputs": [
        {
          "output_type": "execute_result",
          "data": {
            "text/plain": [
              "(7, 12)"
            ]
          },
          "metadata": {
            "tags": []
          },
          "execution_count": 79
        }
      ]
    },
    {
      "cell_type": "code",
      "metadata": {
        "id": "TIX870CugPHL"
      },
      "source": [
        "model = keras.Sequential()\n",
        "layer_lstm = keras.layers.LSTM(128, input_shape=(7, 12)) \n",
        "# RepeatVector \n",
        "# LSTM-> gave N OUTputs\n",
        "# the last OUTPUT-> TIME STEP\n",
        "# 999+999 = 1098\n",
        "# 99+99 = 198\n",
        "# max_digit=3, output = 4\n",
        "# max_digits=2, output = 3\n",
        "# repeat vector-> store the memory-> the last time vector from previous LSTM\n",
        "# then => keep repeating-> adding LSTMs \n"
      ],
      "execution_count": 88,
      "outputs": []
    },
    {
      "cell_type": "code",
      "metadata": {
        "id": "z_RYkBnmi5VJ"
      },
      "source": [
        "# 3 words-> 4th onwards! \n",
        "# I am going (to)\n",
        "# am going to (school)\n",
        "# repeat-> MAXLEN (each word + 1)\n",
        "# added no. os LSTMs that we wanted to count-> 3\n",
        "\n",
        "# SUM-> Repeat-> (3) + 1\n",
        "# LSTMs-> only 1 y! -> 1 \n",
        "\n",
        "# repeat_vector-> input of size vector/time vector from previous LSTM \n",
        "# sequence length LSTM steps\n"
      ],
      "execution_count": 25,
      "outputs": []
    },
    {
      "cell_type": "code",
      "metadata": {
        "id": "itB6Z9TejjS_"
      },
      "source": [
        "layer_repeated_vector = keras.layers.RepeatVector(4)"
      ],
      "execution_count": 89,
      "outputs": []
    },
    {
      "cell_type": "markdown",
      "metadata": {
        "id": "asPhUo_Gy3AP"
      },
      "source": [
        ""
      ]
    },
    {
      "cell_type": "code",
      "metadata": {
        "id": "8afRVqJ-j64R"
      },
      "source": [
        "# Add all prev layers to model before appending repeat layers\n",
        "model.add(layer_lstm)\n",
        "model.add(layer_repeated_vector)\n",
        "# now add sequence_length no. of LSTMs to learn length pattern \n",
        "\n",
        "for i in range(1):\n",
        "  model.add(keras.layers.LSTM(128, return_sequences=True))\n"
      ],
      "execution_count": 90,
      "outputs": []
    },
    {
      "cell_type": "code",
      "metadata": {
        "id": "ZWdfEwZolLwC"
      },
      "source": [
        "output_dim = 12 # 0-9, ' ' , +\n",
        "#layer_d1 = keras.layers.Dense(128, activation='relu')\n",
        "layer_d2 = keras.layers.Dense(output_dim, activation='softmax')"
      ],
      "execution_count": 91,
      "outputs": []
    },
    {
      "cell_type": "code",
      "metadata": {
        "id": "SvwTLFLBl2ul"
      },
      "source": [
        ""
      ],
      "execution_count": 91,
      "outputs": []
    },
    {
      "cell_type": "code",
      "metadata": {
        "id": "Ir5pXxc6lpF-"
      },
      "source": [
        "#model.add(layer_d1)\n",
        "model.add(layer_d2)"
      ],
      "execution_count": 92,
      "outputs": []
    },
    {
      "cell_type": "code",
      "metadata": {
        "id": "g5zLEV0_l3gB"
      },
      "source": [
        "model.compile(loss='categorical_crossentropy', optimizer='adam', metrics=['accuracy'])"
      ],
      "execution_count": 93,
      "outputs": []
    },
    {
      "cell_type": "code",
      "metadata": {
        "colab": {
          "base_uri": "https://localhost:8080/"
        },
        "id": "jrUreSq2mBlD",
        "outputId": "f8a2e449-18af-4737-bb4b-e0170e20dc0d"
      },
      "source": [
        "model.summary()"
      ],
      "execution_count": 94,
      "outputs": [
        {
          "output_type": "stream",
          "text": [
            "Model: \"sequential_6\"\n",
            "_________________________________________________________________\n",
            "Layer (type)                 Output Shape              Param #   \n",
            "=================================================================\n",
            "lstm_23 (LSTM)               (None, 128)               72192     \n",
            "_________________________________________________________________\n",
            "repeat_vector_9 (RepeatVecto (None, 4, 128)            0         \n",
            "_________________________________________________________________\n",
            "lstm_24 (LSTM)               (None, 4, 128)            131584    \n",
            "_________________________________________________________________\n",
            "dense_7 (Dense)              (None, 4, 12)             1548      \n",
            "=================================================================\n",
            "Total params: 205,324\n",
            "Trainable params: 205,324\n",
            "Non-trainable params: 0\n",
            "_________________________________________________________________\n"
          ],
          "name": "stdout"
        }
      ]
    },
    {
      "cell_type": "code",
      "metadata": {
        "colab": {
          "base_uri": "https://localhost:8080/"
        },
        "id": "OBGln3yAmC1P",
        "outputId": "831a5fa8-04a2-4814-db48-50a4666deb22"
      },
      "source": [
        "# RNNs-> keep training and keep observing/validating/visualizing output for errors\n",
        "\n",
        "# for first time, and then in loop!\n",
        "\n",
        "print('****')\n",
        "model.fit(xtrain, ytrain, batch_size=HP_BATCH_SIZE, epochs=1, validation_data=(xval,yval))"
      ],
      "execution_count": 95,
      "outputs": [
        {
          "output_type": "stream",
          "text": [
            "****\n",
            "1407/1407 [==============================] - 17s 10ms/step - loss: 1.7550 - accuracy: 0.2179 - val_loss: 1.8178 - val_accuracy: 0.1342\n"
          ],
          "name": "stdout"
        },
        {
          "output_type": "execute_result",
          "data": {
            "text/plain": [
              "<tensorflow.python.keras.callbacks.History at 0x7ff042a47b10>"
            ]
          },
          "metadata": {
            "tags": []
          },
          "execution_count": 95
        }
      ]
    },
    {
      "cell_type": "code",
      "metadata": {
        "id": "4I2rFMVk1Znj"
      },
      "source": [
        "ind = np.random.randint(0, len(xval))\n",
        "rowx,rowy = xval[np.array([ind])] , yval[np.array([ind])]\n",
        "preds = model.predict(rowx)\n",
        "pred_maxes = np.argmax(preds, axis=-1)"
      ],
      "execution_count": 115,
      "outputs": []
    },
    {
      "cell_type": "code",
      "metadata": {
        "colab": {
          "base_uri": "https://localhost:8080/"
        },
        "id": "YUDUIH9T1hYW",
        "outputId": "168714fc-9e26-4e2e-80df-671b708cb03e"
      },
      "source": [
        "pred_maxes\n"
      ],
      "execution_count": 116,
      "outputs": [
        {
          "output_type": "execute_result",
          "data": {
            "text/plain": [
              "array([[6, 6, 6, 6]])"
            ]
          },
          "metadata": {
            "tags": []
          },
          "execution_count": 116
        }
      ]
    },
    {
      "cell_type": "code",
      "metadata": {
        "colab": {
          "base_uri": "https://localhost:8080/"
        },
        "id": "4jFcrvP81ywU",
        "outputId": "71f1e569-8b4e-41a3-cac2-455ad8e6ac13"
      },
      "source": [
        "\n",
        "np.argmax(rowy, axis=-1)"
      ],
      "execution_count": 117,
      "outputs": [
        {
          "output_type": "execute_result",
          "data": {
            "text/plain": [
              "array([[6, 7, 3, 0]])"
            ]
          },
          "metadata": {
            "tags": []
          },
          "execution_count": 117
        }
      ]
    },
    {
      "cell_type": "code",
      "metadata": {
        "colab": {
          "base_uri": "https://localhost:8080/"
        },
        "id": "l5BTzS_lrFT5",
        "outputId": "116cd09a-07c4-444f-bc01-479ed82acd03"
      },
      "source": [
        "for epoch in range(1,3):\n",
        "  print('****')\n",
        "  print(epoch)\n",
        "  model.fit(xtrain, ytrain, batch_size=HP_BATCH_SIZE, epochs=HP_EPOCHS, validation_data=(xval,yval))"
      ],
      "execution_count": 110,
      "outputs": [
        {
          "output_type": "stream",
          "text": [
            "****\n",
            "1\n",
            "Epoch 1/15\n",
            "704/704 [==============================] - 7s 10ms/step - loss: 1.7457 - accuracy: 0.2527 - val_loss: 1.8115 - val_accuracy: 0.3224\n",
            "Epoch 2/15\n",
            "704/704 [==============================] - 7s 10ms/step - loss: 1.7411 - accuracy: 0.2467 - val_loss: 1.7843 - val_accuracy: 0.1342\n",
            "Epoch 3/15\n",
            "704/704 [==============================] - 7s 10ms/step - loss: 1.6963 - accuracy: 0.2492 - val_loss: 1.6882 - val_accuracy: 0.1628\n",
            "Epoch 4/15\n",
            "704/704 [==============================] - 7s 10ms/step - loss: 1.4803 - accuracy: 0.3008 - val_loss: 1.4427 - val_accuracy: 0.2680\n",
            "Epoch 5/15\n",
            "704/704 [==============================] - 7s 10ms/step - loss: 1.3370 - accuracy: 0.3407 - val_loss: 1.3601 - val_accuracy: 0.3097\n",
            "Epoch 6/15\n",
            "704/704 [==============================] - 7s 10ms/step - loss: 1.2753 - accuracy: 0.3580 - val_loss: 1.3066 - val_accuracy: 0.5193\n",
            "Epoch 7/15\n",
            "704/704 [==============================] - 7s 10ms/step - loss: 1.2351 - accuracy: 0.3682 - val_loss: 1.2717 - val_accuracy: 0.5315\n",
            "Epoch 8/15\n",
            "704/704 [==============================] - 7s 10ms/step - loss: 1.2047 - accuracy: 0.4142 - val_loss: 1.2451 - val_accuracy: 0.3474\n",
            "Epoch 9/15\n",
            "704/704 [==============================] - 7s 10ms/step - loss: 1.1762 - accuracy: 0.4278 - val_loss: 1.2237 - val_accuracy: 0.3562\n",
            "Epoch 10/15\n",
            "704/704 [==============================] - 7s 10ms/step - loss: 1.1483 - accuracy: 0.4087 - val_loss: 1.1886 - val_accuracy: 0.5552\n",
            "Epoch 11/15\n",
            "704/704 [==============================] - 7s 10ms/step - loss: 1.1114 - accuracy: 0.4408 - val_loss: 1.1580 - val_accuracy: 0.3795\n",
            "Epoch 12/15\n",
            "704/704 [==============================] - 7s 10ms/step - loss: 1.0745 - accuracy: 0.4591 - val_loss: 1.1254 - val_accuracy: 0.5826\n",
            "Epoch 13/15\n",
            "704/704 [==============================] - 7s 10ms/step - loss: 1.0419 - accuracy: 0.4604 - val_loss: 1.1145 - val_accuracy: 0.3955\n",
            "Epoch 14/15\n",
            "704/704 [==============================] - 7s 10ms/step - loss: 1.0101 - accuracy: 0.4605 - val_loss: 1.0685 - val_accuracy: 0.4153\n",
            "Epoch 15/15\n",
            "704/704 [==============================] - 7s 10ms/step - loss: 0.9808 - accuracy: 0.4639 - val_loss: 1.0438 - val_accuracy: 0.4241\n",
            "****\n",
            "2\n",
            "Epoch 1/15\n",
            "704/704 [==============================] - 7s 10ms/step - loss: 0.9537 - accuracy: 0.4811 - val_loss: 1.0176 - val_accuracy: 0.4333\n",
            "Epoch 2/15\n",
            "704/704 [==============================] - 7s 10ms/step - loss: 0.9259 - accuracy: 0.4730 - val_loss: 0.9840 - val_accuracy: 0.4525\n",
            "Epoch 3/15\n",
            "704/704 [==============================] - 7s 10ms/step - loss: 0.9006 - accuracy: 0.4846 - val_loss: 0.9583 - val_accuracy: 0.4651\n",
            "Epoch 4/15\n",
            "704/704 [==============================] - 7s 10ms/step - loss: 0.8767 - accuracy: 0.4795 - val_loss: 0.9347 - val_accuracy: 0.4685\n",
            "Epoch 5/15\n",
            "704/704 [==============================] - 7s 10ms/step - loss: 0.8503 - accuracy: 0.4947 - val_loss: 0.9171 - val_accuracy: 0.6579\n",
            "Epoch 6/15\n",
            "704/704 [==============================] - 7s 10ms/step - loss: 0.8305 - accuracy: 0.4971 - val_loss: 0.8756 - val_accuracy: 0.4967\n",
            "Epoch 7/15\n",
            "704/704 [==============================] - 7s 10ms/step - loss: 0.8063 - accuracy: 0.5085 - val_loss: 0.8590 - val_accuracy: 0.4999\n",
            "Epoch 8/15\n",
            "704/704 [==============================] - 7s 10ms/step - loss: 0.7840 - accuracy: 0.5205 - val_loss: 0.8388 - val_accuracy: 0.5027\n",
            "Epoch 9/15\n",
            "704/704 [==============================] - 7s 10ms/step - loss: 0.7652 - accuracy: 0.5260 - val_loss: 0.8160 - val_accuracy: 0.5138\n",
            "Epoch 10/15\n",
            "704/704 [==============================] - 7s 10ms/step - loss: 0.7470 - accuracy: 0.5328 - val_loss: 0.7954 - val_accuracy: 0.5265\n",
            "Epoch 11/15\n",
            "704/704 [==============================] - 7s 10ms/step - loss: 0.7327 - accuracy: 0.5369 - val_loss: 0.7829 - val_accuracy: 0.7136\n",
            "Epoch 12/15\n",
            "704/704 [==============================] - 7s 10ms/step - loss: 0.7185 - accuracy: 0.5461 - val_loss: 0.7670 - val_accuracy: 0.5369\n",
            "Epoch 13/15\n",
            "704/704 [==============================] - 7s 10ms/step - loss: 0.7073 - accuracy: 0.5502 - val_loss: 0.7528 - val_accuracy: 0.5401\n",
            "Epoch 14/15\n",
            "704/704 [==============================] - 7s 10ms/step - loss: 0.6929 - accuracy: 0.5435 - val_loss: 0.7399 - val_accuracy: 0.5434\n",
            "Epoch 15/15\n",
            "704/704 [==============================] - 7s 10ms/step - loss: 0.6820 - accuracy: 0.5551 - val_loss: 0.7293 - val_accuracy: 0.5488\n"
          ],
          "name": "stdout"
        }
      ]
    },
    {
      "cell_type": "code",
      "metadata": {
        "colab": {
          "base_uri": "https://localhost:8080/"
        },
        "id": "7XU1Gjqjw9W6",
        "outputId": "a3215b08-18e8-4efa-e014-fa5d8863b92f"
      },
      "source": [
        "for i in range(10):\n",
        "  ind = np.random.randint(0, len(xval))\n",
        "  rowx,rowy = xval[np.array([ind])] , yval[np.array([ind])]\n",
        "  preds = model.predict(rowx)\n",
        "  pred_maxes = np.argmax(preds, axis=-1)\n",
        "  knowny = np.argmax(rowy, axis=-1)\n",
        "  print('****')\n",
        "  print(str(pred_maxes))\n",
        "  print(knowny)"
      ],
      "execution_count": 120,
      "outputs": [
        {
          "output_type": "stream",
          "text": [
            "****\n",
            "[[9 8 6 6]]\n",
            "[[9 8 3 0]]\n",
            "****\n",
            "[[2 2 1 6]]\n",
            "[[2 2 6 0]]\n",
            "****\n",
            "[[1 1 2 2]]\n",
            "[[1 1 2 6]]\n",
            "****\n",
            "[[9 8 6 6]]\n",
            "[[9 8 5 0]]\n",
            "****\n",
            "[[1 3 5 5]]\n",
            "[[1 3 5 5]]\n",
            "****\n",
            "[[4 5 6 6]]\n",
            "[[4 5 5 0]]\n",
            "****\n",
            "[[1 5 6 6]]\n",
            "[[1 5 6 2]]\n",
            "****\n",
            "[[5 5 6 6]]\n",
            "[[5 5 7 0]]\n",
            "****\n",
            "[[7 3 6 6]]\n",
            "[[7 3 5 0]]\n",
            "****\n",
            "[[1 7 6 6]]\n",
            "[[1 8 1 0]]\n"
          ],
          "name": "stdout"
        }
      ]
    },
    {
      "cell_type": "code",
      "metadata": {
        "id": "FgjIzMgO4eE_"
      },
      "source": [
        ""
      ],
      "execution_count": null,
      "outputs": []
    }
  ]
}