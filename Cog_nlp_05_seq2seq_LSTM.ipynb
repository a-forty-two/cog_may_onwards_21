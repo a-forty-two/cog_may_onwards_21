{
  "nbformat": 4,
  "nbformat_minor": 0,
  "metadata": {
    "colab": {
      "name": "Cog_nlp_05_seq2seq.ipynb",
      "provenance": [],
      "authorship_tag": "ABX9TyMwPjvalj3iNZkApXc9GSCU"
    },
    "kernelspec": {
      "name": "python3",
      "display_name": "Python 3"
    },
    "language_info": {
      "name": "python"
    },
    "accelerator": "GPU"
  },
  "cells": [
    {
      "cell_type": "code",
      "metadata": {
        "id": "sFdfFWw_D2Rt"
      },
      "source": [
        "import tensorflow as tf\n",
        "from tensorflow import keras\n",
        "import numpy as np\n"
      ],
      "execution_count": 1,
      "outputs": []
    },
    {
      "cell_type": "code",
      "metadata": {
        "id": "0IMXCUvcEAzQ"
      },
      "source": [
        "# autocorrect, wordprediction\n",
        "# fibonacci, AP, GP, HP, series and propagation \n",
        "# Activity Detection \n",
        "# y = f(x, g(y))\n",
        "# output is transformed and channeled back into input \n",
        "\n",
        "# Temp tomorrow-> f(temp_today, temp_day_before.... temp_day_last_year,,, temp_JS, )\n",
        "# temp_tom = w1*temp_today + w2*history f(temp_relevant_history) + w3*weaker_history.... +wN*weakest history... + 0*the_extreme_history"
      ],
      "execution_count": 2,
      "outputs": []
    },
    {
      "cell_type": "code",
      "metadata": {
        "id": "E-TEcxfEFRRR"
      },
      "source": [
        "# BINS -> grouping, Ordering, sorting \n",
        "# avg_temp_next_month = strong*(this_month)+ fair_strength*  prev_month + weak*prior_month + (tending_to_0)*history!\n"
      ],
      "execution_count": 3,
      "outputs": []
    },
    {
      "cell_type": "code",
      "metadata": {
        "id": "Amz7SCzbFkHs"
      },
      "source": [
        "# CHARACTER ADDITION-> math equation \n",
        "# 4+5=\n",
        "# 1+2=\n",
        "# 50,0000\n",
        "\n",
        "# if user enter 2 numbers: 284+ 16 = ?\n",
        "# 300"
      ],
      "execution_count": 4,
      "outputs": []
    },
    {
      "cell_type": "code",
      "metadata": {
        "id": "D_O-oC74JNng"
      },
      "source": [
        "# word prediction\n",
        "# this is a -> good \n",
        "# are you very -> hungry?\n",
        "# "
      ],
      "execution_count": 5,
      "outputs": []
    },
    {
      "cell_type": "code",
      "metadata": {
        "id": "CSfNvy1bKMcm"
      },
      "source": [
        "HP_trainingsize = 50000\n",
        "HP_MAX_DIGITS_IN_NUM = 3\n",
        "HP_MAXLEN = HP_MAX_DIGITS_IN_NUM + 1 + HP_MAX_DIGITS_IN_NUM\n",
        "HP_OUTPUT_SEQUENCE_LENGTH = 1\n",
        "HP_BATCH_SIZE = 32\n",
        "HP_EPOCHS = 30"
      ],
      "execution_count": 35,
      "outputs": []
    },
    {
      "cell_type": "code",
      "metadata": {
        "id": "rU6n2tdJKoMd"
      },
      "source": [
        "class corpus:\n",
        "  def __init__(self, chars): # input a sequence, and build dictionaries\n",
        "    self.chars = sorted(set(chars)) #Bag of characters\n",
        "    self.chars.append(' ')\n",
        "    self.chars.append('+')\n",
        "    self.word2idx = dict( (word,num) for num,word in enumerate(self.chars) )\n",
        "    self.idx2word = dict( (num,word) for num,word in enumerate(self.chars) )\n",
        "    self.charlen = len(self.chars)\n",
        "\n",
        "  def encoding(self, C, numrows): # encoding logic\n",
        "    x = np.zeros((numrows, self.charlen ))\n",
        "    for i,c in enumerate(C):\n",
        "      x[i, self.word2idx[c]] = 1\n",
        "    return x\n",
        "\n",
        "  def decoding(self, x, ismaxlen = True):\n",
        "    if ismaxlen:\n",
        "      x = x.argmax(axis=-1) # list of numbers\n",
        "    return \"\".join(self.idx2word[xx] for xx in x )\n",
        "\n",
        "\n",
        "  \n"
      ],
      "execution_count": 7,
      "outputs": []
    },
    {
      "cell_type": "code",
      "metadata": {
        "id": "e4ywtZ_3M794"
      },
      "source": [
        "# created all possible combinations-> and then eliminated +num and num+, and only keep\n",
        "# num+num!\n",
        "# 5+6 = 6+5 \n",
        "# Reverse my inputs! this is a case where opposite sequence is ALSO the same label!\n"
      ],
      "execution_count": 8,
      "outputs": []
    },
    {
      "cell_type": "code",
      "metadata": {
        "id": "CPzuZ0W1NQhq"
      },
      "source": [
        "allchars = \"0123456789\"\n",
        "ctable = corpus(allchars)\n",
        "reverse = True"
      ],
      "execution_count": 9,
      "outputs": []
    },
    {
      "cell_type": "code",
      "metadata": {
        "id": "X_YMwjG2NbNA"
      },
      "source": [
        "questions = []\n",
        "expected = []\n",
        "# set to check if reverse inputs are also present!\n",
        "seen = set()\n",
        "while len(questions) < HP_trainingsize:\n",
        "  chars_all = list(allchars)\n",
        "  charlst = lambda: int( \"\".join(np.random.choice(chars_all) for i in range(np.random.randint(1, HP_MAX_DIGITS_IN_NUM+1))))\n",
        "  a,b = charlst(), charlst()\n",
        "  key = tuple(sorted( (a,b)))\n",
        "  if key in seen:\n",
        "    continue\n",
        "  q = \"{}+{}\".format(a,b)\n",
        "  seen.add(key)\n",
        "  # NORMALIZE the length-> PADDING \n",
        "  query = q + \" \" * (HP_MAXLEN - len(q))\n",
        "  ans = str(a+b)\n",
        "  if reverse:\n",
        "    query = query[::-1] \n",
        "  questions.append(query)\n",
        "  expected.append(ans)\n",
        "\n",
        "\n"
      ],
      "execution_count": 10,
      "outputs": []
    },
    {
      "cell_type": "code",
      "metadata": {
        "colab": {
          "base_uri": "https://localhost:8080/"
        },
        "id": "QEQ6ZhO1Om6j",
        "outputId": "364b198b-6827-44ca-917c-115a48670239"
      },
      "source": [
        "len(questions)"
      ],
      "execution_count": 11,
      "outputs": [
        {
          "output_type": "execute_result",
          "data": {
            "text/plain": [
              "50000"
            ]
          },
          "metadata": {
            "tags": []
          },
          "execution_count": 11
        }
      ]
    },
    {
      "cell_type": "code",
      "metadata": {
        "colab": {
          "base_uri": "https://localhost:8080/"
        },
        "id": "HK25CixDSPer",
        "outputId": "1ac84a9c-97a7-4067-a273-5e146483904a"
      },
      "source": [
        "len(expected)"
      ],
      "execution_count": 12,
      "outputs": [
        {
          "output_type": "execute_result",
          "data": {
            "text/plain": [
              "50000"
            ]
          },
          "metadata": {
            "tags": []
          },
          "execution_count": 12
        }
      ]
    },
    {
      "cell_type": "code",
      "metadata": {
        "colab": {
          "base_uri": "https://localhost:8080/"
        },
        "id": "kZ0IotEzSQot",
        "outputId": "85a5241d-063c-4629-cdc2-bf1cf28d715f"
      },
      "source": [
        "print(questions[:10])"
      ],
      "execution_count": 13,
      "outputs": [
        {
          "output_type": "stream",
          "text": [
            "[' 971+21', '  72+07', '  7+206', '   7+63', '  77+98', '    4+7', '  763+5', '818+279', '   9+04', '   24+3']\n"
          ],
          "name": "stdout"
        }
      ]
    },
    {
      "cell_type": "code",
      "metadata": {
        "colab": {
          "base_uri": "https://localhost:8080/"
        },
        "id": "na75b9gnSVf6",
        "outputId": "20ae47b1-634c-4fd4-c1e0-898a52d8ab01"
      },
      "source": [
        "expected[:10]"
      ],
      "execution_count": 14,
      "outputs": [
        {
          "output_type": "execute_result",
          "data": {
            "text/plain": [
              "['191', '97', '609', '43', '166', '11', '372', '1790', '49', '45']"
            ]
          },
          "metadata": {
            "tags": []
          },
          "execution_count": 14
        }
      ]
    },
    {
      "cell_type": "code",
      "metadata": {
        "id": "ObOKbcfiSYp4"
      },
      "source": [
        "x = np.zeros((len(questions), HP_MAXLEN, len(allchars)+2), dtype=np.bool)\n",
        "y = np.zeros((len(questions), HP_MAX_DIGITS_IN_NUM +1,len(allchars)+2 ), dtype=np.bool)"
      ],
      "execution_count": 15,
      "outputs": []
    },
    {
      "cell_type": "code",
      "metadata": {
        "colab": {
          "base_uri": "https://localhost:8080/"
        },
        "id": "GmtnSydEWqsd",
        "outputId": "f87fe8d9-3d05-4207-e64f-81fcd3c9bd41"
      },
      "source": [
        "999+999 # digit_count(SUM of 2 largest nums) = digital count(their sum) - 1"
      ],
      "execution_count": 16,
      "outputs": [
        {
          "output_type": "execute_result",
          "data": {
            "text/plain": [
              "1998"
            ]
          },
          "metadata": {
            "tags": []
          },
          "execution_count": 16
        }
      ]
    },
    {
      "cell_type": "code",
      "metadata": {
        "id": "CZpBcvAiWr2N"
      },
      "source": [
        "for i,sentence in enumerate(questions):\n",
        "  x[i] = ctable.encoding(sentence, HP_MAXLEN)\n",
        "  y[i] = ctable.encoding(expected[i],  HP_MAX_DIGITS_IN_NUM +1 )\n",
        "  "
      ],
      "execution_count": 17,
      "outputs": []
    },
    {
      "cell_type": "code",
      "metadata": {
        "id": "tYxM6Y0Aattm"
      },
      "source": [
        ""
      ],
      "execution_count": 17,
      "outputs": []
    },
    {
      "cell_type": "code",
      "metadata": {
        "id": "A9MqLokUX4RT"
      },
      "source": [
        "indices = np.arange(len(y))\n",
        "np.random.shuffle(indices)\n",
        "minorx = x[indices]\n",
        "minory = y[indices]\n",
        "\n",
        "partition = int(len(x) * 0.9) # 90% training data\n",
        "xtrain,xval = x[:partition], x[partition:]\n",
        "ytrain,yval = y[:partition], y[partition:]"
      ],
      "execution_count": 18,
      "outputs": []
    },
    {
      "cell_type": "code",
      "metadata": {
        "colab": {
          "base_uri": "https://localhost:8080/"
        },
        "id": "Y5yfcdx5abOF",
        "outputId": "f5bf9523-dab5-4fdf-e6ad-55c25d735565"
      },
      "source": [
        "xtrain.shape"
      ],
      "execution_count": 19,
      "outputs": [
        {
          "output_type": "execute_result",
          "data": {
            "text/plain": [
              "(45000, 7, 12)"
            ]
          },
          "metadata": {
            "tags": []
          },
          "execution_count": 19
        }
      ]
    },
    {
      "cell_type": "code",
      "metadata": {
        "colab": {
          "base_uri": "https://localhost:8080/"
        },
        "id": "pqwWMI9pakua",
        "outputId": "416b60c1-a87b-469e-bb83-d76033b12d21"
      },
      "source": [
        "yval.shape"
      ],
      "execution_count": 20,
      "outputs": [
        {
          "output_type": "execute_result",
          "data": {
            "text/plain": [
              "(5000, 4, 12)"
            ]
          },
          "metadata": {
            "tags": []
          },
          "execution_count": 20
        }
      ]
    },
    {
      "cell_type": "code",
      "metadata": {
        "colab": {
          "base_uri": "https://localhost:8080/"
        },
        "id": "6Bd6fRVAal4C",
        "outputId": "a8dd4aae-7da9-4f41-90bd-fb1c36da0080"
      },
      "source": [
        "indices"
      ],
      "execution_count": 21,
      "outputs": [
        {
          "output_type": "execute_result",
          "data": {
            "text/plain": [
              "array([21960, 21194, 20223, ..., 32443,  6158, 14172])"
            ]
          },
          "metadata": {
            "tags": []
          },
          "execution_count": 21
        }
      ]
    },
    {
      "cell_type": "code",
      "metadata": {
        "colab": {
          "base_uri": "https://localhost:8080/"
        },
        "id": "IuuZUC9Lapsi",
        "outputId": "a2d10f8a-5901-489f-8fc7-2c53f48ad41e"
      },
      "source": [
        "HP_MAXLEN, len(chars_all)+2 # +2 for ' ' and symbol \n"
      ],
      "execution_count": 22,
      "outputs": [
        {
          "output_type": "execute_result",
          "data": {
            "text/plain": [
              "(7, 12)"
            ]
          },
          "metadata": {
            "tags": []
          },
          "execution_count": 22
        }
      ]
    },
    {
      "cell_type": "code",
      "metadata": {
        "id": "Lv1NEZJPa34f",
        "colab": {
          "base_uri": "https://localhost:8080/"
        },
        "outputId": "2233731b-0d3e-4a9c-a536-b4fba60e95a3"
      },
      "source": [
        "HP_MAXLEN"
      ],
      "execution_count": 23,
      "outputs": [
        {
          "output_type": "execute_result",
          "data": {
            "text/plain": [
              "7"
            ]
          },
          "metadata": {
            "tags": []
          },
          "execution_count": 23
        }
      ]
    },
    {
      "cell_type": "code",
      "metadata": {
        "id": "TIX870CugPHL"
      },
      "source": [
        "model = keras.Sequential()\n",
        "layer_lstm = keras.layers.LSTM(128, input_shape=(HP_MAXLEN, len(chars_all)+2)) \n",
        "# RepeatVector \n",
        "# LSTM-> gave N OUTputs\n",
        "# the last OUTPUT-> TIME STEP\n",
        "# 999+999 = 1098\n",
        "# 99+99 = 198\n",
        "# max_digit=3, output = 4\n",
        "# max_digits=2, output = 3\n",
        "# repeat vector-> store the memory-> the last time vector from previous LSTM\n",
        "# then => keep repeating-> adding LSTMs \n"
      ],
      "execution_count": 39,
      "outputs": []
    },
    {
      "cell_type": "code",
      "metadata": {
        "id": "z_RYkBnmi5VJ"
      },
      "source": [
        "# 3 words-> 4th onwards! \n",
        "# I am going (to)\n",
        "# am going to (school)\n",
        "# repeat-> MAXLEN (each word + 1)\n",
        "# added no. os LSTMs that we wanted to count-> 3\n",
        "\n",
        "# SUM-> Repeat-> (3) + 1\n",
        "# LSTMs-> only 1 y! -> 1 \n",
        "\n",
        "# repeat_vector-> input of size vector/time vector from previous LSTM \n",
        "# sequence length LSTM steps\n"
      ],
      "execution_count": 25,
      "outputs": []
    },
    {
      "cell_type": "code",
      "metadata": {
        "id": "itB6Z9TejjS_"
      },
      "source": [
        "layer_repeated_vector = keras.layers.RepeatVector(HP_MAX_DIGITS_IN_NUM+1)"
      ],
      "execution_count": 40,
      "outputs": []
    },
    {
      "cell_type": "code",
      "metadata": {
        "id": "8afRVqJ-j64R"
      },
      "source": [
        "# Add all prev layers to model before appending repeat layers\n",
        "model.add(layer_lstm)\n",
        "model.add(layer_repeated_vector)\n",
        "# now add sequence_length no. of LSTMs to learn length pattern \n",
        "\n",
        "for i in range(HP_OUTPUT_SEQUENCE_LENGTH):\n",
        "  model.add(keras.layers.LSTM(128, return_sequences=True))\n"
      ],
      "execution_count": 41,
      "outputs": []
    },
    {
      "cell_type": "code",
      "metadata": {
        "id": "ZWdfEwZolLwC"
      },
      "source": [
        "output_dim = 12 # 0-9, ' ' , +\n",
        "#layer_d1 = keras.layers.Dense(128, activation='relu')\n",
        "layer_d2 = keras.layers.Dense(output_dim, activation='softmax')"
      ],
      "execution_count": 42,
      "outputs": []
    },
    {
      "cell_type": "code",
      "metadata": {
        "id": "SvwTLFLBl2ul"
      },
      "source": [
        ""
      ],
      "execution_count": 28,
      "outputs": []
    },
    {
      "cell_type": "code",
      "metadata": {
        "id": "Ir5pXxc6lpF-"
      },
      "source": [
        "#model.add(layer_d1)\n",
        "model.add(layer_d2)"
      ],
      "execution_count": 43,
      "outputs": []
    },
    {
      "cell_type": "code",
      "metadata": {
        "id": "g5zLEV0_l3gB"
      },
      "source": [
        "model.compile(loss='categorical_crossentropy', optimizer='adam', metrics=['accuracy'])"
      ],
      "execution_count": 44,
      "outputs": []
    },
    {
      "cell_type": "code",
      "metadata": {
        "colab": {
          "base_uri": "https://localhost:8080/"
        },
        "id": "jrUreSq2mBlD",
        "outputId": "461b7b75-a59a-479a-c6a1-bb94c85913da"
      },
      "source": [
        "model.summary()"
      ],
      "execution_count": 45,
      "outputs": [
        {
          "output_type": "stream",
          "text": [
            "Model: \"sequential_1\"\n",
            "_________________________________________________________________\n",
            "Layer (type)                 Output Shape              Param #   \n",
            "=================================================================\n",
            "lstm_2 (LSTM)                (None, 128)               72192     \n",
            "_________________________________________________________________\n",
            "repeat_vector_1 (RepeatVecto (None, 4, 128)            0         \n",
            "_________________________________________________________________\n",
            "lstm_3 (LSTM)                (None, 4, 128)            131584    \n",
            "_________________________________________________________________\n",
            "dense_2 (Dense)              (None, 4, 12)             1548      \n",
            "=================================================================\n",
            "Total params: 205,324\n",
            "Trainable params: 205,324\n",
            "Non-trainable params: 0\n",
            "_________________________________________________________________\n"
          ],
          "name": "stdout"
        }
      ]
    },
    {
      "cell_type": "code",
      "metadata": {
        "colab": {
          "base_uri": "https://localhost:8080/"
        },
        "id": "OBGln3yAmC1P",
        "outputId": "d0a5141d-404f-4a5a-d250-1fe34d7cfacb"
      },
      "source": [
        "# RNNs-> keep training and keep observing/validating/visualizing output for errors\n",
        "\n",
        "# for first time, and then in loop!\n",
        "\n",
        "print('****')\n",
        "model.fit(xtrain, ytrain, batch_size=HP_BATCH_SIZE, epochs=1, validation_data=(xval,yval))"
      ],
      "execution_count": 46,
      "outputs": [
        {
          "output_type": "stream",
          "text": [
            "****\n",
            "1407/1407 [==============================] - 17s 10ms/step - loss: 1.7431 - accuracy: 0.1960 - val_loss: 1.7549 - val_accuracy: 0.3334\n"
          ],
          "name": "stdout"
        },
        {
          "output_type": "execute_result",
          "data": {
            "text/plain": [
              "<tensorflow.python.keras.callbacks.History at 0x7ff045d88f10>"
            ]
          },
          "metadata": {
            "tags": []
          },
          "execution_count": 46
        }
      ]
    },
    {
      "cell_type": "code",
      "metadata": {
        "colab": {
          "base_uri": "https://localhost:8080/"
        },
        "id": "gkhw3buEpQvh",
        "outputId": "0fad817e-9b89-4a5a-9d10-81879a74cd54"
      },
      "source": [
        "for i in range(10):\n",
        "  ind = np.random.randint(0, len(xval))\n",
        "  rowx,rowy = xval[np.array([ind])] , yval[np.array([ind])]\n",
        "  preds = np.argmax(model.predict(rowx), axis=1)\n",
        "  q = ctable.decoding(rowx[0])\n",
        "  correct = ctable.decoding(rowy[0])\n",
        "  pred = ctable.decoding(preds[0], ismaxlen=False)\n",
        "  print( q)\n",
        "  if correct!=pred:\n",
        "    print(pred)"
      ],
      "execution_count": 47,
      "outputs": [
        {
          "output_type": "stream",
          "text": [
            "583+319\n",
            "303321331301\n",
            " 619+49\n",
            "303001000010\n",
            "796+004\n",
            "303321331301\n",
            " 22+172\n",
            "303000000010\n",
            "536+518\n",
            "303321331301\n",
            "163+861\n",
            "303332330001\n",
            "297+837\n",
            "303321333311\n",
            "077+243\n",
            "303331331301\n",
            " 639+65\n",
            "303111000010\n",
            "235+504\n",
            "303331300001\n"
          ],
          "name": "stdout"
        }
      ]
    },
    {
      "cell_type": "code",
      "metadata": {
        "colab": {
          "base_uri": "https://localhost:8080/"
        },
        "id": "l5BTzS_lrFT5",
        "outputId": "ba498d95-ff23-4180-cf92-34f40ddd12bf"
      },
      "source": [
        "for epoch in range(1,3):\n",
        "  print('****')\n",
        "  print(epoch)\n",
        "  model.fit(xtrain, ytrain, batch_size=HP_BATCH_SIZE, epochs=10, validation_data=(xval,yval))"
      ],
      "execution_count": null,
      "outputs": [
        {
          "output_type": "stream",
          "text": [
            "****\n",
            "1\n",
            "Epoch 1/10\n",
            "1407/1407 [==============================] - 13s 9ms/step - loss: 1.6114 - accuracy: 0.2433 - val_loss: 1.5478 - val_accuracy: 0.2260\n",
            "Epoch 2/10\n",
            "1407/1407 [==============================] - 13s 9ms/step - loss: 1.3844 - accuracy: 0.3010 - val_loss: 1.3697 - val_accuracy: 0.3032\n",
            "Epoch 3/10\n",
            "1407/1407 [==============================] - 13s 9ms/step - loss: 1.2858 - accuracy: 0.3282 - val_loss: 1.3029 - val_accuracy: 0.3291\n",
            "Epoch 4/10\n",
            "1407/1407 [==============================] - 13s 9ms/step - loss: 1.2335 - accuracy: 0.3514 - val_loss: 1.2523 - val_accuracy: 0.3454\n",
            "Epoch 5/10\n",
            "1407/1407 [==============================] - 13s 9ms/step - loss: 1.1967 - accuracy: 0.3488 - val_loss: 1.2324 - val_accuracy: 0.3458\n",
            "Epoch 6/10\n",
            "1407/1407 [==============================] - 13s 9ms/step - loss: 1.1713 - accuracy: 0.3708 - val_loss: 1.1985 - val_accuracy: 0.3601\n",
            "Epoch 7/10\n",
            "1407/1407 [==============================] - 13s 9ms/step - loss: 1.1392 - accuracy: 0.3884 - val_loss: 1.1667 - val_accuracy: 0.3733\n",
            "Epoch 8/10\n",
            " 161/1407 [==>...........................] - ETA: 11s - loss: 1.1117 - accuracy: 0.4001"
          ],
          "name": "stdout"
        }
      ]
    },
    {
      "cell_type": "code",
      "metadata": {
        "id": "xRXd1Nt1tTA9"
      },
      "source": [
        ""
      ],
      "execution_count": null,
      "outputs": []
    }
  ]
}