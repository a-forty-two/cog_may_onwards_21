{
  "nbformat": 4,
  "nbformat_minor": 0,
  "metadata": {
    "colab": {
      "name": "Cog_tf_004.ipynb",
      "provenance": [],
      "authorship_tag": "ABX9TyObM4TFP3TCdaxhD/vqKSJW"
    },
    "kernelspec": {
      "name": "python3",
      "display_name": "Python 3"
    },
    "language_info": {
      "name": "python"
    }
  },
  "cells": [
    {
      "cell_type": "code",
      "metadata": {
        "id": "hPuTJWGuv-Jm"
      },
      "source": [
        "# Flatten -> 2 D input was transformed into 1 D\n",
        "# Dense -> fully connected layers, responsible for generating weights and biases for ML \n",
        "# Embedding \n"
      ],
      "execution_count": 1,
      "outputs": []
    },
    {
      "cell_type": "code",
      "metadata": {
        "id": "Fotsf_gKxs9s"
      },
      "source": [
        "import tensorflow as tf\n",
        "from tensorflow import keras\n"
      ],
      "execution_count": 2,
      "outputs": []
    },
    {
      "cell_type": "code",
      "metadata": {
        "colab": {
          "base_uri": "https://localhost:8080/"
        },
        "id": "1nr5fJTA2aP_",
        "outputId": "b1b9c899-e781-4523-e695-897b4110e7c8"
      },
      "source": [
        "(trainx,trainy), (testx, testy) = tf.keras.datasets.imdb.load_data(num_words=10000)"
      ],
      "execution_count": 64,
      "outputs": [
        {
          "output_type": "stream",
          "text": [
            "<string>:6: VisibleDeprecationWarning: Creating an ndarray from ragged nested sequences (which is a list-or-tuple of lists-or-tuples-or ndarrays with different lengths or shapes) is deprecated. If you meant to do this, you must specify 'dtype=object' when creating the ndarray\n",
            "/usr/local/lib/python3.7/dist-packages/tensorflow/python/keras/datasets/imdb.py:155: VisibleDeprecationWarning: Creating an ndarray from ragged nested sequences (which is a list-or-tuple of lists-or-tuples-or ndarrays with different lengths or shapes) is deprecated. If you meant to do this, you must specify 'dtype=object' when creating the ndarray\n",
            "  x_train, y_train = np.array(xs[:idx]), np.array(labels[:idx])\n",
            "/usr/local/lib/python3.7/dist-packages/tensorflow/python/keras/datasets/imdb.py:156: VisibleDeprecationWarning: Creating an ndarray from ragged nested sequences (which is a list-or-tuple of lists-or-tuples-or ndarrays with different lengths or shapes) is deprecated. If you meant to do this, you must specify 'dtype=object' when creating the ndarray\n",
            "  x_test, y_test = np.array(xs[idx:]), np.array(labels[idx:])\n"
          ],
          "name": "stderr"
        }
      ]
    },
    {
      "cell_type": "code",
      "metadata": {
        "colab": {
          "base_uri": "https://localhost:8080/"
        },
        "id": "IuajQpKB2sZa",
        "outputId": "bdb44c1e-0d2c-48fd-9ae2-816d2a5e865f"
      },
      "source": [
        "trainy[:5]"
      ],
      "execution_count": 4,
      "outputs": [
        {
          "output_type": "execute_result",
          "data": {
            "text/plain": [
              "array([1, 0, 0, 1, 0])"
            ]
          },
          "metadata": {
            "tags": []
          },
          "execution_count": 4
        }
      ]
    },
    {
      "cell_type": "code",
      "metadata": {
        "colab": {
          "base_uri": "https://localhost:8080/"
        },
        "id": "z0IdDtup2vbE",
        "outputId": "f359ac4e-a7c5-41f6-e388-e2f4009bb999"
      },
      "source": [
        "print(testx[9])"
      ],
      "execution_count": 18,
      "outputs": [
        {
          "output_type": "stream",
          "text": [
            "[1, 14, 22, 9, 121, 4, 1354, 3135, 3882, 8, 28, 2230, 151, 13, 80, 16301, 15, 4, 1008, 496, 1354, 1437, 71, 321, 5, 100, 28, 77, 714, 5372, 34, 6, 3275, 167, 17, 12, 679, 46, 14, 16, 24, 8, 30, 4, 420, 10, 10, 684, 2991, 1094, 7129, 71, 685, 19, 89, 465, 14, 333, 1354, 22, 39, 1756, 3555, 679, 46, 972, 39, 4, 8801, 7, 1017, 233, 334, 39, 3555, 5, 4, 4528, 22015, 7, 68, 3691, 2154, 8, 471, 4, 3135, 83, 35, 3490, 8, 4, 4997, 248, 201, 13, 1854, 8, 391, 89, 1354, 1747, 70, 30, 1192, 33, 32, 1332, 10, 10, 283, 12, 9, 24, 179, 4, 3215, 7, 4, 86, 22, 151, 12, 21671, 32, 4, 1403, 18598, 7, 405, 258, 11, 1354, 6, 6118, 229, 15, 17416, 4, 37921, 200, 24, 43, 107, 21, 289, 105, 5386, 18379, 5719, 8, 4, 4796, 8173, 7, 2065, 5, 718, 4462, 17, 4, 6199, 11, 4, 86, 22, 246, 18, 32, 14, 12, 1287, 6, 16558, 465, 22, 283, 8, 4, 96, 4, 1354, 16, 210, 981, 8, 30, 5, 545, 2349, 10, 10, 488, 2065, 1747, 17, 4, 1354, 5, 27, 6765, 3530, 1478, 2451, 19, 13496, 2431, 68121, 1368, 3590, 773, 11, 9658, 7, 4, 8712, 1124, 1295, 284, 27, 1943, 11, 823, 17075, 86921, 4, 8976, 1738, 13214, 11, 530, 2430, 2781, 7, 5428, 13624, 745, 3448, 5, 49443, 5134, 4, 15716, 2861, 6984, 937, 2451, 6978, 199, 17, 309, 5, 17, 4, 1354, 4, 689, 6495, 471, 11, 321, 354, 262, 3590, 5, 13214, 137, 295, 2065, 5, 6984, 3739, 4, 3778, 499, 7, 1405, 8681, 10, 10, 50, 26, 49, 1774, 5867, 11, 14, 22, 44, 4, 64, 5340, 13, 70, 66, 213, 46, 9, 6, 813, 8, 4, 229, 11, 49, 1370, 63, 13, 104, 9, 688, 669, 8, 4, 96, 14, 22, 9, 6, 689, 15704, 548, 50, 331, 218, 195, 58, 8, 2887, 3739, 803, 170, 23, 10, 10, 2185, 14, 9, 6, 1543, 52, 22, 13, 545, 386, 149, 14, 11, 20274, 19, 4, 86, 5, 95, 14356, 18, 89, 52, 4, 201, 100, 28, 77, 69, 12, 3501, 467, 3555, 5, 2065]\n"
          ],
          "name": "stdout"
        }
      ]
    },
    {
      "cell_type": "code",
      "metadata": {
        "id": "OBIZtvvS2zIb"
      },
      "source": [
        "data = tf.keras.datasets.imdb"
      ],
      "execution_count": 65,
      "outputs": []
    },
    {
      "cell_type": "code",
      "metadata": {
        "colab": {
          "base_uri": "https://localhost:8080/"
        },
        "id": "WcC9Up0Y299Y",
        "outputId": "56e72bea-c66e-43c9-bc58-f1de1d56961f"
      },
      "source": [
        "dir(data)"
      ],
      "execution_count": 8,
      "outputs": [
        {
          "output_type": "execute_result",
          "data": {
            "text/plain": [
              "['__builtins__',\n",
              " '__cached__',\n",
              " '__doc__',\n",
              " '__file__',\n",
              " '__loader__',\n",
              " '__name__',\n",
              " '__package__',\n",
              " '__path__',\n",
              " '__spec__',\n",
              " '_sys',\n",
              " 'get_word_index',\n",
              " 'load_data']"
            ]
          },
          "metadata": {
            "tags": []
          },
          "execution_count": 8
        }
      ]
    },
    {
      "cell_type": "code",
      "metadata": {
        "id": "q5KmTyC32-02"
      },
      "source": [
        "reverse_dictionary = data.get_word_index()"
      ],
      "execution_count": 66,
      "outputs": []
    },
    {
      "cell_type": "code",
      "metadata": {
        "colab": {
          "base_uri": "https://localhost:8080/"
        },
        "id": "gmLteOAT3MSi",
        "outputId": "08fd5e09-e661-4f42-d826-aa0776a6a737"
      },
      "source": [
        "reverse_dictionary['bye']\n"
      ],
      "execution_count": 67,
      "outputs": [
        {
          "output_type": "execute_result",
          "data": {
            "text/plain": [
              "5455"
            ]
          },
          "metadata": {
            "tags": []
          },
          "execution_count": 67
        }
      ]
    },
    {
      "cell_type": "code",
      "metadata": {
        "id": "w0rq8SCf52Z1"
      },
      "source": [
        "\n",
        "word_index = {word:(encoding+3) for word,encoding in reverse_dictionary.items()}\n",
        "word_index['<PAD>'] = 0\n",
        "word_index['<START>'] = 1\n",
        "word_index['<UNK>'] = 2  # unknown words\n",
        "word_index['<UNUSED>'] = 3\n",
        "olddictionary = { encoding:word  for word,encoding in word_index.items()   }"
      ],
      "execution_count": 68,
      "outputs": []
    },
    {
      "cell_type": "code",
      "metadata": {
        "id": "Yjoa3Vns3mZa"
      },
      "source": [
        "dictionary = {}\n",
        "for i in range(10000):\n",
        "  dictionary[i] = olddictionary[i]\n"
      ],
      "execution_count": 69,
      "outputs": []
    },
    {
      "cell_type": "code",
      "metadata": {
        "colab": {
          "base_uri": "https://localhost:8080/"
        },
        "id": "TVLuhkrS3oGu",
        "outputId": "a9f9e3bc-719d-4cc6-c047-c409c645ae65"
      },
      "source": [
        "len(dictionary)"
      ],
      "execution_count": 70,
      "outputs": [
        {
          "output_type": "execute_result",
          "data": {
            "text/plain": [
              "10000"
            ]
          },
          "metadata": {
            "tags": []
          },
          "execution_count": 70
        }
      ]
    },
    {
      "cell_type": "code",
      "metadata": {
        "id": "TFGAx-u-3zEm"
      },
      "source": [
        "# NLP keywords-> \n",
        "# 0 <PAD> \n",
        "# 1 <START>\n",
        "# 2 <UNK>\n",
        "# 3 <UNUSED>\n",
        "\n",
        "# To NORMALIZE-> we make sure all INPUTS are of SAME length\n",
        "# small sentences will be padded with 0 towards the end\n",
        "# large sentences will be CHOPPED into shorter length! "
      ],
      "execution_count": 22,
      "outputs": []
    },
    {
      "cell_type": "code",
      "metadata": {
        "id": "U0lLWgWW6L0R"
      },
      "source": [
        "def decoder(sampleinput):\n",
        "  return \" \".join([dictionary[word] for word in sampleinput])"
      ],
      "execution_count": 71,
      "outputs": []
    },
    {
      "cell_type": "code",
      "metadata": {
        "colab": {
          "base_uri": "https://localhost:8080/",
          "height": 87
        },
        "id": "War58BVX6YEl",
        "outputId": "6f3ffb92-660b-42d2-8257-34e76d89f344"
      },
      "source": [
        "decoder(testx[0])"
      ],
      "execution_count": 72,
      "outputs": [
        {
          "output_type": "execute_result",
          "data": {
            "application/vnd.google.colaboratory.intrinsic+json": {
              "type": "string"
            },
            "text/plain": [
              "\"<START> please give this one a miss br br <UNK> <UNK> and the rest of the cast rendered terrible performances the show is flat flat flat br br i don't know how michael madison could have allowed this one on his plate he almost seemed to know this wasn't going to work out and his performance was quite <UNK> so all you madison fans give this a miss\""
            ]
          },
          "metadata": {
            "tags": []
          },
          "execution_count": 72
        }
      ]
    },
    {
      "cell_type": "code",
      "metadata": {
        "colab": {
          "base_uri": "https://localhost:8080/"
        },
        "id": "M-6V9qvx6eQV",
        "outputId": "dfe3fc94-c97f-4bbc-c417-89abff70e11d"
      },
      "source": [
        "testy[0] # 0-> negative sentiment"
      ],
      "execution_count": 73,
      "outputs": [
        {
          "output_type": "execute_result",
          "data": {
            "text/plain": [
              "0"
            ]
          },
          "metadata": {
            "tags": []
          },
          "execution_count": 73
        }
      ]
    },
    {
      "cell_type": "code",
      "metadata": {
        "colab": {
          "base_uri": "https://localhost:8080/"
        },
        "id": "KxsZ7eGV7RWY",
        "outputId": "7e2db164-a2c5-4e62-a2d8-367c30eba051"
      },
      "source": [
        "testy[41] # 1-> positive sentiment!\n",
        "\n",
        "# sentiment = f(sentence)\n"
      ],
      "execution_count": 74,
      "outputs": [
        {
          "output_type": "execute_result",
          "data": {
            "text/plain": [
              "1"
            ]
          },
          "metadata": {
            "tags": []
          },
          "execution_count": 74
        }
      ]
    },
    {
      "cell_type": "code",
      "metadata": {
        "colab": {
          "base_uri": "https://localhost:8080/",
          "height": 176
        },
        "id": "vpRh_lwe7U_i",
        "outputId": "8b8fee0e-926b-4acd-bc4c-ccb73b37bf95"
      },
      "source": [
        "decoder(testx[41])"
      ],
      "execution_count": 59,
      "outputs": [
        {
          "output_type": "execute_result",
          "data": {
            "application/vnd.google.colaboratory.intrinsic+json": {
              "type": "string"
            },
            "text/plain": [
              "'<START> little <UNK> needs to fly is another in the remarkable body of <UNK> <UNK> <UNK> work that is without <UNK> having recently <UNK> it on dvd nearly a decade after its initial us release in 1997 it has lost none of its power and one can see its influence on documentaries as diverse as <UNK> own recent <UNK> man and errol <UNK> academy award winning the fog of war like the former it details in its far too brief <UNK> minutes the life of an interesting american like the latter it gives a <UNK> at a side of war that few see yes we see the violence and the <UNK> but as the fog of war brought us into the mind of one of last <UNK> foremost this film allows us a <UNK> at the life of a <UNK> who is captured by the enemy tortured and ultimately <UNK> except in no way shape nor form is the film as simplistic nor upbeat as my brief description of it nor is little <UNK> needs to <UNK> titular subject <UNK> and immigrant german who survived the of the nazis we find out as example that in his hometown in the black forest his grandfather was the only man not to vote for hitler and suffered brutally for that stand post world war two germany and his own <UNK> at the hands of the <UNK> when his air force jet was shot down over on <UNK> 1st while the title of the film and the idea of passion for becoming a pilot <UNK> by the impression allied fighter planes made on him when they <UNK> his town as a child make one believe that is the central subject of the film this is not true the subject is survival or more precisely his human will all human will the details of romantic life are too hollywood and <UNK> an aspect to interest <UNK> nor is the fact that he won a purple heart <UNK> of honor the d f c and the navy cross that thing which pushed to survive so much and remain such a relatively upbeat man although there are glimpses of darker sides is what is at the center of this film and all of <UNK> <UNK> <UNK> <UNK> <UNK> <UNK> of his past is fully <UNK> <UNK> country and the use of a <UNK> e during many jungle scenes among other excellent touches in the score show <UNK> is perhaps along with only martin scorsese the best <UNK> of image and music in film long may he <UNK>'"
            ]
          },
          "metadata": {
            "tags": []
          },
          "execution_count": 59
        }
      ]
    },
    {
      "cell_type": "code",
      "metadata": {
        "colab": {
          "base_uri": "https://localhost:8080/"
        },
        "id": "eg2zfEN-7bNP",
        "outputId": "d9339c4d-dbd4-4319-8d50-da37cddc7416"
      },
      "source": [
        "xtrain_padded = keras.preprocessing.sequence.pad_sequences(trainx, value=0, padding='post',\n",
        "                                                           truncating='post', maxlen=256)\n",
        "xtest_padded = keras.preprocessing.sequence.pad_sequences(testx, value=0, padding='post', \n",
        "                                                          truncating='post', maxlen=256)\n",
        "print(decoder(trainx[142]))\n",
        "print(decoder(xtrain_padded[142])) # LONG SENTENCE CHOPPED\n",
        "print(decoder(trainx[162])) # SHORT SENTENCE PADDED\n",
        "print(decoder(xtrain_padded[162]))"
      ],
      "execution_count": 75,
      "outputs": [
        {
          "output_type": "stream",
          "text": [
            "<START> while i would say i enjoy the show i expected something completely different from when i first saw <UNK> i like about <UNK> i expected to find something along the lines of <UNK> <UNK> i am not sure if it is going on anymore but i have to say i do like the show and while i don't <UNK> it as a breakthrough show it is very charming and i do like the chemistry between the characters as well including the supporting cast br br i would definitely say that it is great to see wesley jonathan back on the screen because i really loved him in city guy i had also seen the woman who plays <UNK> friend in popular and while i think that was an okay show i do not really like her character in this show because she's just not my cup of tea but she rounds it out pretty well\n",
            "<START> while i would say i enjoy the show i expected something completely different from when i first saw <UNK> i like about <UNK> i expected to find something along the lines of <UNK> <UNK> i am not sure if it is going on anymore but i have to say i do like the show and while i don't <UNK> it as a breakthrough show it is very charming and i do like the chemistry between the characters as well including the supporting cast br br i would definitely say that it is great to see wesley jonathan back on the screen because i really loved him in city guy i had also seen the woman who plays <UNK> friend in popular and while i think that was an okay show i do not really like her character in this show because she's just not my cup of tea but she rounds it out pretty well <PAD> <PAD> <PAD> <PAD> <PAD> <PAD> <PAD> <PAD> <PAD> <PAD> <PAD> <PAD> <PAD> <PAD> <PAD> <PAD> <PAD> <PAD> <PAD> <PAD> <PAD> <PAD> <PAD> <PAD> <PAD> <PAD> <PAD> <PAD> <PAD> <PAD> <PAD> <PAD> <PAD> <PAD> <PAD> <PAD> <PAD> <PAD> <PAD> <PAD> <PAD> <PAD> <PAD> <PAD> <PAD> <PAD> <PAD> <PAD> <PAD> <PAD> <PAD> <PAD> <PAD> <PAD> <PAD> <PAD> <PAD> <PAD> <PAD> <PAD> <PAD> <PAD> <PAD> <PAD> <PAD> <PAD> <PAD> <PAD> <PAD> <PAD> <PAD> <PAD> <PAD> <PAD> <PAD> <PAD> <PAD> <PAD> <PAD> <PAD> <PAD> <PAD> <PAD> <PAD> <PAD> <PAD> <PAD> <PAD> <PAD> <PAD> <PAD> <PAD> <PAD> <PAD> <PAD> <PAD> <PAD> <PAD> <PAD> <PAD>\n",
            "<START> i pulled down a vhs box from my vast collection many unseen and picked out a movie based on the box art i thought would be fun and yes bad prison had that 80s cheesy look all over that box i sat down and watched and lo and behold found that sometimes we do indeed sit down to a movie with <UNK> expectations in mind fortunately i <UNK> mine quickly and soon realized i was sitting down not just to an okay film but a rather good movie in total prison tells the story of an old <UNK> prison being <UNK> to save on <UNK> concerns it looks creepy as all empty and filled with prisoners the prison used as a set is incredibly atmospheric and easily the most important character in the film the story using the prison as its central setting tells in a prologue of a man being killed via the electric chair we see lane smith as a guard <UNK> away a <UNK> before sending the man to his maker we then go to present day first with a government board at a meeting deciding to open the prison and send a beautiful doctor in to make sure that conditions are acceptable as she <UNK> <UNK> against re opening the old prison then we see the new warden lane smith haunted by a nightmare in bed and given the new job of opening a prison he has not been to in years well the rest follows suit prisoners and guards arrive with plenty of stereotypes <UNK> we are given some character depth and several of the prisoners are interesting characters the acting is better than one might expect with lane smith doing as always a <UNK> job viggo <UNK> as a very different prisoner being solid tom everett tiny <UNK> and <UNK> kane really exploring the boundaries of their stereotypical characters <UNK> field is okay as the female lead the best performance is by lincoln <UNK> an underrated character actor as <UNK> a prisoner who had been in that very same prison years ago when the man had been executed with some kind of terrible secret prison is not the next best thing to <UNK> bread or anything like that but it is definitely worth a look and definitely better than most would expect from it i was pleasantly surprised at the way director <UNK> <UNK> created a story so visually atmospheric the film has a tense taut pace and <UNK> knows how to build his scenes there are a few <UNK> shot gore scenes the one with the <UNK> wire was a bit much as was the one with all the <UNK> but these scenes are visually creative and interesting the acting is uniformly decent the script actually much more cohesive than one usually gets from films like these that may in part be credited to irwin <UNK> who wrote the story you may remember he came up with the idea of making halloween scary as a holiday here he makes <UNK> a hell of a lot more scarier than it already is give prison a break get it\n",
            "<START> i pulled down a vhs box from my vast collection many unseen and picked out a movie based on the box art i thought would be fun and yes bad prison had that 80s cheesy look all over that box i sat down and watched and lo and behold found that sometimes we do indeed sit down to a movie with <UNK> expectations in mind fortunately i <UNK> mine quickly and soon realized i was sitting down not just to an okay film but a rather good movie in total prison tells the story of an old <UNK> prison being <UNK> to save on <UNK> concerns it looks creepy as all empty and filled with prisoners the prison used as a set is incredibly atmospheric and easily the most important character in the film the story using the prison as its central setting tells in a prologue of a man being killed via the electric chair we see lane smith as a guard <UNK> away a <UNK> before sending the man to his maker we then go to present day first with a government board at a meeting deciding to open the prison and send a beautiful doctor in to make sure that conditions are acceptable as she <UNK> <UNK> against re opening the old prison then we see the new warden lane smith haunted by a nightmare in bed and given the new job of opening a prison he has not been to in years well the rest follows suit prisoners and guards arrive\n"
          ],
          "name": "stdout"
        }
      ]
    },
    {
      "cell_type": "code",
      "metadata": {
        "colab": {
          "base_uri": "https://localhost:8080/"
        },
        "id": "Gq-yRHLi8FL5",
        "outputId": "6338222e-ff5b-4b45-863d-8826d31e866d"
      },
      "source": [
        "len(trainx)"
      ],
      "execution_count": 38,
      "outputs": [
        {
          "output_type": "execute_result",
          "data": {
            "text/plain": [
              "25000"
            ]
          },
          "metadata": {
            "tags": []
          },
          "execution_count": 38
        }
      ]
    },
    {
      "cell_type": "code",
      "metadata": {
        "id": "BIMjOLV78lZE"
      },
      "source": [
        "# vocab size = 10,000\n",
        "# hyperparams\n",
        "HP_vocab_size = 10000\n",
        "HP_input_dim = 160\n",
        "# weights generated for embedding -> 10000 X 160 => 160000 \n",
        "HP_hidden_dim = [64, 128, 256]\n",
        "HP_output_dim = 2\n",
        "HP_epochs = 50\n",
        "HP_initial_lr = 0.01\n",
        "HP_batch_size = 32\n"
      ],
      "execution_count": 42,
      "outputs": []
    },
    {
      "cell_type": "code",
      "metadata": {
        "id": "GYf1G_cSEJMh"
      },
      "source": [
        "layer1 = keras.layers.Embedding(HP_vocab_size, HP_input_dim)\n",
        "layer2 = keras.layers.GlobalAveragePooling1D()\n",
        "layer3 = keras.layers.Dense(HP_hidden_dim[0], activation = tf.nn.relu)\n",
        "layer4 = keras.layers.Dense(HP_output_dim, activation = tf.nn.softmax)\n",
        "model1 = keras.models.Sequential([layer1,layer2,layer3,layer4])"
      ],
      "execution_count": 76,
      "outputs": []
    },
    {
      "cell_type": "code",
      "metadata": {
        "id": "vUZtna9YE2FX"
      },
      "source": [
        "layer1 = keras.layers.Embedding(HP_vocab_size, HP_input_dim)\n",
        "layer2 = keras.layers.GlobalAveragePooling1D()\n",
        "layer3 = keras.layers.Dense(HP_hidden_dim[1], activation = tf.nn.relu)\n",
        "layer4 = keras.layers.Dense(1, activation = tf.nn.sigmoid)\n",
        "model2 = keras.models.Sequential([layer1,layer2,layer3,layer4])"
      ],
      "execution_count": 77,
      "outputs": []
    },
    {
      "cell_type": "code",
      "metadata": {
        "id": "pUXJNlyYFVu3"
      },
      "source": [
        "model1.compile(loss=tf.losses.sparse_categorical_crossentropy, optimizer='adam', metrics=['accuracy'])\n",
        "model2.compile(loss=tf.losses.binary_crossentropy, optimizer='adam', metrics=['accuracy'])\n"
      ],
      "execution_count": 78,
      "outputs": []
    },
    {
      "cell_type": "code",
      "metadata": {
        "id": "7YW8MibvGV-N"
      },
      "source": [
        "xval = xtest_padded[:10000]\n",
        "xtest_new = xtest_padded[10000:]\n",
        "yval = testy[:10000]\n",
        "ytest_new = testy[10000:]"
      ],
      "execution_count": 62,
      "outputs": []
    },
    {
      "cell_type": "code",
      "metadata": {
        "colab": {
          "base_uri": "https://localhost:8080/",
          "height": 176
        },
        "id": "UzGhRiskJZWu",
        "outputId": "663eed0b-d40a-4ebf-f9fe-3d98bb441aea"
      },
      "source": [
        "decoder(xval[29])"
      ],
      "execution_count": 81,
      "outputs": [
        {
          "output_type": "execute_result",
          "data": {
            "application/vnd.google.colaboratory.intrinsic+json": {
              "type": "string"
            },
            "text/plain": [
              "\"<START> the back of the dvd for this movie <UNK> is the quentin tarantino of christian films this isn't so much an insult to quentin as it is to christian films this film is poorly written <UNK> acted and edited with a <UNK> intensity the scenes play out in a confusing and unrealistic way and are interspersed with some nice time <UNK> photography flashbacks fades to grey freeze frames to tell the time <UNK> in the story are all done with out any apparent reason other than to give the movie more cinematic credibility the camera is <UNK> some nice <UNK> shots are cut with ridiculous montages that have no significance poor <UNK> and lighting leave the viewer wondering who is talking to who in many scenes oh and the audio is terrible the special effects were decent and thankfully limited but this is all just technical the movie fails to engage on an emotional level the dialogue is so fake sounding and the actors seem to have only read it a moment before the camera was rolling the story the things that happen in sequence have no motivation behind them the characters are struggling to take hold of one <UNK> and the characters have to make a stance on christianity and faith in every single scene take a <UNK> from m night engaging christian films don't have to have the characters saying the name of jesus christ in every scene for the movie to be christian goodness please don't try to show this to your\""
            ]
          },
          "metadata": {
            "tags": []
          },
          "execution_count": 81
        }
      ]
    },
    {
      "cell_type": "code",
      "metadata": {
        "id": "MHH7UYWSF6QU"
      },
      "source": [
        "import time\n",
        "\n",
        "start_time = time.time()\n",
        "history_m1 = model1.fit(xtrain_padded, trainy, epochs=5, batch_size=HP_batch_size, validation_data = (xval, yval), verbose=0) \n",
        "end_time = time.time()\n",
        "print('Time Taken = ' + str(end_time-start_time))"
      ],
      "execution_count": null,
      "outputs": []
    },
    {
      "cell_type": "code",
      "metadata": {
        "id": "FrOgYLyt_RLU"
      },
      "source": [
        "# VECTORIZATION representing entire sentence \n",
        "# vector_math_magic() -> single vector -> fictional_boundary-> 2i-3j\n",
        "# any vector > 2i-3j should be learnt as pos, other neg!\n",
        "# AVERAGE out of it!\n",
        "# layer-> GlobalAveragePooling -> take a window of data-> calculate average-> move to next window!\n",
        "# Algorithm?\n",
        "# Calculate mega vectors -> take their average-> learn pattern on these avg via ML!\n",
        "# learn pattern on these avg via ML -> 2 dense layers so that weights and biases can be generated\n",
        "# SOFTMAX or SIGMOID-> distribution b/w pos/neg or a single probability!"
      ],
      "execution_count": 43,
      "outputs": []
    },
    {
      "cell_type": "code",
      "metadata": {
        "id": "KL6oVDcBBfFS"
      },
      "source": [
        "predictions = model1.predict(xtest_new)"
      ],
      "execution_count": null,
      "outputs": []
    },
    {
      "cell_type": "code",
      "metadata": {
        "id": "8Sq7pjMDKk-R"
      },
      "source": [
        "perf = model1.evaluate(xtest_new, ytest_new)\n",
        "perf"
      ],
      "execution_count": null,
      "outputs": []
    },
    {
      "cell_type": "code",
      "metadata": {
        "id": "FOyktgCDKywu"
      },
      "source": [
        "model1.summary()"
      ],
      "execution_count": null,
      "outputs": []
    },
    {
      "cell_type": "code",
      "metadata": {
        "id": "onZYVTwTK4A3"
      },
      "source": [
        ""
      ],
      "execution_count": null,
      "outputs": []
    }
  ]
}