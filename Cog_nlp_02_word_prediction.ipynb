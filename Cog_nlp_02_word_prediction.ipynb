{
  "nbformat": 4,
  "nbformat_minor": 0,
  "metadata": {
    "colab": {
      "name": "Cog_nlp_02.ipynb",
      "provenance": [],
      "collapsed_sections": [],
      "authorship_tag": "ABX9TyP2tUx6NeHG8PaCN3Uzarpb"
    },
    "kernelspec": {
      "name": "python3",
      "display_name": "Python 3"
    },
    "language_info": {
      "name": "python"
    }
  },
  "cells": [
    {
      "cell_type": "code",
      "metadata": {
        "id": "0oKIjKHYmth4"
      },
      "source": [
        "import tensorflow as tf\n",
        "import numpy as np"
      ],
      "execution_count": 1,
      "outputs": []
    },
    {
      "cell_type": "code",
      "metadata": {
        "id": "H28pE-C0n2FF"
      },
      "source": [
        "rawcorpus = \"Richie Rich is poor. Uncle Scrooje is rich. Pikachu is hungry. He and Pikachu are both blue. All uncles are green.\""
      ],
      "execution_count": 4,
      "outputs": []
    },
    {
      "cell_type": "code",
      "metadata": {
        "id": "L8FWbxLeoGAf"
      },
      "source": [
        "# Lower-> nouns\n",
        "# deduplications-> set()\n",
        "words = []\n",
        "for word in rawcorpus.lower().split():\n",
        "  if word != '.': # independent symbol\n",
        "    word = word.replace('.','')\n",
        "    words.append(word)\n"
      ],
      "execution_count": 5,
      "outputs": []
    },
    {
      "cell_type": "code",
      "metadata": {
        "colab": {
          "base_uri": "https://localhost:8080/"
        },
        "id": "d_rYghUwpCbI",
        "outputId": "c751b235-6faf-4ac3-d9fd-b1e7454d38a1"
      },
      "source": [
        "print(words)\n",
        "print(len(words))\n",
        "# Sequence\n",
        "#training data"
      ],
      "execution_count": 11,
      "outputs": [
        {
          "output_type": "stream",
          "text": [
            "['richie', 'rich', 'is', 'poor', 'uncle', 'scrooje', 'is', 'rich', 'pikachu', 'is', 'hungry', 'he', 'and', 'pikachu', 'are', 'both', 'blue', 'all', 'uncles', 'are', 'green']\n",
            "21\n"
          ],
          "name": "stdout"
        }
      ]
    },
    {
      "cell_type": "code",
      "metadata": {
        "colab": {
          "base_uri": "https://localhost:8080/"
        },
        "id": "mOP0QgDrpFR6",
        "outputId": "8a697bda-00e7-4eb8-8b07-3c9352cecf39"
      },
      "source": [
        "uniquewords = set(words)\n",
        "print(uniquewords)\n",
        "print(len(uniquewords))\n",
        "# bag of words"
      ],
      "execution_count": 9,
      "outputs": [
        {
          "output_type": "stream",
          "text": [
            "{'green', 'uncles', 'scrooje', 'rich', 'he', 'richie', 'pikachu', 'uncle', 'and', 'are', 'blue', 'hungry', 'poor', 'both', 'is', 'all'}\n",
            "16\n"
          ],
          "name": "stdout"
        }
      ]
    },
    {
      "cell_type": "code",
      "metadata": {
        "id": "c4VqMfqApaw8"
      },
      "source": [
        "# set for dictionary-> conv to numbers\n",
        "# label encoding \n",
        "word2int = {}\n",
        "int2word = {}\n",
        "vocab_size = len(uniquewords)"
      ],
      "execution_count": 12,
      "outputs": []
    },
    {
      "cell_type": "code",
      "metadata": {
        "id": "7707Ynqpp_AB"
      },
      "source": [
        "for i,word in enumerate(uniquewords):\n",
        "  word2int[word] = i\n",
        "  int2word[i] = word\n"
      ],
      "execution_count": 13,
      "outputs": []
    },
    {
      "cell_type": "code",
      "metadata": {
        "colab": {
          "base_uri": "https://localhost:8080/"
        },
        "id": "Y-Py_CuOqYIm",
        "outputId": "532a6bb1-f768-4db8-8342-65f024ed66ed"
      },
      "source": [
        "\n",
        "print(word2int)\n",
        "print(int2word)"
      ],
      "execution_count": 14,
      "outputs": [
        {
          "output_type": "stream",
          "text": [
            "{'green': 0, 'uncles': 1, 'scrooje': 2, 'rich': 3, 'he': 4, 'richie': 5, 'pikachu': 6, 'uncle': 7, 'and': 8, 'are': 9, 'blue': 10, 'hungry': 11, 'poor': 12, 'both': 13, 'is': 14, 'all': 15}\n",
            "{0: 'green', 1: 'uncles', 2: 'scrooje', 3: 'rich', 4: 'he', 5: 'richie', 6: 'pikachu', 7: 'uncle', 8: 'and', 9: 'are', 10: 'blue', 11: 'hungry', 12: 'poor', 13: 'both', 14: 'is', 15: 'all'}\n"
          ],
          "name": "stdout"
        }
      ]
    },
    {
      "cell_type": "code",
      "metadata": {
        "colab": {
          "base_uri": "https://localhost:8080/"
        },
        "id": "f0XQD6LUqZK5",
        "outputId": "73f780af-8b2a-4a27-d157-c29a74a731f9"
      },
      "source": [
        "print(word2int['both'])\n",
        "print(int2word[3])"
      ],
      "execution_count": 15,
      "outputs": [
        {
          "output_type": "stream",
          "text": [
            "13\n",
            "rich\n"
          ],
          "name": "stdout"
        }
      ]
    },
    {
      "cell_type": "code",
      "metadata": {
        "id": "C3yBxIMQqg7r"
      },
      "source": [
        "rawsentences = rawcorpus.split('.')\n",
        "sentences = []\n",
        "for sentence in rawsentences:\n",
        "  sentences.append(sentence)"
      ],
      "execution_count": 16,
      "outputs": []
    },
    {
      "cell_type": "code",
      "metadata": {
        "colab": {
          "base_uri": "https://localhost:8080/"
        },
        "id": "yNJXOgVKq_ic",
        "outputId": "39575e3e-440d-4cb0-993c-04e4f899760d"
      },
      "source": [
        "sentences # extra element in the end-> remove it"
      ],
      "execution_count": 18,
      "outputs": [
        {
          "output_type": "execute_result",
          "data": {
            "text/plain": [
              "['Richie Rich is poor',\n",
              " ' Uncle Scrooje is rich',\n",
              " ' Pikachu is hungry',\n",
              " ' He and Pikachu are both blue',\n",
              " ' All uncles are green',\n",
              " '']"
            ]
          },
          "metadata": {
            "tags": []
          },
          "execution_count": 18
        }
      ]
    },
    {
      "cell_type": "code",
      "metadata": {
        "colab": {
          "base_uri": "https://localhost:8080/"
        },
        "id": "lzNrilQnrAX3",
        "outputId": "afffd5c7-8a7e-4b32-e31d-af118ab6cf5c"
      },
      "source": [
        "sentences = sentences[:-1]\n",
        "sentences"
      ],
      "execution_count": 19,
      "outputs": [
        {
          "output_type": "execute_result",
          "data": {
            "text/plain": [
              "['Richie Rich is poor',\n",
              " ' Uncle Scrooje is rich',\n",
              " ' Pikachu is hungry',\n",
              " ' He and Pikachu are both blue',\n",
              " ' All uncles are green']"
            ]
          },
          "metadata": {
            "tags": []
          },
          "execution_count": 19
        }
      ]
    },
    {
      "cell_type": "code",
      "metadata": {
        "id": "dqoMSYYrrJKp"
      },
      "source": [
        "# word pairs\n",
        "# autocomplete: 1-1 pair\n",
        "windowsize = 2 # 1X2 window\n",
        "data = []\n",
        "\n",
        "# in below loop, i am taking, +2 ahead window-> when my loop is no last word, second last word-> i will get an exception.\n",
        "# sentence-> less than 2 words? \n",
        "# sentence-> 1 word-> word, pair-> will become same word!\n",
        "for sentence in sentences:\n",
        "  allwordsinsentence = sentence.split()\n",
        "  for i,word in enumerate(allwordsinsentence):\n",
        "    for nxtword in allwordsinsentence[max(i-windowsize,0) : min(i+windowsize, len(sentence)+1) ]:\n",
        "      if word!=nxtword:\n",
        "        data.append([word.lower(), nxtword.lower()])\n",
        "\n"
      ],
      "execution_count": 35,
      "outputs": []
    },
    {
      "cell_type": "code",
      "metadata": {
        "colab": {
          "base_uri": "https://localhost:8080/"
        },
        "id": "eI0ODCIFu0Rt",
        "outputId": "fc9d4717-8c55-4204-d8ba-a0a992815972"
      },
      "source": [
        "print(data)"
      ],
      "execution_count": 36,
      "outputs": [
        {
          "output_type": "stream",
          "text": [
            "[['richie', 'rich'], ['rich', 'richie'], ['rich', 'is'], ['is', 'richie'], ['is', 'rich'], ['is', 'poor'], ['poor', 'rich'], ['poor', 'is'], ['uncle', 'scrooje'], ['scrooje', 'uncle'], ['scrooje', 'is'], ['is', 'uncle'], ['is', 'scrooje'], ['is', 'rich'], ['rich', 'scrooje'], ['rich', 'is'], ['pikachu', 'is'], ['is', 'pikachu'], ['is', 'hungry'], ['hungry', 'pikachu'], ['hungry', 'is'], ['he', 'and'], ['and', 'he'], ['and', 'pikachu'], ['pikachu', 'he'], ['pikachu', 'and'], ['pikachu', 'are'], ['are', 'and'], ['are', 'pikachu'], ['are', 'both'], ['both', 'pikachu'], ['both', 'are'], ['both', 'blue'], ['blue', 'are'], ['blue', 'both'], ['all', 'uncles'], ['uncles', 'all'], ['uncles', 'are'], ['are', 'all'], ['are', 'uncles'], ['are', 'green'], ['green', 'uncles'], ['green', 'are']]\n"
          ],
          "name": "stdout"
        }
      ]
    },
    {
      "cell_type": "code",
      "metadata": {
        "id": "57hr3O4ZvSKW"
      },
      "source": [
        "def Encoder(idx, vocabsize):\n",
        "  temp = np.zeros(vocabsize) # cold sequence\n",
        "  # ENCODING MAP\n",
        "  temp[idx] = 1 # hot sequence \n",
        "  return temp\n",
        "# input-> 000001000000000\n",
        "# output-> 0000000001000000\n"
      ],
      "execution_count": 37,
      "outputs": []
    },
    {
      "cell_type": "code",
      "metadata": {
        "id": "wVZfcPeVwVtV"
      },
      "source": [
        ""
      ],
      "execution_count": 33,
      "outputs": []
    },
    {
      "cell_type": "code",
      "metadata": {
        "id": "45mfyfEBwYHN"
      },
      "source": [
        "trainx = []\n",
        "trainy = []\n",
        "for wordpair in data:\n",
        "  try:\n",
        "    trainx.append(Encoder(word2int[wordpair[0]], vocabsize= vocab_size))\n",
        "    trainy.append(Encoder(word2int[wordpair[1]], vocabsize= vocab_size))\n",
        "  except:\n",
        "    trainx.pop()\n",
        "    continue"
      ],
      "execution_count": 38,
      "outputs": []
    },
    {
      "cell_type": "code",
      "metadata": {
        "colab": {
          "base_uri": "https://localhost:8080/"
        },
        "id": "xTNXcvX3wujn",
        "outputId": "5708c55c-8c9d-4dcd-c6ff-db2b4d9de4b4"
      },
      "source": [
        "len(trainx)"
      ],
      "execution_count": 39,
      "outputs": [
        {
          "output_type": "execute_result",
          "data": {
            "text/plain": [
              "43"
            ]
          },
          "metadata": {
            "tags": []
          },
          "execution_count": 39
        }
      ]
    },
    {
      "cell_type": "code",
      "metadata": {
        "colab": {
          "base_uri": "https://localhost:8080/"
        },
        "id": "wL9RPRejw0bm",
        "outputId": "c2ce7d3a-5f68-41a6-d777-c2749d63d73a"
      },
      "source": [
        "len(trainy)"
      ],
      "execution_count": 40,
      "outputs": [
        {
          "output_type": "execute_result",
          "data": {
            "text/plain": [
              "43"
            ]
          },
          "metadata": {
            "tags": []
          },
          "execution_count": 40
        }
      ]
    },
    {
      "cell_type": "code",
      "metadata": {
        "colab": {
          "base_uri": "https://localhost:8080/"
        },
        "id": "S8kT5mNOw16Z",
        "outputId": "bedee6b6-0d3d-4976-e661-caa32356e7a9"
      },
      "source": [
        "trainx[:5]"
      ],
      "execution_count": 41,
      "outputs": [
        {
          "output_type": "execute_result",
          "data": {
            "text/plain": [
              "[array([0., 0., 0., 0., 0., 1., 0., 0., 0., 0., 0., 0., 0., 0., 0., 0.]),\n",
              " array([0., 0., 0., 1., 0., 0., 0., 0., 0., 0., 0., 0., 0., 0., 0., 0.]),\n",
              " array([0., 0., 0., 1., 0., 0., 0., 0., 0., 0., 0., 0., 0., 0., 0., 0.]),\n",
              " array([0., 0., 0., 0., 0., 0., 0., 0., 0., 0., 0., 0., 0., 0., 1., 0.]),\n",
              " array([0., 0., 0., 0., 0., 0., 0., 0., 0., 0., 0., 0., 0., 0., 1., 0.])]"
            ]
          },
          "metadata": {
            "tags": []
          },
          "execution_count": 41
        }
      ]
    },
    {
      "cell_type": "code",
      "metadata": {
        "colab": {
          "base_uri": "https://localhost:8080/"
        },
        "id": "dOgfGW0Nx_2x",
        "outputId": "bd949b1a-5a38-49bc-9841-767121fcc2c4"
      },
      "source": [
        "trainy[:2]"
      ],
      "execution_count": 42,
      "outputs": [
        {
          "output_type": "execute_result",
          "data": {
            "text/plain": [
              "[array([0., 0., 0., 1., 0., 0., 0., 0., 0., 0., 0., 0., 0., 0., 0., 0.]),\n",
              " array([0., 0., 0., 0., 0., 1., 0., 0., 0., 0., 0., 0., 0., 0., 0., 0.])]"
            ]
          },
          "metadata": {
            "tags": []
          },
          "execution_count": 42
        }
      ]
    },
    {
      "cell_type": "code",
      "metadata": {
        "id": "J04ujCu7yB7l"
      },
      "source": [
        ""
      ],
      "execution_count": null,
      "outputs": []
    }
  ]
}