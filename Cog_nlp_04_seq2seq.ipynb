{
  "nbformat": 4,
  "nbformat_minor": 0,
  "metadata": {
    "colab": {
      "name": "Cog_nlp_04_seq2seq.ipynb",
      "provenance": [],
      "authorship_tag": "ABX9TyP16BRtCAyioamIF4lbKuWY"
    },
    "kernelspec": {
      "name": "python3",
      "display_name": "Python 3"
    },
    "language_info": {
      "name": "python"
    }
  },
  "cells": [
    {
      "cell_type": "code",
      "metadata": {
        "id": "sFdfFWw_D2Rt"
      },
      "source": [
        "import tensorflow as tf\n",
        "from tensorflow import keras\n",
        "import numpy as np\n"
      ],
      "execution_count": 1,
      "outputs": []
    },
    {
      "cell_type": "code",
      "metadata": {
        "id": "0IMXCUvcEAzQ"
      },
      "source": [
        "# autocorrect, wordprediction\n",
        "# fibonacci, AP, GP, HP, series and propagation \n",
        "# Activity Detection \n",
        "# y = f(x, g(y))\n",
        "# output is transformed and channeled back into input \n",
        "\n",
        "# Temp tomorrow-> f(temp_today, temp_day_before.... temp_day_last_year,,, temp_JS, )\n",
        "# temp_tom = w1*temp_today + w2*history f(temp_relevant_history) + w3*weaker_history.... +wN*weakest history... + 0*the_extreme_history"
      ],
      "execution_count": 2,
      "outputs": []
    },
    {
      "cell_type": "code",
      "metadata": {
        "id": "E-TEcxfEFRRR"
      },
      "source": [
        "# BINS -> grouping, Ordering, sorting \n",
        "# avg_temp_next_month = strong*(this_month)+ fair_strength*  prev_month + weak*prior_month + (tending_to_0)*history!\n"
      ],
      "execution_count": 3,
      "outputs": []
    },
    {
      "cell_type": "code",
      "metadata": {
        "id": "Amz7SCzbFkHs"
      },
      "source": [
        "# CHARACTER ADDITION-> math equation \n",
        "# 4+5=\n",
        "# 1+2=\n",
        "# 50,0000\n",
        "\n",
        "# if user enter 2 numbers: 284+ 16 = ?\n",
        "# 300"
      ],
      "execution_count": 4,
      "outputs": []
    },
    {
      "cell_type": "code",
      "metadata": {
        "id": "D_O-oC74JNng"
      },
      "source": [
        "# word prediction\n",
        "# this is a -> good \n",
        "# are you very -> hungry?\n",
        "# "
      ],
      "execution_count": 5,
      "outputs": []
    },
    {
      "cell_type": "code",
      "metadata": {
        "id": "CSfNvy1bKMcm"
      },
      "source": [
        "HP_trainingsize = 50000\n",
        "HP_MAX_DIGITS_IN_NUM = 3\n",
        "HP_MAXLEN = HP_MAX_DIGITS_IN_NUM + 1 + HP_MAX_DIGITS_IN_NUM"
      ],
      "execution_count": 6,
      "outputs": []
    },
    {
      "cell_type": "code",
      "metadata": {
        "id": "rU6n2tdJKoMd"
      },
      "source": [
        "class corpus:\n",
        "  def __init__(self, chars): # input a sequence, and build dictionaries\n",
        "    self.chars = sorted(set(chars)) #Bag of characters\n",
        "    self.chars.append(' ')\n",
        "    self.chars.append('+')\n",
        "    self.word2idx = dict( (word,num) for num,word in enumerate(self.chars) )\n",
        "    self.idx2word = dict( (num,word) for num,word in enumerate(self.chars) )\n",
        "    self.charlen = len(self.chars)\n",
        "\n",
        "  def encoding(self, C, numrows): # encoding logic\n",
        "    x = np.zeros((numrows, self.charlen ))\n",
        "    for i,c in enumerate(C):\n",
        "      x[i, self.word2idx[c]] = 1\n",
        "    return x\n",
        "\n",
        "  def decoding(self, x, ismaxlen = True):\n",
        "    x = x.argmax(axis=-1) # list of numbers\n",
        "    return \"\".join(self.idx2word[xx] for xx in x )\n",
        "\n",
        "\n",
        "  \n"
      ],
      "execution_count": 65,
      "outputs": []
    },
    {
      "cell_type": "code",
      "metadata": {
        "id": "e4ywtZ_3M794"
      },
      "source": [
        "# created all possible combinations-> and then eliminated +num and num+, and only keep\n",
        "# num+num!\n",
        "# 5+6 = 6+5 \n",
        "# Reverse my inputs! this is a case where opposite sequence is ALSO the same label!\n"
      ],
      "execution_count": 56,
      "outputs": []
    },
    {
      "cell_type": "code",
      "metadata": {
        "id": "CPzuZ0W1NQhq"
      },
      "source": [
        "allchars = \"0123456789\"\n",
        "ctable = corpus(allchars)\n",
        "reverse = True"
      ],
      "execution_count": 66,
      "outputs": []
    },
    {
      "cell_type": "code",
      "metadata": {
        "id": "X_YMwjG2NbNA"
      },
      "source": [
        "questions = []\n",
        "expected = []\n",
        "# set to check if reverse inputs are also present!\n",
        "seen = set()\n",
        "while len(questions) < HP_trainingsize:\n",
        "  chars_all = list(allchars)\n",
        "  charlst = lambda: int( \"\".join(np.random.choice(chars_all) for i in range(np.random.randint(1, HP_MAX_DIGITS_IN_NUM+1))))\n",
        "  a,b = charlst(), charlst()\n",
        "  key = tuple(sorted( (a,b)))\n",
        "  if key in seen:\n",
        "    continue\n",
        "  q = \"{}+{}\".format(a,b)\n",
        "  seen.add(key)\n",
        "  # NORMALIZE the length-> PADDING \n",
        "  query = q + \" \" * (HP_MAXLEN - len(q))\n",
        "  ans = str(a+b)\n",
        "  if reverse:\n",
        "    query = query[::-1] \n",
        "  questions.append(query)\n",
        "  expected.append(ans)\n",
        "\n",
        "\n"
      ],
      "execution_count": 58,
      "outputs": []
    },
    {
      "cell_type": "code",
      "metadata": {
        "colab": {
          "base_uri": "https://localhost:8080/"
        },
        "id": "QEQ6ZhO1Om6j",
        "outputId": "b6a91346-8a53-4bf3-fbf1-90bde5e30e6d"
      },
      "source": [
        "len(questions)"
      ],
      "execution_count": 59,
      "outputs": [
        {
          "output_type": "execute_result",
          "data": {
            "text/plain": [
              "50000"
            ]
          },
          "metadata": {
            "tags": []
          },
          "execution_count": 59
        }
      ]
    },
    {
      "cell_type": "code",
      "metadata": {
        "colab": {
          "base_uri": "https://localhost:8080/"
        },
        "id": "HK25CixDSPer",
        "outputId": "b1bbff38-92aa-451e-99e0-c0caa9b03d83"
      },
      "source": [
        "len(expected)"
      ],
      "execution_count": 60,
      "outputs": [
        {
          "output_type": "execute_result",
          "data": {
            "text/plain": [
              "50000"
            ]
          },
          "metadata": {
            "tags": []
          },
          "execution_count": 60
        }
      ]
    },
    {
      "cell_type": "code",
      "metadata": {
        "colab": {
          "base_uri": "https://localhost:8080/"
        },
        "id": "kZ0IotEzSQot",
        "outputId": "a6684363-1e1f-4b20-8343-924f0e12e13d"
      },
      "source": [
        "print(questions[:10])"
      ],
      "execution_count": 61,
      "outputs": [
        {
          "output_type": "stream",
          "text": [
            "[' 55+297', '571+021', '   69+2', '   7+51', '  226+6', '521+679', '  064+6', '  9+284', ' 27+318', '   01+8']\n"
          ],
          "name": "stdout"
        }
      ]
    },
    {
      "cell_type": "code",
      "metadata": {
        "colab": {
          "base_uri": "https://localhost:8080/"
        },
        "id": "na75b9gnSVf6",
        "outputId": "89d4b1f6-19c9-4fc5-f726-9758d78d96cb"
      },
      "source": [
        "expected[:10]"
      ],
      "execution_count": 62,
      "outputs": [
        {
          "output_type": "execute_result",
          "data": {
            "text/plain": [
              "['847', '295', '98', '22', '628', '1101', '466', '491', '885', '18']"
            ]
          },
          "metadata": {
            "tags": []
          },
          "execution_count": 62
        }
      ]
    },
    {
      "cell_type": "code",
      "metadata": {
        "id": "ObOKbcfiSYp4"
      },
      "source": [
        "x = np.zeros((len(questions), HP_MAXLEN, len(allchars)+2), dtype=np.bool)\n",
        "y = np.zeros((len(questions), HP_MAX_DIGITS_IN_NUM +1,len(allchars)+2 ), dtype=np.bool)"
      ],
      "execution_count": 70,
      "outputs": []
    },
    {
      "cell_type": "code",
      "metadata": {
        "colab": {
          "base_uri": "https://localhost:8080/"
        },
        "id": "GmtnSydEWqsd",
        "outputId": "f3dbb4d9-a9b3-4ce9-95bd-209dcdc72d6f"
      },
      "source": [
        "999+999 # digit_count(SUM of 2 largest nums) = digital count(their sum) - 1"
      ],
      "execution_count": 48,
      "outputs": [
        {
          "output_type": "execute_result",
          "data": {
            "text/plain": [
              "1998"
            ]
          },
          "metadata": {
            "tags": []
          },
          "execution_count": 48
        }
      ]
    },
    {
      "cell_type": "code",
      "metadata": {
        "id": "CZpBcvAiWr2N"
      },
      "source": [
        "for i,sentence in enumerate(questions):\n",
        "  x[i] = ctable.encoding(sentence, HP_MAXLEN)\n",
        "  y[i] = ctable.encoding(expected[i],  HP_MAX_DIGITS_IN_NUM +1 )\n",
        "  "
      ],
      "execution_count": 71,
      "outputs": []
    },
    {
      "cell_type": "code",
      "metadata": {
        "colab": {
          "base_uri": "https://localhost:8080/"
        },
        "id": "tYxM6Y0Aattm",
        "outputId": "b04f214d-421d-48e0-c04e-e35a45ccde08"
      },
      "source": [
        ""
      ],
      "execution_count": 78,
      "outputs": [
        {
          "output_type": "execute_result",
          "data": {
            "text/plain": [
              "array([[False, False, False, False, False, False, False, False, False,\n",
              "        False,  True, False],\n",
              "       [False, False, False, False, False,  True, False, False, False,\n",
              "        False, False, False],\n",
              "       [False, False, False, False, False,  True, False, False, False,\n",
              "        False, False, False],\n",
              "       [False, False, False, False, False, False, False, False, False,\n",
              "        False, False,  True],\n",
              "       [False, False,  True, False, False, False, False, False, False,\n",
              "        False, False, False],\n",
              "       [False, False, False, False, False, False, False, False, False,\n",
              "         True, False, False],\n",
              "       [False, False, False, False, False, False, False,  True, False,\n",
              "        False, False, False]])"
            ]
          },
          "metadata": {
            "tags": []
          },
          "execution_count": 78
        }
      ]
    },
    {
      "cell_type": "code",
      "metadata": {
        "id": "A9MqLokUX4RT"
      },
      "source": [
        "indices = np.arange(len(y))\n",
        "np.random.shuffle(indices)\n",
        "minorx = x[indices]\n",
        "minory = y[indices]\n",
        "\n",
        "partition = int(len(x) * 0.9) # 90% training data\n",
        "xtrain,xval = x[:partition], x[partition:]\n",
        "ytrain,yval = y[:partition], y[partition:]"
      ],
      "execution_count": 82,
      "outputs": []
    },
    {
      "cell_type": "code",
      "metadata": {
        "colab": {
          "base_uri": "https://localhost:8080/"
        },
        "id": "Y5yfcdx5abOF",
        "outputId": "2d9ee8c7-8e2c-4079-ebc5-d2fdf1dd64be"
      },
      "source": [
        "xtrain.shape"
      ],
      "execution_count": 83,
      "outputs": [
        {
          "output_type": "execute_result",
          "data": {
            "text/plain": [
              "(45000, 7, 12)"
            ]
          },
          "metadata": {
            "tags": []
          },
          "execution_count": 83
        }
      ]
    },
    {
      "cell_type": "code",
      "metadata": {
        "colab": {
          "base_uri": "https://localhost:8080/"
        },
        "id": "pqwWMI9pakua",
        "outputId": "367738e5-09fd-472e-d5d1-2a5964d80648"
      },
      "source": [
        "yval.shape"
      ],
      "execution_count": 84,
      "outputs": [
        {
          "output_type": "execute_result",
          "data": {
            "text/plain": [
              "(5000, 4, 12)"
            ]
          },
          "metadata": {
            "tags": []
          },
          "execution_count": 84
        }
      ]
    },
    {
      "cell_type": "code",
      "metadata": {
        "colab": {
          "base_uri": "https://localhost:8080/"
        },
        "id": "6Bd6fRVAal4C",
        "outputId": "8c517034-b7ad-4fa8-9c6d-0e99a92f0eef"
      },
      "source": [
        "indices"
      ],
      "execution_count": 77,
      "outputs": [
        {
          "output_type": "execute_result",
          "data": {
            "text/plain": [
              "array([38219, 33696,   942, ..., 11985, 48830,  4706])"
            ]
          },
          "metadata": {
            "tags": []
          },
          "execution_count": 77
        }
      ]
    },
    {
      "cell_type": "code",
      "metadata": {
        "colab": {
          "base_uri": "https://localhost:8080/"
        },
        "id": "IuuZUC9Lapsi",
        "outputId": "5d8cd008-3247-49c9-81d5-c4247d8732aa"
      },
      "source": [
        "len(x) - len(minorx)"
      ],
      "execution_count": 79,
      "outputs": [
        {
          "output_type": "execute_result",
          "data": {
            "text/plain": [
              "0"
            ]
          },
          "metadata": {
            "tags": []
          },
          "execution_count": 79
        }
      ]
    },
    {
      "cell_type": "code",
      "metadata": {
        "id": "Lv1NEZJPa34f"
      },
      "source": [
        ""
      ],
      "execution_count": null,
      "outputs": []
    }
  ]
}