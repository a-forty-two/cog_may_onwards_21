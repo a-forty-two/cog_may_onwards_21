{
  "nbformat": 4,
  "nbformat_minor": 0,
  "metadata": {
    "colab": {
      "name": "Cog_tf_009_hp_tuning.ipynb",
      "provenance": [],
      "authorship_tag": "ABX9TyM3F72J8CJrkHxw3qMPNhCc"
    },
    "kernelspec": {
      "name": "python3",
      "display_name": "Python 3"
    },
    "language_info": {
      "name": "python"
    }
  },
  "cells": [
    {
      "cell_type": "code",
      "metadata": {
        "colab": {
          "base_uri": "https://localhost:8080/",
          "height": 339
        },
        "id": "6iE8J4L8BvFu",
        "outputId": "60b9f4da-553e-4405-ff44-75b99bc335dc"
      },
      "source": [
        "import tensorflow as tf\n",
        "from tensorflow import keras\n",
        "#import kerastuner as kt "
      ],
      "execution_count": 2,
      "outputs": [
        {
          "output_type": "error",
          "ename": "ModuleNotFoundError",
          "evalue": "ignored",
          "traceback": [
            "\u001b[0;31m---------------------------------------------------------------------------\u001b[0m",
            "\u001b[0;31mModuleNotFoundError\u001b[0m                       Traceback (most recent call last)",
            "\u001b[0;32m<ipython-input-2-ce60ce4fa2be>\u001b[0m in \u001b[0;36m<module>\u001b[0;34m()\u001b[0m\n\u001b[1;32m      1\u001b[0m \u001b[0;32mimport\u001b[0m \u001b[0mtensorflow\u001b[0m \u001b[0;32mas\u001b[0m \u001b[0mtf\u001b[0m\u001b[0;34m\u001b[0m\u001b[0;34m\u001b[0m\u001b[0m\n\u001b[1;32m      2\u001b[0m \u001b[0;32mfrom\u001b[0m \u001b[0mtensorflow\u001b[0m \u001b[0;32mimport\u001b[0m \u001b[0mkeras\u001b[0m\u001b[0;34m\u001b[0m\u001b[0;34m\u001b[0m\u001b[0m\n\u001b[0;32m----> 3\u001b[0;31m \u001b[0;32mimport\u001b[0m \u001b[0mkerastuner\u001b[0m \u001b[0;32mas\u001b[0m \u001b[0mkt\u001b[0m\u001b[0;34m\u001b[0m\u001b[0;34m\u001b[0m\u001b[0m\n\u001b[0m",
            "\u001b[0;31mModuleNotFoundError\u001b[0m: No module named 'kerastuner'",
            "",
            "\u001b[0;31m---------------------------------------------------------------------------\u001b[0;32m\nNOTE: If your import is failing due to a missing package, you can\nmanually install dependencies using either !pip or !apt.\n\nTo view examples of installing some common dependencies, click the\n\"Open Examples\" button below.\n\u001b[0;31m---------------------------------------------------------------------------\u001b[0m\n"
          ]
        }
      ]
    },
    {
      "cell_type": "code",
      "metadata": {
        "colab": {
          "base_uri": "https://localhost:8080/"
        },
        "id": "1QO1e3BHCuOE",
        "outputId": "09edf817-a39e-4b46-c036-1c35a21f7704"
      },
      "source": [
        "!pip install -q -U keras-tuner"
      ],
      "execution_count": 3,
      "outputs": [
        {
          "output_type": "stream",
          "text": [
            "\u001b[?25l\r\u001b[K     |█████▏                          | 10kB 2.5MB/s eta 0:00:01\r\u001b[K     |██████████▍                     | 20kB 4.6MB/s eta 0:00:01\r\u001b[K     |███████████████▋                | 30kB 6.6MB/s eta 0:00:01\r\u001b[K     |████████████████████▉           | 40kB 8.4MB/s eta 0:00:01\r\u001b[K     |██████████████████████████      | 51kB 10.1MB/s eta 0:00:01\r\u001b[K     |███████████████████████████████▎| 61kB 11.7MB/s eta 0:00:01\r\u001b[K     |████████████████████████████████| 71kB 5.6MB/s \n",
            "\u001b[?25h  Building wheel for keras-tuner (setup.py) ... \u001b[?25l\u001b[?25hdone\n",
            "  Building wheel for terminaltables (setup.py) ... \u001b[?25l\u001b[?25hdone\n"
          ],
          "name": "stdout"
        }
      ]
    },
    {
      "cell_type": "code",
      "metadata": {
        "id": "mVaUBar3C8zh"
      },
      "source": [
        "import kerastuner as kt"
      ],
      "execution_count": 4,
      "outputs": []
    },
    {
      "cell_type": "code",
      "metadata": {
        "colab": {
          "base_uri": "https://localhost:8080/"
        },
        "id": "PW5-DoHfDBAm",
        "outputId": "b98bb51e-13b8-472f-c6cc-517fe35c79d0"
      },
      "source": [
        "(trainx, trainy),(testx,testy) = keras.datasets.fashion_mnist.load_data()"
      ],
      "execution_count": 5,
      "outputs": [
        {
          "output_type": "stream",
          "text": [
            "Downloading data from https://storage.googleapis.com/tensorflow/tf-keras-datasets/train-labels-idx1-ubyte.gz\n",
            "32768/29515 [=================================] - 0s 0us/step\n",
            "Downloading data from https://storage.googleapis.com/tensorflow/tf-keras-datasets/train-images-idx3-ubyte.gz\n",
            "26427392/26421880 [==============================] - 0s 0us/step\n",
            "Downloading data from https://storage.googleapis.com/tensorflow/tf-keras-datasets/t10k-labels-idx1-ubyte.gz\n",
            "8192/5148 [===============================================] - 0s 0us/step\n",
            "Downloading data from https://storage.googleapis.com/tensorflow/tf-keras-datasets/t10k-images-idx3-ubyte.gz\n",
            "4423680/4422102 [==============================] - 0s 0us/step\n"
          ],
          "name": "stdout"
        }
      ]
    },
    {
      "cell_type": "code",
      "metadata": {
        "id": "nDDjsFVGDLOi"
      },
      "source": [
        "trainx = trainx/255.0\n",
        "testx = testx/255.0"
      ],
      "execution_count": 6,
      "outputs": []
    },
    {
      "cell_type": "code",
      "metadata": {
        "colab": {
          "base_uri": "https://localhost:8080/"
        },
        "id": "4tAUQMa5DZMZ",
        "outputId": "0cc8ecd6-98d8-45cd-e130-02e1d38774d1"
      },
      "source": [
        "len(trainx[0])"
      ],
      "execution_count": 7,
      "outputs": [
        {
          "output_type": "execute_result",
          "data": {
            "text/plain": [
              "28"
            ]
          },
          "metadata": {
            "tags": []
          },
          "execution_count": 7
        }
      ]
    },
    {
      "cell_type": "code",
      "metadata": {
        "id": "33-GRe-ZDP_5"
      },
      "source": [
        "layer1 = keras.layers.Flatten(input_shape=(28,28))\n",
        "layer2 = keras.layers.Dense(16, activation='relu')\n",
        "layer3 = keras.layers.Dense(32, activation='relu')\n",
        "layer4 = keras.layers.Dense(10, activation='softmax')\n"
      ],
      "execution_count": 13,
      "outputs": []
    },
    {
      "cell_type": "code",
      "metadata": {
        "id": "-PS2PcoaFwCT"
      },
      "source": [
        "\n",
        "def hypermodel(hps):\n",
        "  hp_ss = kt.HyperParameters()\n",
        "\n",
        "  hp_hiddenunits_1 = hp_ss.Int('units', min_value=32, max_value=512, step=32)\n",
        "  layer1 = keras.layers.Flatten(input_shape=(28,28))\n",
        "  layer2 = keras.layers.Dense(hp_hiddenunits_1, activation='relu')\n",
        "  layer3 = keras.layers.Dense(32, activation='relu')\n",
        "  layer4 = keras.layers.Dense(10, activation='softmax')\n",
        "  model = keras.Sequential([layer1,layer2,layer3,layer4])\n",
        "  hp_lr = hp_ss.Choice('learning_rate', values=[1e-2, 1e-3, 2e-3])\n",
        "  myopt = keras.optimizers.Adam(learning_rate=hp_lr)\n",
        "  model.compile(optimizer=myopt, loss=keras.losses.SparseCategoricalCrossentropy(from_logits=True), metrics=['accuracy'])\n",
        "  return model"
      ],
      "execution_count": 47,
      "outputs": []
    },
    {
      "cell_type": "code",
      "metadata": {
        "id": "eQFixfW3F-FC"
      },
      "source": [
        ""
      ],
      "execution_count": 19,
      "outputs": []
    },
    {
      "cell_type": "code",
      "metadata": {
        "id": "6GgtZXqUGPtS"
      },
      "source": [
        "# Hyperband -> model tuner\n",
        "#hypermodel-> a method to build and return a model\n",
        "\n",
        "tuner = kt.Hyperband(hypermodel,\n",
        "                     objective='val_accuracy',\n",
        "                     max_epochs=10,\n",
        "                     directory='tomato')"
      ],
      "execution_count": 48,
      "outputs": []
    },
    {
      "cell_type": "code",
      "metadata": {
        "id": "_JtbHvWFHGan"
      },
      "source": [
        "# early stop search as well-> best no. of epochs the model should train to\n",
        "earlystop = tf.keras.callbacks.EarlyStopping(monitor='val_loss',patience=5)"
      ],
      "execution_count": 53,
      "outputs": []
    },
    {
      "cell_type": "code",
      "metadata": {
        "id": "ErR_XxjgH5un"
      },
      "source": [
        ""
      ],
      "execution_count": 49,
      "outputs": []
    },
    {
      "cell_type": "code",
      "metadata": {
        "colab": {
          "base_uri": "https://localhost:8080/"
        },
        "id": "2jDfrdRRHazu",
        "outputId": "5a1bcd1b-92e6-43f8-fbea-ea06adbe322c"
      },
      "source": [
        "tuner.search(trainx, trainy, epochs=50)"
      ],
      "execution_count": 54,
      "outputs": [
        {
          "output_type": "stream",
          "text": [
            "INFO:tensorflow:Oracle triggered exit\n"
          ],
          "name": "stdout"
        }
      ]
    },
    {
      "cell_type": "code",
      "metadata": {
        "colab": {
          "base_uri": "https://localhost:8080/"
        },
        "id": "GQJmNJ7-Hqyk",
        "outputId": "5e2c1c57-bcbc-41bb-a28f-8f13a583682b"
      },
      "source": [
        "besthp = tuner.get_best_hyperparameters(num_trials=1)\n",
        "besthp"
      ],
      "execution_count": 51,
      "outputs": [
        {
          "output_type": "execute_result",
          "data": {
            "text/plain": [
              "[]"
            ]
          },
          "metadata": {
            "tags": []
          },
          "execution_count": 51
        }
      ]
    },
    {
      "cell_type": "code",
      "metadata": {
        "id": "_EXrchqpH172"
      },
      "source": [
        ""
      ],
      "execution_count": null,
      "outputs": []
    }
  ]
}