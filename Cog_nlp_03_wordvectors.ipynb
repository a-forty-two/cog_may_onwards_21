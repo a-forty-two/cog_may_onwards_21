{
  "nbformat": 4,
  "nbformat_minor": 0,
  "metadata": {
    "colab": {
      "name": "Cog_nlp_03.ipynb",
      "provenance": [],
      "authorship_tag": "ABX9TyNw8SJqjx+QCvacn9NoMpEL",
      "include_colab_link": true
    },
    "kernelspec": {
      "name": "python3",
      "display_name": "Python 3"
    },
    "language_info": {
      "name": "python"
    }
  },
  "cells": [
    {
      "cell_type": "markdown",
      "metadata": {
        "id": "view-in-github",
        "colab_type": "text"
      },
      "source": [
        "<a href=\"https://colab.research.google.com/github/a-forty-two/cog_may_onwards_21/blob/main/Cog_nlp_03_wordvectors.ipynb\" target=\"_parent\"><img src=\"https://colab.research.google.com/assets/colab-badge.svg\" alt=\"Open In Colab\"/></a>"
      ]
    },
    {
      "cell_type": "code",
      "metadata": {
        "id": "nvHhXezjv_Iv"
      },
      "source": [
        "# One-hot encoding\n",
        "# label encoding\n",
        "# label binarizing \n"
      ],
      "execution_count": 1,
      "outputs": []
    },
    {
      "cell_type": "code",
      "metadata": {
        "id": "YILuNDD3wfmJ"
      },
      "source": [
        "import numpy as np\n",
        "import tensorflow as tf\n",
        "from tensorflow import keras"
      ],
      "execution_count": 2,
      "outputs": []
    },
    {
      "cell_type": "code",
      "metadata": {
        "colab": {
          "base_uri": "https://localhost:8080/"
        },
        "id": "mnLIqUamwm59",
        "outputId": "6ae4dec6-1ef5-4dfc-e58f-ea0d6aea08ce"
      },
      "source": [
        "data_path = keras.utils.get_file(\n",
        "    \"news20.tar.gz\",\n",
        "    \"http://www.cs.cmu.edu/afs/cs.cmu.edu/project/theo-20/www/data/news20.tar.gz\",\n",
        "    untar=True,\n",
        ")"
      ],
      "execution_count": 6,
      "outputs": [
        {
          "output_type": "stream",
          "text": [
            "Downloading data from http://www.cs.cmu.edu/afs/cs.cmu.edu/project/theo-20/www/data/news20.tar.gz\n",
            "17334272/17329808 [==============================] - 9s 1us/step\n"
          ],
          "name": "stdout"
        }
      ]
    },
    {
      "cell_type": "code",
      "metadata": {
        "id": "fYmX4Hf5w_6o"
      },
      "source": [
        "import os\n",
        "import pathlib\n",
        "\n",
        "datadir = pathlib.Path(data_path).parent / \"20_newsgroup\"\n",
        "dirnames = os.listdir(datadir)\n",
        "fnames = os.listdir(datadir / \"comp.graphics\")"
      ],
      "execution_count": 7,
      "outputs": []
    },
    {
      "cell_type": "code",
      "metadata": {
        "colab": {
          "base_uri": "https://localhost:8080/"
        },
        "id": "lJ-kqF9myOUC",
        "outputId": "adadc333-ee90-4d75-c56e-14e3587fdb7a"
      },
      "source": [
        "len(dirnames) # 20 directories worth of data is about to be analyzed!"
      ],
      "execution_count": 9,
      "outputs": [
        {
          "output_type": "execute_result",
          "data": {
            "text/plain": [
              "20"
            ]
          },
          "metadata": {
            "tags": []
          },
          "execution_count": 9
        }
      ]
    },
    {
      "cell_type": "code",
      "metadata": {
        "colab": {
          "base_uri": "https://localhost:8080/"
        },
        "id": "hkBxKZ7ZyPSv",
        "outputId": "7a78ab6b-fd6f-4366-d052-39b6cc41cb0d"
      },
      "source": [
        "len(fnames)"
      ],
      "execution_count": 10,
      "outputs": [
        {
          "output_type": "execute_result",
          "data": {
            "text/plain": [
              "1000"
            ]
          },
          "metadata": {
            "tags": []
          },
          "execution_count": 10
        }
      ]
    },
    {
      "cell_type": "code",
      "metadata": {
        "colab": {
          "base_uri": "https://localhost:8080/",
          "height": 176
        },
        "id": "-jf6z7nNyZwb",
        "outputId": "05fb0ce8-6f41-41cf-8ebc-57e2cfa44eed"
      },
      "source": [
        "data = open(datadir / \"comp.graphics\" / \"38888\")\n",
        "datacontent = data.read()\n",
        "datacontent"
      ],
      "execution_count": 11,
      "outputs": [
        {
          "output_type": "execute_result",
          "data": {
            "application/vnd.google.colaboratory.intrinsic+json": {
              "type": "string"
            },
            "text/plain": [
              "'Path: cantaloupe.srv.cs.cmu.edu!das-news.harvard.edu!noc.near.net!howland.reston.ans.net!usc!cs.utexas.edu!not-for-mail\\nFrom: bultman@dgw.rws.nl (G.W.Bultman)\\nNewsgroups: comp.graphics\\nSubject: RGB/HLS/HSV conversion routines wanted\\nDate: 28 Apr 1993 04:23:21 -0500\\nOrganization: UTexas Mail-to-News Gateway\\nLines: 19\\nSender: daemon@cs.utexas.edu\\nMessage-ID: <9304280923.AA26702@sun4nl.nluug.nl>\\nNNTP-Posting-Host: cs.utexas.edu\\n\\nHi,\\n\\nI\\'m looking for RGB (cube) --> HLS (double hexcone) --> HSV (cylinder) \\nconversion routines. I have RGB <--> HSV, but miss the HLS <--> RGB/HSV.\\n\\nPLEASE E-MAIL ME DIRECTLY, AS I DO NOT GET THIS NEWSGROUP AT MY SITE\\n--------------------------------------------------------------------\\n\\nAny and all help wil be greatly appreciated.\\nGert.\\n\\n--\\n\\n    o      Gert Bultman <bultman@dgw.rws.nl> Phone (..31) 70 3744956     o\\n  / | \\\\    SNAIL   Rijkswaterstaat, Dienst Getijdewateren, Afd. AOCT   / | \\\\  \\n o--o--o   MAIL:   POSTBUS 20907, 2500 EX The Hague, The Netherlands  o--o--o \\n  \\\\ | /                                                                \\\\ | / \\n    o      ( ---  Please mark all personal mail \"PERSOONLIJK\"  --- )     o    \\n\\n'"
            ]
          },
          "metadata": {
            "tags": []
          },
          "execution_count": 11
        }
      ]
    },
    {
      "cell_type": "code",
      "metadata": {
        "colab": {
          "base_uri": "https://localhost:8080/",
          "height": 176
        },
        "id": "nCl4vMKiyz2J",
        "outputId": "2bf41703-c9b1-4ba5-d522-eabf42311b7c"
      },
      "source": [
        "data = open(datadir / \"comp.graphics\" / \"38996\")\n",
        "datacontent = data.read()\n",
        "datacontent"
      ],
      "execution_count": 14,
      "outputs": [
        {
          "output_type": "execute_result",
          "data": {
            "application/vnd.google.colaboratory.intrinsic+json": {
              "type": "string"
            },
            "text/plain": [
              "'Newsgroups: comp.graphics\\nPath: cantaloupe.srv.cs.cmu.edu!das-news.harvard.edu!noc.near.net!howland.reston.ans.net!zaphod.mps.ohio-state.edu!news.acns.nwu.edu!casbah.acns.nwu.edu!ddunlavy\\nFrom: ddunlavy@casbah.acns.nwu.edu (Daniel Dunlavy)\\nSubject: Picture -> Ascii Conversion?\\nMessage-ID: <1993Apr30.132720.5041@news.acns.nwu.edu>\\nFollowup-To: ddunlavy@casbah.acns.nwu.edu\\nSender: ddunlavy@casbah.acns.nwu.edu\\nNntp-Posting-Host: casbah.acns.nwu.edu\\nOrganization: Northwestern University, Evanston IL\\nDate: Fri, 30 Apr 1993 13:27:20 GMT\\nLines: 10\\n\\nI was wondering if anyone has ever seen/heard of a utility that converts\\nany type of image format (gif,tiff,pcx,bmp,jpeg,etc.) to an ascii\\nrepresentation.  I have seen some very sophiticated art in ascii format, but\\nnever was I able to find the author or any program that may have converted\\nthe data from a picture format.\\n\\nAny help or leads would be great. Thanks in advance.\\nDanny Dunlavy\\n\\nddunlavy@casbah.acns.nwu.edu\\n'"
            ]
          },
          "metadata": {
            "tags": []
          },
          "execution_count": 14
        }
      ]
    },
    {
      "cell_type": "code",
      "metadata": {
        "id": "3yIIlYAUzBbE"
      },
      "source": [
        "x = []\n",
        "y = []\n",
        "classnames = []\n"
      ],
      "execution_count": 15,
      "outputs": []
    },
    {
      "cell_type": "code",
      "metadata": {
        "id": "056wcMr10--S"
      },
      "source": [
        "classidx = 0\n",
        "for dirname in sorted(os.listdir(datadir)):\n",
        "  classnames.append(dirname)\n",
        "  dirpath = datadir / dirname \n",
        "  fnames = os.listdir(dirpath)\n",
        "  for fname in fnames:\n",
        "    fpath = dirpath / fname\n",
        "    f = open(fpath, encoding=\"latin-1\")\n",
        "    content = f.read()\n",
        "    lines = content.split(\"\\n\")\n",
        "    alllines = \"\\n\".join(lines)\n",
        "    x.append(alllines)\n",
        "    y.append(classidx)\n",
        "  classidx = classidx + 1\n"
      ],
      "execution_count": 19,
      "outputs": []
    },
    {
      "cell_type": "code",
      "metadata": {
        "colab": {
          "base_uri": "https://localhost:8080/"
        },
        "id": "pOqRe1hr2Hhb",
        "outputId": "864e6772-8dea-4a3f-c3a4-b34623b08896"
      },
      "source": [
        "x[-5:]"
      ],
      "execution_count": 23,
      "outputs": [
        {
          "output_type": "execute_result",
          "data": {
            "text/plain": [
              "['Xref: cantaloupe.srv.cs.cmu.edu talk.abortion:120858 alt.atheism:53514 talk.religion.misc:83886\\nPath: cantaloupe.srv.cs.cmu.edu!das-news.harvard.edu!noc.near.net!nic.umass.edu!caen!uwm.edu!cs.utexas.edu!sun-barr!news2me.EBay.Sun.COM!exodus.Eng.Sun.COM!hernes-sun!emarsh\\nFrom: emarsh@hernes-sun.Eng.Sun.COM (Eric Marsh)\\nNewsgroups: talk.abortion,alt.atheism,talk.religion.misc\\nSubject: Re: After 2000 years, can we say that Christian Morality is\\nDate: 16 Apr 1993 17:56:08 GMT\\nOrganization: Sun\\nLines: 37\\nMessage-ID: <lstspoINN649@exodus.Eng.Sun.COM>\\nReferences: <1qj9gq$mg7@horus.ap.mchp.sni.de> <rayC5JAK7.D7E@netcom.com> <1qkhju$43c@horus.ap.mchp.sni.de>\\nNNTP-Posting-Host: hernes-sun\\n\\nIn article <1qkhju$43c@horus.ap.mchp.sni.de> frank@D012S658.uucp (Frank O\\'Dwyer) writes:\\n>In article <rayC5JAK7.D7E@netcom.com> ray@netcom.com (Ray Fischer) writes:\\n\\n>#Given a choice between a peaceful compromise or endless contention,\\n>#I\\'d say that compromise seems to be \"better\".\\n\\n>And I would agree.   But it\\'s bloody to pointless to speak of it if it\\'s\\n>merely a matter of taste.  Is your liking for peace any better founded\\n>than someone else\\'s liking for ice-cream?  I\\'m looking for a way to say\\n>\"yes\" to that question, and relativism isn\\'t it.\\n\\nThe problem is, Frank, that you are bringing your own _subjective_ values\\ninto the debate and on the basis of those values you are making claim\\nto something that there is not any evidence (that I\\'ve seen, anyhow) to\\nsupport. This is not unsimilar to those people who make claims to\\nsupernatural gods, not on the basis of fact, but because it makes them feel\\nbetter to think that they can minipulate their environment by influencing\\nthose gods. It may be comforting, but is it real?\\n\\nIf you are going to claim that there is an absolute or objective morality,\\nthe very first thing you have to do is demonstrate that morality itself\\nexists as something more than an abstraction. Only when you have done that\\ncan we progress to debating whether this morality is absolute or not.\\n\\nThere have been many claims that morality is a component of reality, but\\nthen again, there have been plenty of claims made by different folk over\\nthe centuries. Claims, without fact to back them up are ultimatly very\\nhollow things.\\n\\nSo, having said that, I would ask you to begin by demonstrating that morality\\nis other than just an abstraction. Care to meet the challenge?\\n\\n>-- \\n>Frank O\\'Dwyer                                  \\'I\\'m not hatching That\\'\\n>odwyer@sse.ie                                  from \"Hens\",  by Evelyn Conlon\\n\\neric\\n',\n",
              " 'Path: cantaloupe.srv.cs.cmu.edu!magnesium.club.cc.cmu.edu!news.sei.cmu.edu!cis.ohio-state.edu!magnus.acs.ohio-state.edu!usenet.ins.cwru.edu!gatech!asuvax!ncar!noao!amethyst!organpipe.uug.arizona.edu!hindmost!brian\\nFrom: brian@lpl.arizona.edu (Brian Ceccarelli 602/621-9615)\\nNewsgroups: talk.religion.misc\\nSubject: Re: Is it good that Jesus died?\\nMessage-ID: <1993Apr25.194144.8358@organpipe.uug.arizona.edu>\\nDate: 25 Apr 93 19:41:44 GMT\\nReferences: <sandvik-210493225220@sandvik-kent.apple.com> <1993Apr23.210109.21120@organpipe.uug.arizona.edu> <C5yMIr.FnE@blaze.cs.jhu.edu>\\nSender: news@organpipe.uug.arizona.edu\\nOrganization: Lunar & Planetary Laboratory, Tucson AZ.\\nLines: 32\\n\\nIn article <C5yMIr.FnE@blaze.cs.jhu.edu> arromdee@jyusenkyou.cs.jhu.edu (Ken Arromdee) writes:\\n>You said everyone in the world.  That means *everyone* in the world, including\\n>children that are not old enough to speak, let alone tell lies.  If Jesus\\n>says \"everyone\", you cannot support that by referring to a group of people\\n>somewhat smaller than \"everyone\".\\n\\nThat\\'s right.  Everyone.  Even infants who cannot speak as yet.  Even\\na little child will rebelliously stick his finger in a light socket.\\nEven a little child will not want his diaper changed.  Even a little\\nchild will fight nap-time.\\n\\nSo far as Jesus saying \"everyone\":  \\n\\n    A certain ruler asked Jesus, \"Good teacher, what must I do to\\n    inherit eternal life?\"\\n\\n    \"Why do you call me good?\"  Jesus answered.  \"No one is good--\\n    except God alone.\"\\n\\nKen, the book of Romans states that we are born sinners.  We do\\nnot grow into being a sinner.  We sin because we are sinners.  The\\ncommon mistake, even in Christian circles, is to think the reverse\\ntrue.    So for as surely as you grew to look like you parents,\\nyou not only inherited their appearance, but also their sin nature.\\nIt goes with being human.\\n \\nEven though a new-born is innocent as can be, his sinful nature\\nwill surely manifest itself more explicity as he gets older.  For\\nas surely as he grows hair on his head and teeth within his mouth,\\nhe will show the signs of his innate sin by rebelling\\nagainst mommy and daddy with that loud proclamation \"No.\"\\n  \\n',\n",
              " \"Nntp-Posting-Host: gjalp.ifi.uio.no\\nNewsgroups: talk.religion.misc\\nPath: cantaloupe.srv.cs.cmu.edu!crabapple.srv.cs.cmu.edu!fs7.ece.cmu.edu!europa.eng.gtefsd.com!howland.reston.ans.net!zaphod.mps.ohio-state.edu!cs.utexas.edu!uunet!mcsun!sunic!ugle.unit.no!trane.uninett.no!nntp.uio.no!ifi.uio.no!joakimr\\nFrom: joakimr@ifi.uio.no (Joakim Ruud)\\nSubject: What RIGHT ?\\nMessage-ID: <1993Apr22.133142.23772@ifi.uio.no>\\nSender: joakimr@ifi.uio.no (Joakim Ruud)\\nOrganization: Dept. of Informatics, University of Oslo, Norway\\nDate: Thu, 22 Apr 1993 13:31:42 GMT\\nLines: 30\\nOriginator: joakimr@gjalp.ifi.uio.no\\n\\n\\nRecently, I've asked myself a rather interesting question: What RIGHT does\\ngod have on our lives (always assuming there is a god, of course...!) ??\\n\\nIn his infinite wisdom, he made it perfectly clear that if we don't live\\naccording to his rules, we will burn in hell. Well, with what RIGHT can god\\nmake that desicion? Let's say, for the sake of argument, that god creates every\\none of us (directly or indirectly, it doesn't matter.). What then happens, is\\nthat he first creates us, and then turns us lose. Well, I didn't ask to be\\ncreated. \\n\\nLet's make an analogue. If a scientist creates a unique living creature (which\\nhas happened, it was even patented...!!!), does he then have the right to\\nexpect it to behave in a certain matter, or die...?\\n\\nWho is god to impose its rules on us ? Who can tell if god is REALLY so\\nrighteous as god likes us to believe? Are all christians a flock of sheep,\\nunable to do otherwise that follow the rest? \\n\\nHmmmmmmmmmmmm.\\n\\nI just want to point out that this is not sarcasm, I mean it.\\n\\n\\t\\t \\tHow should one deal with a man who is convinced that\\n\\t\\t \\the is acting according to God's will, and who there-\\n     Jokke\\t\\tfore believes that he is doing you a favour by\\n\\t\\t \\tstabbing you in the back?\\n \\n\\t\\t\\t\\t\\t\\t\\t-Voltaire\\n\\n\",\n",
              " 'Newsgroups: talk.religion.misc\\nPath: cantaloupe.srv.cs.cmu.edu!das-news.harvard.edu!noc.near.net!howland.reston.ans.net!zaphod.mps.ohio-state.edu!uwm.edu!wupost!csus.edu!netcom.com!bskendig\\nFrom: bskendig@netcom.com (Brian Kendig)\\nSubject: Re: Is it good that Jesus died?\\nMessage-ID: <bskendigC62pqr.GL3@netcom.com>\\nOrganization: Starfleet Headquarters: San Francisco\\nReferences: <1993Apr23.210109.21120@organpipe.uug.arizona.edu> <C5yMIr.FnE@blaze.cs.jhu.edu> <1993Apr25.194144.8358@organpipe.uug.arizona.edu>\\nDate: Mon, 26 Apr 1993 04:28:02 GMT\\nLines: 23\\n\\nbrian@lpl.arizona.edu (Brian Ceccarelli 602/621-9615) writes:\\n> \\n>Even though a new-born is innocent as can be, his sinful nature\\n>will surely manifest itself more explicity as he gets older.  For\\n>as surely as he grows hair on his head and teeth within his mouth,\\n>he will show the signs of his innate sin by rebelling\\n>against mommy and daddy with that loud proclamation \"No.\"\\n\\nThat\\'s not \"showing the signs of his innate sin\", that\\'s testing the\\nlimits of his newfound independence.  A two-year-old will continually\\ntest you to see just how much he can get away with, just as a pet dog\\nwill.\\n\\nIf a child always submitted to your will in a docile fashion, would\\nyou praise him and suspect that he\\'s the Second Coming of Christ, or\\nwould you seek professional help about his emotional development?\\n\\n-- \\n_/_/_/  Brian Kendig                             Je ne suis fait comme aucun\\n/_/_/  bskendig@netcom.com                de ceux que j\\'ai vus; j\\'ose croire\\n_/_/                            n\\'etre fait comme aucun de ceux qui existent.\\n  /  The meaning of life     Si je ne vaux pas mieux, au moins je suis autre.\\n /    is that it ends.                                           -- Rousseau\\n',\n",
              " 'Xref: cantaloupe.srv.cs.cmu.edu talk.religion.misc:83496 alt.slack:8096\\nNewsgroups: talk.religion.misc,alt.slack\\nPath: cantaloupe.srv.cs.cmu.edu!das-news.harvard.edu!noc.near.net!uunet!quack!pharvey\\nFrom: pharvey@quack.kfu.com (Paul Harvey)\\nSubject: Re: An invisible God!\\nMessage-ID: <f168wyH@quack.kfu.com>\\nOrganization: The Duck Pond public unix: +1 408 249 9630, log in as \\'guest\\'.\\nReferences: <9304151334.AA08619@mental> <1993Apr17.152833.7811@maths.tcd.ie>\\nDate: 18 Apr 1993 18:42:31 UTC\\nLines: 14\\n\\nIn article <1993Apr17.152833.7811@maths.tcd.ie> \\npmoloney@maths.tcd.ie (Paul Moloney) writes:\\n>jmeritt@mental.MITRE.ORG (Jim Meritt - System Admin) writes:\\n>> God CAN be seen:\\n>>        \"And I will take away my hand, and thou shalt see my backparts.\"\\n>Wot? God\\'s a mooner? \\n\\nSuch lunacy!\\n\\n>(Gee, maybe there\\'s something in this Christianity thing after all -\\n>maybe God is John Belushi from \"Animal House\")\\n\\nThe SuperNatural One wants to have a personal relationship with you.\\nJHVH-1, come quick!\\n']"
            ]
          },
          "metadata": {
            "tags": []
          },
          "execution_count": 23
        }
      ]
    },
    {
      "cell_type": "code",
      "metadata": {
        "colab": {
          "base_uri": "https://localhost:8080/"
        },
        "id": "hc2xye9R2lTE",
        "outputId": "beb5fd12-47d3-4e8b-904c-f5651c9213e2"
      },
      "source": [
        "y[-5:]"
      ],
      "execution_count": 24,
      "outputs": [
        {
          "output_type": "execute_result",
          "data": {
            "text/plain": [
              "[19, 19, 19, 19, 19]"
            ]
          },
          "metadata": {
            "tags": []
          },
          "execution_count": 24
        }
      ]
    },
    {
      "cell_type": "code",
      "metadata": {
        "colab": {
          "base_uri": "https://localhost:8080/"
        },
        "id": "tTozkH6V2qXR",
        "outputId": "70f4f529-da56-4d00-c821-5ce01c86c605"
      },
      "source": [
        "len(x)"
      ],
      "execution_count": 25,
      "outputs": [
        {
          "output_type": "execute_result",
          "data": {
            "text/plain": [
              "20032"
            ]
          },
          "metadata": {
            "tags": []
          },
          "execution_count": 25
        }
      ]
    },
    {
      "cell_type": "code",
      "metadata": {
        "colab": {
          "base_uri": "https://localhost:8080/"
        },
        "id": "xgi3j2sA23oz",
        "outputId": "7f73db80-5838-48db-a605-7ccc85d630df"
      },
      "source": [
        "len(y)"
      ],
      "execution_count": 26,
      "outputs": [
        {
          "output_type": "execute_result",
          "data": {
            "text/plain": [
              "20032"
            ]
          },
          "metadata": {
            "tags": []
          },
          "execution_count": 26
        }
      ]
    },
    {
      "cell_type": "code",
      "metadata": {
        "id": "YQ2lWWw-251B"
      },
      "source": [
        "seed = 42\n",
        "rng = np.random.RandomState(42)\n",
        "rng.shuffle(x)\n",
        "rng = np.random.RandomState(42)\n",
        "rng.shuffle(y)"
      ],
      "execution_count": 27,
      "outputs": []
    },
    {
      "cell_type": "code",
      "metadata": {
        "colab": {
          "base_uri": "https://localhost:8080/"
        },
        "id": "alV8TjfA3KBy",
        "outputId": "e2299cea-44c4-4546-c3c4-e4b66dbda12c"
      },
      "source": [
        "y[-5:]"
      ],
      "execution_count": 28,
      "outputs": [
        {
          "output_type": "execute_result",
          "data": {
            "text/plain": [
              "[11, 11, 5, 0, 15]"
            ]
          },
          "metadata": {
            "tags": []
          },
          "execution_count": 28
        }
      ]
    },
    {
      "cell_type": "code",
      "metadata": {
        "colab": {
          "base_uri": "https://localhost:8080/"
        },
        "id": "AStylnGc3MB3",
        "outputId": "47c8ea50-11f4-4193-8484-519f2e251616"
      },
      "source": [
        "x[-5:]"
      ],
      "execution_count": 29,
      "outputs": [
        {
          "output_type": "execute_result",
          "data": {
            "text/plain": [
              "[\"Xref: cantaloupe.srv.cs.cmu.edu sci.crypt:15284 comp.security.misc:3400 alt.security:9966 comp.org.eff.talk:16904 alt.privacy:6585\\nNewsgroups: sci.crypt,comp.security.misc,alt.security,comp.org.eff.talk,alt.privacy,alt.privacy.clipper\\nPath: cantaloupe.srv.cs.cmu.edu!crabapple.srv.cs.cmu.edu!fs7.ece.cmu.edu!europa.eng.gtefsd.com!emory!swrinde!zaphod.mps.ohio-state.edu!uwm.edu!linac!att!att!ulysses!ulysses!smb\\nFrom: smb@research.att.com (Steven Bellovin)\\nSubject: Clipper -- some new thoughts\\nMessage-ID: <1993Apr17.175656.23656@ulysses.att.com>\\nDate: Sat, 17 Apr 1993 17:56:56 GMT\\nOrganization: AT&T Bell Laboratories\\nFollowup-To: sci.crypt\\nLines: 55\\n\\nI'd *desparately* prefer it if we didn't rehash the same arguments\\nthat went on ad infinitum last time.  That's especially true for\\nsci.crypt.  For that matter, I've created alt.privacy.clipper, since\\nthe traffic is appearing in *many* different groups right now.\\n\\nI'm going to focus here on some technical aspects of the plan, hence my\\nfollowup to sci.crypt.  Frankly, if you're not an absolutist, your\\nfeelings may turn on some of these issues.  For example -- with an\\n80-bit key, simply splitting it into two 40-bit pieces is much less\\nacceptable than other schemes, because it means that if just one\\nrepository is, shall we say, overly pliable, a would-be eavesdropper\\nwould need to recover just 40 more bits of key.  I need not point out\\nin this newsgroup that that's pretty easy to do by exhaustive search.\\nA slightly more complex scheme -- XOR-ing the key with a random number,\\nand then with its complement -- would produce two 80-bit subkeys,\\nneither of which is useful alone.  That variant is much more resistant\\nto attack.  Clearly, one can get even more sophisticated, to protect\\nthe subkeys even more.\\n\\nOther thoughts...  Some people have noted the size and complexity of\\nthe databases necessary.  But the id strings the phones emit could be\\ntheir back door key, double-encrypted with the escrow repositories'\\npublic keys.  For that matter, they could do that only with session\\nkeys, and have no back door at all.  In that case, the FBI would have\\nto bring every intercept to the repositories to be decrypted.  This\\nwould answer many of the objections along the lines of ``how do you\\nmake sure they stop''.\\n\\nWe can even combine that with a variant of the digital telephony back\\ndoor -- have the switch do the tap, but with a digitally-signed record\\nof the time, phone number, etc, of the call.  That provides proof to\\nthe escrow agents that the tap was done in compliance with the terms of\\nthe warrant.\\n\\nI can suggest other variations, too.  Suppose each Clipper chip had 100\\npublic key pairs.  Each would be used ~10 times, after which you'd need\\nmore keying material.  (Not a bad idea in any event.)  This could be\\nused to enforce time limits, or rather, usage limits, on each warrant;\\nthe keys the repository agents would deliver wouldn't last for very\\nlong.\\n\\nI suspect that the cryptographic algorithm itself is secure.  Apart from\\nthe obvious -- why push a weak algorithm when you've already got the\\nback door? -- I think that the government is still genuinely concerned\\nabout foreign espionage, especially aimed at commercial targets.  This\\nscheme lets the spooks have their cake and eat it, too.  (I've heard\\nrumors, over the years, that some factions within NSA were unhappy with\\nDES because it was too good.  Not that they couldn't crack it, but it\\nwas much too expensive to do so as easily as they'd want.)  They're keeping\\nthe details secret so that others don't build their own implementations\\nwithout the back door.\\n\\nThe cryptographic protocol, though, is another matter.  I see no valid\\nreasons for keeping it secret, and -- as I hope I've shown above -- there\\nare a lot of ways to do things that aren't (quite) as bad.\\n\",\n",
              " 'Newsgroups: sci.crypt\\nPath: cantaloupe.srv.cs.cmu.edu!rochester!udel!darwin.sura.net!haven.umd.edu!uunet!mdisea!mothost!lmpsbbs!comm.mot.com!dougb\\nFrom: dougb@comm.mot.com (Doug Bank)\\nSubject: Re: Clipper and conference calls\\nReply-To: dougb@ecs.comm.mot.com\\nOrganization: Motorola Land Mobile Products Sector\\nDate: Mon, 26 Apr 1993 15:04:34 GMT\\nMessage-ID: <1993Apr26.150434.227@lmpsbbs.comm.mot.com>\\nReferences: <122723@netnews.upenn.edu> <1993Apr25.114820.14022@ulysses.att.com> <WARLORD.93Apr25122501@podge.mit.edu>\\nSender: news@lmpsbbs.comm.mot.com (Net News)\\nNntp-Posting-Host: 145.1.146.35\\nLines: 25\\n\\n\\n|>    > Just curious, how would the Clipper Chip system handle\\n|>    > conference calls?\\n \\n|> Depending on the encryption system, so long as everyone has the same\\n|> key, it can be done.  For example, I was using \"vat\", which is an\\n|> Internet Audio tool, for a conference call, and we were encrypting the\\n|> session.  (Unfortunately, one site was doing more work, and didn\\'t\\n|> have the CPU for it, so it didn\\'t sound all that good at a different\\n|> site)\\n\\nYou would have to use something other than the AT&T black box - in other\\nwords, I don\\'t think public key would work.  The session key would have \\nto be agreed upon prior to the conversation and distributed to all \\nsites beforehand.\\n\\nOr go out and get a STU-III ;-)\\n\\n-- \\nDoug Bank                       Private Systems Division\\ndougb@ecs.comm.mot.com          Motorola Communications Sector\\ndougb@nwu.edu                   Schaumburg, Illinois\\ndougb@casbah.acns.nwu.edu       708-576-8207                    \\n\\nThese opinions do NOT reflect Motorola thinking in any way, shape, or form.\\n',\n",
              " \"Path: cantaloupe.srv.cs.cmu.edu!crabapple.srv.cs.cmu.edu!bb3.andrew.cmu.edu!news.sei.cmu.edu!cis.ohio-state.edu!zaphod.mps.ohio-state.edu!sdd.hp.com!nigel.msen.com!math.fu-berlin.de!irz401!irzr17.inf.tu-dresden.de!beck\\nFrom: beck@irzr17.inf.tu-dresden.de (Andre Beck)\\nNewsgroups: comp.windows.x\\nSubject: Re: lost in (TekHVC color) space\\nDate: 6 Apr 1993 20:45:24 GMT\\nOrganization: Dept. of Computer Science, TU Dresden, Germany.\\nLines: 13\\nDistribution: world\\nMessage-ID: <1psq54$nj8@irz401.inf.tu-dresden.de>\\nReferences: <1993Apr6.160748.3794@westford.ccur.com>\\nReply-To: Andre_Beck@IRS.Inf.TU-Dresden.DE\\nNNTP-Posting-Host: irzr17.inf.tu-dresden.de\\n\\n\\nHi,\\n\\nxtici worked for my system.\\nI'm using X11R5 pl 17 clientside only on a DEC 5000/240 on Ultrix 4.3\\nMay be you have a serious floatingpoint compilation problem ?\\n\\n--\\n+-o-+--------------------------------------------------------------+-o-+\\n| o |                \\\\\\\\\\\\-  Brain Inside -///                       | o |\\n| o |                    ^^^^^^^^^^^^^^^                           | o |\\n| o | Andre' Beck (ABPSoft) mehl: Andre_Beck@IRS.Inf.TU-Dresden.de | o |\\n+-o-+--------------------------------------------------------------+-o-+\\n\",\n",
              " 'Xref: cantaloupe.srv.cs.cmu.edu sci.skeptic:43558 alt.atheism:53640\\nNewsgroups: sci.skeptic,alt.atheism\\nPath: cantaloupe.srv.cs.cmu.edu!magnesium.club.cc.cmu.edu!news.sei.cmu.edu!cis.ohio-state.edu!zaphod.mps.ohio-state.edu!swrinde!gatech!news-feed-1.peachnet.edu!darwin.sura.net!haven.umd.edu!wam.umd.edu!rsrodger\\nFrom: rsrodger@wam.umd.edu (Yamanari)\\nSubject: Re: Asimov stamp\\nMessage-ID: <1993Apr23.235206.16573@wam.umd.edu>\\nSender: usenet@wam.umd.edu (USENET News system)\\nNntp-Posting-Host: rac2.wam.umd.edu\\nOrganization: University of Maryland, College Park\\nReferences: <C5yGt8.Er6@usenet.ucs.indiana.edu> <schnitzi.735603785@eustis>\\nDate: Fri, 23 Apr 1993 23:52:06 GMT\\nLines: 23\\n\\nIn article <schnitzi.735603785@eustis> schnitzi@eustis.cs.ucf.edu (Mark Schnitzius) writes:\\n>battin@cyclops.iucf.indiana.edu (Laurence Gene Battin) writes:\\n>\\n>>Apart from the suggestion that appeared in the letters column of\\n>>Skeptical Inquirer recently, has there been any further mention\\n>>about a possible Asimov commemorative stamp?  If this idea hasn\\'t\\n>>been followed up, does anyone know what needs to be done to get\\n>>this to happen?  I think that its a great idea.  Should we start a\\n>>petition or something?\\n>\\n>I\\'m sure all the religious types would get in a snit due\\n>to Asimov\\'s atheism.\\n>\\n>Do we have any atheists on stamps now?\\n\\n\\n\\tMore to the point, how long are atheists going to be insulted\\n\\tby the disgraceful addition of religious blah-blah to our \\n\\tmoney and out pledge?\\n-- \\n\\t\"What\\'s big, noisy and has an IQ of 8?\"\\n\\n\\t\"Operation Rescue.\"\\n',\n",
              " 'Xref: cantaloupe.srv.cs.cmu.edu news.announce.newgroups:3206 news.groups:69521 talk.religion.misc:83251 soc.religion.christian:20578 soc.culture.bangladesh:12697 soc.culture.indian:124205 soc.culture.pakistan:37583 talk.philosophy.misc:10751 soc.culture.iranian:22278\\nPath: cantaloupe.srv.cs.cmu.edu!crabapple.srv.cs.cmu.edu!fs7.ece.cmu.edu!europa.eng.gtefsd.com!howland.reston.ans.net!noc.near.net!news.centerline.com!uunet!bounce-back\\nFrom: Nabeel Ahmad Rana <rana@rintintin.colorado.edu>\\nNewsgroups: news.announce.newgroups,news.groups,talk.religion.misc,soc.religion.christian,soc.culture.bangladesh,soc.culture.indian,soc.culture.pakistan,talk.philosophy.misc,soc.culture.iranian\\nSubject: RFD: soc.religion.islam.ahmadiyya moderated\\nFollowup-To: news.groups\\nDate: 12 Apr 1993 20:03:22 -0400\\nOrganization: UUNET Communications\\nLines: 171\\nSender: tale@rodan.UU.NET\\nApproved: tale@uunet.uu.net, christian@geneva.rutgers.edu\\nMessage-ID: <1qd00aINNsmg@rodan.UU.NET>\\nReply-To: rana@rintintin.colorado.edu\\nNNTP-Posting-Host: rodan.uu.net\\n\\nDear Netters:\\n\\nA new religious newsgroup \"soc.religion.islam.ahmadiyya\" was pro-\\nposed  on  Oct  16,  1992. The discussion about this new proposed\\nnewsgroup went on in various related groups.  The  proposal,  was\\nsupposed to enter a vote during the last week of November 92. Due\\nto a false Call For Votes, by some opponent, the voting had to be\\ncanceled.  I  quote  here  a  statement  from  the  moderator  of\\nnew.announce.newgroups:\\n\\n\\n\"The current Call For Votes (CFV) for an Ahmadiyya newsgroup\\n is being canceled. A new call for votes will be issued within\\n a few weeks, possibly with a new impartial vote  taker.  Discus-\\n sion on the proposal is still open until the new vote is called...\"\\n                                -- by Lawrence, Nov 20, 1992.\\n\\n\\nA lot of confusion arose among the netter as  to  whom  to  vote.\\nTherefore  it was decided to give a cool down period, so that all\\nconfusions are over. It has been over 4 months  of  that  instant\\nand now we are again attempting to create this newsgroup. A fresh\\nRFD is hereby being issued. Please! take part in  the  discussion\\nunder the same  title heading  and in  \"news.groups\"  or at least\\ncross-post it to \"news.groups\".\\n\\n\\n****************************************************************\\n\\n                REQUEST  FOR  DISCUSSION\\n\\n****************************************************************\\n\\n\\n\\nNAME OF PROPOSED NEWSGROUP: \\n==========================\\n\\n     soc.religion.islam.ahmadiyya\\n\\n\\nCHARTER: \\n=======\\n\\n     A religious newsgroup, which would mainly  discuss  the  be-\\nliefs,  teachings,  philosophy  and ideologies of all major reli-\\ngions of the world as  they  exist  to  foster  better  religious\\nknowledge  and  understanding among followers of all religions as\\nthey share common basis. This newsgroup will be devoted to  build\\na  peaceful  mutual  understanding  of  the  Ahmadiyya  branch of\\nIslam, its peacefull beliefs, ideology and philosophy and how  it\\nis  different  from  other  branches  of Islam in fostering world\\npeace and developing better understanding among religious people.\\nIt may also be used to post important religious events within the\\nWorld Wide Ahmadiyya Islamic Community in general.\\n\\n\\nPURPOSE OF THE GROUP: \\n====================\\n\\n     The following are some of the main purposes this group will\\n     achieve:\\n\\n     i)   To discuss the common beliefs of all major religions as\\n          they relate to Ahmadiyya Muslim Community.\\n\\n     ii)  To discuss the doctrines, origin and teachings  of this\\n          puissant spiritual force on earth.\\n\\n     iii) To examine Islamic teachings and beliefs in general  in\\n          light  of the Quran  and established Islamic traditions\\n          of 15 centuries from Ahmadiyya perspective.\\n\\n     iv)  To discuss the similarities  between Ahmadi Muslims and\\n          people of other Religions  of the world and discuss how\\n          religious tolerance  and respect to other\\'s  faiths can\\n          be brought about to  eliminate inter-religion rivalries\\n          and hatred among people of religions. \\n\\n     v)   To discuss the origin and teachings of all religions in\\n          general and Islamic and Ahmadiyya Muslims in particular\\n          to foster better understanding among Ahmadi Muslims and\\n          other religious people.\\n\\n     vi)  To discuss current world problems and solution to these\\n          problems as offered by religion.\\n\\n     vii) To exchange important news and views about the Ahmadiyya\\n          Muslim Community and other Religions.\\n\\n     viii)To add diversity in the religious newsgroups present\\n          on Usenet.\\n\\n     ix)  To discuss why  religious persecution is on the rise  in\\n          the world  and find  solutions to remedy the ever deter-\\n          iorating  situation  in the  world in general and in the \\n          Islamic world in particular.\\n\\n     x)   To discuss the contributions of founders of  all  reli-\\n          gions and their  people for humanity, society and world \\n          peace in general and by the International Ahmadiyya Mus\\n          -lim Community in particular.\\n\\n\\nTYPE: \\n====\\n\\nThe group will be MODERATED for orderly and free religious dialo-\\ngue.   The moderation will NOT prevent disagreement or dissent to\\nbeliefs, but will mainly be used  to  prevent  derogatory/squalid\\nuse  of  dialect  and irrelevant issues. The moderators have been\\ndecided through personal e-mail and through a  general  consensus\\namong  the proponants by discussion in news.groups. The following\\nmoderators have been proposed and agreed upon:\\n\\nModerator:     Nabeel A. Rana  (rana@rintintin.colorado.edu)  \\nCo-Moderator:  Dr. Tahir Ijaz  (ijaz@ccu.umanitoba.ca)\\n\\n\\n\\nA BRIEF DESCRIPTION ABOUT AHMADIYYA/ISLAM:\\n=========================================\\n\\n\\n        The Ahmadiyya Movement in Islam, an international organi-\\nsation, was founder in 1989 in Qadian, India. The founder of this\\nsect, Hazrat Mirza Ghulam Ahmad (1835-1908), proclaimed to be the\\nPromised Reformer of this age as foretold in almost all the major\\nreligions of the world today (Islam, Christianity, Judiasm,  Hin-\\nduism).  He  claimed  to  be  the  long awaited second comming of\\nJesus Christ (metaphorically), the Muslim Mahdi, and the Promised\\nMessiah.  He  claimed that the prophecies contained in almost all\\nthe great religions of the world about the advent of a  messenger\\nfrom God have been fulfilled.\\n\\n        The claims Hazrat Ahmad raised storms  of  hostility  and\\nextreme  oposition from many priestlike people of Muslims, Chris-\\ntians, Jews and Hindus of that age. Such opposition is often wit-\\nnessed  in  the history of divine reformers. Even today this sect\\nis being persecuted specially in  some  of  the  Muslim  regimes.\\nDispite  the  opposition  and persecution, this sect has won many\\nadherents in 130 countries. It has over 10 million followers, who\\ncome from a diverse ethnic and cultural background.\\n\\n        The sect is devoted to world peace and in bringing  about\\na better understanding of religion, and the founders of all reli-\\ngions. Its mission is to unite mankind into one Universal  broth-\\nerhood  and  develop  a  better  understanding  of  faith. Ahmadi\\nMuslims have always been opposed to all kind of violence and spe-\\ncially religious intollerance and fundamentalism.\\n\\n        Among its many philanthropic activities, the sect has es-\\ntablished  a network of hundreds of schools, hospitals, and clin-\\nics in many third world countries. These institutions are staffed\\nby  volunteer  professional  and are fully financed by the sect\\'s\\ninternal resources.\\n\\n        The Ahmadiyya mission is to bring about a universal moral\\nreform,  establish  peace and justice, and to unite mankind under\\none universal religion.\\n\\n\\nNEWSGROUP CREATION: \\n==================\\n\\n        When the Call For Votes is called,  the  discussion  will\\nofficially  end.   Voting  will be held for about three weeks. If\\nthe group gets 2/3rd majority AND  100  more  \"YES/Create\"  votes\\nthan  \"NO/don\\'t  create\"  votes;  the group shall be created. Any\\nquestions or comments  may  be  included  in  the  discussion  or\\ndirectly sent to: rana@rintintin.colorado.edu\\n']"
            ]
          },
          "metadata": {
            "tags": []
          },
          "execution_count": 29
        }
      ]
    },
    {
      "cell_type": "code",
      "metadata": {
        "id": "R7Y11eno3Nt6"
      },
      "source": [
        "split_factor = 0.2\n",
        "valxlength = int(split_factor * len(x))\n",
        "trainx = x[:-valxlength]\n",
        "valx = x[-valxlength:]\n",
        "trainy = y[:-valxlength]\n",
        "valy = y[-valxlength:]"
      ],
      "execution_count": 30,
      "outputs": []
    },
    {
      "cell_type": "code",
      "metadata": {
        "colab": {
          "base_uri": "https://localhost:8080/",
          "height": 176
        },
        "id": "xWU5NWoe4D5q",
        "outputId": "746c9344-1c05-4ad6-8a69-27ea56c3e59f"
      },
      "source": [
        "valx[0]"
      ],
      "execution_count": 31,
      "outputs": [
        {
          "output_type": "execute_result",
          "data": {
            "application/vnd.google.colaboratory.intrinsic+json": {
              "type": "string"
            },
            "text/plain": [
              "\"Newsgroups: sci.space\\nPath: cantaloupe.srv.cs.cmu.edu!das-news.harvard.edu!noc.near.net!howland.reston.ans.net!usc!cs.utexas.edu!utnut!utzoo!henry\\nFrom: henry@zoo.toronto.edu (Henry Spencer)\\nSubject: Re: Eco-Freaks forcing Space Mining.\\nMessage-ID: <C5y0Kw.Mx0@zoo.toronto.edu>\\nDate: Fri, 23 Apr 1993 15:34:07 GMT\\nReferences: <1993Apr21.212202.1@aurora.alaska.edu>\\nOrganization: U of Toronto Zoology\\nLines: 22\\n\\nIn article <1993Apr21.212202.1@aurora.alaska.edu> nsmca@aurora.alaska.edu writes:\\n>Here is a way to get the commericial companies into space and mineral\\n>exploration.\\n>\\n>Basically get the eco-freaks to make it so hard to get the minerals on earth.\\n\\nThey aren't going to leave a loophole as glaring as space mining.  Quite a\\nfew of those people are, when you come right down to it, basically against\\nindustrial civilization.  They won't stop with shutting down the mines here;\\nthat is only a means to an end for them now.\\n\\nThe worst thing you can say to a true revolutionary is that his revolution\\nis unnecessary, that the problems can be corrected without radical change.\\nTelling people that paradise can be attained without the revolution is\\ntreason of the vilest kind.\\n\\nTrying to harness these people to support spaceflight is like trying to\\nharness a buffalo to pull your plough.  He's got plenty of muscle, all\\nright, but the furrow will go where he wants, not where you want.\\n-- \\nAll work is one man's work.             | Henry Spencer @ U of Toronto Zoology\\n                    - Kipling           |  henry@zoo.toronto.edu  utzoo!henry\\n\""
            ]
          },
          "metadata": {
            "tags": []
          },
          "execution_count": 31
        }
      ]
    },
    {
      "cell_type": "code",
      "metadata": {
        "id": "qJr4B8kT4Fg2"
      },
      "source": [
        "from tensorflow.keras.layers.experimental.preprocessing import TextVectorization\n",
        "\n",
        "vectorizer = TextVectorization(max_tokens=20000, output_sequence_length=200)"
      ],
      "execution_count": 33,
      "outputs": []
    },
    {
      "cell_type": "code",
      "metadata": {
        "id": "2-7u5yxW4V2t"
      },
      "source": [
        "textvectors = tf.data.Dataset.from_tensor_slices(trainx).batch(128)\n"
      ],
      "execution_count": 34,
      "outputs": []
    },
    {
      "cell_type": "code",
      "metadata": {
        "id": "_5F6ODMO4r_y"
      },
      "source": [
        "vectorizer.adapt(textvectors)"
      ],
      "execution_count": 36,
      "outputs": []
    },
    {
      "cell_type": "code",
      "metadata": {
        "colab": {
          "base_uri": "https://localhost:8080/"
        },
        "id": "GJM-aAy34tbV",
        "outputId": "63e2d441-577b-41a1-9147-95e1408dd482"
      },
      "source": [
        "dictionary = vectorizer.get_vocabulary()\n",
        "dictionary[:5]"
      ],
      "execution_count": 37,
      "outputs": [
        {
          "output_type": "execute_result",
          "data": {
            "text/plain": [
              "['', '[UNK]', 'the', 'to', 'of']"
            ]
          },
          "metadata": {
            "tags": []
          },
          "execution_count": 37
        }
      ]
    },
    {
      "cell_type": "code",
      "metadata": {
        "id": "SHb30lLz480P"
      },
      "source": [
        ""
      ],
      "execution_count": null,
      "outputs": []
    }
  ]
}