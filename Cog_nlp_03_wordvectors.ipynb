{
  "nbformat": 4,
  "nbformat_minor": 0,
  "metadata": {
    "colab": {
      "name": "Cog_nlp_03.ipynb",
      "provenance": [],
      "authorship_tag": "ABX9TyO0xYxO87xxabOfNlnV9BFM",
      "include_colab_link": true
    },
    "kernelspec": {
      "name": "python3",
      "display_name": "Python 3"
    },
    "language_info": {
      "name": "python"
    }
  },
  "cells": [
    {
      "cell_type": "markdown",
      "metadata": {
        "id": "view-in-github",
        "colab_type": "text"
      },
      "source": [
        "<a href=\"https://colab.research.google.com/github/a-forty-two/cog_may_onwards_21/blob/main/Cog_nlp_03_wordvectors.ipynb\" target=\"_parent\"><img src=\"https://colab.research.google.com/assets/colab-badge.svg\" alt=\"Open In Colab\"/></a>"
      ]
    },
    {
      "cell_type": "code",
      "metadata": {
        "id": "nvHhXezjv_Iv"
      },
      "source": [
        "# One-hot encoding\n",
        "# label encoding\n",
        "# label binarizing \n"
      ],
      "execution_count": 1,
      "outputs": []
    },
    {
      "cell_type": "code",
      "metadata": {
        "id": "YILuNDD3wfmJ"
      },
      "source": [
        "import numpy as np\n",
        "import tensorflow as tf\n",
        "from tensorflow import keras"
      ],
      "execution_count": 2,
      "outputs": []
    },
    {
      "cell_type": "code",
      "metadata": {
        "colab": {
          "base_uri": "https://localhost:8080/"
        },
        "id": "mnLIqUamwm59",
        "outputId": "6ae4dec6-1ef5-4dfc-e58f-ea0d6aea08ce"
      },
      "source": [
        "data_path = keras.utils.get_file(\n",
        "    \"news20.tar.gz\",\n",
        "    \"http://www.cs.cmu.edu/afs/cs.cmu.edu/project/theo-20/www/data/news20.tar.gz\",\n",
        "    untar=True,\n",
        ")"
      ],
      "execution_count": 6,
      "outputs": [
        {
          "output_type": "stream",
          "text": [
            "Downloading data from http://www.cs.cmu.edu/afs/cs.cmu.edu/project/theo-20/www/data/news20.tar.gz\n",
            "17334272/17329808 [==============================] - 9s 1us/step\n"
          ],
          "name": "stdout"
        }
      ]
    },
    {
      "cell_type": "code",
      "metadata": {
        "id": "fYmX4Hf5w_6o"
      },
      "source": [
        "import os\n",
        "import pathlib\n",
        "\n",
        "datadir = pathlib.Path(data_path).parent / \"20_newsgroup\"\n",
        "dirnames = os.listdir(datadir)\n",
        "fnames = os.listdir(datadir / \"comp.graphics\")"
      ],
      "execution_count": 7,
      "outputs": []
    },
    {
      "cell_type": "code",
      "metadata": {
        "colab": {
          "base_uri": "https://localhost:8080/"
        },
        "id": "lJ-kqF9myOUC",
        "outputId": "adadc333-ee90-4d75-c56e-14e3587fdb7a"
      },
      "source": [
        "len(dirnames) # 20 directories worth of data is about to be analyzed!"
      ],
      "execution_count": 9,
      "outputs": [
        {
          "output_type": "execute_result",
          "data": {
            "text/plain": [
              "20"
            ]
          },
          "metadata": {
            "tags": []
          },
          "execution_count": 9
        }
      ]
    },
    {
      "cell_type": "code",
      "metadata": {
        "colab": {
          "base_uri": "https://localhost:8080/"
        },
        "id": "hkBxKZ7ZyPSv",
        "outputId": "7a78ab6b-fd6f-4366-d052-39b6cc41cb0d"
      },
      "source": [
        "len(fnames)"
      ],
      "execution_count": 10,
      "outputs": [
        {
          "output_type": "execute_result",
          "data": {
            "text/plain": [
              "1000"
            ]
          },
          "metadata": {
            "tags": []
          },
          "execution_count": 10
        }
      ]
    },
    {
      "cell_type": "code",
      "metadata": {
        "colab": {
          "base_uri": "https://localhost:8080/",
          "height": 176
        },
        "id": "-jf6z7nNyZwb",
        "outputId": "05fb0ce8-6f41-41cf-8ebc-57e2cfa44eed"
      },
      "source": [
        "data = open(datadir / \"comp.graphics\" / \"38888\")\n",
        "datacontent = data.read()\n",
        "datacontent"
      ],
      "execution_count": 11,
      "outputs": [
        {
          "output_type": "execute_result",
          "data": {
            "application/vnd.google.colaboratory.intrinsic+json": {
              "type": "string"
            },
            "text/plain": [
              "'Path: cantaloupe.srv.cs.cmu.edu!das-news.harvard.edu!noc.near.net!howland.reston.ans.net!usc!cs.utexas.edu!not-for-mail\\nFrom: bultman@dgw.rws.nl (G.W.Bultman)\\nNewsgroups: comp.graphics\\nSubject: RGB/HLS/HSV conversion routines wanted\\nDate: 28 Apr 1993 04:23:21 -0500\\nOrganization: UTexas Mail-to-News Gateway\\nLines: 19\\nSender: daemon@cs.utexas.edu\\nMessage-ID: <9304280923.AA26702@sun4nl.nluug.nl>\\nNNTP-Posting-Host: cs.utexas.edu\\n\\nHi,\\n\\nI\\'m looking for RGB (cube) --> HLS (double hexcone) --> HSV (cylinder) \\nconversion routines. I have RGB <--> HSV, but miss the HLS <--> RGB/HSV.\\n\\nPLEASE E-MAIL ME DIRECTLY, AS I DO NOT GET THIS NEWSGROUP AT MY SITE\\n--------------------------------------------------------------------\\n\\nAny and all help wil be greatly appreciated.\\nGert.\\n\\n--\\n\\n    o      Gert Bultman <bultman@dgw.rws.nl> Phone (..31) 70 3744956     o\\n  / | \\\\    SNAIL   Rijkswaterstaat, Dienst Getijdewateren, Afd. AOCT   / | \\\\  \\n o--o--o   MAIL:   POSTBUS 20907, 2500 EX The Hague, The Netherlands  o--o--o \\n  \\\\ | /                                                                \\\\ | / \\n    o      ( ---  Please mark all personal mail \"PERSOONLIJK\"  --- )     o    \\n\\n'"
            ]
          },
          "metadata": {
            "tags": []
          },
          "execution_count": 11
        }
      ]
    },
    {
      "cell_type": "code",
      "metadata": {
        "colab": {
          "base_uri": "https://localhost:8080/",
          "height": 176
        },
        "id": "nCl4vMKiyz2J",
        "outputId": "2bf41703-c9b1-4ba5-d522-eabf42311b7c"
      },
      "source": [
        "data = open(datadir / \"comp.graphics\" / \"38996\")\n",
        "datacontent = data.read()\n",
        "datacontent"
      ],
      "execution_count": 14,
      "outputs": [
        {
          "output_type": "execute_result",
          "data": {
            "application/vnd.google.colaboratory.intrinsic+json": {
              "type": "string"
            },
            "text/plain": [
              "'Newsgroups: comp.graphics\\nPath: cantaloupe.srv.cs.cmu.edu!das-news.harvard.edu!noc.near.net!howland.reston.ans.net!zaphod.mps.ohio-state.edu!news.acns.nwu.edu!casbah.acns.nwu.edu!ddunlavy\\nFrom: ddunlavy@casbah.acns.nwu.edu (Daniel Dunlavy)\\nSubject: Picture -> Ascii Conversion?\\nMessage-ID: <1993Apr30.132720.5041@news.acns.nwu.edu>\\nFollowup-To: ddunlavy@casbah.acns.nwu.edu\\nSender: ddunlavy@casbah.acns.nwu.edu\\nNntp-Posting-Host: casbah.acns.nwu.edu\\nOrganization: Northwestern University, Evanston IL\\nDate: Fri, 30 Apr 1993 13:27:20 GMT\\nLines: 10\\n\\nI was wondering if anyone has ever seen/heard of a utility that converts\\nany type of image format (gif,tiff,pcx,bmp,jpeg,etc.) to an ascii\\nrepresentation.  I have seen some very sophiticated art in ascii format, but\\nnever was I able to find the author or any program that may have converted\\nthe data from a picture format.\\n\\nAny help or leads would be great. Thanks in advance.\\nDanny Dunlavy\\n\\nddunlavy@casbah.acns.nwu.edu\\n'"
            ]
          },
          "metadata": {
            "tags": []
          },
          "execution_count": 14
        }
      ]
    },
    {
      "cell_type": "code",
      "metadata": {
        "id": "3yIIlYAUzBbE"
      },
      "source": [
        ""
      ],
      "execution_count": null,
      "outputs": []
    }
  ]
}