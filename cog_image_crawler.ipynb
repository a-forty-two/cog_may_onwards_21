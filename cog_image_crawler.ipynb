{
  "nbformat": 4,
  "nbformat_minor": 0,
  "metadata": {
    "colab": {
      "name": "cog_image_crawler.ipynb",
      "provenance": [],
      "authorship_tag": "ABX9TyNoXvTbyaSQxxK6RCoxQlVx"
    },
    "kernelspec": {
      "name": "python3",
      "display_name": "Python 3"
    },
    "language_info": {
      "name": "python"
    }
  },
  "cells": [
    {
      "cell_type": "code",
      "metadata": {
        "id": "OKVa7kuNAHMV"
      },
      "source": [
        "accesskey = '1540554f52b34f48ab49ae7052c6804d'\n",
        "search_url = \"https://api.bing.microsoft.com/v7.0/search\"\n",
        "url2 = \"https://api.bing.microsoft.com/v7.0/images/search\""
      ],
      "execution_count": 4,
      "outputs": []
    },
    {
      "cell_type": "code",
      "metadata": {
        "id": "UhEuuYjVD-fw"
      },
      "source": [
        "import requests\n",
        "\n",
        "headers = {\"Ocp-Apim-Subscription-Key\": accesskey}\n",
        "params = {\"q\": \"pikachu\", \"textDecorations\": True, \"textFormat\": \"HTML\"}\n",
        "response = requests.get(url2, headers=headers, params=params)\n",
        "response.raise_for_status()\n",
        "search_results = response.json()"
      ],
      "execution_count": 5,
      "outputs": []
    },
    {
      "cell_type": "code",
      "metadata": {
        "colab": {
          "base_uri": "https://localhost:8080/"
        },
        "id": "p_uf_QwKEJ4a",
        "outputId": "f9b63cb8-6048-42f1-b904-2e2ccd6f6e78"
      },
      "source": [
        "search_results['currentOffset']"
      ],
      "execution_count": 11,
      "outputs": [
        {
          "output_type": "execute_result",
          "data": {
            "text/plain": [
              "0"
            ]
          },
          "metadata": {
            "tags": []
          },
          "execution_count": 11
        }
      ]
    },
    {
      "cell_type": "code",
      "metadata": {
        "colab": {
          "base_uri": "https://localhost:8080/"
        },
        "id": "Scmy-a4GEMJz",
        "outputId": "c82e56ed-1123-4a0c-b9a0-a79e41723b35"
      },
      "source": [
        "search_results.keys()"
      ],
      "execution_count": 12,
      "outputs": [
        {
          "output_type": "execute_result",
          "data": {
            "text/plain": [
              "dict_keys(['_type', 'instrumentation', 'readLink', 'webSearchUrl', 'queryContext', 'totalEstimatedMatches', 'nextOffset', 'currentOffset', 'value', 'queryExpansions', 'pivotSuggestions', 'relatedSearches'])"
            ]
          },
          "metadata": {
            "tags": []
          },
          "execution_count": 12
        }
      ]
    },
    {
      "cell_type": "code",
      "metadata": {
        "colab": {
          "base_uri": "https://localhost:8080/"
        },
        "id": "0Ymc1o8jGTMN",
        "outputId": "7eda1d37-e902-4729-f7ee-5154819ff148"
      },
      "source": [
        "search_results['value'][0]"
      ],
      "execution_count": 14,
      "outputs": [
        {
          "output_type": "execute_result",
          "data": {
            "text/plain": [
              "{'accentColor': 'C6A705',\n",
              " 'contentSize': '302615 B',\n",
              " 'contentUrl': 'https://pngimg.com/uploads/pokemon/pokemon_PNG148.png',\n",
              " 'datePublished': '2021-02-03T16:45:00.0000000Z',\n",
              " 'encodingFormat': 'png',\n",
              " 'height': 1436,\n",
              " 'hostPageDiscoveredDate': '2021-01-31T00:00:00.0000000Z',\n",
              " 'hostPageDisplayUrl': 'pngimg.com/image/27833',\n",
              " 'hostPageUrl': 'http://pngimg.com/image/27833',\n",
              " 'imageId': '05F1C5169BC764D20E3A16DD15FCF0157737660A',\n",
              " 'imageInsightsToken': 'ccid_MdSU+Kr+*cp_8F2E08EEDCEDCAADE22D4E922432A997*mid_05F1C5169BC764D20E3A16DD15FCF0157737660A*simid_607989145274094632*thid_OIP.MdSU-Kr-hhAYLc2y5m1vagHaGp',\n",
              " 'insightsMetadata': {'availableSizesCount': 73, 'pagesIncludingCount': 218},\n",
              " 'isFamilyFriendly': True,\n",
              " 'name': 'Pikachu PNG',\n",
              " 'thumbnail': {'height': 425, 'width': 474},\n",
              " 'thumbnailUrl': 'https://tse2.mm.bing.net/th?id=OIP.MdSU-Kr-hhAYLc2y5m1vagHaGp&pid=Api',\n",
              " 'webSearchUrl': 'https://www.bing.com/images/search?view=detailv2&FORM=OIIRPO&q=pikachu&id=05F1C5169BC764D20E3A16DD15FCF0157737660A&simid=607989145274094632',\n",
              " 'width': 1600}"
            ]
          },
          "metadata": {
            "tags": []
          },
          "execution_count": 14
        }
      ]
    },
    {
      "cell_type": "code",
      "metadata": {
        "colab": {
          "base_uri": "https://localhost:8080/"
        },
        "id": "Rs4dapivGYP2",
        "outputId": "e647c0bc-dc76-41ba-d0eb-76649eecf005"
      },
      "source": [
        "for counter,imgdata in enumerate(search_results['value']):\n",
        "  print(imgdata['contentUrl'])"
      ],
      "execution_count": 15,
      "outputs": [
        {
          "output_type": "stream",
          "text": [
            "https://pngimg.com/uploads/pokemon/pokemon_PNG148.png\n",
            "https://www.nintendoworldreport.com/media/38183/4/1.jpg\n",
            "https://img1.cgtrader.com/items/2419585/aef1cf6064/pikachu-pokemon-3d-printing-3d-model-obj-stl-blend.jpg\n",
            "https://static2.thegamerimages.com/wordpress/wp-content/uploads/2019/05/Detective-Pikachu-4.jpg\n",
            "https://img2.cgtrader.com/items/768075/a6212ac1a3/pokemon-pikachu-3d-model-low-poly-rigged.jpg\n",
            "https://art.ngfiles.com/images/781000/781267_mexican64_detective-pikachu.jpg?f1547156536\n",
            "https://pngimg.com/uploads/pokemon/pokemon_PNG14.png\n",
            "https://cdn.vox-cdn.com/thumbor/RGPwZaA8xxwrVd4spVyTGNrxHh0=/99x0:1179x720/1200x800/filters:focal(99x0:1179x720)/cdn.vox-cdn.com/uploads/chorus_image/image/50166993/2016.1_Great_Detective_Pikachu_Birth_of_a_New_Duo__3DS_.0.0.jpg\n",
            "https://www.gamegrin.com/assets/game/detective-pikachu/character-artwork/_resampled/SetWidth1920-detective-pikachu-character-artwork-6.png\n",
            "https://art.ngfiles.com/images/834000/834944_jeroenverstegen_pikachu.png?f1551370454\n",
            "https://webstockreview.net/images/pikachu-clipart-pin-the-tail-on-5.png\n",
            "https://webstockreview.net/images/pikachu-clipart-pokeball-wallpaper-2.jpg\n",
            "https://www.dailydot.com/wp-content/uploads/093/76/75ea91957aaab9da.jpg\n",
            "http://www.baltana.com/files/wallpapers-14/Pikachu-Widescreen-Wallpapers-37659.jpg\n",
            "https://webgames.host/uploads/2018/09/super-pikachu.png\n",
            "https://pngimg.com/uploads/pokemon/pokemon_PNG146.png\n",
            "https://cdn.dribbble.com/users/75052/screenshots/10796276/pikachu_4x.jpg\n",
            "https://www.netclipart.com/pp/m/91-916245_pikachu-clipart-jumping-pikachu-running.png\n",
            "https://wallpapers.moviemania.io/phone/movie/447404/a1e9ec/pokemon-detective-pikachu-phone-wallpaper.jpg?w=1536&h=2732\n",
            "https://screenvisionmedia.com/wp-content/uploads/2019/04/pokemon-detective-pikachu.jpg\n",
            "https://img2.cgtrader.com/items/632126/e0dd2796f1/pikachu-3d-model-low-poly-animated-rigged-max-obj-fbx-mtl.jpg\n",
            "https://i.redd.it/kuzrgjvbm9521.jpg\n",
            "https://2.bp.blogspot.com/-zWfoLJxa_bI/UABcK3PzZKI/AAAAAAAAAT8/nHpM59Ki58Q/s4000/Pikachu+colorido.jpg\n",
            "http://www.baltana.com/files/wallpapers-16/Pokemon-Detective-Pikachu-Movie-Desktop-Wallpaper-39833.jpg\n",
            "https://i.kinja-img.com/gawker-media/image/upload/s--mMCz9Phg--/c_scale,f_auto,fl_progressive,q_80,w_1600/uoxxcqrg0v8udj79hduv.jpg\n",
            "http://cdn.shopify.com/s/files/1/0284/4907/9395/products/sticker_pikachu.jpg?v=1573513085\n",
            "https://supanova-wpengine.netdna-ssl.com/wp-content/uploads/2019/05/Pokemon-Detective-Pikachu-1024x533.jpg\n",
            "https://pngimg.com/uploads/pokemon/pokemon_PNG93.png\n",
            "https://s3.us-east-1.amazonaws.com/dexerto-assets-production-cbbdf288/uploads/2020/02/16230146/pokemon-community-fat-pikachu-meme.jpg\n",
            "https://wallpapers.moviemania.io/phone/movie/447404/b7c4c6/pokemon-detective-pikachu-phone-wallpaper.jpg?w=1536&h=2732\n",
            "https://cdn.myminifactory.com/assets/object-assets/5c64403a9c7ad/images/d27029fa-5bce-4731-b8b4-af6be07fe701.jpg\n",
            "https://pngimg.com/uploads/pokemon/pokemon_PNG16.png\n",
            "https://www.pokemasters.net/wp-content/uploads/2014/07/OfficialPikachuLibre_300dpi.jpg\n",
            "https://buzz.tt/media/posters/2405/backdrops_4_1500.jpg\n",
            "https://i.ytimg.com/vi/Aa5C4ivUTeE/maxresdefault.jpg\n"
          ],
          "name": "stdout"
        }
      ]
    },
    {
      "cell_type": "code",
      "metadata": {
        "id": "I6h7oQDFG0fC"
      },
      "source": [
        ""
      ],
      "execution_count": null,
      "outputs": []
    }
  ]
}