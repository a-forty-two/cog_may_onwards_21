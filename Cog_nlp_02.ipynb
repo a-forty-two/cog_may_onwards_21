{
  "nbformat": 4,
  "nbformat_minor": 0,
  "metadata": {
    "colab": {
      "name": "Cog_nlp_02.ipynb",
      "provenance": [],
      "collapsed_sections": [],
      "authorship_tag": "ABX9TyPCB9hG5JK9n61usSYjOBW5"
    },
    "kernelspec": {
      "name": "python3",
      "display_name": "Python 3"
    },
    "language_info": {
      "name": "python"
    }
  },
  "cells": [
    {
      "cell_type": "code",
      "metadata": {
        "id": "0oKIjKHYmth4"
      },
      "source": [
        "import tensorflow as tf\n",
        "import numpy as np"
      ],
      "execution_count": 1,
      "outputs": []
    },
    {
      "cell_type": "code",
      "metadata": {
        "id": "H28pE-C0n2FF"
      },
      "source": [
        "rawcorpus = \"Richie Rich is poor. Uncle Scrooje is rich. Pikachu is hungry. He and Pikachu are both blue. All uncles are green.\""
      ],
      "execution_count": 4,
      "outputs": []
    },
    {
      "cell_type": "code",
      "metadata": {
        "id": "L8FWbxLeoGAf"
      },
      "source": [
        "# Lower-> nouns\n",
        "# deduplications-> set()\n",
        "words = []\n",
        "for word in rawcorpus.lower().split():\n",
        "  if word != '.': # independent symbol\n",
        "    word = word.replace('.','')\n",
        "    words.append(word)\n"
      ],
      "execution_count": 5,
      "outputs": []
    },
    {
      "cell_type": "code",
      "metadata": {
        "colab": {
          "base_uri": "https://localhost:8080/"
        },
        "id": "d_rYghUwpCbI",
        "outputId": "c751b235-6faf-4ac3-d9fd-b1e7454d38a1"
      },
      "source": [
        "print(words)\n",
        "print(len(words))\n",
        "# Sequence\n",
        "#training data"
      ],
      "execution_count": 11,
      "outputs": [
        {
          "output_type": "stream",
          "text": [
            "['richie', 'rich', 'is', 'poor', 'uncle', 'scrooje', 'is', 'rich', 'pikachu', 'is', 'hungry', 'he', 'and', 'pikachu', 'are', 'both', 'blue', 'all', 'uncles', 'are', 'green']\n",
            "21\n"
          ],
          "name": "stdout"
        }
      ]
    },
    {
      "cell_type": "code",
      "metadata": {
        "colab": {
          "base_uri": "https://localhost:8080/"
        },
        "id": "mOP0QgDrpFR6",
        "outputId": "8a697bda-00e7-4eb8-8b07-3c9352cecf39"
      },
      "source": [
        "uniquewords = set(words)\n",
        "print(uniquewords)\n",
        "print(len(uniquewords))\n",
        "# bag of words"
      ],
      "execution_count": 9,
      "outputs": [
        {
          "output_type": "stream",
          "text": [
            "{'green', 'uncles', 'scrooje', 'rich', 'he', 'richie', 'pikachu', 'uncle', 'and', 'are', 'blue', 'hungry', 'poor', 'both', 'is', 'all'}\n",
            "16\n"
          ],
          "name": "stdout"
        }
      ]
    },
    {
      "cell_type": "code",
      "metadata": {
        "id": "c4VqMfqApaw8"
      },
      "source": [
        "# set for dictionary-> conv to numbers\n",
        "# label encoding \n",
        "word2int = {}\n",
        "int2word = {}\n",
        "vocab_size = len(uniquewords)"
      ],
      "execution_count": 12,
      "outputs": []
    },
    {
      "cell_type": "code",
      "metadata": {
        "id": "7707Ynqpp_AB"
      },
      "source": [
        "for i,word in enumerate(uniquewords):\n",
        "  word2int[word] = i\n",
        "  int2word[i] = word\n"
      ],
      "execution_count": 13,
      "outputs": []
    },
    {
      "cell_type": "code",
      "metadata": {
        "colab": {
          "base_uri": "https://localhost:8080/"
        },
        "id": "Y-Py_CuOqYIm",
        "outputId": "532a6bb1-f768-4db8-8342-65f024ed66ed"
      },
      "source": [
        "\n",
        "print(word2int)\n",
        "print(int2word)"
      ],
      "execution_count": 14,
      "outputs": [
        {
          "output_type": "stream",
          "text": [
            "{'green': 0, 'uncles': 1, 'scrooje': 2, 'rich': 3, 'he': 4, 'richie': 5, 'pikachu': 6, 'uncle': 7, 'and': 8, 'are': 9, 'blue': 10, 'hungry': 11, 'poor': 12, 'both': 13, 'is': 14, 'all': 15}\n",
            "{0: 'green', 1: 'uncles', 2: 'scrooje', 3: 'rich', 4: 'he', 5: 'richie', 6: 'pikachu', 7: 'uncle', 8: 'and', 9: 'are', 10: 'blue', 11: 'hungry', 12: 'poor', 13: 'both', 14: 'is', 15: 'all'}\n"
          ],
          "name": "stdout"
        }
      ]
    },
    {
      "cell_type": "code",
      "metadata": {
        "colab": {
          "base_uri": "https://localhost:8080/"
        },
        "id": "f0XQD6LUqZK5",
        "outputId": "73f780af-8b2a-4a27-d157-c29a74a731f9"
      },
      "source": [
        "print(word2int['both'])\n",
        "print(int2word[3])"
      ],
      "execution_count": 15,
      "outputs": [
        {
          "output_type": "stream",
          "text": [
            "13\n",
            "rich\n"
          ],
          "name": "stdout"
        }
      ]
    },
    {
      "cell_type": "code",
      "metadata": {
        "id": "C3yBxIMQqg7r"
      },
      "source": [
        "rawsentences = rawcorpus.split('.')\n",
        "sentences = []\n",
        "for sentence in rawsentences:\n",
        "  sentences.append(sentence)"
      ],
      "execution_count": 16,
      "outputs": []
    },
    {
      "cell_type": "code",
      "metadata": {
        "colab": {
          "base_uri": "https://localhost:8080/"
        },
        "id": "yNJXOgVKq_ic",
        "outputId": "39575e3e-440d-4cb0-993c-04e4f899760d"
      },
      "source": [
        "sentences # extra element in the end-> remove it"
      ],
      "execution_count": 18,
      "outputs": [
        {
          "output_type": "execute_result",
          "data": {
            "text/plain": [
              "['Richie Rich is poor',\n",
              " ' Uncle Scrooje is rich',\n",
              " ' Pikachu is hungry',\n",
              " ' He and Pikachu are both blue',\n",
              " ' All uncles are green',\n",
              " '']"
            ]
          },
          "metadata": {
            "tags": []
          },
          "execution_count": 18
        }
      ]
    },
    {
      "cell_type": "code",
      "metadata": {
        "colab": {
          "base_uri": "https://localhost:8080/"
        },
        "id": "lzNrilQnrAX3",
        "outputId": "afffd5c7-8a7e-4b32-e31d-af118ab6cf5c"
      },
      "source": [
        "sentences = sentences[:-1]\n",
        "sentences"
      ],
      "execution_count": 19,
      "outputs": [
        {
          "output_type": "execute_result",
          "data": {
            "text/plain": [
              "['Richie Rich is poor',\n",
              " ' Uncle Scrooje is rich',\n",
              " ' Pikachu is hungry',\n",
              " ' He and Pikachu are both blue',\n",
              " ' All uncles are green']"
            ]
          },
          "metadata": {
            "tags": []
          },
          "execution_count": 19
        }
      ]
    },
    {
      "cell_type": "code",
      "metadata": {
        "id": "dqoMSYYrrJKp"
      },
      "source": [
        "# word pairs"
      ],
      "execution_count": null,
      "outputs": []
    }
  ]
}