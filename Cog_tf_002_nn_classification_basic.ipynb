{
  "nbformat": 4,
  "nbformat_minor": 0,
  "metadata": {
    "colab": {
      "name": "Cog_tf_002.ipynb",
      "provenance": [],
      "authorship_tag": "ABX9TyOnFAFDExIQl7LnE0MRfLYP"
    },
    "kernelspec": {
      "name": "python3",
      "display_name": "Python 3"
    },
    "language_info": {
      "name": "python"
    }
  },
  "cells": [
    {
      "cell_type": "code",
      "metadata": {
        "id": "PGYlE1FmbJat"
      },
      "source": [
        "import tensorflow as tf\n",
        "from tensorflow import keras"
      ],
      "execution_count": 1,
      "outputs": []
    },
    {
      "cell_type": "code",
      "metadata": {
        "id": "DtUNWh9ra2fR"
      },
      "source": [
        "x = [ 2, 1, 0, -1, -2, -1, 0 ,1, 2 , 1 ,0, -1] # Analog sine wave input\n",
        "y = [ 1, 1, 0, -1 , -1 , -1  ,0, 1, 1, 1 , 0 , -1] # digital output\n",
        "layer1 = keras.layers.Dense(1, activation=tf.nn.relu)\n",
        "# ReLU=> y=x, if x >0, y=0, if x <=0\n",
        "\n",
        "model = keras.models.Sequential([layer1])\n",
        "model.compile(loss= keras.losses.mae, optimizer='adam', metrics=[keras.metrics.mean_squared_error])"
      ],
      "execution_count": 2,
      "outputs": []
    },
    {
      "cell_type": "code",
      "metadata": {
        "colab": {
          "base_uri": "https://localhost:8080/"
        },
        "id": "HJ-E3yH4bGpB",
        "outputId": "e9c07a96-36b6-4a1b-fc60-3c4453a06ae6"
      },
      "source": [
        "model.fit(x,y,epochs=100, verbose=0)\n",
        "predictions = model.predict(x)\n",
        "print(predictions)"
      ],
      "execution_count": 3,
      "outputs": [
        {
          "output_type": "stream",
          "text": [
            "[[2.7832463]\n",
            " [1.3416232]\n",
            " [0.       ]\n",
            " [0.       ]\n",
            " [0.       ]\n",
            " [0.       ]\n",
            " [0.       ]\n",
            " [1.3416232]\n",
            " [2.7832463]\n",
            " [1.3416232]\n",
            " [0.       ]\n",
            " [0.       ]]\n"
          ],
          "name": "stdout"
        }
      ]
    },
    {
      "cell_type": "code",
      "metadata": {
        "colab": {
          "base_uri": "https://localhost:8080/"
        },
        "id": "oqsQQRSqdgEG",
        "outputId": "4eea9e1d-cd8e-4208-b5d8-2767b1235b18"
      },
      "source": [
        "model.get_weights()\n",
        "# trainable_params = input_size * output_size + output_size\n",
        "# 1 X 1 + 1= 2\n",
        "# regression neural network"
      ],
      "execution_count": 4,
      "outputs": [
        {
          "output_type": "execute_result",
          "data": {
            "text/plain": [
              "[array([[1.4416231]], dtype=float32), array([-0.09999993], dtype=float32)]"
            ]
          },
          "metadata": {
            "tags": []
          },
          "execution_count": 4
        }
      ]
    },
    {
      "cell_type": "code",
      "metadata": {
        "id": "Nse4HLrud2_a"
      },
      "source": [
        "x = [ 2, 1, 0, -1, -2, -1, 0 ,1, 2 , 1 ,0, -1] # Analog sine wave input\n",
        "y = [ 1, 1, 0, -1 , -1 , -1  ,0, 1, 1, 1 , 0 , -1] # digital output\n",
        "layer1 = keras.layers.Dense(2)\n",
        "# ReLU=> y=x, if x >0, y=0, if x <=0\n",
        "# 0 and 1 -> should be 0th position < 1st position, or vice versa \n",
        "model = keras.models.Sequential([layer1])\n",
        "model.compile(loss= keras.losses.mae, optimizer='adam', metrics=[keras.metrics.mean_squared_error])"
      ],
      "execution_count": 18,
      "outputs": []
    },
    {
      "cell_type": "code",
      "metadata": {
        "colab": {
          "base_uri": "https://localhost:8080/"
        },
        "id": "_ICJfCOheZL7",
        "outputId": "ea2c7cb7-a750-4683-d3b7-a9713675081a"
      },
      "source": [
        "model.fit(x,y,epochs=100, verbose=0)\n",
        "predictions = model.predict(x)\n",
        "#print(predictions)\n",
        "# First output-> for positives, 1st position-> negative\n",
        "for prediction in predictions:\n",
        "  if prediction[0] > prediction[1]:\n",
        "    print('positive')\n",
        "  if prediction[0] < prediction[1]:\n",
        "    print('negative')\n",
        "  if prediction[0] == prediction[1]:\n",
        "    print('zero')"
      ],
      "execution_count": 19,
      "outputs": [
        {
          "output_type": "stream",
          "text": [
            "WARNING:tensorflow:5 out of the last 9 calls to <function Model.make_predict_function.<locals>.predict_function at 0x7f27f84bb200> triggered tf.function retracing. Tracing is expensive and the excessive number of tracings could be due to (1) creating @tf.function repeatedly in a loop, (2) passing tensors with different shapes, (3) passing Python objects instead of tensors. For (1), please define your @tf.function outside of the loop. For (2), @tf.function has experimental_relax_shapes=True option that relaxes argument shapes that can avoid unnecessary retracing. For (3), please refer to https://www.tensorflow.org/guide/function#controlling_retracing and https://www.tensorflow.org/api_docs/python/tf/function for  more details.\n",
            "positive\n",
            "positive\n",
            "zero\n",
            "negative\n",
            "negative\n",
            "negative\n",
            "zero\n",
            "positive\n",
            "positive\n",
            "positive\n",
            "zero\n",
            "negative\n"
          ],
          "name": "stdout"
        }
      ]
    },
    {
      "cell_type": "code",
      "metadata": {
        "colab": {
          "base_uri": "https://localhost:8080/"
        },
        "id": "UQds9LRXerou",
        "outputId": "817b3859-434e-43a7-ab8b-1e22fd4afd4d"
      },
      "source": [
        "predictions[2]"
      ],
      "execution_count": 20,
      "outputs": [
        {
          "output_type": "execute_result",
          "data": {
            "text/plain": [
              "array([-9.650776e-05, -9.650776e-05], dtype=float32)"
            ]
          },
          "metadata": {
            "tags": []
          },
          "execution_count": 20
        }
      ]
    },
    {
      "cell_type": "code",
      "metadata": {
        "colab": {
          "base_uri": "https://localhost:8080/"
        },
        "id": "_OxYXy0wfweg",
        "outputId": "530d8473-2404-4ce8-a207-dd196f54dadb"
      },
      "source": [
        "predictions"
      ],
      "execution_count": 21,
      "outputs": [
        {
          "output_type": "execute_result",
          "data": {
            "text/plain": [
              "array([[-2.0035083e+00, -2.5379686e+00],\n",
              "       [-1.0018024e+00, -1.2690326e+00],\n",
              "       [-9.6507763e-05, -9.6507763e-05],\n",
              "       [ 1.0016093e+00,  1.2688395e+00],\n",
              "       [ 2.0033152e+00,  2.5377755e+00],\n",
              "       [ 1.0016093e+00,  1.2688395e+00],\n",
              "       [-9.6507763e-05, -9.6507763e-05],\n",
              "       [-1.0018024e+00, -1.2690326e+00],\n",
              "       [-2.0035083e+00, -2.5379686e+00],\n",
              "       [-1.0018024e+00, -1.2690326e+00],\n",
              "       [-9.6507763e-05, -9.6507763e-05],\n",
              "       [ 1.0016093e+00,  1.2688395e+00]], dtype=float32)"
            ]
          },
          "metadata": {
            "tags": []
          },
          "execution_count": 21
        }
      ]
    },
    {
      "cell_type": "code",
      "metadata": {
        "id": "D8jv4hPOgAKw"
      },
      "source": [
        "# users provide 2 entities:\n",
        "# input set -> parameters\n",
        "# output set [if missing-> unsupervised learning!]\n",
        "# anything modified by developers-> hyperparameter\n",
        "# no. of output dimensions-> i was manipulating!\n",
        "# loss functions, optimizer functions-> i was adjusting \n",
        "# EPOCHS-> how many iterations?"
      ],
      "execution_count": null,
      "outputs": []
    }
  ]
}