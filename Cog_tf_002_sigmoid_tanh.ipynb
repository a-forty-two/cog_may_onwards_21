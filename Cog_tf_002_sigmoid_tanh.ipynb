{
  "nbformat": 4,
  "nbformat_minor": 0,
  "metadata": {
    "colab": {
      "name": "Cog_tf_002.ipynb",
      "provenance": [],
      "authorship_tag": "ABX9TyO1jDEjqynguGalrmXX0HYl"
    },
    "kernelspec": {
      "name": "python3",
      "display_name": "Python 3"
    },
    "language_info": {
      "name": "python"
    }
  },
  "cells": [
    {
      "cell_type": "code",
      "metadata": {
        "id": "PGYlE1FmbJat"
      },
      "source": [
        "import tensorflow as tf\n",
        "from tensorflow import keras"
      ],
      "execution_count": 1,
      "outputs": []
    },
    {
      "cell_type": "code",
      "metadata": {
        "id": "DtUNWh9ra2fR"
      },
      "source": [
        "x = [ 2, 1, 0, -1, -2, -1, 0 ,1, 2 , 1 ,0, -1] # Analog sine wave input\n",
        "y = [ 1, 1, 0, -1 , -1 , -1  ,0, 1, 1, 1 , 0 , -1] # digital output\n",
        "layer1 = keras.layers.Dense(1, activation=tf.nn.relu)\n",
        "# ReLU=> y=x, if x >0, y=0, if x <=0\n",
        "\n",
        "model = keras.models.Sequential([layer1])\n",
        "model.compile(loss= keras.losses.mae, optimizer='adam', metrics=[keras.metrics.mean_squared_error])"
      ],
      "execution_count": 2,
      "outputs": []
    },
    {
      "cell_type": "code",
      "metadata": {
        "colab": {
          "base_uri": "https://localhost:8080/"
        },
        "id": "HJ-E3yH4bGpB",
        "outputId": "e9c07a96-36b6-4a1b-fc60-3c4453a06ae6"
      },
      "source": [
        "model.fit(x,y,epochs=100, verbose=0)\n",
        "predictions = model.predict(x)\n",
        "print(predictions)"
      ],
      "execution_count": 3,
      "outputs": [
        {
          "output_type": "stream",
          "text": [
            "[[2.7832463]\n",
            " [1.3416232]\n",
            " [0.       ]\n",
            " [0.       ]\n",
            " [0.       ]\n",
            " [0.       ]\n",
            " [0.       ]\n",
            " [1.3416232]\n",
            " [2.7832463]\n",
            " [1.3416232]\n",
            " [0.       ]\n",
            " [0.       ]]\n"
          ],
          "name": "stdout"
        }
      ]
    },
    {
      "cell_type": "code",
      "metadata": {
        "colab": {
          "base_uri": "https://localhost:8080/"
        },
        "id": "oqsQQRSqdgEG",
        "outputId": "4eea9e1d-cd8e-4208-b5d8-2767b1235b18"
      },
      "source": [
        "model.get_weights()\n",
        "# trainable_params = input_size * output_size + output_size\n",
        "# 1 X 1 + 1= 2\n",
        "# regression neural network"
      ],
      "execution_count": 4,
      "outputs": [
        {
          "output_type": "execute_result",
          "data": {
            "text/plain": [
              "[array([[1.4416231]], dtype=float32), array([-0.09999993], dtype=float32)]"
            ]
          },
          "metadata": {
            "tags": []
          },
          "execution_count": 4
        }
      ]
    },
    {
      "cell_type": "code",
      "metadata": {
        "id": "Nse4HLrud2_a"
      },
      "source": [
        "x = [ 2, 1, 0, -1, -2, -1, 0 ,1, 2 , 1 ,0, -1] # Analog sine wave input\n",
        "y = [ 1, 1, 0, -1 , -1 , -1  ,0, 1, 1, 1 , 0 , -1] # digital output\n",
        "layer1 = keras.layers.Dense(2)\n",
        "# ReLU=> y=x, if x >0, y=0, if x <=0\n",
        "# 0 and 1 -> should be 0th position < 1st position, or vice versa \n",
        "model = keras.models.Sequential([layer1])\n",
        "model.compile(loss= keras.losses.mae, optimizer='adam', metrics=[keras.metrics.mean_squared_error])"
      ],
      "execution_count": 18,
      "outputs": []
    },
    {
      "cell_type": "code",
      "metadata": {
        "colab": {
          "base_uri": "https://localhost:8080/"
        },
        "id": "_ICJfCOheZL7",
        "outputId": "ea2c7cb7-a750-4683-d3b7-a9713675081a"
      },
      "source": [
        "model.fit(x,y,epochs=100, verbose=0)\n",
        "predictions = model.predict(x)\n",
        "#print(predictions)\n",
        "# First output-> for positives, 1st position-> negative\n",
        "for prediction in predictions:\n",
        "  if prediction[0] > prediction[1]:\n",
        "    print('positive')\n",
        "  if prediction[0] < prediction[1]:\n",
        "    print('negative')\n",
        "  if prediction[0] == prediction[1]:\n",
        "    print('zero')"
      ],
      "execution_count": 19,
      "outputs": [
        {
          "output_type": "stream",
          "text": [
            "WARNING:tensorflow:5 out of the last 9 calls to <function Model.make_predict_function.<locals>.predict_function at 0x7f27f84bb200> triggered tf.function retracing. Tracing is expensive and the excessive number of tracings could be due to (1) creating @tf.function repeatedly in a loop, (2) passing tensors with different shapes, (3) passing Python objects instead of tensors. For (1), please define your @tf.function outside of the loop. For (2), @tf.function has experimental_relax_shapes=True option that relaxes argument shapes that can avoid unnecessary retracing. For (3), please refer to https://www.tensorflow.org/guide/function#controlling_retracing and https://www.tensorflow.org/api_docs/python/tf/function for  more details.\n",
            "positive\n",
            "positive\n",
            "zero\n",
            "negative\n",
            "negative\n",
            "negative\n",
            "zero\n",
            "positive\n",
            "positive\n",
            "positive\n",
            "zero\n",
            "negative\n"
          ],
          "name": "stdout"
        }
      ]
    },
    {
      "cell_type": "code",
      "metadata": {
        "colab": {
          "base_uri": "https://localhost:8080/"
        },
        "id": "UQds9LRXerou",
        "outputId": "817b3859-434e-43a7-ab8b-1e22fd4afd4d"
      },
      "source": [
        "predictions[2]"
      ],
      "execution_count": 20,
      "outputs": [
        {
          "output_type": "execute_result",
          "data": {
            "text/plain": [
              "array([-9.650776e-05, -9.650776e-05], dtype=float32)"
            ]
          },
          "metadata": {
            "tags": []
          },
          "execution_count": 20
        }
      ]
    },
    {
      "cell_type": "code",
      "metadata": {
        "colab": {
          "base_uri": "https://localhost:8080/"
        },
        "id": "_OxYXy0wfweg",
        "outputId": "530d8473-2404-4ce8-a207-dd196f54dadb"
      },
      "source": [
        "predictions"
      ],
      "execution_count": 21,
      "outputs": [
        {
          "output_type": "execute_result",
          "data": {
            "text/plain": [
              "array([[-2.0035083e+00, -2.5379686e+00],\n",
              "       [-1.0018024e+00, -1.2690326e+00],\n",
              "       [-9.6507763e-05, -9.6507763e-05],\n",
              "       [ 1.0016093e+00,  1.2688395e+00],\n",
              "       [ 2.0033152e+00,  2.5377755e+00],\n",
              "       [ 1.0016093e+00,  1.2688395e+00],\n",
              "       [-9.6507763e-05, -9.6507763e-05],\n",
              "       [-1.0018024e+00, -1.2690326e+00],\n",
              "       [-2.0035083e+00, -2.5379686e+00],\n",
              "       [-1.0018024e+00, -1.2690326e+00],\n",
              "       [-9.6507763e-05, -9.6507763e-05],\n",
              "       [ 1.0016093e+00,  1.2688395e+00]], dtype=float32)"
            ]
          },
          "metadata": {
            "tags": []
          },
          "execution_count": 21
        }
      ]
    },
    {
      "cell_type": "code",
      "metadata": {
        "id": "D8jv4hPOgAKw"
      },
      "source": [
        "# users provide 2 entities:\n",
        "# input set -> parameters\n",
        "# output set [if missing-> unsupervised learning!]\n",
        "# anything modified by developers-> hyperparameter\n",
        "# no. of output dimensions-> i was manipulating!\n",
        "# loss functions, optimizer functions-> i was adjusting \n",
        "# EPOCHS-> how many iterations?"
      ],
      "execution_count": 22,
      "outputs": []
    },
    {
      "cell_type": "code",
      "metadata": {
        "id": "GZSax-41hd0B"
      },
      "source": [
        "xtest = [ -3, -4, -3, -2, -1, 0]"
      ],
      "execution_count": 23,
      "outputs": []
    },
    {
      "cell_type": "code",
      "metadata": {
        "id": "Z15ldzAlhng-"
      },
      "source": [
        "newpredictions = model.predict(xtest)"
      ],
      "execution_count": 24,
      "outputs": []
    },
    {
      "cell_type": "code",
      "metadata": {
        "colab": {
          "base_uri": "https://localhost:8080/"
        },
        "id": "4Wvf2PX9htVN",
        "outputId": "07191709-9ec1-4a89-f3fc-ec23df16900c"
      },
      "source": [
        "for prediction in  newpredictions:\n",
        "  if prediction[0] > prediction[1]:\n",
        "    print('positive')\n",
        "  if prediction[0] < prediction[1]:\n",
        "    print('negative')\n",
        "  if prediction[0] == prediction[1]:\n",
        "    print('zero')"
      ],
      "execution_count": 25,
      "outputs": [
        {
          "output_type": "stream",
          "text": [
            "negative\n",
            "negative\n",
            "negative\n",
            "negative\n",
            "negative\n",
            "zero\n"
          ],
          "name": "stdout"
        }
      ]
    },
    {
      "cell_type": "code",
      "metadata": {
        "id": "px9mOXhQh0Zw"
      },
      "source": [
        "# if binary classification:\n",
        "# Dense (1)\n",
        "\n",
        "# for prediction in predictions:\n",
        "#   if prediction < 0.5:\n",
        "#         print('pos')\n",
        "#   else:\n",
        "#         print ('neg')"
      ],
      "execution_count": null,
      "outputs": []
    },
    {
      "cell_type": "code",
      "metadata": {
        "id": "rgnuoKNakACo"
      },
      "source": [
        "x = [ 2, 1, 0, -1, -2, -1, 0 ,1, 2 , 1 ,0, -1] # Analog sine wave input\n",
        "y = [ 1, 1, 0, -1 , -1 , -1  ,0, 1, 1, 1 , 0 , -1] # digital output\n",
        "layer1 = keras.layers.Dense(1, activation = tf.nn.tanh)\n",
        "# tanh=> from -1 to +1 \n",
        "model = keras.models.Sequential([layer1])\n",
        "model.compile(loss= keras.losses.categorical_crossentropy, optimizer='adam')"
      ],
      "execution_count": 36,
      "outputs": []
    },
    {
      "cell_type": "code",
      "metadata": {
        "id": "iQUAWsFwkR7t"
      },
      "source": [
        ""
      ],
      "execution_count": 32,
      "outputs": []
    },
    {
      "cell_type": "code",
      "metadata": {
        "colab": {
          "base_uri": "https://localhost:8080/"
        },
        "id": "KivfAVUBkc_o",
        "outputId": "e50d3caa-6ac7-412d-be68-89117be5c092"
      },
      "source": [
        "predictions = model.predict(x)\n",
        "predictions"
      ],
      "execution_count": 37,
      "outputs": [
        {
          "output_type": "execute_result",
          "data": {
            "text/plain": [
              "array([[ 0.9780645],\n",
              "       [ 0.8094534],\n",
              "       [ 0.       ],\n",
              "       [-0.8094534],\n",
              "       [-0.9780645],\n",
              "       [-0.8094534],\n",
              "       [ 0.       ],\n",
              "       [ 0.8094534],\n",
              "       [ 0.9780645],\n",
              "       [ 0.8094534],\n",
              "       [ 0.       ],\n",
              "       [-0.8094534]], dtype=float32)"
            ]
          },
          "metadata": {
            "tags": []
          },
          "execution_count": 37
        }
      ]
    },
    {
      "cell_type": "code",
      "metadata": {
        "colab": {
          "base_uri": "https://localhost:8080/"
        },
        "id": "TqnATOKkpEql",
        "outputId": "62673cb4-1580-489f-b3ba-e853b297f565"
      },
      "source": [
        "for prediction in predictions:\n",
        "  if prediction > 0:\n",
        "    print ('pos')\n",
        "  if prediction < 0:\n",
        "    print ('neg')\n",
        "  if prediction == 0:\n",
        "    print ('zero')"
      ],
      "execution_count": 40,
      "outputs": [
        {
          "output_type": "stream",
          "text": [
            "pos\n",
            "pos\n",
            "zero\n",
            "neg\n",
            "neg\n",
            "neg\n",
            "zero\n",
            "pos\n",
            "pos\n",
            "pos\n",
            "zero\n",
            "neg\n"
          ],
          "name": "stdout"
        }
      ]
    },
    {
      "cell_type": "code",
      "metadata": {
        "id": "_XLGAAFupBQK"
      },
      "source": [
        ""
      ],
      "execution_count": null,
      "outputs": []
    },
    {
      "cell_type": "code",
      "metadata": {
        "id": "mPhCWf5dldXq"
      },
      "source": [
        "# ReLU-> y =  x if x>0, y=0 if x<=0 \n",
        "# SoftMax-> probab distribution => sum(all_elements) = 1\n",
        "# TanH-> -1 to 1\n",
        "# tan => pi/2-> inf and -pi/2-> inf\n",
        "# tanh-> tan -> 90 deg rotation \n",
        "# tanh -> pi/2 and -pi/2 -> 1 and -1 respectively\n",
        "#        x axis takes infinity!"
      ],
      "execution_count": 29,
      "outputs": []
    },
    {
      "cell_type": "code",
      "metadata": {
        "id": "byJ9AI6InLrD"
      },
      "source": [
        "# tanh scaled b/w 0 to 1\n",
        "# Probability-> Sigmoid\n",
        "x = [ 2, 1, 0, -1, -2, -1, 0 ,1, 2 , 1 ,0, -1] # Analog sine wave input\n",
        "y = [ 1, 1, 0, -1 , -1 , -1  ,0, 1, 1, 1 , 0 , -1] # digital output\n",
        "layer1 = keras.layers.Dense(1, activation = tf.nn.sigmoid)\n",
        "# tanh=> from -1 to +1 \n",
        "model = keras.models.Sequential([layer1])\n",
        "model.compile(loss= keras.losses.categorical_crossentropy, optimizer='adam')"
      ],
      "execution_count": 41,
      "outputs": []
    },
    {
      "cell_type": "code",
      "metadata": {
        "colab": {
          "base_uri": "https://localhost:8080/"
        },
        "id": "_GfEtHzIo1-q",
        "outputId": "a35424aa-f009-4dec-94ff-bb4bc8a0a37f"
      },
      "source": [
        "predictions = model.predict(x)\n",
        "predictions"
      ],
      "execution_count": 42,
      "outputs": [
        {
          "output_type": "execute_result",
          "data": {
            "text/plain": [
              "array([[0.27167416],\n",
              "       [0.37917003],\n",
              "       [0.5       ],\n",
              "       [0.62083   ],\n",
              "       [0.72832584],\n",
              "       [0.62083   ],\n",
              "       [0.5       ],\n",
              "       [0.37917003],\n",
              "       [0.27167416],\n",
              "       [0.37917003],\n",
              "       [0.5       ],\n",
              "       [0.62083   ]], dtype=float32)"
            ]
          },
          "metadata": {
            "tags": []
          },
          "execution_count": 42
        }
      ]
    },
    {
      "cell_type": "code",
      "metadata": {
        "colab": {
          "base_uri": "https://localhost:8080/"
        },
        "id": "lT-gO79po7l6",
        "outputId": "f69a85af-b336-4094-80bc-24ec46948280"
      },
      "source": [
        "for prediction in predictions:\n",
        "  if prediction < 0.5:\n",
        "    print ('pos')\n",
        "  if prediction > 0.5:\n",
        "    print ('neg')\n",
        "  if prediction == 0.5:\n",
        "    print ('zero')"
      ],
      "execution_count": 44,
      "outputs": [
        {
          "output_type": "stream",
          "text": [
            "pos\n",
            "pos\n",
            "zero\n",
            "neg\n",
            "neg\n",
            "neg\n",
            "zero\n",
            "pos\n",
            "pos\n",
            "pos\n",
            "zero\n",
            "neg\n"
          ],
          "name": "stdout"
        }
      ]
    },
    {
      "cell_type": "code",
      "metadata": {
        "id": "iUEc0JdbpzSK"
      },
      "source": [
        "# normalization\n",
        "# my general guideline!\n",
        "# probability (distribution/multi-classification)-> softmax \n",
        "# profit/loss/comparisons-> tanh\n",
        "# regressions/color/no-neg nos. allowed-> ReLU\n",
        "# binary classification -> sigmoid "
      ],
      "execution_count": null,
      "outputs": []
    },
    {
      "cell_type": "markdown",
      "metadata": {
        "id": "m8D-NrYaq8FO"
      },
      "source": [
        "check your model with and w/o relu, whatever works best for you!\n"
      ]
    }
  ]
}