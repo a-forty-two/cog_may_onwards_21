{
  "nbformat": 4,
  "nbformat_minor": 0,
  "metadata": {
    "colab": {
      "name": "Cog_tf_005_pooling.ipynb",
      "provenance": [],
      "authorship_tag": "ABX9TyPKgXxrT14+tPkCY+EB3Nfc"
    },
    "kernelspec": {
      "name": "python3",
      "display_name": "Python 3"
    },
    "language_info": {
      "name": "python"
    }
  },
  "cells": [
    {
      "cell_type": "code",
      "metadata": {
        "colab": {
          "base_uri": "https://localhost:8080/"
        },
        "id": "AOSZJcGNEYER",
        "outputId": "a251e0f3-cfbc-437c-a528-7dcc79f81035"
      },
      "source": [
        "\n",
        "%tensorflow_version 1.x\n",
        "import tensorflow as tf\n",
        "print(tf.__version__)\n"
      ],
      "execution_count": 1,
      "outputs": [
        {
          "output_type": "stream",
          "text": [
            "TensorFlow 1.x selected.\n",
            "1.15.2\n"
          ],
          "name": "stdout"
        }
      ]
    },
    {
      "cell_type": "code",
      "metadata": {
        "colab": {
          "base_uri": "https://localhost:8080/"
        },
        "id": "xWVww0-cEmyf",
        "outputId": "023ad73a-7a98-4d2b-e34d-f30ffa0174a6"
      },
      "source": [
        "temp = [0.,0.,1.,0.,0.,0.,2.,1.,0.,1.]\n",
        "values = tf.reshape(temp, [1,1,2,5]) # 1 list-> 1 list -> 2 list -> 5 elements each \n",
        "values"
      ],
      "execution_count": 2,
      "outputs": [
        {
          "output_type": "execute_result",
          "data": {
            "text/plain": [
              "<tf.Tensor 'Reshape:0' shape=(1, 1, 2, 5) dtype=float32>"
            ]
          },
          "metadata": {
            "tags": []
          },
          "execution_count": 2
        }
      ]
    },
    {
      "cell_type": "code",
      "metadata": {
        "id": "d-Hd2X9hFXlA"
      },
      "source": [
        "# Directed Acyclic Graph -> Spark, MongoDB,...\n"
      ],
      "execution_count": 5,
      "outputs": []
    },
    {
      "cell_type": "code",
      "metadata": {
        "id": "vqIywea6Fk8z"
      },
      "source": [
        "# Behind a tf session-> starts -> executes() -> stops()"
      ],
      "execution_count": 6,
      "outputs": []
    },
    {
      "cell_type": "code",
      "metadata": {
        "id": "dZXuIfe2GFKu"
      },
      "source": [
        "avgpool = tf.nn.pool(input=values, window_shape=(2,2), pooling_type='AVG', padding='SAME')\n",
        "maxpool = tf.nn.pool(input=values, window_shape=(2,2), pooling_type='MAX', padding='SAME')"
      ],
      "execution_count": 11,
      "outputs": []
    },
    {
      "cell_type": "code",
      "metadata": {
        "colab": {
          "base_uri": "https://localhost:8080/"
        },
        "id": "ClTC8KyhHMmP",
        "outputId": "b6f321ca-2f72-41b1-efab-4b3b6cd13e7c"
      },
      "source": [
        "session = tf.Session()\n",
        "print('Original Data')\n",
        "print(session.run(values))\n",
        "print('AvgPool')\n",
        "print(session.run(avgpool))\n",
        "print('MaxPool')\n",
        "print(session.run(maxpool))\n",
        "session.close()"
      ],
      "execution_count": 12,
      "outputs": [
        {
          "output_type": "stream",
          "text": [
            "Original Data\n",
            "[[[[0. 0. 1. 0. 0.]\n",
            "   [0. 2. 1. 0. 1.]]]]\n",
            "AvgPool\n",
            "[[[[0.  1.  1.  0.  0.5]\n",
            "   [0.  2.  1.  0.  1. ]]]]\n",
            "MaxPool\n",
            "[[[[0. 2. 1. 0. 1.]\n",
            "   [0. 2. 1. 0. 1.]]]]\n"
          ],
          "name": "stdout"
        }
      ]
    },
    {
      "cell_type": "code",
      "metadata": {
        "id": "y85PbrsYHbPk"
      },
      "source": [
        "# Image Compression-> most impactful pixels-> max_pool\n",
        "# Blur Image-> average pooling\n",
        "# NLP vectors-> average pooling\n",
        "# sentiment analysis-> average pooling\n",
        "# strongest sentiment per sentence-> max pooling\n"
      ],
      "execution_count": null,
      "outputs": []
    }
  ]
}