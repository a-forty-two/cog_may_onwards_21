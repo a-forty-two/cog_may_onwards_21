{
  "nbformat": 4,
  "nbformat_minor": 0,
  "metadata": {
    "colab": {
      "name": "Cog_tf_001.ipynb",
      "provenance": []
    },
    "kernelspec": {
      "name": "python3",
      "display_name": "Python 3"
    },
    "language_info": {
      "name": "python"
    }
  },
  "cells": [
    {
      "cell_type": "code",
      "metadata": {
        "id": "1sX841fyTZhm"
      },
      "source": [
        "# Agenda-> Neural Networks\n",
        "# Tensorflow\n",
        "# TF 2.x \n",
        "\n",
        "# Computer Vision\n",
        "# Natural LP\n",
        "# SIGNAL "
      ],
      "execution_count": 1,
      "outputs": []
    },
    {
      "cell_type": "code",
      "metadata": {
        "id": "NkBN2N21Tt87"
      },
      "source": [
        "import tensorflow as tf"
      ],
      "execution_count": 2,
      "outputs": []
    },
    {
      "cell_type": "code",
      "metadata": {
        "colab": {
          "base_uri": "https://localhost:8080/",
          "height": 35
        },
        "id": "t_GJKZtgclMy",
        "outputId": "97751e6b-5751-44dd-867b-bacb4d54a41a"
      },
      "source": [
        "tf.__version__"
      ],
      "execution_count": 3,
      "outputs": [
        {
          "output_type": "execute_result",
          "data": {
            "application/vnd.google.colaboratory.intrinsic+json": {
              "type": "string"
            },
            "text/plain": [
              "'2.5.0'"
            ]
          },
          "metadata": {
            "tags": []
          },
          "execution_count": 3
        }
      ]
    },
    {
      "cell_type": "code",
      "metadata": {
        "id": "15ZTi1aScnFP"
      },
      "source": [
        "import numpy as np\n",
        "x = np.array([1,2,3,4,5,6,7,8, 9 ,10])\n",
        "y = np.array([0,1,0,1,0,1,0,1,0,1])"
      ],
      "execution_count": 15,
      "outputs": []
    },
    {
      "cell_type": "code",
      "metadata": {
        "id": "LDHUBp_7c6e1"
      },
      "source": [
        "from tensorflow import keras\n"
      ],
      "execution_count": 16,
      "outputs": []
    },
    {
      "cell_type": "code",
      "metadata": {
        "id": "Y9YKlAopdI_F"
      },
      "source": [
        "layer1 = keras.layers.Dense(1)"
      ],
      "execution_count": 17,
      "outputs": []
    },
    {
      "cell_type": "code",
      "metadata": {
        "id": "m00dGM9kdbGe"
      },
      "source": [
        "model = keras.models.Sequential([layer1])"
      ],
      "execution_count": 21,
      "outputs": []
    },
    {
      "cell_type": "code",
      "metadata": {
        "id": "2lyKHz_edmXe"
      },
      "source": [
        "model.compile(loss= keras.losses.mean_squared_error, optimizer='adam', metrics=[keras.metrics.mean_squared_error])"
      ],
      "execution_count": 29,
      "outputs": []
    },
    {
      "cell_type": "code",
      "metadata": {
        "colab": {
          "base_uri": "https://localhost:8080/"
        },
        "id": "JV4YAVQ_dzkp",
        "outputId": "181d268b-1a92-4145-cf3d-9698a43a37de"
      },
      "source": [
        "history = model.fit(x, y, epochs=50)"
      ],
      "execution_count": 30,
      "outputs": [
        {
          "output_type": "stream",
          "text": [
            "Epoch 1/50\n",
            "1/1 [==============================] - 0s 469ms/step - loss: 98.2729 - mean_squared_error: 98.2729\n",
            "Epoch 2/50\n",
            "1/1 [==============================] - 0s 5ms/step - loss: 98.1324 - mean_squared_error: 98.1324\n",
            "Epoch 3/50\n",
            "1/1 [==============================] - 0s 6ms/step - loss: 97.9920 - mean_squared_error: 97.9920\n",
            "Epoch 4/50\n",
            "1/1 [==============================] - 0s 5ms/step - loss: 97.8517 - mean_squared_error: 97.8517\n",
            "Epoch 5/50\n",
            "1/1 [==============================] - 0s 4ms/step - loss: 97.7115 - mean_squared_error: 97.7115\n",
            "Epoch 6/50\n",
            "1/1 [==============================] - 0s 5ms/step - loss: 97.5715 - mean_squared_error: 97.5715\n",
            "Epoch 7/50\n",
            "1/1 [==============================] - 0s 6ms/step - loss: 97.4315 - mean_squared_error: 97.4315\n",
            "Epoch 8/50\n",
            "1/1 [==============================] - 0s 3ms/step - loss: 97.2917 - mean_squared_error: 97.2917\n",
            "Epoch 9/50\n",
            "1/1 [==============================] - 0s 5ms/step - loss: 97.1519 - mean_squared_error: 97.1519\n",
            "Epoch 10/50\n",
            "1/1 [==============================] - 0s 5ms/step - loss: 97.0123 - mean_squared_error: 97.0123\n",
            "Epoch 11/50\n",
            "1/1 [==============================] - 0s 4ms/step - loss: 96.8728 - mean_squared_error: 96.8728\n",
            "Epoch 12/50\n",
            "1/1 [==============================] - 0s 3ms/step - loss: 96.7335 - mean_squared_error: 96.7335\n",
            "Epoch 13/50\n",
            "1/1 [==============================] - 0s 5ms/step - loss: 96.5942 - mean_squared_error: 96.5942\n",
            "Epoch 14/50\n",
            "1/1 [==============================] - 0s 4ms/step - loss: 96.4550 - mean_squared_error: 96.4550\n",
            "Epoch 15/50\n",
            "1/1 [==============================] - 0s 7ms/step - loss: 96.3160 - mean_squared_error: 96.3160\n",
            "Epoch 16/50\n",
            "1/1 [==============================] - 0s 8ms/step - loss: 96.1771 - mean_squared_error: 96.1771\n",
            "Epoch 17/50\n",
            "1/1 [==============================] - 0s 9ms/step - loss: 96.0384 - mean_squared_error: 96.0384\n",
            "Epoch 18/50\n",
            "1/1 [==============================] - 0s 4ms/step - loss: 95.8997 - mean_squared_error: 95.8997\n",
            "Epoch 19/50\n",
            "1/1 [==============================] - 0s 4ms/step - loss: 95.7612 - mean_squared_error: 95.7612\n",
            "Epoch 20/50\n",
            "1/1 [==============================] - 0s 7ms/step - loss: 95.6228 - mean_squared_error: 95.6228\n",
            "Epoch 21/50\n",
            "1/1 [==============================] - 0s 6ms/step - loss: 95.4846 - mean_squared_error: 95.4846\n",
            "Epoch 22/50\n",
            "1/1 [==============================] - 0s 8ms/step - loss: 95.3464 - mean_squared_error: 95.3464\n",
            "Epoch 23/50\n",
            "1/1 [==============================] - 0s 4ms/step - loss: 95.2085 - mean_squared_error: 95.2085\n",
            "Epoch 24/50\n",
            "1/1 [==============================] - 0s 9ms/step - loss: 95.0706 - mean_squared_error: 95.0706\n",
            "Epoch 25/50\n",
            "1/1 [==============================] - 0s 8ms/step - loss: 94.9329 - mean_squared_error: 94.9329\n",
            "Epoch 26/50\n",
            "1/1 [==============================] - 0s 6ms/step - loss: 94.7953 - mean_squared_error: 94.7953\n",
            "Epoch 27/50\n",
            "1/1 [==============================] - 0s 5ms/step - loss: 94.6578 - mean_squared_error: 94.6578\n",
            "Epoch 28/50\n",
            "1/1 [==============================] - 0s 4ms/step - loss: 94.5205 - mean_squared_error: 94.5205\n",
            "Epoch 29/50\n",
            "1/1 [==============================] - 0s 6ms/step - loss: 94.3834 - mean_squared_error: 94.3834\n",
            "Epoch 30/50\n",
            "1/1 [==============================] - 0s 6ms/step - loss: 94.2463 - mean_squared_error: 94.2463\n",
            "Epoch 31/50\n",
            "1/1 [==============================] - 0s 4ms/step - loss: 94.1094 - mean_squared_error: 94.1094\n",
            "Epoch 32/50\n",
            "1/1 [==============================] - 0s 7ms/step - loss: 93.9726 - mean_squared_error: 93.9726\n",
            "Epoch 33/50\n",
            "1/1 [==============================] - 0s 6ms/step - loss: 93.8360 - mean_squared_error: 93.8360\n",
            "Epoch 34/50\n",
            "1/1 [==============================] - 0s 6ms/step - loss: 93.6996 - mean_squared_error: 93.6996\n",
            "Epoch 35/50\n",
            "1/1 [==============================] - 0s 4ms/step - loss: 93.5632 - mean_squared_error: 93.5632\n",
            "Epoch 36/50\n",
            "1/1 [==============================] - 0s 7ms/step - loss: 93.4270 - mean_squared_error: 93.4270\n",
            "Epoch 37/50\n",
            "1/1 [==============================] - 0s 5ms/step - loss: 93.2910 - mean_squared_error: 93.2910\n",
            "Epoch 38/50\n",
            "1/1 [==============================] - 0s 6ms/step - loss: 93.1551 - mean_squared_error: 93.1551\n",
            "Epoch 39/50\n",
            "1/1 [==============================] - 0s 7ms/step - loss: 93.0193 - mean_squared_error: 93.0193\n",
            "Epoch 40/50\n",
            "1/1 [==============================] - 0s 4ms/step - loss: 92.8837 - mean_squared_error: 92.8837\n",
            "Epoch 41/50\n",
            "1/1 [==============================] - 0s 22ms/step - loss: 92.7482 - mean_squared_error: 92.7482\n",
            "Epoch 42/50\n",
            "1/1 [==============================] - 0s 4ms/step - loss: 92.6129 - mean_squared_error: 92.6129\n",
            "Epoch 43/50\n",
            "1/1 [==============================] - 0s 5ms/step - loss: 92.4777 - mean_squared_error: 92.4777\n",
            "Epoch 44/50\n",
            "1/1 [==============================] - 0s 7ms/step - loss: 92.3427 - mean_squared_error: 92.3427\n",
            "Epoch 45/50\n",
            "1/1 [==============================] - 0s 5ms/step - loss: 92.2077 - mean_squared_error: 92.2077\n",
            "Epoch 46/50\n",
            "1/1 [==============================] - 0s 3ms/step - loss: 92.0730 - mean_squared_error: 92.0730\n",
            "Epoch 47/50\n",
            "1/1 [==============================] - 0s 5ms/step - loss: 91.9384 - mean_squared_error: 91.9384\n",
            "Epoch 48/50\n",
            "1/1 [==============================] - 0s 4ms/step - loss: 91.8039 - mean_squared_error: 91.8039\n",
            "Epoch 49/50\n",
            "1/1 [==============================] - 0s 5ms/step - loss: 91.6696 - mean_squared_error: 91.6696\n",
            "Epoch 50/50\n",
            "1/1 [==============================] - 0s 5ms/step - loss: 91.5355 - mean_squared_error: 91.5355\n"
          ],
          "name": "stdout"
        }
      ]
    },
    {
      "cell_type": "code",
      "metadata": {
        "colab": {
          "base_uri": "https://localhost:8080/"
        },
        "id": "0nc_HYnaeCw0",
        "outputId": "60834c50-f161-4a63-9ba8-7dee767c39cf"
      },
      "source": [
        "history.history['loss']"
      ],
      "execution_count": 34,
      "outputs": [
        {
          "output_type": "execute_result",
          "data": {
            "text/plain": [
              "[98.27290344238281,\n",
              " 98.13240051269531,\n",
              " 97.99201965332031,\n",
              " 97.85172271728516,\n",
              " 97.7115478515625,\n",
              " 97.57147216796875,\n",
              " 97.4315185546875,\n",
              " 97.29167175292969,\n",
              " 97.15194702148438,\n",
              " 97.01233673095703,\n",
              " 96.87284088134766,\n",
              " 96.73345947265625,\n",
              " 96.59419250488281,\n",
              " 96.45504760742188,\n",
              " 96.31602478027344,\n",
              " 96.1771240234375,\n",
              " 96.0383529663086,\n",
              " 95.89973449707031,\n",
              " 95.76119995117188,\n",
              " 95.62281799316406,\n",
              " 95.48456573486328,\n",
              " 95.34644317626953,\n",
              " 95.20845031738281,\n",
              " 95.07059478759766,\n",
              " 94.9328842163086,\n",
              " 94.7952880859375,\n",
              " 94.65784454345703,\n",
              " 94.52052307128906,\n",
              " 94.38335418701172,\n",
              " 94.2463150024414,\n",
              " 94.10941314697266,\n",
              " 93.97264862060547,\n",
              " 93.8360366821289,\n",
              " 93.69956970214844,\n",
              " 93.56321716308594,\n",
              " 93.4270248413086,\n",
              " 93.29098510742188,\n",
              " 93.15507507324219,\n",
              " 93.0193099975586,\n",
              " 92.88370513916016,\n",
              " 92.74821472167969,\n",
              " 92.6128921508789,\n",
              " 92.47769927978516,\n",
              " 92.34265899658203,\n",
              " 92.20774841308594,\n",
              " 92.072998046875,\n",
              " 91.93838500976562,\n",
              " 91.8039321899414,\n",
              " 91.66962432861328,\n",
              " 91.53545379638672]"
            ]
          },
          "metadata": {
            "tags": []
          },
          "execution_count": 34
        }
      ]
    },
    {
      "cell_type": "code",
      "metadata": {
        "id": "IdW3pD76gY3n"
      },
      "source": [
        ""
      ],
      "execution_count": null,
      "outputs": []
    }
  ]
}